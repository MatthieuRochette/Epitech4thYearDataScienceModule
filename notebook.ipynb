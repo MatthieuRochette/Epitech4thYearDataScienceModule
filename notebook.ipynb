{
 "cells": [
  {
   "cell_type": "markdown",
   "source": "# Recipe to the perfect video game\n__Epitech 4th year, Data Science project, 2023 promotion__\n##### Authors\n- Alexandre Guichet\n- Matthieu Rochette\n- Raphaël Hoareau\n![](https://upload.wikimedia.org/wikipedia/commons/0/01/Video-games-1557358.jpg)",
   "metadata": {
    "tags": [],
    "cell_id": "00001-78e993fe-8f98-4412-8381-75bb272befe7",
    "deepnote_cell_type": "markdown"
   }
  },
  {
   "cell_type": "markdown",
   "source": "## Context\n\n### The question\nLet's imagine we were hired by a video games development company, which is looking to make a new  video game that they know will be popular among the gaming community.\n\nAs such, they come to us with the question:\n\n__*What is the recipe to make people love your video game ?*__\n\n### What is love ?\n*(Oh, baby don't hurt me)*\n\nFirst, we need to define how we measure the love of people for your game. We will use ratings from the professional critics (Metacritic) and user ratings (RAWG), as a measure of how much a game is appreciated by the players. We will consider the rating to be positively correlated to the love of people for a game (high rating = high love, and vice-versa).",
   "metadata": {
    "tags": [],
    "cell_id": "00001-bcf2ccb4-634a-4b53-927f-04d8476544ec",
    "deepnote_app_coordinates": {
     "x": 0,
     "y": 13,
     "w": 12,
     "h": 5
    },
    "deepnote_cell_type": "markdown"
   }
  },
  {
   "cell_type": "markdown",
   "source": "## Data collection\n\nWe will use [this](https://www.kaggle.com/jummyegg/rawg-game-dataset) dataset, which contains data from the website [RAWG](https://rawg.io/) for about 470 000 video games, including ratings from RAWG (user ratings) and [Metacritic](https://www.metacritic.com/) (professional/reknowned critics ratings, [see here](https://www.metacritic.com/about-metascores)).",
   "metadata": {
    "tags": [],
    "cell_id": "00002-80cf82b7-39b7-42cf-be20-f59dfa8afbcc",
    "deepnote_app_coordinates": {
     "x": 0,
     "y": 18,
     "w": 12,
     "h": 5
    },
    "deepnote_cell_type": "markdown"
   }
  },
  {
   "cell_type": "code",
   "metadata": {
    "tags": [],
    "cell_id": "00000-c9bc5940-29a5-4322-bc12-9407b93855b9",
    "deepnote_to_be_reexecuted": false,
    "source_hash": "2dd260c3",
    "execution_start": 1634417469790,
    "execution_millis": 4426,
    "deepnote_app_coordinates": {
     "x": 0,
     "y": 23,
     "w": 12,
     "h": 5
    },
    "deepnote_cell_type": "code"
   },
   "source": "import pandas as pd\nimport datetime as dt\nimport plotly.express as exp\n#import plotly.graph_objects as go\n#from plotly.subplots import make_subplots\n\npd.options.plotting.backend = \"plotly\"\n\ndataset = pd.read_csv('game_info.csv')",
   "outputs": [
    {
     "output_type": "error",
     "ename": "KernelInterrupted",
     "evalue": "Execution interrupted by the Jupyter kernel.",
     "traceback": [
      "\u001b[0;31m---------------------------------------------------------------------------\u001b[0m",
      "\u001b[0;31mKernelInterrupted\u001b[0m: Execution interrupted by the Jupyter kernel."
     ]
    }
   ],
   "execution_count": 1
  },
  {
   "cell_type": "markdown",
   "source": "Some columns contain cases with multiple values separated by `||` as we can see here under, we will likely need a way to get unique values properly from those columns.",
   "metadata": {
    "tags": [],
    "cell_id": "00003-32c633df-f71b-480f-a3d6-3047c5bbc7f4",
    "deepnote_app_coordinates": {
     "x": 0,
     "y": 28,
     "w": 12,
     "h": 5
    },
    "deepnote_cell_type": "markdown"
   }
  },
  {
   "cell_type": "code",
   "metadata": {
    "tags": [],
    "cell_id": "00004-b1bc3fb3-2c4e-4643-ac31-a1709e9da1a8",
    "deepnote_to_be_reexecuted": false,
    "source_hash": "c9ba0188",
    "execution_start": 1634417474217,
    "execution_millis": 10,
    "deepnote_app_coordinates": {
     "x": 0,
     "y": 33,
     "w": 12,
     "h": 5
    },
    "deepnote_cell_type": "code"
   },
   "source": "dataset[\"genres\"].unique()",
   "outputs": [
    {
     "output_type": "execute_result",
     "execution_count": 2,
     "data": {
      "text/plain": "array(['Adventure||Puzzle', 'Simulation||Indie', 'Adventure||Arcade', ...,\n       'Strategy||Simulation||Sports||Arcade||Casual||Indie',\n       'Shooter||Adventure||Racing',\n       'Action||Racing||Arcade||Indie||Puzzle'], dtype=object)"
     },
     "metadata": {}
    }
   ],
   "execution_count": 2
  },
  {
   "cell_type": "markdown",
   "source": "So, here is a function that returns the list of unique data from a given column:",
   "metadata": {
    "tags": [],
    "cell_id": "00005-adbe749c-6240-4317-b8c5-e6ebb9c7d20d",
    "deepnote_app_coordinates": {
     "x": 0,
     "y": 39,
     "w": 12,
     "h": 5
    },
    "deepnote_cell_type": "markdown"
   }
  },
  {
   "cell_type": "code",
   "metadata": {
    "tags": [],
    "cell_id": "00003-ff70e091-3ffc-46e5-b29d-1680ed6b08d6",
    "deepnote_to_be_reexecuted": false,
    "source_hash": "ce7d194c",
    "execution_start": 1634417474218,
    "execution_millis": 0,
    "deepnote_app_coordinates": {
     "x": 0,
     "y": 45,
     "w": 12,
     "h": 5
    },
    "deepnote_cell_type": "code"
   },
   "source": "# get all uniques in a column with multiple values per case\ndef get_uniques_from_column(column, sep: str = '||', remove_under: int = None) -> list:\n    \"\"\"\n    Get unique values from columns containing multiple values in the same raw.\n\n    column: (iterable) container for your values\n    sep: (string) separator for the content of each element in the column\n    remove_under: (int) prevent from returning a unique value if its occurs less than remove_under times in column.\n    \n    Returns a list containing once each unique value contained in the column.\n    \"\"\"\n    uniques = []\n    for elem in column:\n        if sep in str(elem):\n            parsed = elem.split(sep)\n        else:\n            parsed = [elem]\n        uniques.extend(parsed)\n\n    set_uniques = list(set(uniques))  # converting to a set automatically removes duplicates from the parsed values\n\n    if remove_under is not None:\n        counts = {i:uniques.count(i) for i in set_uniques}\n        for key, val in counts.items():\n            if val < remove_under:\n                set_uniques.remove(key)\n\n    return set_uniques\n\n#get_uniques_from_column(dataset[\"platforms\"]) # giving the Series.unique() reduces the number of values to process, but should not be used with argument remove_under",
   "outputs": [],
   "execution_count": 3
  },
  {
   "cell_type": "markdown",
   "source": "We can see a `nan` at the top of the list, this will have to be removed by hand when calling the function afterwards.",
   "metadata": {
    "tags": [],
    "cell_id": "00007-2451a258-b2d9-485d-881d-2de89dc87816",
    "deepnote_app_coordinates": {
     "x": 0,
     "y": 51,
     "w": 12,
     "h": 5
    },
    "deepnote_cell_type": "markdown"
   }
  },
  {
   "cell_type": "markdown",
   "source": "## Data cleaning\n\nHere, we will remove useless data from our dataset and correct incomplete/missing data or formatting errors.\nFirst, we will remove useless columns:",
   "metadata": {
    "tags": [],
    "cell_id": "00007-a8deccb4-3779-435c-bd69-ff1e563ab382",
    "deepnote_app_coordinates": {
     "x": 0,
     "y": 57,
     "w": 12,
     "h": 5
    },
    "deepnote_cell_type": "markdown"
   }
  },
  {
   "cell_type": "code",
   "metadata": {
    "tags": [],
    "cell_id": "00004-cdd33187-1131-4215-ba62-a99aa6674bf6",
    "deepnote_to_be_reexecuted": false,
    "source_hash": "b74f296c",
    "execution_start": 1634417474443,
    "execution_millis": 271,
    "deepnote_app_coordinates": {
     "x": 0,
     "y": 63,
     "w": 12,
     "h": 5
    },
    "deepnote_cell_type": "code"
   },
   "source": "# First, remove unwanted/useless columns\ndataset.drop(\n    [\n        \"id\",  # unique id on RAWG\n        \"slug\",  # unique slug on RAWG\n        \"website\",  # official website of the game\n        \"tba\",  # to be announced\n        \"added_status_yet\",\n        \"added_status_owned\",\n        \"added_status_beaten\",\n        \"added_status_toplay\",\n        \"added_status_dropped\",\n        \"added_status_playing\"],\n    inplace=True,\n    axis=1\n)\n# Rename oddly named or unclear column names\ndataset.rename(\n    {\n        \"esrb_rating\": \"esrb_category\",  # could be confused with apprecition rating\n    },\n    inplace=True,\n    axis=1\n)\n\ndataset",
   "outputs": [
    {
     "output_type": "execute_result",
     "execution_count": 4,
     "data": {
      "application/vnd.deepnote.dataframe.v2+json": {
       "row_count": 474417,
       "column_count": 17,
       "columns": [
        {
         "name": "name",
         "dtype": "object"
        },
        {
         "name": "metacritic",
         "dtype": "float64"
        },
        {
         "name": "released",
         "dtype": "object"
        },
        {
         "name": "updated",
         "dtype": "object"
        },
        {
         "name": "rating",
         "dtype": "float64"
        },
        {
         "name": "rating_top",
         "dtype": "int64"
        },
        {
         "name": "playtime",
         "dtype": "int64"
        },
        {
         "name": "achievements_count",
         "dtype": "int64"
        },
        {
         "name": "ratings_count",
         "dtype": "int64"
        },
        {
         "name": "suggestions_count",
         "dtype": "int64"
        },
        {
         "name": "game_series_count",
         "dtype": "int64"
        },
        {
         "name": "reviews_count",
         "dtype": "int64"
        },
        {
         "name": "platforms",
         "dtype": "object"
        },
        {
         "name": "developers",
         "dtype": "object"
        },
        {
         "name": "genres",
         "dtype": "object"
        },
        {
         "name": "publishers",
         "dtype": "object"
        },
        {
         "name": "esrb_category",
         "dtype": "object"
        },
        {
         "name": "_deepnote_index_column",
         "dtype": "int64"
        }
       ],
       "rows_top": [
        {
         "name": "D/Generation HD",
         "metacritic": "nan",
         "released": "2015-10-23",
         "updated": "2019-09-17T11:58:57",
         "rating": 0,
         "rating_top": 0,
         "playtime": 1,
         "achievements_count": 80,
         "ratings_count": 2,
         "suggestions_count": 292,
         "game_series_count": 0,
         "reviews_count": 4,
         "platforms": "PC||macOS||Xbox One||PlayStation 4||Nintendo Switch",
         "developers": "West Coast Software",
         "genres": "Adventure||Puzzle",
         "publishers": "West Coast Software",
         "esrb_category": "Everyone 10+",
         "_deepnote_index_column": 0
        },
        {
         "name": "G Prime Into The Rain",
         "metacritic": "nan",
         "released": "2016-01-06",
         "updated": "2019-11-06T23:04:19",
         "rating": 0,
         "rating_top": 0,
         "playtime": 0,
         "achievements_count": 26,
         "ratings_count": 3,
         "suggestions_count": 389,
         "game_series_count": 0,
         "reviews_count": 3,
         "platforms": "macOS||PC||Xbox One",
         "developers": "Soma Games",
         "genres": "Simulation||Indie",
         "publishers": "Immanitas Entertainment||Code-Monkeys",
         "esrb_category": "Everyone",
         "_deepnote_index_column": 1
        },
        {
         "name": "Land Sliders",
         "metacritic": "nan",
         "released": "2015-09-24",
         "updated": "2019-10-22T13:56:16",
         "rating": 0,
         "rating_top": 0,
         "playtime": 0,
         "achievements_count": 0,
         "ratings_count": 2,
         "suggestions_count": 83,
         "game_series_count": 0,
         "reviews_count": 2,
         "platforms": "iOS",
         "developers": "Prettygreat Pty",
         "genres": "Adventure||Arcade",
         "publishers": "Prettygreat Pty",
         "esrb_category": "Everyone 10+",
         "_deepnote_index_column": 2
        },
        {
         "name": "Pixel Gear",
         "metacritic": "nan",
         "released": "2016-10-20",
         "updated": "2019-08-28T22:16:02",
         "rating": 0,
         "rating_top": 0,
         "playtime": 0,
         "achievements_count": 0,
         "ratings_count": 0,
         "suggestions_count": 455,
         "game_series_count": 0,
         "reviews_count": 0,
         "platforms": "PC||PlayStation 4",
         "developers": "Oasis Games||Geronimo Interactive",
         "genres": "Action||Indie",
         "publishers": "Geronimo Interactive",
         "esrb_category": "Teen",
         "_deepnote_index_column": 3
        },
        {
         "name": "Gods and Idols",
         "metacritic": "nan",
         "released": "2016-12-12",
         "updated": "2019-09-17T13:37:13",
         "rating": 0,
         "rating_top": 1,
         "playtime": 1,
         "achievements_count": 0,
         "ratings_count": 5,
         "suggestions_count": 262,
         "game_series_count": 0,
         "reviews_count": 5,
         "platforms": "PC",
         "developers": "Viking Tao",
         "genres": "RPG||Strategy||Massively Multiplayer",
         "publishers": "Viking Tao",
         "esrb_category": "nan",
         "_deepnote_index_column": 4
        },
        {
         "name": "Plague venue",
         "metacritic": "nan",
         "released": "2017-12-02",
         "updated": "2019-01-09T12:41:06",
         "rating": 0,
         "rating_top": 0,
         "playtime": 0,
         "achievements_count": 0,
         "ratings_count": 0,
         "suggestions_count": 40,
         "game_series_count": 0,
         "reviews_count": 0,
         "platforms": "Web",
         "developers": "Alexander Ponomariov",
         "genres": "nan",
         "publishers": "nan",
         "esrb_category": "nan",
         "_deepnote_index_column": 5
        },
        {
         "name": "The Moon Sliver (itch)",
         "metacritic": "nan",
         "released": "2014-05-03",
         "updated": "2019-01-09T12:41:06",
         "rating": 0,
         "rating_top": 0,
         "playtime": 0,
         "achievements_count": 0,
         "ratings_count": 0,
         "suggestions_count": 116,
         "game_series_count": 0,
         "reviews_count": 0,
         "platforms": "PC||macOS",
         "developers": "David Szymanski",
         "genres": "Adventure",
         "publishers": "nan",
         "esrb_category": "nan",
         "_deepnote_index_column": 6
        },
        {
         "name": "Red Entity",
         "metacritic": "nan",
         "released": "2014-08-26",
         "updated": "2019-01-09T12:41:06",
         "rating": 0,
         "rating_top": 0,
         "playtime": 0,
         "achievements_count": 0,
         "ratings_count": 0,
         "suggestions_count": 39,
         "game_series_count": 0,
         "reviews_count": 0,
         "platforms": "PC||macOS||Linux",
         "developers": "woof",
         "genres": "Action||Shooter",
         "publishers": "nan",
         "esrb_category": "nan",
         "_deepnote_index_column": 7
        },
        {
         "name": "HippiesVsCops",
         "metacritic": "nan",
         "released": "2016-04-18",
         "updated": "2019-08-28T23:25:11",
         "rating": 0,
         "rating_top": 0,
         "playtime": 0,
         "achievements_count": 0,
         "ratings_count": 0,
         "suggestions_count": 26,
         "game_series_count": 0,
         "reviews_count": 0,
         "platforms": "PC",
         "developers": "alegaroficial",
         "genres": "Strategy",
         "publishers": "nan",
         "esrb_category": "nan",
         "_deepnote_index_column": 8
        },
        {
         "name": "They Came Through the Floor",
         "metacritic": "nan",
         "released": "2018-06-24",
         "updated": "2019-01-09T12:41:06",
         "rating": 0,
         "rating_top": 0,
         "playtime": 0,
         "achievements_count": 0,
         "ratings_count": 0,
         "suggestions_count": 98,
         "game_series_count": 0,
         "reviews_count": 0,
         "platforms": "PC",
         "developers": "Atte Okkonen",
         "genres": "Platformer",
         "publishers": "nan",
         "esrb_category": "nan",
         "_deepnote_index_column": 9
        },
        {
         "name": "Fading Light: Descent",
         "metacritic": "nan",
         "released": "2017-08-24",
         "updated": "2019-01-09T12:41:06",
         "rating": 0,
         "rating_top": 0,
         "playtime": 0,
         "achievements_count": 0,
         "ratings_count": 0,
         "suggestions_count": 279,
         "game_series_count": 0,
         "reviews_count": 0,
         "platforms": "PC",
         "developers": "Dansodic",
         "genres": "Adventure",
         "publishers": "nan",
         "esrb_category": "nan",
         "_deepnote_index_column": 10
        },
        {
         "name": "The Book Ritual (Beta)",
         "metacritic": "nan",
         "released": "2018-07-06",
         "updated": "2019-01-09T12:41:06",
         "rating": 0,
         "rating_top": 0,
         "playtime": 0,
         "achievements_count": 0,
         "ratings_count": 0,
         "suggestions_count": 111,
         "game_series_count": 0,
         "reviews_count": 0,
         "platforms": "PC||macOS",
         "developers": "Alistair Aitcheson",
         "genres": "nan",
         "publishers": "nan",
         "esrb_category": "nan",
         "_deepnote_index_column": 11
        },
        {
         "name": "Corner of the Club Simulator",
         "metacritic": "nan",
         "released": "2018-04-30",
         "updated": "2019-01-09T12:41:06",
         "rating": 0,
         "rating_top": 0,
         "playtime": 0,
         "achievements_count": 0,
         "ratings_count": 0,
         "suggestions_count": 21,
         "game_series_count": 0,
         "reviews_count": 0,
         "platforms": "PC||Web",
         "developers": "Jayson Musson",
         "genres": "Simulation",
         "publishers": "nan",
         "esrb_category": "nan",
         "_deepnote_index_column": 12
        },
        {
         "name": "Serious Sam Fusion 2017 (beta)",
         "metacritic": "nan",
         "released": "2017-03-20",
         "updated": "2020-03-08T19:03:42",
         "rating": 3.07,
         "rating_top": 4,
         "playtime": 1,
         "achievements_count": 76,
         "ratings_count": 227,
         "suggestions_count": 541,
         "game_series_count": 19,
         "reviews_count": 227,
         "platforms": "Linux||macOS||PC",
         "developers": "Croteam",
         "genres": "Action||Indie",
         "publishers": "Devolver Digital||Croteam",
         "esrb_category": "nan",
         "_deepnote_index_column": 13
        },
        {
         "name": "Intelligence: The 314th Clash!",
         "metacritic": "nan",
         "released": "2016-08-31",
         "updated": "2019-01-09T12:41:06",
         "rating": 0,
         "rating_top": 0,
         "playtime": 0,
         "achievements_count": 0,
         "ratings_count": 0,
         "suggestions_count": 355,
         "game_series_count": 0,
         "reviews_count": 0,
         "platforms": "PC",
         "developers": "Bizarre Monkey",
         "genres": "RPG",
         "publishers": "nan",
         "esrb_category": "nan",
         "_deepnote_index_column": 14
        },
        {
         "name": "Que Sera Sera Demo",
         "metacritic": "nan",
         "released": "2018-04-08",
         "updated": "2019-08-28T23:25:11",
         "rating": 0,
         "rating_top": 0,
         "playtime": 0,
         "achievements_count": 0,
         "ratings_count": 0,
         "suggestions_count": 164,
         "game_series_count": 0,
         "reviews_count": 0,
         "platforms": "PC||macOS",
         "developers": "Eufrasio",
         "genres": "Action||Shooter||Platformer",
         "publishers": "nan",
         "esrb_category": "nan",
         "_deepnote_index_column": 15
        },
        {
         "name": "Excelsior Phase One: Lysandia",
         "metacritic": "nan",
         "released": "2017-02-06",
         "updated": "2019-01-09T12:41:06",
         "rating": 0,
         "rating_top": 0,
         "playtime": 0,
         "achievements_count": 0,
         "ratings_count": 0,
         "suggestions_count": 164,
         "game_series_count": 0,
         "reviews_count": 0,
         "platforms": "PC",
         "developers": "11th Dimension Entertainment",
         "genres": "RPG",
         "publishers": "nan",
         "esrb_category": "nan",
         "_deepnote_index_column": 16
        },
        {
         "name": "Space Escape",
         "metacritic": "nan",
         "released": "2015-09-05",
         "updated": "2019-01-09T12:41:06",
         "rating": 0,
         "rating_top": 0,
         "playtime": 0,
         "achievements_count": 0,
         "ratings_count": 0,
         "suggestions_count": 58,
         "game_series_count": 0,
         "reviews_count": 0,
         "platforms": "Web",
         "developers": "Dark Wall Games",
         "genres": "Shooter",
         "publishers": "nan",
         "esrb_category": "nan",
         "_deepnote_index_column": 17
        },
        {
         "name": "Passing Through the Milky Way",
         "metacritic": "nan",
         "released": "2018-07-02",
         "updated": "2019-01-09T12:41:06",
         "rating": 0,
         "rating_top": 0,
         "playtime": 0,
         "achievements_count": 0,
         "ratings_count": 0,
         "suggestions_count": 7,
         "game_series_count": 0,
         "reviews_count": 0,
         "platforms": "Web",
         "developers": "Dermot",
         "genres": "nan",
         "publishers": "nan",
         "esrb_category": "nan",
         "_deepnote_index_column": 18
        },
        {
         "name": "CORPUS100",
         "metacritic": "nan",
         "released": "2017-05-12",
         "updated": "2019-08-28T23:25:11",
         "rating": 0,
         "rating_top": 0,
         "playtime": 0,
         "achievements_count": 0,
         "ratings_count": 0,
         "suggestions_count": 48,
         "game_series_count": 0,
         "reviews_count": 0,
         "platforms": "Web",
         "developers": "MAVW",
         "genres": "Shooter",
         "publishers": "nan",
         "esrb_category": "nan",
         "_deepnote_index_column": 19
        },
        {
         "name": "Thoughts",
         "metacritic": "nan",
         "released": "2016-05-05",
         "updated": "2019-01-09T12:41:06",
         "rating": 0,
         "rating_top": 0,
         "playtime": 0,
         "achievements_count": 0,
         "ratings_count": 0,
         "suggestions_count": 56,
         "game_series_count": 0,
         "reviews_count": 0,
         "platforms": "PC",
         "developers": "VikkiRuttle",
         "genres": "Platformer",
         "publishers": "nan",
         "esrb_category": "nan",
         "_deepnote_index_column": 20
        },
        {
         "name": "Blasted Bots",
         "metacritic": "nan",
         "released": "2016-03-07",
         "updated": "2019-01-09T12:41:06",
         "rating": 0,
         "rating_top": 0,
         "playtime": 0,
         "achievements_count": 0,
         "ratings_count": 0,
         "suggestions_count": 201,
         "game_series_count": 0,
         "reviews_count": 0,
         "platforms": "PC",
         "developers": "IanAnimated",
         "genres": "Shooter",
         "publishers": "nan",
         "esrb_category": "nan",
         "_deepnote_index_column": 21
        },
        {
         "name": "The Spaghetti Western Excavation",
         "metacritic": "nan",
         "released": "2018-03-31",
         "updated": "2019-01-09T12:41:06",
         "rating": 0,
         "rating_top": 0,
         "playtime": 0,
         "achievements_count": 0,
         "ratings_count": 0,
         "suggestions_count": 22,
         "game_series_count": 0,
         "reviews_count": 0,
         "platforms": "Web",
         "developers": "Jordan Oloman",
         "genres": "nan",
         "publishers": "nan",
         "esrb_category": "nan",
         "_deepnote_index_column": 22
        },
        {
         "name": "Life is Feudal: Forest Village",
         "metacritic": "nan",
         "released": "2016-08-26",
         "updated": "2019-09-17T10:28:05",
         "rating": 3.74,
         "rating_top": 4,
         "playtime": 3,
         "achievements_count": 29,
         "ratings_count": 18,
         "suggestions_count": 596,
         "game_series_count": 0,
         "reviews_count": 19,
         "platforms": "PC",
         "developers": "Mindillusion",
         "genres": "Strategy||Simulation||Indie",
         "publishers": "Bitbox",
         "esrb_category": "nan",
         "_deepnote_index_column": 23
        },
        {
         "name": "Legionwood 2: Rise of the Eternal's Realm",
         "metacritic": "nan",
         "released": "2016-01-03",
         "updated": "2019-01-09T12:41:06",
         "rating": 0,
         "rating_top": 0,
         "playtime": 0,
         "achievements_count": 0,
         "ratings_count": 0,
         "suggestions_count": 230,
         "game_series_count": 0,
         "reviews_count": 0,
         "platforms": "PC",
         "developers": "Dark Gaia Studios",
         "genres": "RPG",
         "publishers": "nan",
         "esrb_category": "nan",
         "_deepnote_index_column": 24
        },
        {
         "name": "Shape Master",
         "metacritic": "nan",
         "released": "2016-04-18",
         "updated": "2019-01-09T12:41:06",
         "rating": 0,
         "rating_top": 0,
         "playtime": 0,
         "achievements_count": 0,
         "ratings_count": 0,
         "suggestions_count": 129,
         "game_series_count": 0,
         "reviews_count": 0,
         "platforms": "PC||macOS||Linux",
         "developers": "B0pt1K",
         "genres": "nan",
         "publishers": "nan",
         "esrb_category": "nan",
         "_deepnote_index_column": 25
        },
        {
         "name": "My World",
         "metacritic": "nan",
         "released": "2017-04-25",
         "updated": "2019-01-09T12:41:06",
         "rating": 0,
         "rating_top": 0,
         "playtime": 0,
         "achievements_count": 0,
         "ratings_count": 0,
         "suggestions_count": 84,
         "game_series_count": 0,
         "reviews_count": 0,
         "platforms": "PC||macOS",
         "developers": "ciderwrath",
         "genres": "nan",
         "publishers": "nan",
         "esrb_category": "nan",
         "_deepnote_index_column": 26
        },
        {
         "name": "Toilet Tycoon (itch)",
         "metacritic": "nan",
         "released": "2016-05-03",
         "updated": "2019-01-09T12:41:06",
         "rating": 0,
         "rating_top": 0,
         "playtime": 0,
         "achievements_count": 0,
         "ratings_count": 0,
         "suggestions_count": 124,
         "game_series_count": 0,
         "reviews_count": 0,
         "platforms": "PC",
         "developers": "Plug In Digital",
         "genres": "Strategy||Simulation",
         "publishers": "nan",
         "esrb_category": "nan",
         "_deepnote_index_column": 27
        },
        {
         "name": "Daddy, Don't Explode Me!",
         "metacritic": "nan",
         "released": "2015-09-25",
         "updated": "2019-01-09T12:41:06",
         "rating": 0,
         "rating_top": 0,
         "playtime": 0,
         "achievements_count": 0,
         "ratings_count": 0,
         "suggestions_count": 33,
         "game_series_count": 0,
         "reviews_count": 0,
         "platforms": "PC",
         "developers": "Fi Silva",
         "genres": "Puzzle",
         "publishers": "nan",
         "esrb_category": "nan",
         "_deepnote_index_column": 28
        }
       ],
       "rows_bottom": [
        {
         "name": "Tomato Soup for the Heart",
         "metacritic": "nan",
         "released": "2016-10-02",
         "updated": "2019-01-09T12:41:06",
         "rating": 0,
         "rating_top": 0,
         "playtime": 0,
         "achievements_count": 0,
         "ratings_count": 0,
         "suggestions_count": 125,
         "game_series_count": 0,
         "reviews_count": 0,
         "platforms": "PC||macOS||Linux",
         "developers": "Synokoria",
         "genres": "nan",
         "publishers": "nan",
         "esrb_category": "nan",
         "_deepnote_index_column": 474388
        },
        {
         "name": "Fungle",
         "metacritic": "nan",
         "released": "2018-05-15",
         "updated": "2019-01-09T12:41:06",
         "rating": 0,
         "rating_top": 0,
         "playtime": 0,
         "achievements_count": 0,
         "ratings_count": 0,
         "suggestions_count": 59,
         "game_series_count": 0,
         "reviews_count": 0,
         "platforms": "PC",
         "developers": "satchelquinn",
         "genres": "Action",
         "publishers": "nan",
         "esrb_category": "nan",
         "_deepnote_index_column": 474389
        },
        {
         "name": "Shenanigans Multiplayer X",
         "metacritic": "nan",
         "released": "2016-08-19",
         "updated": "2019-01-09T12:41:06",
         "rating": 0,
         "rating_top": 0,
         "playtime": 0,
         "achievements_count": 0,
         "ratings_count": 0,
         "suggestions_count": 125,
         "game_series_count": 0,
         "reviews_count": 0,
         "platforms": "PC||macOS||Linux",
         "developers": "Gampixi",
         "genres": "Action||Shooter",
         "publishers": "nan",
         "esrb_category": "nan",
         "_deepnote_index_column": 474390
        },
        {
         "name": "Poke the Mongo",
         "metacritic": "nan",
         "released": "2016-10-07",
         "updated": "2019-01-09T12:41:06",
         "rating": 0,
         "rating_top": 0,
         "playtime": 0,
         "achievements_count": 0,
         "ratings_count": 0,
         "suggestions_count": 21,
         "game_series_count": 0,
         "reviews_count": 0,
         "platforms": "Web",
         "developers": "Les Orchard",
         "genres": "Adventure",
         "publishers": "nan",
         "esrb_category": "nan",
         "_deepnote_index_column": 474391
        },
        {
         "name": "5 Day Trial",
         "metacritic": "nan",
         "released": "2018-03-26",
         "updated": "2019-01-09T12:41:06",
         "rating": 0,
         "rating_top": 0,
         "playtime": 0,
         "achievements_count": 0,
         "ratings_count": 0,
         "suggestions_count": 66,
         "game_series_count": 0,
         "reviews_count": 0,
         "platforms": "PC",
         "developers": "bajter",
         "genres": "nan",
         "publishers": "nan",
         "esrb_category": "nan",
         "_deepnote_index_column": 474392
        },
        {
         "name": "Mogul Mountain",
         "metacritic": "nan",
         "released": "2015-04-15",
         "updated": "2019-01-09T12:41:06",
         "rating": 0,
         "rating_top": 0,
         "playtime": 0,
         "achievements_count": 0,
         "ratings_count": 0,
         "suggestions_count": 58,
         "game_series_count": 0,
         "reviews_count": 0,
         "platforms": "PC||macOS||Linux",
         "developers": "43K Studios",
         "genres": "Sports",
         "publishers": "nan",
         "esrb_category": "nan",
         "_deepnote_index_column": 474393
        },
        {
         "name": "Bombe à Rebours",
         "metacritic": "nan",
         "released": "2015-09-15",
         "updated": "2019-08-23T11:27:41",
         "rating": 0,
         "rating_top": 0,
         "playtime": 0,
         "achievements_count": 0,
         "ratings_count": 0,
         "suggestions_count": 83,
         "game_series_count": 0,
         "reviews_count": 0,
         "platforms": "PC||Web",
         "developers": "dunin",
         "genres": "Action",
         "publishers": "nan",
         "esrb_category": "nan",
         "_deepnote_index_column": 474394
        },
        {
         "name": "Barmark",
         "metacritic": "nan",
         "released": "2015-08-18",
         "updated": "2019-01-09T12:41:06",
         "rating": 0,
         "rating_top": 0,
         "playtime": 0,
         "achievements_count": 0,
         "ratings_count": 0,
         "suggestions_count": 260,
         "game_series_count": 0,
         "reviews_count": 0,
         "platforms": "PC",
         "developers": "Stormhatt Studios",
         "genres": "nan",
         "publishers": "nan",
         "esrb_category": "nan",
         "_deepnote_index_column": 474395
        },
        {
         "name": "Heaven is a Half-Swipe {Prototype}",
         "metacritic": "nan",
         "released": "2016-05-15",
         "updated": "2019-01-09T12:41:06",
         "rating": 0,
         "rating_top": 0,
         "playtime": 0,
         "achievements_count": 0,
         "ratings_count": 0,
         "suggestions_count": 52,
         "game_series_count": 0,
         "reviews_count": 0,
         "platforms": "PC",
         "developers": "Andrew Forsythe",
         "genres": "Platformer",
         "publishers": "nan",
         "esrb_category": "nan",
         "_deepnote_index_column": 474396
        },
        {
         "name": "Catch Your Chance",
         "metacritic": "nan",
         "released": "2016-12-01",
         "updated": "2019-01-09T12:41:06",
         "rating": 0,
         "rating_top": 0,
         "playtime": 0,
         "achievements_count": 0,
         "ratings_count": 0,
         "suggestions_count": 41,
         "game_series_count": 0,
         "reviews_count": 0,
         "platforms": "PC||macOS||Linux||Android||Web",
         "developers": "Cozy Game Pals",
         "genres": "nan",
         "publishers": "nan",
         "esrb_category": "nan",
         "_deepnote_index_column": 474397
        },
        {
         "name": "Nation Red",
         "metacritic": "nan",
         "released": "2009-08-02",
         "updated": "2019-09-17T05:23:55",
         "rating": 2.54,
         "rating_top": 3,
         "playtime": 4,
         "achievements_count": 145,
         "ratings_count": 59,
         "suggestions_count": 580,
         "game_series_count": 0,
         "reviews_count": 59,
         "platforms": "PC||Linux||macOS",
         "developers": "DiezelPower",
         "genres": "Action||Indie",
         "publishers": "DiezelPower",
         "esrb_category": "nan",
         "_deepnote_index_column": 474398
        },
        {
         "name": "ReTux",
         "metacritic": "nan",
         "released": "2016-05-22",
         "updated": "2019-01-09T12:41:06",
         "rating": 0,
         "rating_top": 0,
         "playtime": 0,
         "achievements_count": 0,
         "ratings_count": 0,
         "suggestions_count": 151,
         "game_series_count": 0,
         "reviews_count": 0,
         "platforms": "PC||Linux",
         "developers": "onpon4",
         "genres": "Platformer",
         "publishers": "nan",
         "esrb_category": "nan",
         "_deepnote_index_column": 474399
        },
        {
         "name": "Collapsing Reality",
         "metacritic": "nan",
         "released": "2018-08-13",
         "updated": "2019-08-28T23:25:11",
         "rating": 0,
         "rating_top": 0,
         "playtime": 0,
         "achievements_count": 0,
         "ratings_count": 0,
         "suggestions_count": 43,
         "game_series_count": 0,
         "reviews_count": 0,
         "platforms": "PC||Linux",
         "developers": "HyperDrop Studios",
         "genres": "Action",
         "publishers": "nan",
         "esrb_category": "nan",
         "_deepnote_index_column": 474400
        },
        {
         "name": "Passengers",
         "metacritic": "nan",
         "released": "2015-08-25",
         "updated": "2019-01-09T12:41:06",
         "rating": 0,
         "rating_top": 0,
         "playtime": 0,
         "achievements_count": 0,
         "ratings_count": 0,
         "suggestions_count": 49,
         "game_series_count": 0,
         "reviews_count": 0,
         "platforms": "Web",
         "developers": "sectordub",
         "genres": "Simulation",
         "publishers": "nan",
         "esrb_category": "nan",
         "_deepnote_index_column": 474401
        },
        {
         "name": "Virtual-Climbing",
         "metacritic": "nan",
         "released": "2018-04-04",
         "updated": "2019-01-09T12:41:06",
         "rating": 0,
         "rating_top": 0,
         "playtime": 0,
         "achievements_count": 0,
         "ratings_count": 0,
         "suggestions_count": 51,
         "game_series_count": 0,
         "reviews_count": 0,
         "platforms": "PC",
         "developers": "Jfstudios",
         "genres": "nan",
         "publishers": "nan",
         "esrb_category": "nan",
         "_deepnote_index_column": 474402
        },
        {
         "name": "Viper Girl (Prototype)",
         "metacritic": "nan",
         "released": "2015-11-16",
         "updated": "2019-01-09T12:41:06",
         "rating": 0,
         "rating_top": 0,
         "playtime": 0,
         "achievements_count": 0,
         "ratings_count": 0,
         "suggestions_count": 75,
         "game_series_count": 0,
         "reviews_count": 0,
         "platforms": "PC",
         "developers": "Kyle Pulver",
         "genres": "Action",
         "publishers": "nan",
         "esrb_category": "nan",
         "_deepnote_index_column": 474403
        },
        {
         "name": "Echoes of a Forgotten Realm (Prototype)",
         "metacritic": "nan",
         "released": "2017-03-20",
         "updated": "2019-01-09T12:41:06",
         "rating": 0,
         "rating_top": 0,
         "playtime": 0,
         "achievements_count": 0,
         "ratings_count": 1,
         "suggestions_count": 78,
         "game_series_count": 0,
         "reviews_count": 1,
         "platforms": "PC||macOS||Linux||Android",
         "developers": "CaptainSteamFox",
         "genres": "Platformer",
         "publishers": "nan",
         "esrb_category": "nan",
         "_deepnote_index_column": 474404
        },
        {
         "name": "Detonate",
         "metacritic": "nan",
         "released": "2018-05-21",
         "updated": "2019-01-09T12:41:06",
         "rating": 0,
         "rating_top": 0,
         "playtime": 0,
         "achievements_count": 0,
         "ratings_count": 0,
         "suggestions_count": 59,
         "game_series_count": 0,
         "reviews_count": 0,
         "platforms": "PC",
         "developers": "Lumberjack Apps",
         "genres": "Shooter",
         "publishers": "nan",
         "esrb_category": "nan",
         "_deepnote_index_column": 474405
        },
        {
         "name": "Tilt Master",
         "metacritic": "nan",
         "released": "2015-07-23",
         "updated": "2019-01-09T12:41:06",
         "rating": 0,
         "rating_top": 0,
         "playtime": 0,
         "achievements_count": 0,
         "ratings_count": 0,
         "suggestions_count": 7,
         "game_series_count": 0,
         "reviews_count": 0,
         "platforms": "PC",
         "developers": "MichelAlonso",
         "genres": "Action",
         "publishers": "nan",
         "esrb_category": "nan",
         "_deepnote_index_column": 474406
        },
        {
         "name": "Pixel Privateers",
         "metacritic": "nan",
         "released": "2017-02-21",
         "updated": "2019-08-28T22:14:40",
         "rating": 0,
         "rating_top": 3,
         "playtime": 6,
         "achievements_count": 0,
         "ratings_count": 5,
         "suggestions_count": 363,
         "game_series_count": 0,
         "reviews_count": 5,
         "platforms": "PC",
         "developers": "Quadro Delta",
         "genres": "Action||Adventure||RPG||Simulation||Indie",
         "publishers": "Re-Logic",
         "esrb_category": "nan",
         "_deepnote_index_column": 474407
        },
        {
         "name": "about-face",
         "metacritic": "nan",
         "released": "2016-06-29",
         "updated": "2019-08-28T23:25:11",
         "rating": 0,
         "rating_top": 0,
         "playtime": 0,
         "achievements_count": 0,
         "ratings_count": 0,
         "suggestions_count": 40,
         "game_series_count": 0,
         "reviews_count": 0,
         "platforms": "Web",
         "developers": "Peltast",
         "genres": "Platformer",
         "publishers": "nan",
         "esrb_category": "nan",
         "_deepnote_index_column": 474408
        },
        {
         "name": "Light Cycles",
         "metacritic": "nan",
         "released": "2016-01-16",
         "updated": "2019-01-09T12:41:06",
         "rating": 0,
         "rating_top": 0,
         "playtime": 0,
         "achievements_count": 0,
         "ratings_count": 0,
         "suggestions_count": 8,
         "game_series_count": 0,
         "reviews_count": 0,
         "platforms": "PC",
         "developers": "Clabbage",
         "genres": "Action",
         "publishers": "nan",
         "esrb_category": "nan",
         "_deepnote_index_column": 474409
        },
        {
         "name": "Scrapjunk Courier",
         "metacritic": "nan",
         "released": "2017-07-31",
         "updated": "2019-01-09T12:41:06",
         "rating": 0,
         "rating_top": 0,
         "playtime": 0,
         "achievements_count": 0,
         "ratings_count": 0,
         "suggestions_count": 116,
         "game_series_count": 0,
         "reviews_count": 0,
         "platforms": "PC||Web",
         "developers": "reBTF",
         "genres": "Strategy",
         "publishers": "nan",
         "esrb_category": "nan",
         "_deepnote_index_column": 474410
        },
        {
         "name": "Primal Fears (itch)",
         "metacritic": "nan",
         "released": "2017-03-29",
         "updated": "2019-01-09T12:41:06",
         "rating": 0,
         "rating_top": 0,
         "playtime": 0,
         "achievements_count": 0,
         "ratings_count": 0,
         "suggestions_count": 350,
         "game_series_count": 0,
         "reviews_count": 0,
         "platforms": "PC",
         "developers": "DnSdev",
         "genres": "Action",
         "publishers": "nan",
         "esrb_category": "nan",
         "_deepnote_index_column": 474411
        },
        {
         "name": "Holy or Dead",
         "metacritic": "nan",
         "released": "2017-05-17",
         "updated": "2019-01-09T12:41:06",
         "rating": 0,
         "rating_top": 0,
         "playtime": 0,
         "achievements_count": 0,
         "ratings_count": 0,
         "suggestions_count": 52,
         "game_series_count": 0,
         "reviews_count": 0,
         "platforms": "PC",
         "developers": "Ralidon",
         "genres": "nan",
         "publishers": "nan",
         "esrb_category": "nan",
         "_deepnote_index_column": 474412
        },
        {
         "name": "Airstrike HD Demo",
         "metacritic": "nan",
         "released": "2016-03-04",
         "updated": "2019-01-09T12:41:06",
         "rating": 0,
         "rating_top": 0,
         "playtime": 0,
         "achievements_count": 0,
         "ratings_count": 0,
         "suggestions_count": 202,
         "game_series_count": 0,
         "reviews_count": 0,
         "platforms": "PC",
         "developers": "Fifth Dimension Company",
         "genres": "Action",
         "publishers": "nan",
         "esrb_category": "nan",
         "_deepnote_index_column": 474413
        },
        {
         "name": "Urania's Mirror",
         "metacritic": "nan",
         "released": "2016-04-25",
         "updated": "2019-01-09T12:41:06",
         "rating": 0,
         "rating_top": 0,
         "playtime": 0,
         "achievements_count": 0,
         "ratings_count": 0,
         "suggestions_count": 51,
         "game_series_count": 0,
         "reviews_count": 0,
         "platforms": "PC",
         "developers": "sneakthief",
         "genres": "Adventure",
         "publishers": "nan",
         "esrb_category": "nan",
         "_deepnote_index_column": 474414
        },
        {
         "name": "Simucities",
         "metacritic": "nan",
         "released": "2017-05-26",
         "updated": "2019-01-09T12:41:06",
         "rating": 0,
         "rating_top": 0,
         "playtime": 0,
         "achievements_count": 0,
         "ratings_count": 0,
         "suggestions_count": 84,
         "game_series_count": 0,
         "reviews_count": 0,
         "platforms": "PC",
         "developers": "keypixels",
         "genres": "nan",
         "publishers": "nan",
         "esrb_category": "nan",
         "_deepnote_index_column": 474415
        },
        {
         "name": "Pocket Assault (itch)",
         "metacritic": "nan",
         "released": "2015-08-20",
         "updated": "2019-01-09T12:41:06",
         "rating": 0,
         "rating_top": 0,
         "playtime": 0,
         "achievements_count": 0,
         "ratings_count": 0,
         "suggestions_count": 48,
         "game_series_count": 0,
         "reviews_count": 0,
         "platforms": "PC",
         "developers": "Carsten_Ostermann",
         "genres": "Shooter",
         "publishers": "nan",
         "esrb_category": "nan",
         "_deepnote_index_column": 474416
        }
       ]
      },
      "text/plain": "                         name  metacritic    released              updated  \\\n0             D/Generation HD         NaN  2015-10-23  2019-09-17T11:58:57   \n1       G Prime Into The Rain         NaN  2016-01-06  2019-11-06T23:04:19   \n2                Land Sliders         NaN  2015-09-24  2019-10-22T13:56:16   \n3                  Pixel Gear         NaN  2016-10-20  2019-08-28T22:16:02   \n4              Gods and Idols         NaN  2016-12-12  2019-09-17T13:37:13   \n...                       ...         ...         ...                  ...   \n474412           Holy or Dead         NaN  2017-05-17  2019-01-09T12:41:06   \n474413      Airstrike HD Demo         NaN  2016-03-04  2019-01-09T12:41:06   \n474414        Urania's Mirror         NaN  2016-04-25  2019-01-09T12:41:06   \n474415             Simucities         NaN  2017-05-26  2019-01-09T12:41:06   \n474416  Pocket Assault (itch)         NaN  2015-08-20  2019-01-09T12:41:06   \n\n        rating  rating_top  playtime  achievements_count  ratings_count  \\\n0          0.0           0         1                  80              2   \n1          0.0           0         0                  26              3   \n2          0.0           0         0                   0              2   \n3          0.0           0         0                   0              0   \n4          0.0           1         1                   0              5   \n...        ...         ...       ...                 ...            ...   \n474412     0.0           0         0                   0              0   \n474413     0.0           0         0                   0              0   \n474414     0.0           0         0                   0              0   \n474415     0.0           0         0                   0              0   \n474416     0.0           0         0                   0              0   \n\n        suggestions_count  game_series_count  reviews_count  \\\n0                     292                  0              4   \n1                     389                  0              3   \n2                      83                  0              2   \n3                     455                  0              0   \n4                     262                  0              5   \n...                   ...                ...            ...   \n474412                 52                  0              0   \n474413                202                  0              0   \n474414                 51                  0              0   \n474415                 84                  0              0   \n474416                 48                  0              0   \n\n                                                platforms  \\\n0       PC||macOS||Xbox One||PlayStation 4||Nintendo S...   \n1                                     macOS||PC||Xbox One   \n2                                                     iOS   \n3                                       PC||PlayStation 4   \n4                                                      PC   \n...                                                   ...   \n474412                                                 PC   \n474413                                                 PC   \n474414                                                 PC   \n474415                                                 PC   \n474416                                                 PC   \n\n                               developers  \\\n0                     West Coast Software   \n1                              Soma Games   \n2                         Prettygreat Pty   \n3       Oasis Games||Geronimo Interactive   \n4                              Viking Tao   \n...                                   ...   \n474412                            Ralidon   \n474413            Fifth Dimension Company   \n474414                         sneakthief   \n474415                          keypixels   \n474416                  Carsten_Ostermann   \n\n                                      genres  \\\n0                          Adventure||Puzzle   \n1                          Simulation||Indie   \n2                          Adventure||Arcade   \n3                              Action||Indie   \n4       RPG||Strategy||Massively Multiplayer   \n...                                      ...   \n474412                                   NaN   \n474413                                Action   \n474414                             Adventure   \n474415                                   NaN   \n474416                               Shooter   \n\n                                   publishers esrb_category  \n0                         West Coast Software  Everyone 10+  \n1       Immanitas Entertainment||Code-Monkeys      Everyone  \n2                             Prettygreat Pty  Everyone 10+  \n3                        Geronimo Interactive          Teen  \n4                                  Viking Tao           NaN  \n...                                       ...           ...  \n474412                                    NaN           NaN  \n474413                                    NaN           NaN  \n474414                                    NaN           NaN  \n474415                                    NaN           NaN  \n474416                                    NaN           NaN  \n\n[474417 rows x 17 columns]",
      "text/html": "<div>\n<style scoped>\n    .dataframe tbody tr th:only-of-type {\n        vertical-align: middle;\n    }\n\n    .dataframe tbody tr th {\n        vertical-align: top;\n    }\n\n    .dataframe thead th {\n        text-align: right;\n    }\n</style>\n<table border=\"1\" class=\"dataframe\">\n  <thead>\n    <tr style=\"text-align: right;\">\n      <th></th>\n      <th>name</th>\n      <th>metacritic</th>\n      <th>released</th>\n      <th>updated</th>\n      <th>rating</th>\n      <th>rating_top</th>\n      <th>playtime</th>\n      <th>achievements_count</th>\n      <th>ratings_count</th>\n      <th>suggestions_count</th>\n      <th>game_series_count</th>\n      <th>reviews_count</th>\n      <th>platforms</th>\n      <th>developers</th>\n      <th>genres</th>\n      <th>publishers</th>\n      <th>esrb_category</th>\n    </tr>\n  </thead>\n  <tbody>\n    <tr>\n      <th>0</th>\n      <td>D/Generation HD</td>\n      <td>NaN</td>\n      <td>2015-10-23</td>\n      <td>2019-09-17T11:58:57</td>\n      <td>0.0</td>\n      <td>0</td>\n      <td>1</td>\n      <td>80</td>\n      <td>2</td>\n      <td>292</td>\n      <td>0</td>\n      <td>4</td>\n      <td>PC||macOS||Xbox One||PlayStation 4||Nintendo S...</td>\n      <td>West Coast Software</td>\n      <td>Adventure||Puzzle</td>\n      <td>West Coast Software</td>\n      <td>Everyone 10+</td>\n    </tr>\n    <tr>\n      <th>1</th>\n      <td>G Prime Into The Rain</td>\n      <td>NaN</td>\n      <td>2016-01-06</td>\n      <td>2019-11-06T23:04:19</td>\n      <td>0.0</td>\n      <td>0</td>\n      <td>0</td>\n      <td>26</td>\n      <td>3</td>\n      <td>389</td>\n      <td>0</td>\n      <td>3</td>\n      <td>macOS||PC||Xbox One</td>\n      <td>Soma Games</td>\n      <td>Simulation||Indie</td>\n      <td>Immanitas Entertainment||Code-Monkeys</td>\n      <td>Everyone</td>\n    </tr>\n    <tr>\n      <th>2</th>\n      <td>Land Sliders</td>\n      <td>NaN</td>\n      <td>2015-09-24</td>\n      <td>2019-10-22T13:56:16</td>\n      <td>0.0</td>\n      <td>0</td>\n      <td>0</td>\n      <td>0</td>\n      <td>2</td>\n      <td>83</td>\n      <td>0</td>\n      <td>2</td>\n      <td>iOS</td>\n      <td>Prettygreat Pty</td>\n      <td>Adventure||Arcade</td>\n      <td>Prettygreat Pty</td>\n      <td>Everyone 10+</td>\n    </tr>\n    <tr>\n      <th>3</th>\n      <td>Pixel Gear</td>\n      <td>NaN</td>\n      <td>2016-10-20</td>\n      <td>2019-08-28T22:16:02</td>\n      <td>0.0</td>\n      <td>0</td>\n      <td>0</td>\n      <td>0</td>\n      <td>0</td>\n      <td>455</td>\n      <td>0</td>\n      <td>0</td>\n      <td>PC||PlayStation 4</td>\n      <td>Oasis Games||Geronimo Interactive</td>\n      <td>Action||Indie</td>\n      <td>Geronimo Interactive</td>\n      <td>Teen</td>\n    </tr>\n    <tr>\n      <th>4</th>\n      <td>Gods and Idols</td>\n      <td>NaN</td>\n      <td>2016-12-12</td>\n      <td>2019-09-17T13:37:13</td>\n      <td>0.0</td>\n      <td>1</td>\n      <td>1</td>\n      <td>0</td>\n      <td>5</td>\n      <td>262</td>\n      <td>0</td>\n      <td>5</td>\n      <td>PC</td>\n      <td>Viking Tao</td>\n      <td>RPG||Strategy||Massively Multiplayer</td>\n      <td>Viking Tao</td>\n      <td>NaN</td>\n    </tr>\n    <tr>\n      <th>...</th>\n      <td>...</td>\n      <td>...</td>\n      <td>...</td>\n      <td>...</td>\n      <td>...</td>\n      <td>...</td>\n      <td>...</td>\n      <td>...</td>\n      <td>...</td>\n      <td>...</td>\n      <td>...</td>\n      <td>...</td>\n      <td>...</td>\n      <td>...</td>\n      <td>...</td>\n      <td>...</td>\n      <td>...</td>\n    </tr>\n    <tr>\n      <th>474412</th>\n      <td>Holy or Dead</td>\n      <td>NaN</td>\n      <td>2017-05-17</td>\n      <td>2019-01-09T12:41:06</td>\n      <td>0.0</td>\n      <td>0</td>\n      <td>0</td>\n      <td>0</td>\n      <td>0</td>\n      <td>52</td>\n      <td>0</td>\n      <td>0</td>\n      <td>PC</td>\n      <td>Ralidon</td>\n      <td>NaN</td>\n      <td>NaN</td>\n      <td>NaN</td>\n    </tr>\n    <tr>\n      <th>474413</th>\n      <td>Airstrike HD Demo</td>\n      <td>NaN</td>\n      <td>2016-03-04</td>\n      <td>2019-01-09T12:41:06</td>\n      <td>0.0</td>\n      <td>0</td>\n      <td>0</td>\n      <td>0</td>\n      <td>0</td>\n      <td>202</td>\n      <td>0</td>\n      <td>0</td>\n      <td>PC</td>\n      <td>Fifth Dimension Company</td>\n      <td>Action</td>\n      <td>NaN</td>\n      <td>NaN</td>\n    </tr>\n    <tr>\n      <th>474414</th>\n      <td>Urania's Mirror</td>\n      <td>NaN</td>\n      <td>2016-04-25</td>\n      <td>2019-01-09T12:41:06</td>\n      <td>0.0</td>\n      <td>0</td>\n      <td>0</td>\n      <td>0</td>\n      <td>0</td>\n      <td>51</td>\n      <td>0</td>\n      <td>0</td>\n      <td>PC</td>\n      <td>sneakthief</td>\n      <td>Adventure</td>\n      <td>NaN</td>\n      <td>NaN</td>\n    </tr>\n    <tr>\n      <th>474415</th>\n      <td>Simucities</td>\n      <td>NaN</td>\n      <td>2017-05-26</td>\n      <td>2019-01-09T12:41:06</td>\n      <td>0.0</td>\n      <td>0</td>\n      <td>0</td>\n      <td>0</td>\n      <td>0</td>\n      <td>84</td>\n      <td>0</td>\n      <td>0</td>\n      <td>PC</td>\n      <td>keypixels</td>\n      <td>NaN</td>\n      <td>NaN</td>\n      <td>NaN</td>\n    </tr>\n    <tr>\n      <th>474416</th>\n      <td>Pocket Assault (itch)</td>\n      <td>NaN</td>\n      <td>2015-08-20</td>\n      <td>2019-01-09T12:41:06</td>\n      <td>0.0</td>\n      <td>0</td>\n      <td>0</td>\n      <td>0</td>\n      <td>0</td>\n      <td>48</td>\n      <td>0</td>\n      <td>0</td>\n      <td>PC</td>\n      <td>Carsten_Ostermann</td>\n      <td>Shooter</td>\n      <td>NaN</td>\n      <td>NaN</td>\n    </tr>\n  </tbody>\n</table>\n<p>474417 rows × 17 columns</p>\n</div>"
     },
     "metadata": {}
    }
   ],
   "execution_count": 4
  },
  {
   "cell_type": "markdown",
   "source": "We will now remove useless rows.  \nFirst, the games that are not released yet are of no interest to us, as nobody could have played them.",
   "metadata": {
    "tags": [],
    "cell_id": "00009-c0eddb45-5daf-47bb-805a-dba330417d9d",
    "deepnote_app_coordinates": {
     "x": 0,
     "y": 69,
     "w": 12,
     "h": 5
    },
    "deepnote_cell_type": "markdown"
   }
  },
  {
   "cell_type": "code",
   "metadata": {
    "tags": [],
    "cell_id": "00005-c601c9e2-baf4-4f13-8b22-019bf54fce05",
    "deepnote_to_be_reexecuted": false,
    "source_hash": "48f58ac6",
    "execution_start": 1634417474699,
    "execution_millis": 1003,
    "deepnote_app_coordinates": {
     "x": 0,
     "y": 75,
     "w": 12,
     "h": 5
    },
    "deepnote_cell_type": "code"
   },
   "source": "# Formatting date columns to manipulate them more easily\ndataset[\"released\"] = pd.to_datetime(dataset[\"released\"], format=\"%Y-%m-%d\")\ndataset[\"updated\"] = pd.to_datetime(dataset[\"updated\"], format=\"%Y-%m-%dT%H:%M:%S\")\n\n\nprev_len = len(dataset)\ndataset = dataset[(dataset[\"released\"] <= dt.datetime.today())]  # removing games released after today\nprint(f\"Removed {prev_len - len(dataset)} games that are not released yet.\")",
   "outputs": [
    {
     "name": "stdout",
     "text": "Removed 24328 games that are not released yet.\n",
     "output_type": "stream"
    }
   ],
   "execution_count": 5
  },
  {
   "cell_type": "markdown",
   "source": "Next to be removed are the games with neither metacritic ratings nor RAWG ratings, because we cannot measure any level of appreciation without those ratings. But before removing them, we will have to ensure there are no inconsistencies (i.e. a game has a ratings_count of 0 but a rating different from 0).",
   "metadata": {
    "tags": [],
    "cell_id": "00011-46ba9060-618d-4996-af86-0d5995a2182a",
    "deepnote_app_coordinates": {
     "x": 0,
     "y": 81,
     "w": 12,
     "h": 5
    },
    "deepnote_cell_type": "markdown"
   }
  },
  {
   "cell_type": "code",
   "metadata": {
    "tags": [],
    "cell_id": "00008-1fcd742d-9544-422e-a574-d1f300ba7f08",
    "deepnote_to_be_reexecuted": false,
    "source_hash": "c7a5ad1d",
    "execution_start": 1634417475667,
    "execution_millis": 997,
    "deepnote_app_coordinates": {
     "x": 0,
     "y": 87,
     "w": 12,
     "h": 5
    },
    "deepnote_cell_type": "code"
   },
   "source": "# check for inconsistencies\nerroneous_ratings = dataset[(dataset[\"ratings_count\"] == 0) & ((dataset[\"rating\"] != 0) | (dataset[\"rating_top\"] != 0))]\nprint(f\"There are {len(erroneous_ratings)} games with inconsistencies in their RAWG ratings.\")\n\n# removing games without any critics\nprev_len = len(dataset)\ndataset = dataset[(dataset[\"ratings_count\"] == 0) & dataset[\"metacritic\"].isnull() & dataset[\"reviews_count\"] <= 0]  # removing games without rating\nprint(f\"Removed {prev_len - len(dataset)} games that have no ratings.\")\ndataset",
   "outputs": [
    {
     "name": "stdout",
     "text": "There are 0 games with inconsistencies in their RAWG ratings.\nRemoved 628 games that have no ratings.\n",
     "output_type": "stream"
    },
    {
     "output_type": "execute_result",
     "execution_count": 6,
     "data": {
      "application/vnd.deepnote.dataframe.v2+json": {
       "row_count": 449461,
       "column_count": 17,
       "columns": [
        {
         "name": "name",
         "dtype": "object"
        },
        {
         "name": "metacritic",
         "dtype": "float64"
        },
        {
         "name": "released",
         "dtype": "datetime64[ns]"
        },
        {
         "name": "updated",
         "dtype": "datetime64[ns]"
        },
        {
         "name": "rating",
         "dtype": "float64"
        },
        {
         "name": "rating_top",
         "dtype": "int64"
        },
        {
         "name": "playtime",
         "dtype": "int64"
        },
        {
         "name": "achievements_count",
         "dtype": "int64"
        },
        {
         "name": "ratings_count",
         "dtype": "int64"
        },
        {
         "name": "suggestions_count",
         "dtype": "int64"
        },
        {
         "name": "game_series_count",
         "dtype": "int64"
        },
        {
         "name": "reviews_count",
         "dtype": "int64"
        },
        {
         "name": "platforms",
         "dtype": "object"
        },
        {
         "name": "developers",
         "dtype": "object"
        },
        {
         "name": "genres",
         "dtype": "object"
        },
        {
         "name": "publishers",
         "dtype": "object"
        },
        {
         "name": "esrb_category",
         "dtype": "object"
        },
        {
         "name": "_deepnote_index_column",
         "dtype": "int64"
        }
       ],
       "rows_top": [
        {
         "name": "D/Generation HD",
         "metacritic": "nan",
         "released": "2015-10-23T00:00:00.000000",
         "updated": "2019-09-17T11:58:57.000000",
         "rating": 0,
         "rating_top": 0,
         "playtime": 1,
         "achievements_count": 80,
         "ratings_count": 2,
         "suggestions_count": 292,
         "game_series_count": 0,
         "reviews_count": 4,
         "platforms": "PC||macOS||Xbox One||PlayStation 4||Nintendo Switch",
         "developers": "West Coast Software",
         "genres": "Adventure||Puzzle",
         "publishers": "West Coast Software",
         "esrb_category": "Everyone 10+",
         "_deepnote_index_column": 0
        },
        {
         "name": "G Prime Into The Rain",
         "metacritic": "nan",
         "released": "2016-01-06T00:00:00.000000",
         "updated": "2019-11-06T23:04:19.000000",
         "rating": 0,
         "rating_top": 0,
         "playtime": 0,
         "achievements_count": 26,
         "ratings_count": 3,
         "suggestions_count": 389,
         "game_series_count": 0,
         "reviews_count": 3,
         "platforms": "macOS||PC||Xbox One",
         "developers": "Soma Games",
         "genres": "Simulation||Indie",
         "publishers": "Immanitas Entertainment||Code-Monkeys",
         "esrb_category": "Everyone",
         "_deepnote_index_column": 1
        },
        {
         "name": "Land Sliders",
         "metacritic": "nan",
         "released": "2015-09-24T00:00:00.000000",
         "updated": "2019-10-22T13:56:16.000000",
         "rating": 0,
         "rating_top": 0,
         "playtime": 0,
         "achievements_count": 0,
         "ratings_count": 2,
         "suggestions_count": 83,
         "game_series_count": 0,
         "reviews_count": 2,
         "platforms": "iOS",
         "developers": "Prettygreat Pty",
         "genres": "Adventure||Arcade",
         "publishers": "Prettygreat Pty",
         "esrb_category": "Everyone 10+",
         "_deepnote_index_column": 2
        },
        {
         "name": "Pixel Gear",
         "metacritic": "nan",
         "released": "2016-10-20T00:00:00.000000",
         "updated": "2019-08-28T22:16:02.000000",
         "rating": 0,
         "rating_top": 0,
         "playtime": 0,
         "achievements_count": 0,
         "ratings_count": 0,
         "suggestions_count": 455,
         "game_series_count": 0,
         "reviews_count": 0,
         "platforms": "PC||PlayStation 4",
         "developers": "Oasis Games||Geronimo Interactive",
         "genres": "Action||Indie",
         "publishers": "Geronimo Interactive",
         "esrb_category": "Teen",
         "_deepnote_index_column": 3
        },
        {
         "name": "Gods and Idols",
         "metacritic": "nan",
         "released": "2016-12-12T00:00:00.000000",
         "updated": "2019-09-17T13:37:13.000000",
         "rating": 0,
         "rating_top": 1,
         "playtime": 1,
         "achievements_count": 0,
         "ratings_count": 5,
         "suggestions_count": 262,
         "game_series_count": 0,
         "reviews_count": 5,
         "platforms": "PC",
         "developers": "Viking Tao",
         "genres": "RPG||Strategy||Massively Multiplayer",
         "publishers": "Viking Tao",
         "esrb_category": "nan",
         "_deepnote_index_column": 4
        },
        {
         "name": "Plague venue",
         "metacritic": "nan",
         "released": "2017-12-02T00:00:00.000000",
         "updated": "2019-01-09T12:41:06.000000",
         "rating": 0,
         "rating_top": 0,
         "playtime": 0,
         "achievements_count": 0,
         "ratings_count": 0,
         "suggestions_count": 40,
         "game_series_count": 0,
         "reviews_count": 0,
         "platforms": "Web",
         "developers": "Alexander Ponomariov",
         "genres": "nan",
         "publishers": "nan",
         "esrb_category": "nan",
         "_deepnote_index_column": 5
        },
        {
         "name": "The Moon Sliver (itch)",
         "metacritic": "nan",
         "released": "2014-05-03T00:00:00.000000",
         "updated": "2019-01-09T12:41:06.000000",
         "rating": 0,
         "rating_top": 0,
         "playtime": 0,
         "achievements_count": 0,
         "ratings_count": 0,
         "suggestions_count": 116,
         "game_series_count": 0,
         "reviews_count": 0,
         "platforms": "PC||macOS",
         "developers": "David Szymanski",
         "genres": "Adventure",
         "publishers": "nan",
         "esrb_category": "nan",
         "_deepnote_index_column": 6
        },
        {
         "name": "Red Entity",
         "metacritic": "nan",
         "released": "2014-08-26T00:00:00.000000",
         "updated": "2019-01-09T12:41:06.000000",
         "rating": 0,
         "rating_top": 0,
         "playtime": 0,
         "achievements_count": 0,
         "ratings_count": 0,
         "suggestions_count": 39,
         "game_series_count": 0,
         "reviews_count": 0,
         "platforms": "PC||macOS||Linux",
         "developers": "woof",
         "genres": "Action||Shooter",
         "publishers": "nan",
         "esrb_category": "nan",
         "_deepnote_index_column": 7
        },
        {
         "name": "HippiesVsCops",
         "metacritic": "nan",
         "released": "2016-04-18T00:00:00.000000",
         "updated": "2019-08-28T23:25:11.000000",
         "rating": 0,
         "rating_top": 0,
         "playtime": 0,
         "achievements_count": 0,
         "ratings_count": 0,
         "suggestions_count": 26,
         "game_series_count": 0,
         "reviews_count": 0,
         "platforms": "PC",
         "developers": "alegaroficial",
         "genres": "Strategy",
         "publishers": "nan",
         "esrb_category": "nan",
         "_deepnote_index_column": 8
        },
        {
         "name": "They Came Through the Floor",
         "metacritic": "nan",
         "released": "2018-06-24T00:00:00.000000",
         "updated": "2019-01-09T12:41:06.000000",
         "rating": 0,
         "rating_top": 0,
         "playtime": 0,
         "achievements_count": 0,
         "ratings_count": 0,
         "suggestions_count": 98,
         "game_series_count": 0,
         "reviews_count": 0,
         "platforms": "PC",
         "developers": "Atte Okkonen",
         "genres": "Platformer",
         "publishers": "nan",
         "esrb_category": "nan",
         "_deepnote_index_column": 9
        },
        {
         "name": "Fading Light: Descent",
         "metacritic": "nan",
         "released": "2017-08-24T00:00:00.000000",
         "updated": "2019-01-09T12:41:06.000000",
         "rating": 0,
         "rating_top": 0,
         "playtime": 0,
         "achievements_count": 0,
         "ratings_count": 0,
         "suggestions_count": 279,
         "game_series_count": 0,
         "reviews_count": 0,
         "platforms": "PC",
         "developers": "Dansodic",
         "genres": "Adventure",
         "publishers": "nan",
         "esrb_category": "nan",
         "_deepnote_index_column": 10
        },
        {
         "name": "The Book Ritual (Beta)",
         "metacritic": "nan",
         "released": "2018-07-06T00:00:00.000000",
         "updated": "2019-01-09T12:41:06.000000",
         "rating": 0,
         "rating_top": 0,
         "playtime": 0,
         "achievements_count": 0,
         "ratings_count": 0,
         "suggestions_count": 111,
         "game_series_count": 0,
         "reviews_count": 0,
         "platforms": "PC||macOS",
         "developers": "Alistair Aitcheson",
         "genres": "nan",
         "publishers": "nan",
         "esrb_category": "nan",
         "_deepnote_index_column": 11
        },
        {
         "name": "Corner of the Club Simulator",
         "metacritic": "nan",
         "released": "2018-04-30T00:00:00.000000",
         "updated": "2019-01-09T12:41:06.000000",
         "rating": 0,
         "rating_top": 0,
         "playtime": 0,
         "achievements_count": 0,
         "ratings_count": 0,
         "suggestions_count": 21,
         "game_series_count": 0,
         "reviews_count": 0,
         "platforms": "PC||Web",
         "developers": "Jayson Musson",
         "genres": "Simulation",
         "publishers": "nan",
         "esrb_category": "nan",
         "_deepnote_index_column": 12
        },
        {
         "name": "Serious Sam Fusion 2017 (beta)",
         "metacritic": "nan",
         "released": "2017-03-20T00:00:00.000000",
         "updated": "2020-03-08T19:03:42.000000",
         "rating": 3.07,
         "rating_top": 4,
         "playtime": 1,
         "achievements_count": 76,
         "ratings_count": 227,
         "suggestions_count": 541,
         "game_series_count": 19,
         "reviews_count": 227,
         "platforms": "Linux||macOS||PC",
         "developers": "Croteam",
         "genres": "Action||Indie",
         "publishers": "Devolver Digital||Croteam",
         "esrb_category": "nan",
         "_deepnote_index_column": 13
        },
        {
         "name": "Intelligence: The 314th Clash!",
         "metacritic": "nan",
         "released": "2016-08-31T00:00:00.000000",
         "updated": "2019-01-09T12:41:06.000000",
         "rating": 0,
         "rating_top": 0,
         "playtime": 0,
         "achievements_count": 0,
         "ratings_count": 0,
         "suggestions_count": 355,
         "game_series_count": 0,
         "reviews_count": 0,
         "platforms": "PC",
         "developers": "Bizarre Monkey",
         "genres": "RPG",
         "publishers": "nan",
         "esrb_category": "nan",
         "_deepnote_index_column": 14
        },
        {
         "name": "Que Sera Sera Demo",
         "metacritic": "nan",
         "released": "2018-04-08T00:00:00.000000",
         "updated": "2019-08-28T23:25:11.000000",
         "rating": 0,
         "rating_top": 0,
         "playtime": 0,
         "achievements_count": 0,
         "ratings_count": 0,
         "suggestions_count": 164,
         "game_series_count": 0,
         "reviews_count": 0,
         "platforms": "PC||macOS",
         "developers": "Eufrasio",
         "genres": "Action||Shooter||Platformer",
         "publishers": "nan",
         "esrb_category": "nan",
         "_deepnote_index_column": 15
        },
        {
         "name": "Excelsior Phase One: Lysandia",
         "metacritic": "nan",
         "released": "2017-02-06T00:00:00.000000",
         "updated": "2019-01-09T12:41:06.000000",
         "rating": 0,
         "rating_top": 0,
         "playtime": 0,
         "achievements_count": 0,
         "ratings_count": 0,
         "suggestions_count": 164,
         "game_series_count": 0,
         "reviews_count": 0,
         "platforms": "PC",
         "developers": "11th Dimension Entertainment",
         "genres": "RPG",
         "publishers": "nan",
         "esrb_category": "nan",
         "_deepnote_index_column": 16
        },
        {
         "name": "Space Escape",
         "metacritic": "nan",
         "released": "2015-09-05T00:00:00.000000",
         "updated": "2019-01-09T12:41:06.000000",
         "rating": 0,
         "rating_top": 0,
         "playtime": 0,
         "achievements_count": 0,
         "ratings_count": 0,
         "suggestions_count": 58,
         "game_series_count": 0,
         "reviews_count": 0,
         "platforms": "Web",
         "developers": "Dark Wall Games",
         "genres": "Shooter",
         "publishers": "nan",
         "esrb_category": "nan",
         "_deepnote_index_column": 17
        },
        {
         "name": "Passing Through the Milky Way",
         "metacritic": "nan",
         "released": "2018-07-02T00:00:00.000000",
         "updated": "2019-01-09T12:41:06.000000",
         "rating": 0,
         "rating_top": 0,
         "playtime": 0,
         "achievements_count": 0,
         "ratings_count": 0,
         "suggestions_count": 7,
         "game_series_count": 0,
         "reviews_count": 0,
         "platforms": "Web",
         "developers": "Dermot",
         "genres": "nan",
         "publishers": "nan",
         "esrb_category": "nan",
         "_deepnote_index_column": 18
        },
        {
         "name": "CORPUS100",
         "metacritic": "nan",
         "released": "2017-05-12T00:00:00.000000",
         "updated": "2019-08-28T23:25:11.000000",
         "rating": 0,
         "rating_top": 0,
         "playtime": 0,
         "achievements_count": 0,
         "ratings_count": 0,
         "suggestions_count": 48,
         "game_series_count": 0,
         "reviews_count": 0,
         "platforms": "Web",
         "developers": "MAVW",
         "genres": "Shooter",
         "publishers": "nan",
         "esrb_category": "nan",
         "_deepnote_index_column": 19
        },
        {
         "name": "Thoughts",
         "metacritic": "nan",
         "released": "2016-05-05T00:00:00.000000",
         "updated": "2019-01-09T12:41:06.000000",
         "rating": 0,
         "rating_top": 0,
         "playtime": 0,
         "achievements_count": 0,
         "ratings_count": 0,
         "suggestions_count": 56,
         "game_series_count": 0,
         "reviews_count": 0,
         "platforms": "PC",
         "developers": "VikkiRuttle",
         "genres": "Platformer",
         "publishers": "nan",
         "esrb_category": "nan",
         "_deepnote_index_column": 20
        },
        {
         "name": "Blasted Bots",
         "metacritic": "nan",
         "released": "2016-03-07T00:00:00.000000",
         "updated": "2019-01-09T12:41:06.000000",
         "rating": 0,
         "rating_top": 0,
         "playtime": 0,
         "achievements_count": 0,
         "ratings_count": 0,
         "suggestions_count": 201,
         "game_series_count": 0,
         "reviews_count": 0,
         "platforms": "PC",
         "developers": "IanAnimated",
         "genres": "Shooter",
         "publishers": "nan",
         "esrb_category": "nan",
         "_deepnote_index_column": 21
        },
        {
         "name": "The Spaghetti Western Excavation",
         "metacritic": "nan",
         "released": "2018-03-31T00:00:00.000000",
         "updated": "2019-01-09T12:41:06.000000",
         "rating": 0,
         "rating_top": 0,
         "playtime": 0,
         "achievements_count": 0,
         "ratings_count": 0,
         "suggestions_count": 22,
         "game_series_count": 0,
         "reviews_count": 0,
         "platforms": "Web",
         "developers": "Jordan Oloman",
         "genres": "nan",
         "publishers": "nan",
         "esrb_category": "nan",
         "_deepnote_index_column": 22
        },
        {
         "name": "Life is Feudal: Forest Village",
         "metacritic": "nan",
         "released": "2016-08-26T00:00:00.000000",
         "updated": "2019-09-17T10:28:05.000000",
         "rating": 3.74,
         "rating_top": 4,
         "playtime": 3,
         "achievements_count": 29,
         "ratings_count": 18,
         "suggestions_count": 596,
         "game_series_count": 0,
         "reviews_count": 19,
         "platforms": "PC",
         "developers": "Mindillusion",
         "genres": "Strategy||Simulation||Indie",
         "publishers": "Bitbox",
         "esrb_category": "nan",
         "_deepnote_index_column": 23
        },
        {
         "name": "Legionwood 2: Rise of the Eternal's Realm",
         "metacritic": "nan",
         "released": "2016-01-03T00:00:00.000000",
         "updated": "2019-01-09T12:41:06.000000",
         "rating": 0,
         "rating_top": 0,
         "playtime": 0,
         "achievements_count": 0,
         "ratings_count": 0,
         "suggestions_count": 230,
         "game_series_count": 0,
         "reviews_count": 0,
         "platforms": "PC",
         "developers": "Dark Gaia Studios",
         "genres": "RPG",
         "publishers": "nan",
         "esrb_category": "nan",
         "_deepnote_index_column": 24
        },
        {
         "name": "Shape Master",
         "metacritic": "nan",
         "released": "2016-04-18T00:00:00.000000",
         "updated": "2019-01-09T12:41:06.000000",
         "rating": 0,
         "rating_top": 0,
         "playtime": 0,
         "achievements_count": 0,
         "ratings_count": 0,
         "suggestions_count": 129,
         "game_series_count": 0,
         "reviews_count": 0,
         "platforms": "PC||macOS||Linux",
         "developers": "B0pt1K",
         "genres": "nan",
         "publishers": "nan",
         "esrb_category": "nan",
         "_deepnote_index_column": 25
        },
        {
         "name": "My World",
         "metacritic": "nan",
         "released": "2017-04-25T00:00:00.000000",
         "updated": "2019-01-09T12:41:06.000000",
         "rating": 0,
         "rating_top": 0,
         "playtime": 0,
         "achievements_count": 0,
         "ratings_count": 0,
         "suggestions_count": 84,
         "game_series_count": 0,
         "reviews_count": 0,
         "platforms": "PC||macOS",
         "developers": "ciderwrath",
         "genres": "nan",
         "publishers": "nan",
         "esrb_category": "nan",
         "_deepnote_index_column": 26
        },
        {
         "name": "Toilet Tycoon (itch)",
         "metacritic": "nan",
         "released": "2016-05-03T00:00:00.000000",
         "updated": "2019-01-09T12:41:06.000000",
         "rating": 0,
         "rating_top": 0,
         "playtime": 0,
         "achievements_count": 0,
         "ratings_count": 0,
         "suggestions_count": 124,
         "game_series_count": 0,
         "reviews_count": 0,
         "platforms": "PC",
         "developers": "Plug In Digital",
         "genres": "Strategy||Simulation",
         "publishers": "nan",
         "esrb_category": "nan",
         "_deepnote_index_column": 27
        },
        {
         "name": "Daddy, Don't Explode Me!",
         "metacritic": "nan",
         "released": "2015-09-25T00:00:00.000000",
         "updated": "2019-01-09T12:41:06.000000",
         "rating": 0,
         "rating_top": 0,
         "playtime": 0,
         "achievements_count": 0,
         "ratings_count": 0,
         "suggestions_count": 33,
         "game_series_count": 0,
         "reviews_count": 0,
         "platforms": "PC",
         "developers": "Fi Silva",
         "genres": "Puzzle",
         "publishers": "nan",
         "esrb_category": "nan",
         "_deepnote_index_column": 28
        }
       ],
       "rows_bottom": [
        {
         "name": "Tomato Soup for the Heart",
         "metacritic": "nan",
         "released": "2016-10-02T00:00:00.000000",
         "updated": "2019-01-09T12:41:06.000000",
         "rating": 0,
         "rating_top": 0,
         "playtime": 0,
         "achievements_count": 0,
         "ratings_count": 0,
         "suggestions_count": 125,
         "game_series_count": 0,
         "reviews_count": 0,
         "platforms": "PC||macOS||Linux",
         "developers": "Synokoria",
         "genres": "nan",
         "publishers": "nan",
         "esrb_category": "nan",
         "_deepnote_index_column": 474388
        },
        {
         "name": "Fungle",
         "metacritic": "nan",
         "released": "2018-05-15T00:00:00.000000",
         "updated": "2019-01-09T12:41:06.000000",
         "rating": 0,
         "rating_top": 0,
         "playtime": 0,
         "achievements_count": 0,
         "ratings_count": 0,
         "suggestions_count": 59,
         "game_series_count": 0,
         "reviews_count": 0,
         "platforms": "PC",
         "developers": "satchelquinn",
         "genres": "Action",
         "publishers": "nan",
         "esrb_category": "nan",
         "_deepnote_index_column": 474389
        },
        {
         "name": "Shenanigans Multiplayer X",
         "metacritic": "nan",
         "released": "2016-08-19T00:00:00.000000",
         "updated": "2019-01-09T12:41:06.000000",
         "rating": 0,
         "rating_top": 0,
         "playtime": 0,
         "achievements_count": 0,
         "ratings_count": 0,
         "suggestions_count": 125,
         "game_series_count": 0,
         "reviews_count": 0,
         "platforms": "PC||macOS||Linux",
         "developers": "Gampixi",
         "genres": "Action||Shooter",
         "publishers": "nan",
         "esrb_category": "nan",
         "_deepnote_index_column": 474390
        },
        {
         "name": "Poke the Mongo",
         "metacritic": "nan",
         "released": "2016-10-07T00:00:00.000000",
         "updated": "2019-01-09T12:41:06.000000",
         "rating": 0,
         "rating_top": 0,
         "playtime": 0,
         "achievements_count": 0,
         "ratings_count": 0,
         "suggestions_count": 21,
         "game_series_count": 0,
         "reviews_count": 0,
         "platforms": "Web",
         "developers": "Les Orchard",
         "genres": "Adventure",
         "publishers": "nan",
         "esrb_category": "nan",
         "_deepnote_index_column": 474391
        },
        {
         "name": "5 Day Trial",
         "metacritic": "nan",
         "released": "2018-03-26T00:00:00.000000",
         "updated": "2019-01-09T12:41:06.000000",
         "rating": 0,
         "rating_top": 0,
         "playtime": 0,
         "achievements_count": 0,
         "ratings_count": 0,
         "suggestions_count": 66,
         "game_series_count": 0,
         "reviews_count": 0,
         "platforms": "PC",
         "developers": "bajter",
         "genres": "nan",
         "publishers": "nan",
         "esrb_category": "nan",
         "_deepnote_index_column": 474392
        },
        {
         "name": "Mogul Mountain",
         "metacritic": "nan",
         "released": "2015-04-15T00:00:00.000000",
         "updated": "2019-01-09T12:41:06.000000",
         "rating": 0,
         "rating_top": 0,
         "playtime": 0,
         "achievements_count": 0,
         "ratings_count": 0,
         "suggestions_count": 58,
         "game_series_count": 0,
         "reviews_count": 0,
         "platforms": "PC||macOS||Linux",
         "developers": "43K Studios",
         "genres": "Sports",
         "publishers": "nan",
         "esrb_category": "nan",
         "_deepnote_index_column": 474393
        },
        {
         "name": "Bombe à Rebours",
         "metacritic": "nan",
         "released": "2015-09-15T00:00:00.000000",
         "updated": "2019-08-23T11:27:41.000000",
         "rating": 0,
         "rating_top": 0,
         "playtime": 0,
         "achievements_count": 0,
         "ratings_count": 0,
         "suggestions_count": 83,
         "game_series_count": 0,
         "reviews_count": 0,
         "platforms": "PC||Web",
         "developers": "dunin",
         "genres": "Action",
         "publishers": "nan",
         "esrb_category": "nan",
         "_deepnote_index_column": 474394
        },
        {
         "name": "Barmark",
         "metacritic": "nan",
         "released": "2015-08-18T00:00:00.000000",
         "updated": "2019-01-09T12:41:06.000000",
         "rating": 0,
         "rating_top": 0,
         "playtime": 0,
         "achievements_count": 0,
         "ratings_count": 0,
         "suggestions_count": 260,
         "game_series_count": 0,
         "reviews_count": 0,
         "platforms": "PC",
         "developers": "Stormhatt Studios",
         "genres": "nan",
         "publishers": "nan",
         "esrb_category": "nan",
         "_deepnote_index_column": 474395
        },
        {
         "name": "Heaven is a Half-Swipe {Prototype}",
         "metacritic": "nan",
         "released": "2016-05-15T00:00:00.000000",
         "updated": "2019-01-09T12:41:06.000000",
         "rating": 0,
         "rating_top": 0,
         "playtime": 0,
         "achievements_count": 0,
         "ratings_count": 0,
         "suggestions_count": 52,
         "game_series_count": 0,
         "reviews_count": 0,
         "platforms": "PC",
         "developers": "Andrew Forsythe",
         "genres": "Platformer",
         "publishers": "nan",
         "esrb_category": "nan",
         "_deepnote_index_column": 474396
        },
        {
         "name": "Catch Your Chance",
         "metacritic": "nan",
         "released": "2016-12-01T00:00:00.000000",
         "updated": "2019-01-09T12:41:06.000000",
         "rating": 0,
         "rating_top": 0,
         "playtime": 0,
         "achievements_count": 0,
         "ratings_count": 0,
         "suggestions_count": 41,
         "game_series_count": 0,
         "reviews_count": 0,
         "platforms": "PC||macOS||Linux||Android||Web",
         "developers": "Cozy Game Pals",
         "genres": "nan",
         "publishers": "nan",
         "esrb_category": "nan",
         "_deepnote_index_column": 474397
        },
        {
         "name": "Nation Red",
         "metacritic": "nan",
         "released": "2009-08-02T00:00:00.000000",
         "updated": "2019-09-17T05:23:55.000000",
         "rating": 2.54,
         "rating_top": 3,
         "playtime": 4,
         "achievements_count": 145,
         "ratings_count": 59,
         "suggestions_count": 580,
         "game_series_count": 0,
         "reviews_count": 59,
         "platforms": "PC||Linux||macOS",
         "developers": "DiezelPower",
         "genres": "Action||Indie",
         "publishers": "DiezelPower",
         "esrb_category": "nan",
         "_deepnote_index_column": 474398
        },
        {
         "name": "ReTux",
         "metacritic": "nan",
         "released": "2016-05-22T00:00:00.000000",
         "updated": "2019-01-09T12:41:06.000000",
         "rating": 0,
         "rating_top": 0,
         "playtime": 0,
         "achievements_count": 0,
         "ratings_count": 0,
         "suggestions_count": 151,
         "game_series_count": 0,
         "reviews_count": 0,
         "platforms": "PC||Linux",
         "developers": "onpon4",
         "genres": "Platformer",
         "publishers": "nan",
         "esrb_category": "nan",
         "_deepnote_index_column": 474399
        },
        {
         "name": "Collapsing Reality",
         "metacritic": "nan",
         "released": "2018-08-13T00:00:00.000000",
         "updated": "2019-08-28T23:25:11.000000",
         "rating": 0,
         "rating_top": 0,
         "playtime": 0,
         "achievements_count": 0,
         "ratings_count": 0,
         "suggestions_count": 43,
         "game_series_count": 0,
         "reviews_count": 0,
         "platforms": "PC||Linux",
         "developers": "HyperDrop Studios",
         "genres": "Action",
         "publishers": "nan",
         "esrb_category": "nan",
         "_deepnote_index_column": 474400
        },
        {
         "name": "Passengers",
         "metacritic": "nan",
         "released": "2015-08-25T00:00:00.000000",
         "updated": "2019-01-09T12:41:06.000000",
         "rating": 0,
         "rating_top": 0,
         "playtime": 0,
         "achievements_count": 0,
         "ratings_count": 0,
         "suggestions_count": 49,
         "game_series_count": 0,
         "reviews_count": 0,
         "platforms": "Web",
         "developers": "sectordub",
         "genres": "Simulation",
         "publishers": "nan",
         "esrb_category": "nan",
         "_deepnote_index_column": 474401
        },
        {
         "name": "Virtual-Climbing",
         "metacritic": "nan",
         "released": "2018-04-04T00:00:00.000000",
         "updated": "2019-01-09T12:41:06.000000",
         "rating": 0,
         "rating_top": 0,
         "playtime": 0,
         "achievements_count": 0,
         "ratings_count": 0,
         "suggestions_count": 51,
         "game_series_count": 0,
         "reviews_count": 0,
         "platforms": "PC",
         "developers": "Jfstudios",
         "genres": "nan",
         "publishers": "nan",
         "esrb_category": "nan",
         "_deepnote_index_column": 474402
        },
        {
         "name": "Viper Girl (Prototype)",
         "metacritic": "nan",
         "released": "2015-11-16T00:00:00.000000",
         "updated": "2019-01-09T12:41:06.000000",
         "rating": 0,
         "rating_top": 0,
         "playtime": 0,
         "achievements_count": 0,
         "ratings_count": 0,
         "suggestions_count": 75,
         "game_series_count": 0,
         "reviews_count": 0,
         "platforms": "PC",
         "developers": "Kyle Pulver",
         "genres": "Action",
         "publishers": "nan",
         "esrb_category": "nan",
         "_deepnote_index_column": 474403
        },
        {
         "name": "Echoes of a Forgotten Realm (Prototype)",
         "metacritic": "nan",
         "released": "2017-03-20T00:00:00.000000",
         "updated": "2019-01-09T12:41:06.000000",
         "rating": 0,
         "rating_top": 0,
         "playtime": 0,
         "achievements_count": 0,
         "ratings_count": 1,
         "suggestions_count": 78,
         "game_series_count": 0,
         "reviews_count": 1,
         "platforms": "PC||macOS||Linux||Android",
         "developers": "CaptainSteamFox",
         "genres": "Platformer",
         "publishers": "nan",
         "esrb_category": "nan",
         "_deepnote_index_column": 474404
        },
        {
         "name": "Detonate",
         "metacritic": "nan",
         "released": "2018-05-21T00:00:00.000000",
         "updated": "2019-01-09T12:41:06.000000",
         "rating": 0,
         "rating_top": 0,
         "playtime": 0,
         "achievements_count": 0,
         "ratings_count": 0,
         "suggestions_count": 59,
         "game_series_count": 0,
         "reviews_count": 0,
         "platforms": "PC",
         "developers": "Lumberjack Apps",
         "genres": "Shooter",
         "publishers": "nan",
         "esrb_category": "nan",
         "_deepnote_index_column": 474405
        },
        {
         "name": "Tilt Master",
         "metacritic": "nan",
         "released": "2015-07-23T00:00:00.000000",
         "updated": "2019-01-09T12:41:06.000000",
         "rating": 0,
         "rating_top": 0,
         "playtime": 0,
         "achievements_count": 0,
         "ratings_count": 0,
         "suggestions_count": 7,
         "game_series_count": 0,
         "reviews_count": 0,
         "platforms": "PC",
         "developers": "MichelAlonso",
         "genres": "Action",
         "publishers": "nan",
         "esrb_category": "nan",
         "_deepnote_index_column": 474406
        },
        {
         "name": "Pixel Privateers",
         "metacritic": "nan",
         "released": "2017-02-21T00:00:00.000000",
         "updated": "2019-08-28T22:14:40.000000",
         "rating": 0,
         "rating_top": 3,
         "playtime": 6,
         "achievements_count": 0,
         "ratings_count": 5,
         "suggestions_count": 363,
         "game_series_count": 0,
         "reviews_count": 5,
         "platforms": "PC",
         "developers": "Quadro Delta",
         "genres": "Action||Adventure||RPG||Simulation||Indie",
         "publishers": "Re-Logic",
         "esrb_category": "nan",
         "_deepnote_index_column": 474407
        },
        {
         "name": "about-face",
         "metacritic": "nan",
         "released": "2016-06-29T00:00:00.000000",
         "updated": "2019-08-28T23:25:11.000000",
         "rating": 0,
         "rating_top": 0,
         "playtime": 0,
         "achievements_count": 0,
         "ratings_count": 0,
         "suggestions_count": 40,
         "game_series_count": 0,
         "reviews_count": 0,
         "platforms": "Web",
         "developers": "Peltast",
         "genres": "Platformer",
         "publishers": "nan",
         "esrb_category": "nan",
         "_deepnote_index_column": 474408
        },
        {
         "name": "Light Cycles",
         "metacritic": "nan",
         "released": "2016-01-16T00:00:00.000000",
         "updated": "2019-01-09T12:41:06.000000",
         "rating": 0,
         "rating_top": 0,
         "playtime": 0,
         "achievements_count": 0,
         "ratings_count": 0,
         "suggestions_count": 8,
         "game_series_count": 0,
         "reviews_count": 0,
         "platforms": "PC",
         "developers": "Clabbage",
         "genres": "Action",
         "publishers": "nan",
         "esrb_category": "nan",
         "_deepnote_index_column": 474409
        },
        {
         "name": "Scrapjunk Courier",
         "metacritic": "nan",
         "released": "2017-07-31T00:00:00.000000",
         "updated": "2019-01-09T12:41:06.000000",
         "rating": 0,
         "rating_top": 0,
         "playtime": 0,
         "achievements_count": 0,
         "ratings_count": 0,
         "suggestions_count": 116,
         "game_series_count": 0,
         "reviews_count": 0,
         "platforms": "PC||Web",
         "developers": "reBTF",
         "genres": "Strategy",
         "publishers": "nan",
         "esrb_category": "nan",
         "_deepnote_index_column": 474410
        },
        {
         "name": "Primal Fears (itch)",
         "metacritic": "nan",
         "released": "2017-03-29T00:00:00.000000",
         "updated": "2019-01-09T12:41:06.000000",
         "rating": 0,
         "rating_top": 0,
         "playtime": 0,
         "achievements_count": 0,
         "ratings_count": 0,
         "suggestions_count": 350,
         "game_series_count": 0,
         "reviews_count": 0,
         "platforms": "PC",
         "developers": "DnSdev",
         "genres": "Action",
         "publishers": "nan",
         "esrb_category": "nan",
         "_deepnote_index_column": 474411
        },
        {
         "name": "Holy or Dead",
         "metacritic": "nan",
         "released": "2017-05-17T00:00:00.000000",
         "updated": "2019-01-09T12:41:06.000000",
         "rating": 0,
         "rating_top": 0,
         "playtime": 0,
         "achievements_count": 0,
         "ratings_count": 0,
         "suggestions_count": 52,
         "game_series_count": 0,
         "reviews_count": 0,
         "platforms": "PC",
         "developers": "Ralidon",
         "genres": "nan",
         "publishers": "nan",
         "esrb_category": "nan",
         "_deepnote_index_column": 474412
        },
        {
         "name": "Airstrike HD Demo",
         "metacritic": "nan",
         "released": "2016-03-04T00:00:00.000000",
         "updated": "2019-01-09T12:41:06.000000",
         "rating": 0,
         "rating_top": 0,
         "playtime": 0,
         "achievements_count": 0,
         "ratings_count": 0,
         "suggestions_count": 202,
         "game_series_count": 0,
         "reviews_count": 0,
         "platforms": "PC",
         "developers": "Fifth Dimension Company",
         "genres": "Action",
         "publishers": "nan",
         "esrb_category": "nan",
         "_deepnote_index_column": 474413
        },
        {
         "name": "Urania's Mirror",
         "metacritic": "nan",
         "released": "2016-04-25T00:00:00.000000",
         "updated": "2019-01-09T12:41:06.000000",
         "rating": 0,
         "rating_top": 0,
         "playtime": 0,
         "achievements_count": 0,
         "ratings_count": 0,
         "suggestions_count": 51,
         "game_series_count": 0,
         "reviews_count": 0,
         "platforms": "PC",
         "developers": "sneakthief",
         "genres": "Adventure",
         "publishers": "nan",
         "esrb_category": "nan",
         "_deepnote_index_column": 474414
        },
        {
         "name": "Simucities",
         "metacritic": "nan",
         "released": "2017-05-26T00:00:00.000000",
         "updated": "2019-01-09T12:41:06.000000",
         "rating": 0,
         "rating_top": 0,
         "playtime": 0,
         "achievements_count": 0,
         "ratings_count": 0,
         "suggestions_count": 84,
         "game_series_count": 0,
         "reviews_count": 0,
         "platforms": "PC",
         "developers": "keypixels",
         "genres": "nan",
         "publishers": "nan",
         "esrb_category": "nan",
         "_deepnote_index_column": 474415
        },
        {
         "name": "Pocket Assault (itch)",
         "metacritic": "nan",
         "released": "2015-08-20T00:00:00.000000",
         "updated": "2019-01-09T12:41:06.000000",
         "rating": 0,
         "rating_top": 0,
         "playtime": 0,
         "achievements_count": 0,
         "ratings_count": 0,
         "suggestions_count": 48,
         "game_series_count": 0,
         "reviews_count": 0,
         "platforms": "PC",
         "developers": "Carsten_Ostermann",
         "genres": "Shooter",
         "publishers": "nan",
         "esrb_category": "nan",
         "_deepnote_index_column": 474416
        }
       ]
      },
      "text/plain": "                         name  metacritic   released             updated  \\\n0             D/Generation HD         NaN 2015-10-23 2019-09-17 11:58:57   \n1       G Prime Into The Rain         NaN 2016-01-06 2019-11-06 23:04:19   \n2                Land Sliders         NaN 2015-09-24 2019-10-22 13:56:16   \n3                  Pixel Gear         NaN 2016-10-20 2019-08-28 22:16:02   \n4              Gods and Idols         NaN 2016-12-12 2019-09-17 13:37:13   \n...                       ...         ...        ...                 ...   \n474412           Holy or Dead         NaN 2017-05-17 2019-01-09 12:41:06   \n474413      Airstrike HD Demo         NaN 2016-03-04 2019-01-09 12:41:06   \n474414        Urania's Mirror         NaN 2016-04-25 2019-01-09 12:41:06   \n474415             Simucities         NaN 2017-05-26 2019-01-09 12:41:06   \n474416  Pocket Assault (itch)         NaN 2015-08-20 2019-01-09 12:41:06   \n\n        rating  rating_top  playtime  achievements_count  ratings_count  \\\n0          0.0           0         1                  80              2   \n1          0.0           0         0                  26              3   \n2          0.0           0         0                   0              2   \n3          0.0           0         0                   0              0   \n4          0.0           1         1                   0              5   \n...        ...         ...       ...                 ...            ...   \n474412     0.0           0         0                   0              0   \n474413     0.0           0         0                   0              0   \n474414     0.0           0         0                   0              0   \n474415     0.0           0         0                   0              0   \n474416     0.0           0         0                   0              0   \n\n        suggestions_count  game_series_count  reviews_count  \\\n0                     292                  0              4   \n1                     389                  0              3   \n2                      83                  0              2   \n3                     455                  0              0   \n4                     262                  0              5   \n...                   ...                ...            ...   \n474412                 52                  0              0   \n474413                202                  0              0   \n474414                 51                  0              0   \n474415                 84                  0              0   \n474416                 48                  0              0   \n\n                                                platforms  \\\n0       PC||macOS||Xbox One||PlayStation 4||Nintendo S...   \n1                                     macOS||PC||Xbox One   \n2                                                     iOS   \n3                                       PC||PlayStation 4   \n4                                                      PC   \n...                                                   ...   \n474412                                                 PC   \n474413                                                 PC   \n474414                                                 PC   \n474415                                                 PC   \n474416                                                 PC   \n\n                               developers  \\\n0                     West Coast Software   \n1                              Soma Games   \n2                         Prettygreat Pty   \n3       Oasis Games||Geronimo Interactive   \n4                              Viking Tao   \n...                                   ...   \n474412                            Ralidon   \n474413            Fifth Dimension Company   \n474414                         sneakthief   \n474415                          keypixels   \n474416                  Carsten_Ostermann   \n\n                                      genres  \\\n0                          Adventure||Puzzle   \n1                          Simulation||Indie   \n2                          Adventure||Arcade   \n3                              Action||Indie   \n4       RPG||Strategy||Massively Multiplayer   \n...                                      ...   \n474412                                   NaN   \n474413                                Action   \n474414                             Adventure   \n474415                                   NaN   \n474416                               Shooter   \n\n                                   publishers esrb_category  \n0                         West Coast Software  Everyone 10+  \n1       Immanitas Entertainment||Code-Monkeys      Everyone  \n2                             Prettygreat Pty  Everyone 10+  \n3                        Geronimo Interactive          Teen  \n4                                  Viking Tao           NaN  \n...                                       ...           ...  \n474412                                    NaN           NaN  \n474413                                    NaN           NaN  \n474414                                    NaN           NaN  \n474415                                    NaN           NaN  \n474416                                    NaN           NaN  \n\n[449461 rows x 17 columns]",
      "text/html": "<div>\n<style scoped>\n    .dataframe tbody tr th:only-of-type {\n        vertical-align: middle;\n    }\n\n    .dataframe tbody tr th {\n        vertical-align: top;\n    }\n\n    .dataframe thead th {\n        text-align: right;\n    }\n</style>\n<table border=\"1\" class=\"dataframe\">\n  <thead>\n    <tr style=\"text-align: right;\">\n      <th></th>\n      <th>name</th>\n      <th>metacritic</th>\n      <th>released</th>\n      <th>updated</th>\n      <th>rating</th>\n      <th>rating_top</th>\n      <th>playtime</th>\n      <th>achievements_count</th>\n      <th>ratings_count</th>\n      <th>suggestions_count</th>\n      <th>game_series_count</th>\n      <th>reviews_count</th>\n      <th>platforms</th>\n      <th>developers</th>\n      <th>genres</th>\n      <th>publishers</th>\n      <th>esrb_category</th>\n    </tr>\n  </thead>\n  <tbody>\n    <tr>\n      <th>0</th>\n      <td>D/Generation HD</td>\n      <td>NaN</td>\n      <td>2015-10-23</td>\n      <td>2019-09-17 11:58:57</td>\n      <td>0.0</td>\n      <td>0</td>\n      <td>1</td>\n      <td>80</td>\n      <td>2</td>\n      <td>292</td>\n      <td>0</td>\n      <td>4</td>\n      <td>PC||macOS||Xbox One||PlayStation 4||Nintendo S...</td>\n      <td>West Coast Software</td>\n      <td>Adventure||Puzzle</td>\n      <td>West Coast Software</td>\n      <td>Everyone 10+</td>\n    </tr>\n    <tr>\n      <th>1</th>\n      <td>G Prime Into The Rain</td>\n      <td>NaN</td>\n      <td>2016-01-06</td>\n      <td>2019-11-06 23:04:19</td>\n      <td>0.0</td>\n      <td>0</td>\n      <td>0</td>\n      <td>26</td>\n      <td>3</td>\n      <td>389</td>\n      <td>0</td>\n      <td>3</td>\n      <td>macOS||PC||Xbox One</td>\n      <td>Soma Games</td>\n      <td>Simulation||Indie</td>\n      <td>Immanitas Entertainment||Code-Monkeys</td>\n      <td>Everyone</td>\n    </tr>\n    <tr>\n      <th>2</th>\n      <td>Land Sliders</td>\n      <td>NaN</td>\n      <td>2015-09-24</td>\n      <td>2019-10-22 13:56:16</td>\n      <td>0.0</td>\n      <td>0</td>\n      <td>0</td>\n      <td>0</td>\n      <td>2</td>\n      <td>83</td>\n      <td>0</td>\n      <td>2</td>\n      <td>iOS</td>\n      <td>Prettygreat Pty</td>\n      <td>Adventure||Arcade</td>\n      <td>Prettygreat Pty</td>\n      <td>Everyone 10+</td>\n    </tr>\n    <tr>\n      <th>3</th>\n      <td>Pixel Gear</td>\n      <td>NaN</td>\n      <td>2016-10-20</td>\n      <td>2019-08-28 22:16:02</td>\n      <td>0.0</td>\n      <td>0</td>\n      <td>0</td>\n      <td>0</td>\n      <td>0</td>\n      <td>455</td>\n      <td>0</td>\n      <td>0</td>\n      <td>PC||PlayStation 4</td>\n      <td>Oasis Games||Geronimo Interactive</td>\n      <td>Action||Indie</td>\n      <td>Geronimo Interactive</td>\n      <td>Teen</td>\n    </tr>\n    <tr>\n      <th>4</th>\n      <td>Gods and Idols</td>\n      <td>NaN</td>\n      <td>2016-12-12</td>\n      <td>2019-09-17 13:37:13</td>\n      <td>0.0</td>\n      <td>1</td>\n      <td>1</td>\n      <td>0</td>\n      <td>5</td>\n      <td>262</td>\n      <td>0</td>\n      <td>5</td>\n      <td>PC</td>\n      <td>Viking Tao</td>\n      <td>RPG||Strategy||Massively Multiplayer</td>\n      <td>Viking Tao</td>\n      <td>NaN</td>\n    </tr>\n    <tr>\n      <th>...</th>\n      <td>...</td>\n      <td>...</td>\n      <td>...</td>\n      <td>...</td>\n      <td>...</td>\n      <td>...</td>\n      <td>...</td>\n      <td>...</td>\n      <td>...</td>\n      <td>...</td>\n      <td>...</td>\n      <td>...</td>\n      <td>...</td>\n      <td>...</td>\n      <td>...</td>\n      <td>...</td>\n      <td>...</td>\n    </tr>\n    <tr>\n      <th>474412</th>\n      <td>Holy or Dead</td>\n      <td>NaN</td>\n      <td>2017-05-17</td>\n      <td>2019-01-09 12:41:06</td>\n      <td>0.0</td>\n      <td>0</td>\n      <td>0</td>\n      <td>0</td>\n      <td>0</td>\n      <td>52</td>\n      <td>0</td>\n      <td>0</td>\n      <td>PC</td>\n      <td>Ralidon</td>\n      <td>NaN</td>\n      <td>NaN</td>\n      <td>NaN</td>\n    </tr>\n    <tr>\n      <th>474413</th>\n      <td>Airstrike HD Demo</td>\n      <td>NaN</td>\n      <td>2016-03-04</td>\n      <td>2019-01-09 12:41:06</td>\n      <td>0.0</td>\n      <td>0</td>\n      <td>0</td>\n      <td>0</td>\n      <td>0</td>\n      <td>202</td>\n      <td>0</td>\n      <td>0</td>\n      <td>PC</td>\n      <td>Fifth Dimension Company</td>\n      <td>Action</td>\n      <td>NaN</td>\n      <td>NaN</td>\n    </tr>\n    <tr>\n      <th>474414</th>\n      <td>Urania's Mirror</td>\n      <td>NaN</td>\n      <td>2016-04-25</td>\n      <td>2019-01-09 12:41:06</td>\n      <td>0.0</td>\n      <td>0</td>\n      <td>0</td>\n      <td>0</td>\n      <td>0</td>\n      <td>51</td>\n      <td>0</td>\n      <td>0</td>\n      <td>PC</td>\n      <td>sneakthief</td>\n      <td>Adventure</td>\n      <td>NaN</td>\n      <td>NaN</td>\n    </tr>\n    <tr>\n      <th>474415</th>\n      <td>Simucities</td>\n      <td>NaN</td>\n      <td>2017-05-26</td>\n      <td>2019-01-09 12:41:06</td>\n      <td>0.0</td>\n      <td>0</td>\n      <td>0</td>\n      <td>0</td>\n      <td>0</td>\n      <td>84</td>\n      <td>0</td>\n      <td>0</td>\n      <td>PC</td>\n      <td>keypixels</td>\n      <td>NaN</td>\n      <td>NaN</td>\n      <td>NaN</td>\n    </tr>\n    <tr>\n      <th>474416</th>\n      <td>Pocket Assault (itch)</td>\n      <td>NaN</td>\n      <td>2015-08-20</td>\n      <td>2019-01-09 12:41:06</td>\n      <td>0.0</td>\n      <td>0</td>\n      <td>0</td>\n      <td>0</td>\n      <td>0</td>\n      <td>48</td>\n      <td>0</td>\n      <td>0</td>\n      <td>PC</td>\n      <td>Carsten_Ostermann</td>\n      <td>Shooter</td>\n      <td>NaN</td>\n      <td>NaN</td>\n    </tr>\n  </tbody>\n</table>\n<p>449461 rows × 17 columns</p>\n</div>"
     },
     "metadata": {}
    }
   ],
   "execution_count": 6
  },
  {
   "cell_type": "markdown",
   "source": "Finally, we will check if there are any more columns to convert, null values to fill/remove etc.",
   "metadata": {
    "tags": [],
    "cell_id": "00013-f4a20be6-eeaf-4a8c-9b3f-cdd8adeb054d",
    "deepnote_app_coordinates": {
     "x": 0,
     "y": 93,
     "w": 12,
     "h": 5
    },
    "deepnote_cell_type": "markdown"
   }
  },
  {
   "cell_type": "code",
   "metadata": {
    "tags": [],
    "cell_id": "00013-c595677a-bc99-441a-81bc-351fa37b0d31",
    "deepnote_to_be_reexecuted": false,
    "source_hash": "5ffe32de",
    "execution_start": 1634417475813,
    "execution_millis": 851,
    "deepnote_app_coordinates": {
     "x": 0,
     "y": 99,
     "w": 12,
     "h": 5
    },
    "deepnote_cell_type": "code"
   },
   "source": "# Check if we need to convert columns\ndataset.dtypes",
   "outputs": [
    {
     "output_type": "execute_result",
     "execution_count": 7,
     "data": {
      "text/plain": "name                          object\nmetacritic                   float64\nreleased              datetime64[ns]\nupdated               datetime64[ns]\nrating                       float64\nrating_top                     int64\nplaytime                       int64\nachievements_count             int64\nratings_count                  int64\nsuggestions_count              int64\ngame_series_count              int64\nreviews_count                  int64\nplatforms                     object\ndevelopers                    object\ngenres                        object\npublishers                    object\nesrb_category                 object\ndtype: object"
     },
     "metadata": {}
    }
   ],
   "execution_count": 7
  },
  {
   "cell_type": "markdown",
   "source": "We can see that all columns that contain quantitative values have a numerical dtype, which means they are correctly parsed by pandas (in case of errors, pandas displays the columns as \"object\" dtype).",
   "metadata": {
    "tags": [],
    "cell_id": "00015-4b0e13fd-806a-4e0e-842b-831d9458a504",
    "deepnote_app_coordinates": {
     "x": 0,
     "y": 105,
     "w": 12,
     "h": 5
    },
    "deepnote_cell_type": "markdown"
   }
  },
  {
   "cell_type": "code",
   "metadata": {
    "tags": [],
    "cell_id": "00015-026bdfbb-5c4e-43f5-b921-3cd8d66aa666",
    "deepnote_to_be_reexecuted": false,
    "source_hash": "c2bbee1e",
    "execution_start": 1634417475838,
    "execution_millis": 828,
    "deepnote_app_coordinates": {
     "x": 0,
     "y": 111,
     "w": 12,
     "h": 5
    },
    "deepnote_cell_type": "code"
   },
   "source": "dataset.isnull().sum()",
   "outputs": [
    {
     "output_type": "execute_result",
     "execution_count": 8,
     "data": {
      "text/plain": "name                       2\nmetacritic            444742\nreleased                   0\nupdated                    0\nrating                     0\nrating_top                 0\nplaytime                   0\nachievements_count         0\nratings_count              0\nsuggestions_count          0\ngame_series_count          0\nreviews_count              0\nplatforms               3413\ndevelopers              5011\ngenres                100435\npublishers            319028\nesrb_category         396176\ndtype: int64"
     },
     "metadata": {}
    }
   ],
   "execution_count": 8
  },
  {
   "cell_type": "markdown",
   "source": "There are a lot of null values in the `metacritic` column, but seeing as the values for Metacritic ratings go from 0 to 100, it would bias the data to replace null values with zeros. We also cannot remove them, because we would lose too much data.\n\nHowever, the column `rating` has zeros to indicate an absence of rating instead of NaN. As NaN values are automatically ignored when plotting, it would be to our advantage to transform those zeros in NaN values:",
   "metadata": {
    "tags": [],
    "cell_id": "00018-0aac520e-822e-4572-8b9c-1777c5d784a3",
    "deepnote_app_coordinates": {
     "x": 0,
     "y": 117,
     "w": 12,
     "h": 5
    },
    "deepnote_cell_type": "markdown"
   }
  },
  {
   "cell_type": "code",
   "source": "import numpy as np\ndataset[\"rating\"] = dataset[\"rating\"].replace(0, np.nan)",
   "metadata": {
    "tags": [],
    "cell_id": "00021-239141c1-b375-4735-b053-ef7c4f0d417d",
    "deepnote_to_be_reexecuted": false,
    "source_hash": "30268ca1",
    "execution_start": 1634417476249,
    "execution_millis": 1,
    "deepnote_app_coordinates": {
     "x": 0,
     "y": 177,
     "w": 12,
     "h": 5
    },
    "deepnote_cell_type": "code"
   },
   "outputs": [],
   "execution_count": 9
  },
  {
   "cell_type": "markdown",
   "source": "There are also empty names. Seeing as the name is not a crucial piece of data in this study, we can just put a placeholder value.",
   "metadata": {
    "tags": [],
    "cell_id": "00022-d0ba2cd8-f1b3-4883-96ad-4b523a19372a",
    "deepnote_app_coordinates": {
     "x": 0,
     "y": 183,
     "w": 12,
     "h": 5
    },
    "deepnote_cell_type": "markdown"
   }
  },
  {
   "cell_type": "code",
   "metadata": {
    "tags": [],
    "cell_id": "00017-14eef8b5-7c2d-40b5-b4a1-6b9597d85337",
    "deepnote_to_be_reexecuted": false,
    "source_hash": "683bde9d",
    "execution_start": 1634417476250,
    "execution_millis": 596,
    "deepnote_app_coordinates": {
     "x": 0,
     "y": 123,
     "w": 12,
     "h": 5
    },
    "deepnote_cell_type": "code"
   },
   "source": "def fill_empty_name(name):\n    if str(name) == \"nan\":\n        name = \"Unknown game \" + str(fill_empty_name.counter)\n        fill_empty_name.counter += 1\n    return name  \nfill_empty_name.counter = 0  # static variable to give each game a unique name\n\n# fill empty names\ndataset[\"name\"] = dataset[\"name\"].apply(fill_empty_name)\nprint(f\"There are {dataset['name'].isnull().sum()} empty names left.\")",
   "outputs": [
    {
     "name": "stdout",
     "text": "There are 0 empty names left.\n",
     "output_type": "stream"
    }
   ],
   "execution_count": 10
  },
  {
   "cell_type": "markdown",
   "source": "## Explorative Data Analysis (EDA)\nNow that our data is clean, let's analyse it !\n\n### Correlation matrix\nFirst of all, we can use a correlation matrix to try to understand how each column correlate with the others.",
   "metadata": {
    "tags": [],
    "cell_id": "00022-3923a9d2-f077-4f8d-a2b0-25fa5ba79ae3",
    "deepnote_app_coordinates": {
     "x": 0,
     "y": 129,
     "w": 12,
     "h": 5
    },
    "deepnote_cell_type": "markdown"
   }
  },
  {
   "cell_type": "code",
   "metadata": {
    "tags": [],
    "cell_id": "00023-3f706fa0-439e-44ad-9d7d-591b4b51b779",
    "deepnote_to_be_reexecuted": false,
    "source_hash": "adff6c4c",
    "execution_start": 1634417476745,
    "execution_millis": 1467,
    "deepnote_app_coordinates": {
     "x": 0,
     "y": 135,
     "w": 12,
     "h": 5
    },
    "deepnote_cell_type": "code"
   },
   "source": "import matplotlib.pyplot as plt\n\nf = plt.figure(figsize=(12, 7))\nplt.matshow(dataset.corr(), fignum=f.number)\nplt.xticks(range(dataset.select_dtypes(['number']).shape[1]), dataset.select_dtypes(['number']).columns, fontsize=12, rotation=75)\nplt.yticks(range(dataset.select_dtypes(['number']).shape[1]), dataset.select_dtypes(['number']).columns, fontsize=12)\ncb = plt.colorbar()\ncb.ax.tick_params(labelsize=12)\nplt.title('Correlation Matrix', fontsize=16);",
   "outputs": [
    {
     "data": {
      "text/plain": "<Figure size 864x504 with 2 Axes>",
      "image/png": "[encoded data removed]"
     },
     "metadata": {
      "needs_background": "light",
      "image/png": {
       "width": 615,
       "height": 557
      }
     },
     "output_type": "display_data"
    }
   ],
   "execution_count": 11
  },
  {
   "cell_type": "markdown",
   "source": "We can see that `playtime` and `achievements_count` have almost no correlation with any other columns, including the ratings. We can therefore consider them to be inconsequential on the appreciation level of a game.",
   "metadata": {
    "tags": [],
    "cell_id": "00024-b42877a0-7bf4-4dd1-9fe4-ae15bef3cc9d",
    "deepnote_app_coordinates": {
     "x": 0,
     "y": 141,
     "w": 12,
     "h": 5
    },
    "deepnote_cell_type": "markdown"
   }
  },
  {
   "cell_type": "markdown",
   "source": "### Determine consistency between Metacritic and RAWG ratings\nLet's see how consistent metacritic ratings and RAWG ratings are (for games that have both, those with a NaN value in either column are automatically ignored in the plot): ",
   "metadata": {
    "tags": [],
    "cell_id": "00025-0b3414cc-7efc-49e2-8ae0-1adaa02ac93c",
    "deepnote_app_coordinates": {
     "x": 0,
     "y": 147,
     "w": 12,
     "h": 5
    },
    "deepnote_cell_type": "markdown"
   }
  },
  {
   "cell_type": "code",
   "metadata": {
    "tags": [],
    "cell_id": "00024-4e5a99e5-3e5e-4d65-b04b-70b4d3ce601b",
    "deepnote_to_be_reexecuted": false,
    "source_hash": "7d135553",
    "execution_start": 1634417478199,
    "execution_millis": 6035,
    "deepnote_app_coordinates": {
     "x": 0,
     "y": 153,
     "w": 12,
     "h": 5
    },
    "deepnote_cell_type": "code"
   },
   "source": "fig = exp.scatter(x=\"rating\", y=\"metacritic\", data_frame=dataset, trendline=\"ols\")  # ols = Ordinary Least Squares\nfig.data = [t for t in fig.data if t.mode == \"lines\"]\nfig",
   "outputs": [
    {
     "data": {
      "text/html": "<html>\n<head><meta charset=\"utf-8\" /></head>\n<body>\n    <div>            <script src=\"https://cdnjs.cloudflare.com/ajax/libs/mathjax/2.7.5/MathJax.js?config=TeX-AMS-MML_SVG\"></script><script type=\"text/javascript\">if (window.MathJax) {MathJax.Hub.Config({SVG: {font: \"STIX-Web\"}});}</script>                <script type=\"text/javascript\">window.PlotlyConfig = {MathJaxConfig: 'local'};</script>\n        <script src=\"https://cdn.plot.ly/plotly-2.4.2.min.js\"></script>                <div id=\"aa17016e-3513-40b9-a4f1-de223bd47fa6\" class=\"plotly-graph-div\" style=\"height:525px; width:100%;\"></div>            <script type=\"text/javascript\">                                    window.PLOTLYENV=window.PLOTLYENV || {};                                    if (document.getElementById(\"aa17016e-3513-40b9-a4f1-de223bd47fa6\")) {                    Plotly.newPlot(                        \"aa17016e-3513-40b9-a4f1-de223bd47fa6\",                        [{\"hovertemplate\":\"<b>OLS trendline</b><br>metacritic = 10.5584 * rating + 37.2584<br>R<sup>2</sup>=0.359217<br><br>rating=%{x}<br>metacritic=%{y} <b>(trend)</b><extra></extra>\",\"legendgroup\":\"\",\"marker\":{\"color\":\"#636efa\",\"symbol\":\"circle\"},\"mode\":\"lines\",\"name\":\"\",\"showlegend\":false,\"type\":\"scattergl\",\"x\":[1.0,1.29,1.29,1.33,1.38,1.43,1.44,1.5,1.55,1.57,1.57,1.6,1.6,1.62,1.65,1.67,1.67,1.67,1.69,1.73,1.73,1.73,1.75,1.77,1.79,1.79,1.79,1.8,1.81,1.83,1.83,1.83,1.85,1.85,1.85,1.86,1.86,1.86,1.86,1.86,1.86,1.88,1.91,1.91,1.92,1.93,1.93,1.95,1.96,1.97,1.97,2.0,2.0,2.0,2.0,2.0,2.0,2.0,2.0,2.0,2.04,2.06,2.06,2.07,2.07,2.07,2.08,2.09,2.09,2.09,2.1,2.11,2.11,2.11,2.11,2.11,2.12,2.12,2.12,2.12,2.14,2.14,2.14,2.14,2.14,2.14,2.15,2.15,2.16,2.17,2.17,2.17,2.17,2.18,2.18,2.18,2.18,2.19,2.2,2.2,2.2,2.2,2.21,2.21,2.22,2.22,2.22,2.22,2.22,2.23,2.23,2.24,2.25,2.25,2.25,2.25,2.27,2.27,2.27,2.27,2.27,2.28,2.29,2.29,2.29,2.29,2.29,2.3,2.3,2.3,2.3,2.31,2.31,2.31,2.31,2.31,2.32,2.32,2.32,2.33,2.33,2.33,2.33,2.33,2.33,2.33,2.33,2.34,2.35,2.35,2.35,2.36,2.36,2.36,2.36,2.36,2.36,2.37,2.37,2.38,2.38,2.38,2.38,2.38,2.38,2.38,2.38,2.39,2.39,2.39,2.39,2.39,2.39,2.4,2.4,2.4,2.4,2.41,2.41,2.42,2.42,2.42,2.42,2.42,2.42,2.42,2.43,2.43,2.43,2.43,2.43,2.43,2.43,2.44,2.44,2.44,2.44,2.44,2.45,2.45,2.45,2.45,2.45,2.45,2.45,2.46,2.46,2.46,2.47,2.47,2.47,2.47,2.47,2.47,2.48,2.48,2.48,2.48,2.49,2.49,2.5,2.5,2.5,2.5,2.5,2.5,2.5,2.5,2.5,2.5,2.5,2.5,2.5,2.51,2.51,2.52,2.52,2.52,2.52,2.52,2.53,2.53,2.53,2.53,2.54,2.54,2.54,2.54,2.54,2.55,2.55,2.55,2.55,2.55,2.55,2.55,2.56,2.56,2.56,2.56,2.56,2.56,2.56,2.56,2.56,2.56,2.56,2.56,2.57,2.57,2.57,2.57,2.57,2.57,2.57,2.57,2.57,2.57,2.58,2.58,2.58,2.58,2.58,2.58,2.58,2.59,2.59,2.59,2.59,2.59,2.59,2.6,2.6,2.6,2.6,2.6,2.6,2.6,2.6,2.61,2.61,2.61,2.61,2.61,2.62,2.62,2.62,2.62,2.62,2.62,2.62,2.62,2.62,2.62,2.62,2.62,2.62,2.62,2.63,2.63,2.64,2.64,2.64,2.64,2.64,2.64,2.64,2.64,2.64,2.64,2.65,2.65,2.65,2.65,2.65,2.66,2.66,2.66,2.66,2.66,2.66,2.66,2.67,2.67,2.67,2.67,2.67,2.67,2.67,2.67,2.67,2.67,2.67,2.67,2.67,2.67,2.67,2.67,2.67,2.67,2.67,2.68,2.68,2.69,2.69,2.69,2.69,2.69,2.69,2.69,2.69,2.69,2.69,2.69,2.69,2.69,2.69,2.7,2.7,2.7,2.7,2.7,2.7,2.7,2.7,2.7,2.7,2.7,2.7,2.7,2.71,2.71,2.71,2.71,2.71,2.71,2.71,2.71,2.71,2.71,2.71,2.71,2.71,2.71,2.71,2.71,2.71,2.72,2.72,2.72,2.72,2.72,2.72,2.72,2.73,2.73,2.73,2.73,2.73,2.73,2.73,2.73,2.73,2.73,2.73,2.73,2.73,2.74,2.74,2.74,2.74,2.74,2.74,2.74,2.74,2.74,2.74,2.74,2.75,2.75,2.75,2.75,2.75,2.75,2.75,2.75,2.75,2.75,2.75,2.75,2.75,2.75,2.75,2.75,2.75,2.76,2.76,2.76,2.76,2.76,2.76,2.76,2.77,2.77,2.77,2.77,2.77,2.77,2.77,2.77,2.78,2.78,2.78,2.78,2.78,2.78,2.78,2.78,2.79,2.79,2.79,2.79,2.79,2.79,2.79,2.8,2.8,2.8,2.8,2.8,2.8,2.8,2.8,2.8,2.81,2.81,2.81,2.81,2.81,2.81,2.81,2.81,2.82,2.82,2.82,2.82,2.82,2.82,2.82,2.82,2.82,2.82,2.82,2.82,2.83,2.83,2.83,2.83,2.83,2.83,2.83,2.83,2.83,2.83,2.83,2.83,2.83,2.83,2.84,2.84,2.84,2.84,2.84,2.84,2.84,2.84,2.85,2.85,2.85,2.85,2.85,2.86,2.86,2.86,2.86,2.86,2.86,2.86,2.86,2.86,2.86,2.86,2.87,2.87,2.87,2.87,2.87,2.87,2.87,2.87,2.88,2.88,2.88,2.88,2.88,2.88,2.88,2.88,2.88,2.88,2.88,2.88,2.88,2.89,2.89,2.89,2.89,2.89,2.89,2.89,2.89,2.89,2.89,2.89,2.89,2.89,2.89,2.89,2.9,2.9,2.9,2.9,2.9,2.9,2.9,2.9,2.9,2.9,2.91,2.91,2.91,2.91,2.91,2.91,2.91,2.91,2.91,2.91,2.91,2.92,2.92,2.92,2.92,2.92,2.92,2.92,2.92,2.92,2.92,2.92,2.92,2.92,2.92,2.92,2.93,2.93,2.93,2.93,2.93,2.93,2.93,2.93,2.93,2.93,2.94,2.94,2.94,2.94,2.94,2.94,2.94,2.94,2.94,2.94,2.94,2.94,2.94,2.94,2.94,2.94,2.94,2.95,2.95,2.95,2.95,2.95,2.95,2.95,2.95,2.95,2.95,2.96,2.96,2.96,2.96,2.96,2.96,2.96,2.96,2.96,2.96,2.96,2.96,2.96,2.96,2.96,2.97,2.97,2.97,2.97,2.97,2.97,2.97,2.97,2.97,2.97,2.97,2.97,2.98,2.98,2.98,2.98,2.98,2.98,2.98,2.99,2.99,2.99,3.0,3.0,3.0,3.0,3.0,3.0,3.0,3.0,3.0,3.0,3.0,3.0,3.0,3.0,3.0,3.0,3.0,3.0,3.0,3.0,3.0,3.0,3.0,3.0,3.0,3.0,3.0,3.0,3.0,3.0,3.0,3.0,3.0,3.0,3.0,3.0,3.0,3.0,3.0,3.0,3.0,3.0,3.0,3.0,3.0,3.0,3.0,3.0,3.0,3.0,3.0,3.0,3.0,3.0,3.0,3.0,3.0,3.0,3.0,3.0,3.0,3.01,3.01,3.01,3.01,3.01,3.02,3.02,3.02,3.02,3.02,3.02,3.02,3.02,3.02,3.02,3.02,3.02,3.02,3.03,3.03,3.03,3.03,3.03,3.03,3.03,3.03,3.03,3.03,3.04,3.04,3.04,3.04,3.04,3.04,3.04,3.05,3.05,3.05,3.05,3.05,3.05,3.05,3.05,3.05,3.05,3.05,3.05,3.05,3.05,3.05,3.05,3.06,3.06,3.06,3.06,3.06,3.06,3.06,3.06,3.06,3.06,3.06,3.06,3.06,3.06,3.07,3.07,3.07,3.07,3.07,3.07,3.07,3.07,3.07,3.07,3.07,3.07,3.07,3.07,3.07,3.07,3.07,3.07,3.08,3.08,3.08,3.08,3.08,3.08,3.08,3.08,3.09,3.09,3.09,3.09,3.09,3.09,3.09,3.09,3.09,3.09,3.09,3.09,3.09,3.09,3.09,3.1,3.1,3.1,3.1,3.1,3.1,3.1,3.1,3.1,3.1,3.1,3.1,3.1,3.1,3.1,3.1,3.1,3.11,3.11,3.11,3.11,3.11,3.11,3.11,3.11,3.11,3.11,3.11,3.11,3.11,3.11,3.12,3.12,3.12,3.12,3.12,3.12,3.12,3.12,3.12,3.12,3.12,3.12,3.12,3.12,3.12,3.12,3.12,3.12,3.12,3.12,3.12,3.12,3.12,3.12,3.12,3.12,3.12,3.13,3.13,3.13,3.13,3.13,3.13,3.13,3.13,3.13,3.13,3.13,3.13,3.13,3.13,3.13,3.14,3.14,3.14,3.14,3.14,3.14,3.14,3.14,3.14,3.14,3.14,3.14,3.14,3.14,3.14,3.14,3.14,3.14,3.14,3.14,3.14,3.14,3.14,3.14,3.14,3.14,3.14,3.14,3.14,3.14,3.14,3.14,3.15,3.15,3.15,3.15,3.15,3.15,3.15,3.15,3.15,3.15,3.15,3.15,3.15,3.15,3.15,3.16,3.16,3.16,3.16,3.16,3.16,3.16,3.16,3.16,3.16,3.17,3.17,3.17,3.17,3.17,3.17,3.17,3.17,3.17,3.17,3.17,3.17,3.18,3.18,3.18,3.18,3.18,3.18,3.18,3.18,3.18,3.18,3.18,3.18,3.18,3.18,3.18,3.18,3.18,3.18,3.18,3.18,3.18,3.19,3.19,3.19,3.19,3.19,3.19,3.19,3.19,3.19,3.19,3.19,3.19,3.2,3.2,3.2,3.2,3.2,3.2,3.2,3.2,3.2,3.2,3.2,3.2,3.2,3.2,3.2,3.2,3.2,3.2,3.2,3.2,3.2,3.2,3.2,3.2,3.2,3.2,3.2,3.21,3.21,3.21,3.21,3.21,3.21,3.21,3.21,3.21,3.21,3.21,3.21,3.21,3.21,3.21,3.21,3.21,3.21,3.22,3.22,3.22,3.22,3.22,3.22,3.22,3.22,3.22,3.22,3.22,3.22,3.22,3.22,3.22,3.22,3.22,3.22,3.22,3.22,3.22,3.22,3.22,3.22,3.22,3.22,3.23,3.23,3.23,3.23,3.23,3.23,3.23,3.23,3.23,3.23,3.23,3.23,3.23,3.23,3.23,3.23,3.23,3.23,3.23,3.23,3.23,3.24,3.24,3.24,3.24,3.24,3.24,3.25,3.25,3.25,3.25,3.25,3.25,3.25,3.25,3.25,3.25,3.25,3.25,3.25,3.25,3.25,3.25,3.25,3.25,3.25,3.25,3.25,3.25,3.25,3.25,3.25,3.26,3.26,3.26,3.26,3.26,3.26,3.26,3.26,3.26,3.26,3.26,3.26,3.26,3.26,3.26,3.26,3.26,3.27,3.27,3.27,3.27,3.27,3.27,3.27,3.27,3.27,3.27,3.27,3.27,3.27,3.27,3.27,3.28,3.28,3.28,3.28,3.28,3.28,3.28,3.28,3.28,3.28,3.29,3.29,3.29,3.29,3.29,3.29,3.29,3.29,3.29,3.29,3.29,3.29,3.29,3.29,3.29,3.29,3.29,3.29,3.29,3.29,3.29,3.29,3.29,3.29,3.29,3.29,3.29,3.29,3.29,3.29,3.3,3.3,3.3,3.3,3.3,3.3,3.3,3.3,3.3,3.3,3.3,3.3,3.3,3.31,3.31,3.31,3.31,3.31,3.31,3.31,3.31,3.31,3.31,3.31,3.31,3.31,3.31,3.32,3.32,3.32,3.32,3.32,3.32,3.32,3.32,3.32,3.32,3.32,3.32,3.32,3.32,3.32,3.32,3.32,3.33,3.33,3.33,3.33,3.33,3.33,3.33,3.33,3.33,3.33,3.33,3.33,3.33,3.33,3.33,3.33,3.33,3.33,3.33,3.33,3.33,3.33,3.33,3.33,3.33,3.33,3.33,3.33,3.33,3.33,3.33,3.33,3.33,3.33,3.33,3.33,3.34,3.34,3.34,3.34,3.34,3.34,3.34,3.34,3.34,3.34,3.34,3.34,3.34,3.35,3.35,3.35,3.35,3.35,3.35,3.35,3.35,3.35,3.35,3.35,3.35,3.35,3.36,3.36,3.36,3.36,3.36,3.36,3.36,3.36,3.36,3.36,3.36,3.36,3.36,3.36,3.36,3.36,3.36,3.36,3.36,3.36,3.36,3.36,3.36,3.36,3.36,3.36,3.37,3.37,3.37,3.37,3.37,3.37,3.37,3.37,3.37,3.37,3.37,3.37,3.37,3.37,3.38,3.38,3.38,3.38,3.38,3.38,3.38,3.38,3.38,3.38,3.38,3.38,3.38,3.38,3.38,3.38,3.38,3.38,3.38,3.38,3.38,3.38,3.38,3.38,3.38,3.38,3.38,3.38,3.38,3.38,3.38,3.38,3.39,3.39,3.39,3.39,3.39,3.39,3.39,3.39,3.39,3.39,3.39,3.39,3.39,3.39,3.39,3.4,3.4,3.4,3.4,3.4,3.4,3.4,3.4,3.4,3.4,3.4,3.4,3.4,3.4,3.4,3.4,3.4,3.4,3.4,3.4,3.4,3.4,3.4,3.4,3.41,3.41,3.41,3.41,3.41,3.41,3.41,3.41,3.41,3.41,3.41,3.41,3.41,3.41,3.41,3.41,3.41,3.41,3.41,3.42,3.42,3.42,3.42,3.42,3.42,3.42,3.42,3.42,3.42,3.42,3.42,3.42,3.42,3.42,3.42,3.42,3.42,3.42,3.42,3.42,3.42,3.42,3.42,3.43,3.43,3.43,3.43,3.43,3.43,3.43,3.43,3.43,3.43,3.43,3.43,3.43,3.43,3.43,3.43,3.43,3.43,3.43,3.43,3.43,3.43,3.43,3.43,3.43,3.44,3.44,3.44,3.44,3.44,3.44,3.44,3.44,3.44,3.44,3.44,3.44,3.44,3.44,3.44,3.44,3.44,3.44,3.44,3.44,3.44,3.44,3.44,3.45,3.45,3.45,3.45,3.45,3.45,3.45,3.45,3.45,3.45,3.45,3.45,3.45,3.45,3.45,3.45,3.45,3.45,3.45,3.45,3.45,3.45,3.45,3.46,3.46,3.46,3.46,3.46,3.46,3.46,3.46,3.46,3.46,3.46,3.46,3.46,3.46,3.46,3.46,3.46,3.46,3.46,3.46,3.46,3.47,3.47,3.47,3.47,3.47,3.47,3.47,3.47,3.47,3.47,3.47,3.47,3.47,3.47,3.47,3.47,3.47,3.47,3.47,3.47,3.48,3.48,3.48,3.48,3.48,3.48,3.48,3.48,3.48,3.48,3.48,3.48,3.49,3.49,3.49,3.49,3.49,3.49,3.49,3.49,3.49,3.49,3.49,3.49,3.49,3.49,3.49,3.5,3.5,3.5,3.5,3.5,3.5,3.5,3.5,3.5,3.5,3.5,3.5,3.5,3.5,3.5,3.5,3.5,3.5,3.5,3.5,3.5,3.5,3.5,3.5,3.5,3.5,3.5,3.5,3.5,3.5,3.5,3.5,3.5,3.5,3.5,3.5,3.5,3.51,3.51,3.51,3.51,3.51,3.51,3.51,3.51,3.51,3.51,3.51,3.51,3.51,3.51,3.51,3.52,3.52,3.52,3.52,3.52,3.52,3.52,3.52,3.52,3.52,3.52,3.52,3.52,3.52,3.52,3.52,3.52,3.52,3.52,3.52,3.52,3.52,3.52,3.53,3.53,3.53,3.53,3.53,3.53,3.53,3.53,3.53,3.53,3.53,3.53,3.53,3.53,3.53,3.53,3.53,3.53,3.53,3.53,3.53,3.53,3.53,3.54,3.54,3.54,3.54,3.54,3.54,3.54,3.54,3.54,3.54,3.54,3.54,3.54,3.54,3.54,3.54,3.54,3.54,3.54,3.54,3.54,3.54,3.54,3.54,3.55,3.55,3.55,3.55,3.55,3.55,3.55,3.55,3.55,3.55,3.55,3.55,3.55,3.55,3.55,3.55,3.55,3.55,3.55,3.56,3.56,3.56,3.56,3.56,3.56,3.56,3.56,3.56,3.56,3.56,3.56,3.56,3.56,3.56,3.56,3.56,3.56,3.56,3.56,3.56,3.56,3.56,3.56,3.56,3.56,3.56,3.56,3.56,3.56,3.56,3.56,3.57,3.57,3.57,3.57,3.57,3.57,3.57,3.57,3.57,3.57,3.57,3.57,3.57,3.57,3.57,3.57,3.57,3.57,3.57,3.57,3.57,3.57,3.57,3.57,3.57,3.57,3.57,3.57,3.57,3.57,3.57,3.57,3.57,3.58,3.58,3.58,3.58,3.58,3.58,3.58,3.58,3.58,3.58,3.58,3.58,3.58,3.58,3.58,3.59,3.59,3.59,3.59,3.59,3.59,3.59,3.59,3.59,3.59,3.59,3.59,3.59,3.59,3.59,3.59,3.59,3.59,3.59,3.59,3.59,3.59,3.59,3.6,3.6,3.6,3.6,3.6,3.6,3.6,3.6,3.6,3.6,3.6,3.6,3.6,3.6,3.6,3.6,3.6,3.6,3.6,3.6,3.61,3.61,3.61,3.61,3.61,3.61,3.61,3.61,3.61,3.61,3.61,3.61,3.61,3.61,3.61,3.61,3.61,3.61,3.61,3.61,3.61,3.62,3.62,3.62,3.62,3.62,3.62,3.62,3.62,3.62,3.62,3.62,3.62,3.62,3.62,3.62,3.62,3.62,3.62,3.62,3.62,3.62,3.62,3.62,3.62,3.62,3.62,3.62,3.62,3.62,3.62,3.63,3.63,3.63,3.63,3.63,3.63,3.63,3.63,3.63,3.63,3.63,3.63,3.63,3.63,3.63,3.64,3.64,3.64,3.64,3.64,3.64,3.64,3.64,3.64,3.64,3.64,3.64,3.64,3.64,3.64,3.64,3.64,3.64,3.64,3.64,3.65,3.65,3.65,3.65,3.65,3.65,3.65,3.65,3.65,3.65,3.65,3.65,3.65,3.65,3.65,3.65,3.65,3.65,3.65,3.65,3.65,3.66,3.66,3.66,3.66,3.66,3.66,3.66,3.66,3.66,3.66,3.66,3.66,3.66,3.66,3.66,3.66,3.67,3.67,3.67,3.67,3.67,3.67,3.67,3.67,3.67,3.67,3.67,3.67,3.67,3.67,3.67,3.67,3.67,3.67,3.67,3.67,3.67,3.67,3.67,3.67,3.67,3.67,3.67,3.67,3.67,3.67,3.67,3.67,3.67,3.67,3.67,3.67,3.67,3.67,3.67,3.67,3.67,3.67,3.67,3.67,3.67,3.67,3.67,3.67,3.67,3.67,3.67,3.67,3.68,3.68,3.68,3.68,3.68,3.68,3.68,3.68,3.68,3.68,3.68,3.68,3.68,3.68,3.68,3.68,3.68,3.68,3.68,3.68,3.68,3.68,3.68,3.69,3.69,3.69,3.69,3.69,3.69,3.69,3.69,3.69,3.69,3.69,3.69,3.69,3.69,3.69,3.69,3.69,3.69,3.69,3.69,3.69,3.7,3.7,3.7,3.7,3.7,3.7,3.7,3.7,3.7,3.7,3.7,3.7,3.7,3.7,3.7,3.7,3.7,3.7,3.7,3.7,3.7,3.7,3.7,3.71,3.71,3.71,3.71,3.71,3.71,3.71,3.71,3.71,3.71,3.71,3.71,3.71,3.71,3.71,3.71,3.71,3.71,3.71,3.71,3.71,3.71,3.71,3.71,3.71,3.71,3.71,3.71,3.71,3.71,3.71,3.71,3.72,3.72,3.72,3.72,3.72,3.72,3.72,3.72,3.72,3.72,3.72,3.72,3.73,3.73,3.73,3.73,3.73,3.73,3.73,3.73,3.73,3.73,3.73,3.73,3.73,3.73,3.73,3.73,3.73,3.73,3.73,3.73,3.73,3.73,3.73,3.74,3.74,3.74,3.74,3.74,3.74,3.74,3.74,3.74,3.74,3.74,3.74,3.74,3.74,3.74,3.74,3.74,3.74,3.74,3.74,3.74,3.74,3.74,3.74,3.74,3.74,3.74,3.74,3.74,3.75,3.75,3.75,3.75,3.75,3.75,3.75,3.75,3.75,3.75,3.75,3.75,3.75,3.75,3.75,3.75,3.75,3.75,3.75,3.75,3.75,3.75,3.75,3.75,3.75,3.75,3.75,3.75,3.75,3.75,3.75,3.75,3.75,3.75,3.75,3.76,3.76,3.76,3.76,3.76,3.76,3.76,3.76,3.76,3.76,3.76,3.76,3.76,3.76,3.76,3.76,3.76,3.76,3.76,3.76,3.76,3.76,3.77,3.77,3.77,3.77,3.77,3.77,3.77,3.77,3.77,3.77,3.77,3.77,3.77,3.77,3.77,3.77,3.77,3.77,3.77,3.77,3.77,3.77,3.77,3.77,3.77,3.77,3.77,3.78,3.78,3.78,3.78,3.78,3.78,3.78,3.78,3.78,3.78,3.78,3.78,3.78,3.78,3.79,3.79,3.79,3.79,3.79,3.79,3.79,3.79,3.79,3.79,3.79,3.79,3.79,3.79,3.79,3.79,3.79,3.79,3.79,3.79,3.79,3.79,3.79,3.79,3.8,3.8,3.8,3.8,3.8,3.8,3.8,3.8,3.8,3.8,3.8,3.8,3.8,3.8,3.8,3.8,3.8,3.8,3.8,3.8,3.8,3.8,3.8,3.8,3.8,3.8,3.81,3.81,3.81,3.81,3.81,3.81,3.81,3.81,3.81,3.81,3.81,3.81,3.81,3.81,3.81,3.81,3.81,3.81,3.81,3.81,3.81,3.81,3.81,3.81,3.81,3.81,3.81,3.81,3.82,3.82,3.82,3.82,3.82,3.82,3.82,3.82,3.82,3.82,3.82,3.82,3.82,3.82,3.82,3.83,3.83,3.83,3.83,3.83,3.83,3.83,3.83,3.83,3.83,3.83,3.83,3.83,3.83,3.83,3.83,3.83,3.83,3.83,3.83,3.83,3.83,3.83,3.84,3.84,3.84,3.84,3.84,3.84,3.84,3.84,3.84,3.84,3.84,3.84,3.84,3.84,3.85,3.85,3.85,3.85,3.85,3.85,3.85,3.85,3.85,3.85,3.85,3.85,3.85,3.85,3.85,3.85,3.85,3.85,3.85,3.85,3.85,3.85,3.85,3.86,3.86,3.86,3.86,3.86,3.86,3.86,3.86,3.86,3.86,3.86,3.86,3.86,3.86,3.86,3.86,3.86,3.86,3.86,3.86,3.86,3.86,3.86,3.86,3.87,3.87,3.87,3.87,3.87,3.87,3.87,3.87,3.87,3.87,3.87,3.87,3.87,3.87,3.88,3.88,3.88,3.88,3.88,3.88,3.88,3.88,3.88,3.88,3.88,3.88,3.88,3.88,3.88,3.88,3.88,3.88,3.88,3.88,3.88,3.88,3.88,3.88,3.88,3.88,3.88,3.88,3.89,3.89,3.89,3.89,3.89,3.89,3.89,3.89,3.89,3.89,3.89,3.89,3.89,3.89,3.89,3.89,3.89,3.89,3.89,3.89,3.89,3.89,3.89,3.89,3.89,3.89,3.89,3.89,3.89,3.89,3.89,3.9,3.9,3.9,3.9,3.9,3.9,3.9,3.9,3.9,3.9,3.9,3.9,3.9,3.9,3.9,3.9,3.9,3.9,3.9,3.9,3.9,3.9,3.9,3.9,3.9,3.9,3.9,3.9,3.91,3.91,3.91,3.91,3.91,3.91,3.91,3.91,3.91,3.91,3.91,3.91,3.91,3.91,3.91,3.91,3.91,3.91,3.91,3.91,3.91,3.91,3.91,3.91,3.91,3.91,3.91,3.91,3.91,3.91,3.92,3.92,3.92,3.92,3.92,3.92,3.92,3.92,3.92,3.92,3.92,3.92,3.92,3.92,3.92,3.92,3.92,3.92,3.92,3.92,3.92,3.92,3.92,3.92,3.92,3.92,3.92,3.92,3.92,3.92,3.93,3.93,3.93,3.93,3.93,3.93,3.93,3.93,3.93,3.93,3.93,3.93,3.93,3.93,3.93,3.93,3.93,3.93,3.93,3.93,3.94,3.94,3.94,3.94,3.94,3.94,3.94,3.94,3.94,3.94,3.94,3.94,3.94,3.95,3.95,3.95,3.95,3.95,3.95,3.95,3.95,3.95,3.95,3.95,3.95,3.95,3.95,3.95,3.95,3.95,3.95,3.95,3.95,3.95,3.95,3.95,3.95,3.95,3.96,3.96,3.96,3.96,3.96,3.96,3.96,3.96,3.96,3.96,3.96,3.96,3.96,3.96,3.96,3.97,3.97,3.97,3.97,3.97,3.97,3.97,3.97,3.97,3.97,3.97,3.97,3.97,3.97,3.97,3.97,3.97,3.97,3.97,3.97,3.97,3.97,3.97,3.97,3.97,3.97,3.98,3.98,3.98,3.98,3.98,3.98,3.98,3.98,3.98,3.98,3.98,3.98,3.98,3.98,3.98,3.98,3.98,3.98,3.98,3.98,3.98,3.98,3.99,3.99,3.99,3.99,3.99,3.99,3.99,3.99,3.99,3.99,3.99,4.0,4.0,4.0,4.0,4.0,4.0,4.0,4.0,4.0,4.0,4.0,4.0,4.0,4.0,4.0,4.0,4.0,4.0,4.0,4.0,4.0,4.0,4.0,4.0,4.0,4.0,4.0,4.0,4.0,4.0,4.0,4.0,4.0,4.0,4.0,4.0,4.0,4.0,4.0,4.0,4.0,4.0,4.0,4.0,4.0,4.0,4.0,4.0,4.0,4.0,4.0,4.0,4.0,4.0,4.0,4.0,4.0,4.0,4.0,4.0,4.0,4.0,4.0,4.0,4.0,4.0,4.0,4.0,4.0,4.0,4.0,4.0,4.01,4.01,4.01,4.01,4.01,4.01,4.01,4.01,4.01,4.01,4.01,4.01,4.01,4.01,4.01,4.01,4.01,4.02,4.02,4.02,4.02,4.02,4.02,4.02,4.02,4.02,4.02,4.02,4.02,4.02,4.02,4.02,4.03,4.03,4.03,4.03,4.03,4.03,4.03,4.03,4.03,4.03,4.03,4.03,4.03,4.03,4.03,4.03,4.03,4.03,4.03,4.04,4.04,4.04,4.04,4.04,4.04,4.04,4.04,4.04,4.04,4.04,4.04,4.04,4.04,4.04,4.04,4.04,4.04,4.04,4.04,4.04,4.05,4.05,4.05,4.05,4.05,4.05,4.05,4.05,4.05,4.05,4.05,4.05,4.05,4.05,4.05,4.05,4.05,4.05,4.05,4.05,4.05,4.05,4.06,4.06,4.06,4.06,4.06,4.06,4.06,4.06,4.06,4.06,4.06,4.06,4.06,4.06,4.06,4.06,4.06,4.06,4.06,4.06,4.06,4.06,4.06,4.06,4.06,4.06,4.07,4.07,4.07,4.07,4.07,4.07,4.07,4.07,4.07,4.07,4.07,4.07,4.07,4.07,4.07,4.07,4.07,4.07,4.07,4.07,4.08,4.08,4.08,4.08,4.08,4.08,4.08,4.08,4.08,4.08,4.08,4.08,4.08,4.08,4.08,4.08,4.08,4.08,4.08,4.08,4.08,4.08,4.08,4.09,4.09,4.09,4.09,4.09,4.09,4.09,4.09,4.09,4.09,4.09,4.09,4.09,4.09,4.09,4.09,4.09,4.1,4.1,4.1,4.1,4.1,4.1,4.1,4.1,4.1,4.1,4.1,4.1,4.1,4.1,4.1,4.1,4.1,4.1,4.1,4.1,4.1,4.11,4.11,4.11,4.11,4.11,4.11,4.11,4.11,4.11,4.11,4.11,4.11,4.11,4.11,4.11,4.11,4.11,4.11,4.11,4.11,4.11,4.11,4.11,4.11,4.11,4.11,4.11,4.11,4.11,4.11,4.11,4.12,4.12,4.12,4.12,4.12,4.12,4.12,4.12,4.12,4.12,4.12,4.12,4.12,4.12,4.12,4.12,4.12,4.12,4.12,4.12,4.12,4.12,4.12,4.12,4.12,4.12,4.13,4.13,4.13,4.13,4.13,4.13,4.13,4.13,4.13,4.13,4.13,4.13,4.13,4.13,4.14,4.14,4.14,4.14,4.14,4.14,4.14,4.14,4.14,4.14,4.14,4.14,4.14,4.14,4.14,4.14,4.14,4.14,4.14,4.14,4.14,4.14,4.14,4.14,4.15,4.15,4.15,4.15,4.15,4.15,4.15,4.15,4.15,4.15,4.15,4.15,4.15,4.15,4.15,4.15,4.15,4.15,4.15,4.16,4.16,4.16,4.16,4.16,4.16,4.16,4.16,4.16,4.16,4.16,4.16,4.16,4.16,4.16,4.16,4.16,4.16,4.16,4.16,4.16,4.17,4.17,4.17,4.17,4.17,4.17,4.17,4.17,4.17,4.17,4.17,4.17,4.17,4.17,4.17,4.17,4.17,4.18,4.18,4.18,4.18,4.18,4.18,4.18,4.18,4.18,4.18,4.18,4.18,4.18,4.18,4.18,4.18,4.18,4.18,4.18,4.18,4.19,4.19,4.19,4.19,4.19,4.19,4.19,4.19,4.19,4.19,4.19,4.19,4.19,4.19,4.19,4.19,4.19,4.19,4.19,4.19,4.19,4.19,4.2,4.2,4.2,4.2,4.2,4.2,4.2,4.2,4.2,4.2,4.2,4.2,4.2,4.2,4.2,4.21,4.21,4.21,4.21,4.21,4.21,4.21,4.21,4.21,4.21,4.21,4.21,4.21,4.21,4.21,4.21,4.21,4.21,4.21,4.21,4.21,4.22,4.22,4.22,4.22,4.22,4.22,4.22,4.22,4.22,4.22,4.22,4.22,4.22,4.22,4.22,4.22,4.22,4.22,4.22,4.22,4.22,4.22,4.22,4.22,4.22,4.22,4.22,4.23,4.23,4.23,4.23,4.23,4.23,4.23,4.23,4.23,4.23,4.23,4.23,4.23,4.23,4.23,4.23,4.23,4.23,4.24,4.24,4.24,4.24,4.24,4.24,4.24,4.24,4.24,4.24,4.24,4.25,4.25,4.25,4.25,4.25,4.25,4.25,4.25,4.25,4.25,4.25,4.25,4.25,4.25,4.25,4.25,4.25,4.26,4.26,4.26,4.26,4.26,4.26,4.26,4.26,4.26,4.26,4.26,4.26,4.26,4.26,4.26,4.26,4.26,4.27,4.27,4.27,4.27,4.27,4.27,4.27,4.27,4.27,4.27,4.27,4.27,4.27,4.27,4.28,4.28,4.28,4.28,4.28,4.28,4.28,4.28,4.28,4.28,4.28,4.28,4.28,4.28,4.28,4.28,4.29,4.29,4.29,4.29,4.29,4.29,4.29,4.29,4.29,4.29,4.29,4.29,4.29,4.29,4.29,4.29,4.29,4.29,4.29,4.29,4.29,4.29,4.29,4.29,4.3,4.3,4.3,4.3,4.3,4.3,4.3,4.3,4.3,4.3,4.3,4.3,4.3,4.3,4.3,4.3,4.3,4.3,4.3,4.3,4.3,4.31,4.31,4.31,4.31,4.31,4.31,4.31,4.31,4.31,4.31,4.31,4.31,4.31,4.31,4.31,4.31,4.31,4.31,4.31,4.31,4.31,4.32,4.32,4.32,4.32,4.32,4.32,4.32,4.32,4.32,4.32,4.32,4.32,4.32,4.32,4.32,4.32,4.32,4.32,4.33,4.33,4.33,4.33,4.33,4.33,4.33,4.33,4.33,4.33,4.33,4.33,4.33,4.33,4.33,4.33,4.33,4.33,4.33,4.33,4.33,4.33,4.33,4.33,4.33,4.33,4.33,4.33,4.33,4.33,4.33,4.33,4.33,4.33,4.33,4.33,4.33,4.33,4.33,4.33,4.33,4.34,4.34,4.34,4.34,4.34,4.34,4.34,4.34,4.34,4.34,4.34,4.34,4.34,4.34,4.34,4.34,4.34,4.34,4.34,4.34,4.34,4.34,4.34,4.34,4.34,4.34,4.34,4.34,4.35,4.35,4.35,4.35,4.35,4.35,4.35,4.35,4.35,4.35,4.35,4.35,4.35,4.35,4.35,4.35,4.35,4.35,4.35,4.35,4.35,4.35,4.35,4.35,4.36,4.36,4.36,4.36,4.36,4.36,4.36,4.36,4.36,4.36,4.36,4.36,4.36,4.36,4.36,4.36,4.36,4.37,4.37,4.37,4.37,4.37,4.37,4.37,4.37,4.37,4.37,4.37,4.37,4.37,4.37,4.37,4.37,4.37,4.37,4.37,4.37,4.37,4.37,4.37,4.37,4.37,4.37,4.37,4.37,4.37,4.37,4.37,4.37,4.37,4.37,4.37,4.38,4.38,4.38,4.38,4.38,4.38,4.38,4.38,4.38,4.38,4.38,4.38,4.38,4.38,4.38,4.38,4.38,4.38,4.38,4.38,4.38,4.38,4.38,4.38,4.38,4.38,4.38,4.38,4.38,4.38,4.38,4.38,4.39,4.39,4.39,4.39,4.39,4.39,4.39,4.39,4.39,4.39,4.39,4.39,4.39,4.39,4.39,4.39,4.39,4.39,4.39,4.39,4.39,4.39,4.39,4.39,4.39,4.39,4.39,4.39,4.39,4.4,4.4,4.4,4.4,4.4,4.4,4.4,4.4,4.4,4.4,4.4,4.4,4.4,4.4,4.4,4.4,4.4,4.4,4.4,4.4,4.4,4.4,4.41,4.41,4.41,4.41,4.41,4.41,4.41,4.41,4.41,4.41,4.41,4.41,4.41,4.41,4.41,4.42,4.42,4.42,4.42,4.42,4.42,4.42,4.42,4.42,4.42,4.43,4.43,4.43,4.43,4.43,4.43,4.44,4.44,4.44,4.44,4.44,4.44,4.44,4.44,4.44,4.44,4.45,4.45,4.45,4.46,4.46,4.46,4.46,4.46,4.47,4.47,4.47,4.47,4.47,4.47,4.47,4.48,4.48,4.48,4.48,4.48,4.48,4.49,4.49,4.5,4.5,4.5,4.5,4.5,4.5,4.5,4.5,4.5,4.5,4.5,4.51,4.52,4.52,4.53,4.54,4.55,4.55,4.55,4.56,4.56,4.56,4.57,4.57,4.58,4.58,4.58,4.6,4.6,4.6,4.6,4.61,4.64,4.64,4.64,4.67,4.67,4.67,4.67,4.67,4.67,4.7,4.7,4.73,4.73,4.74,4.75,4.77,4.81],\"xaxis\":\"x\",\"y\":[47.816876698527885,50.87882522858113,50.87882522858113,51.30116295686434,51.82908511721834,52.35700727757235,52.46259170964315,53.09609830206796,53.62402046242197,53.83518932656357,53.83518932656357,54.15194262277598,54.15194262277598,54.36311148691758,54.679864783129986,54.891033647271584,54.891033647271584,54.891033647271584,55.10220251141319,55.52454023969639,55.52454023969639,55.52454023969639,55.735709103838,55.9468779679796,56.1580468321212,56.1580468321212,56.1580468321212,56.26363126419201,56.36921569626281,56.58038456040441,56.58038456040441,56.58038456040441,56.79155342454602,56.79155342454602,56.79155342454602,56.897137856616816,56.897137856616816,56.897137856616816,56.897137856616816,56.897137856616816,56.897137856616816,57.10830672075842,57.42506001697082,57.42506001697082,57.530644449041624,57.63622888111243,57.63622888111243,57.84739774525403,57.95298217732483,58.05856660939563,58.05856660939563,58.37531990560804,58.37531990560804,58.37531990560804,58.37531990560804,58.37531990560804,58.37531990560804,58.37531990560804,58.37531990560804,58.37531990560804,58.79765763389125,59.008826498032846,59.008826498032846,59.114410930103645,59.114410930103645,59.114410930103645,59.21999536217445,59.32557979424525,59.32557979424525,59.32557979424525,59.431164226316056,59.536748658386855,59.536748658386855,59.536748658386855,59.536748658386855,59.536748658386855,59.642333090457655,59.642333090457655,59.642333090457655,59.642333090457655,59.85350195459926,59.85350195459926,59.85350195459926,59.85350195459926,59.85350195459926,59.85350195459926,59.95908638667006,59.95908638667006,60.064670818740865,60.170255250811664,60.170255250811664,60.170255250811664,60.170255250811664,60.27583968288246,60.27583968288246,60.27583968288246,60.27583968288246,60.38142411495326,60.487008547024075,60.487008547024075,60.487008547024075,60.487008547024075,60.592592979094874,60.592592979094874,60.69817741116567,60.69817741116567,60.69817741116567,60.69817741116567,60.69817741116567,60.80376184323647,60.80376184323647,60.90934627530727,61.01493070737808,61.01493070737808,61.01493070737808,61.01493070737808,61.22609957151968,61.22609957151968,61.22609957151968,61.22609957151968,61.22609957151968,61.33168400359048,61.43726843566128,61.43726843566128,61.43726843566128,61.43726843566128,61.43726843566128,61.54285286773208,61.54285286773208,61.54285286773208,61.54285286773208,61.648437299802886,61.648437299802886,61.648437299802886,61.648437299802886,61.648437299802886,61.754021731873685,61.754021731873685,61.754021731873685,61.85960616394449,61.85960616394449,61.85960616394449,61.85960616394449,61.85960616394449,61.85960616394449,61.85960616394449,61.85960616394449,61.96519059601529,62.07077502808609,62.07077502808609,62.07077502808609,62.17635946015689,62.17635946015689,62.17635946015689,62.17635946015689,62.17635946015689,62.17635946015689,62.281943892227694,62.281943892227694,62.38752832429849,62.38752832429849,62.38752832429849,62.38752832429849,62.38752832429849,62.38752832429849,62.38752832429849,62.38752832429849,62.4931127563693,62.4931127563693,62.4931127563693,62.4931127563693,62.4931127563693,62.4931127563693,62.5986971884401,62.5986971884401,62.5986971884401,62.5986971884401,62.7042816205109,62.7042816205109,62.8098660525817,62.8098660525817,62.8098660525817,62.8098660525817,62.8098660525817,62.8098660525817,62.8098660525817,62.91545048465251,62.91545048465251,62.91545048465251,62.91545048465251,62.91545048465251,62.91545048465251,62.91545048465251,63.02103491672331,63.02103491672331,63.02103491672331,63.02103491672331,63.02103491672331,63.12661934879411,63.12661934879411,63.12661934879411,63.12661934879411,63.12661934879411,63.12661934879411,63.12661934879411,63.23220378086491,63.23220378086491,63.23220378086491,63.337788212935706,63.337788212935706,63.337788212935706,63.337788212935706,63.337788212935706,63.337788212935706,63.44337264500651,63.44337264500651,63.44337264500651,63.44337264500651,63.54895707707732,63.54895707707732,63.65454150914812,63.65454150914812,63.65454150914812,63.65454150914812,63.65454150914812,63.65454150914812,63.65454150914812,63.65454150914812,63.65454150914812,63.65454150914812,63.65454150914812,63.65454150914812,63.65454150914812,63.76012594121892,63.76012594121892,63.865710373289716,63.865710373289716,63.865710373289716,63.865710373289716,63.865710373289716,63.971294805360515,63.971294805360515,63.971294805360515,63.971294805360515,64.07687923743131,64.07687923743131,64.07687923743131,64.07687923743131,64.07687923743131,64.18246366950211,64.18246366950211,64.18246366950211,64.18246366950211,64.18246366950211,64.18246366950211,64.18246366950211,64.28804810157293,64.28804810157293,64.28804810157293,64.28804810157293,64.28804810157293,64.28804810157293,64.28804810157293,64.28804810157293,64.28804810157293,64.28804810157293,64.28804810157293,64.28804810157293,64.39363253364372,64.39363253364372,64.39363253364372,64.39363253364372,64.39363253364372,64.39363253364372,64.39363253364372,64.39363253364372,64.39363253364372,64.39363253364372,64.49921696571452,64.49921696571452,64.49921696571452,64.49921696571452,64.49921696571452,64.49921696571452,64.49921696571452,64.60480139778532,64.60480139778532,64.60480139778532,64.60480139778532,64.60480139778532,64.60480139778532,64.71038582985614,64.71038582985614,64.71038582985614,64.71038582985614,64.71038582985614,64.71038582985614,64.71038582985614,64.71038582985614,64.81597026192694,64.81597026192694,64.81597026192694,64.81597026192694,64.81597026192694,64.92155469399773,64.92155469399773,64.92155469399773,64.92155469399773,64.92155469399773,64.92155469399773,64.92155469399773,64.92155469399773,64.92155469399773,64.92155469399773,64.92155469399773,64.92155469399773,64.92155469399773,64.92155469399773,65.02713912606853,65.02713912606853,65.13272355813933,65.13272355813933,65.13272355813933,65.13272355813933,65.13272355813933,65.13272355813933,65.13272355813933,65.13272355813933,65.13272355813933,65.13272355813933,65.23830799021013,65.23830799021013,65.23830799021013,65.23830799021013,65.23830799021013,65.34389242228094,65.34389242228094,65.34389242228094,65.34389242228094,65.34389242228094,65.34389242228094,65.34389242228094,65.44947685435174,65.44947685435174,65.44947685435174,65.44947685435174,65.44947685435174,65.44947685435174,65.44947685435174,65.44947685435174,65.44947685435174,65.44947685435174,65.44947685435174,65.44947685435174,65.44947685435174,65.44947685435174,65.44947685435174,65.44947685435174,65.44947685435174,65.44947685435174,65.44947685435174,65.55506128642254,65.55506128642254,65.66064571849334,65.66064571849334,65.66064571849334,65.66064571849334,65.66064571849334,65.66064571849334,65.66064571849334,65.66064571849334,65.66064571849334,65.66064571849334,65.66064571849334,65.66064571849334,65.66064571849334,65.66064571849334,65.76623015056416,65.76623015056416,65.76623015056416,65.76623015056416,65.76623015056416,65.76623015056416,65.76623015056416,65.76623015056416,65.76623015056416,65.76623015056416,65.76623015056416,65.76623015056416,65.76623015056416,65.87181458263495,65.87181458263495,65.87181458263495,65.87181458263495,65.87181458263495,65.87181458263495,65.87181458263495,65.87181458263495,65.87181458263495,65.87181458263495,65.87181458263495,65.87181458263495,65.87181458263495,65.87181458263495,65.87181458263495,65.87181458263495,65.87181458263495,65.97739901470575,65.97739901470575,65.97739901470575,65.97739901470575,65.97739901470575,65.97739901470575,65.97739901470575,66.08298344677655,66.08298344677655,66.08298344677655,66.08298344677655,66.08298344677655,66.08298344677655,66.08298344677655,66.08298344677655,66.08298344677655,66.08298344677655,66.08298344677655,66.08298344677655,66.08298344677655,66.18856787884735,66.18856787884735,66.18856787884735,66.18856787884735,66.18856787884735,66.18856787884735,66.18856787884735,66.18856787884735,66.18856787884735,66.18856787884735,66.18856787884735,66.29415231091815,66.29415231091815,66.29415231091815,66.29415231091815,66.29415231091815,66.29415231091815,66.29415231091815,66.29415231091815,66.29415231091815,66.29415231091815,66.29415231091815,66.29415231091815,66.29415231091815,66.29415231091815,66.29415231091815,66.29415231091815,66.29415231091815,66.39973674298895,66.39973674298895,66.39973674298895,66.39973674298895,66.39973674298895,66.39973674298895,66.39973674298895,66.50532117505975,66.50532117505975,66.50532117505975,66.50532117505975,66.50532117505975,66.50532117505975,66.50532117505975,66.50532117505975,66.61090560713055,66.61090560713055,66.61090560713055,66.61090560713055,66.61090560713055,66.61090560713055,66.61090560713055,66.61090560713055,66.71649003920136,66.71649003920136,66.71649003920136,66.71649003920136,66.71649003920136,66.71649003920136,66.71649003920136,66.82207447127216,66.82207447127216,66.82207447127216,66.82207447127216,66.82207447127216,66.82207447127216,66.82207447127216,66.82207447127216,66.82207447127216,66.92765890334296,66.92765890334296,66.92765890334296,66.92765890334296,66.92765890334296,66.92765890334296,66.92765890334296,66.92765890334296,67.03324333541376,67.03324333541376,67.03324333541376,67.03324333541376,67.03324333541376,67.03324333541376,67.03324333541376,67.03324333541376,67.03324333541376,67.03324333541376,67.03324333541376,67.03324333541376,67.13882776748457,67.13882776748457,67.13882776748457,67.13882776748457,67.13882776748457,67.13882776748457,67.13882776748457,67.13882776748457,67.13882776748457,67.13882776748457,67.13882776748457,67.13882776748457,67.13882776748457,67.13882776748457,67.24441219955537,67.24441219955537,67.24441219955537,67.24441219955537,67.24441219955537,67.24441219955537,67.24441219955537,67.24441219955537,67.34999663162617,67.34999663162617,67.34999663162617,67.34999663162617,67.34999663162617,67.45558106369697,67.45558106369697,67.45558106369697,67.45558106369697,67.45558106369697,67.45558106369697,67.45558106369697,67.45558106369697,67.45558106369697,67.45558106369697,67.45558106369697,67.56116549576777,67.56116549576777,67.56116549576777,67.56116549576777,67.56116549576777,67.56116549576777,67.56116549576777,67.56116549576777,67.66674992783857,67.66674992783857,67.66674992783857,67.66674992783857,67.66674992783857,67.66674992783857,67.66674992783857,67.66674992783857,67.66674992783857,67.66674992783857,67.66674992783857,67.66674992783857,67.66674992783857,67.77233435990938,67.77233435990938,67.77233435990938,67.77233435990938,67.77233435990938,67.77233435990938,67.77233435990938,67.77233435990938,67.77233435990938,67.77233435990938,67.77233435990938,67.77233435990938,67.77233435990938,67.77233435990938,67.77233435990938,67.87791879198018,67.87791879198018,67.87791879198018,67.87791879198018,67.87791879198018,67.87791879198018,67.87791879198018,67.87791879198018,67.87791879198018,67.87791879198018,67.98350322405098,67.98350322405098,67.98350322405098,67.98350322405098,67.98350322405098,67.98350322405098,67.98350322405098,67.98350322405098,67.98350322405098,67.98350322405098,67.98350322405098,68.08908765612178,68.08908765612178,68.08908765612178,68.08908765612178,68.08908765612178,68.08908765612178,68.08908765612178,68.08908765612178,68.08908765612178,68.08908765612178,68.08908765612178,68.08908765612178,68.08908765612178,68.08908765612178,68.08908765612178,68.19467208819259,68.19467208819259,68.19467208819259,68.19467208819259,68.19467208819259,68.19467208819259,68.19467208819259,68.19467208819259,68.19467208819259,68.19467208819259,68.30025652026339,68.30025652026339,68.30025652026339,68.30025652026339,68.30025652026339,68.30025652026339,68.30025652026339,68.30025652026339,68.30025652026339,68.30025652026339,68.30025652026339,68.30025652026339,68.30025652026339,68.30025652026339,68.30025652026339,68.30025652026339,68.30025652026339,68.40584095233419,68.40584095233419,68.40584095233419,68.40584095233419,68.40584095233419,68.40584095233419,68.40584095233419,68.40584095233419,68.40584095233419,68.40584095233419,68.51142538440499,68.51142538440499,68.51142538440499,68.51142538440499,68.51142538440499,68.51142538440499,68.51142538440499,68.51142538440499,68.51142538440499,68.51142538440499,68.51142538440499,68.51142538440499,68.51142538440499,68.51142538440499,68.51142538440499,68.61700981647579,68.61700981647579,68.61700981647579,68.61700981647579,68.61700981647579,68.61700981647579,68.61700981647579,68.61700981647579,68.61700981647579,68.61700981647579,68.61700981647579,68.61700981647579,68.72259424854659,68.72259424854659,68.72259424854659,68.72259424854659,68.72259424854659,68.72259424854659,68.72259424854659,68.82817868061738,68.82817868061738,68.82817868061738,68.93376311268818,68.93376311268818,68.93376311268818,68.93376311268818,68.93376311268818,68.93376311268818,68.93376311268818,68.93376311268818,68.93376311268818,68.93376311268818,68.93376311268818,68.93376311268818,68.93376311268818,68.93376311268818,68.93376311268818,68.93376311268818,68.93376311268818,68.93376311268818,68.93376311268818,68.93376311268818,68.93376311268818,68.93376311268818,68.93376311268818,68.93376311268818,68.93376311268818,68.93376311268818,68.93376311268818,68.93376311268818,68.93376311268818,68.93376311268818,68.93376311268818,68.93376311268818,68.93376311268818,68.93376311268818,68.93376311268818,68.93376311268818,68.93376311268818,68.93376311268818,68.93376311268818,68.93376311268818,68.93376311268818,68.93376311268818,68.93376311268818,68.93376311268818,68.93376311268818,68.93376311268818,68.93376311268818,68.93376311268818,68.93376311268818,68.93376311268818,68.93376311268818,68.93376311268818,68.93376311268818,68.93376311268818,68.93376311268818,68.93376311268818,68.93376311268818,68.93376311268818,68.93376311268818,68.93376311268818,68.93376311268818,69.03934754475898,69.03934754475898,69.03934754475898,69.03934754475898,69.03934754475898,69.1449319768298,69.1449319768298,69.1449319768298,69.1449319768298,69.1449319768298,69.1449319768298,69.1449319768298,69.1449319768298,69.1449319768298,69.1449319768298,69.1449319768298,69.1449319768298,69.1449319768298,69.2505164089006,69.2505164089006,69.2505164089006,69.2505164089006,69.2505164089006,69.2505164089006,69.2505164089006,69.2505164089006,69.2505164089006,69.2505164089006,69.3561008409714,69.3561008409714,69.3561008409714,69.3561008409714,69.3561008409714,69.3561008409714,69.3561008409714,69.46168527304219,69.46168527304219,69.46168527304219,69.46168527304219,69.46168527304219,69.46168527304219,69.46168527304219,69.46168527304219,69.46168527304219,69.46168527304219,69.46168527304219,69.46168527304219,69.46168527304219,69.46168527304219,69.46168527304219,69.46168527304219,69.567269705113,69.567269705113,69.567269705113,69.567269705113,69.567269705113,69.567269705113,69.567269705113,69.567269705113,69.567269705113,69.567269705113,69.567269705113,69.567269705113,69.567269705113,69.567269705113,69.6728541371838,69.6728541371838,69.6728541371838,69.6728541371838,69.6728541371838,69.6728541371838,69.6728541371838,69.6728541371838,69.6728541371838,69.6728541371838,69.6728541371838,69.6728541371838,69.6728541371838,69.6728541371838,69.6728541371838,69.6728541371838,69.6728541371838,69.6728541371838,69.7784385692546,69.7784385692546,69.7784385692546,69.7784385692546,69.7784385692546,69.7784385692546,69.7784385692546,69.7784385692546,69.8840230013254,69.8840230013254,69.8840230013254,69.8840230013254,69.8840230013254,69.8840230013254,69.8840230013254,69.8840230013254,69.8840230013254,69.8840230013254,69.8840230013254,69.8840230013254,69.8840230013254,69.8840230013254,69.8840230013254,69.9896074333962,69.9896074333962,69.9896074333962,69.9896074333962,69.9896074333962,69.9896074333962,69.9896074333962,69.9896074333962,69.9896074333962,69.9896074333962,69.9896074333962,69.9896074333962,69.9896074333962,69.9896074333962,69.9896074333962,69.9896074333962,69.9896074333962,70.095191865467,70.095191865467,70.095191865467,70.095191865467,70.095191865467,70.095191865467,70.095191865467,70.095191865467,70.095191865467,70.095191865467,70.095191865467,70.095191865467,70.095191865467,70.095191865467,70.2007762975378,70.2007762975378,70.2007762975378,70.2007762975378,70.2007762975378,70.2007762975378,70.2007762975378,70.2007762975378,70.2007762975378,70.2007762975378,70.2007762975378,70.2007762975378,70.2007762975378,70.2007762975378,70.2007762975378,70.2007762975378,70.2007762975378,70.2007762975378,70.2007762975378,70.2007762975378,70.2007762975378,70.2007762975378,70.2007762975378,70.2007762975378,70.2007762975378,70.2007762975378,70.2007762975378,70.3063607296086,70.3063607296086,70.3063607296086,70.3063607296086,70.3063607296086,70.3063607296086,70.3063607296086,70.3063607296086,70.3063607296086,70.3063607296086,70.3063607296086,70.3063607296086,70.3063607296086,70.3063607296086,70.3063607296086,70.41194516167941,70.41194516167941,70.41194516167941,70.41194516167941,70.41194516167941,70.41194516167941,70.41194516167941,70.41194516167941,70.41194516167941,70.41194516167941,70.41194516167941,70.41194516167941,70.41194516167941,70.41194516167941,70.41194516167941,70.41194516167941,70.41194516167941,70.41194516167941,70.41194516167941,70.41194516167941,70.41194516167941,70.41194516167941,70.41194516167941,70.41194516167941,70.41194516167941,70.41194516167941,70.41194516167941,70.41194516167941,70.41194516167941,70.41194516167941,70.41194516167941,70.41194516167941,70.51752959375021,70.51752959375021,70.51752959375021,70.51752959375021,70.51752959375021,70.51752959375021,70.51752959375021,70.51752959375021,70.51752959375021,70.51752959375021,70.51752959375021,70.51752959375021,70.51752959375021,70.51752959375021,70.51752959375021,70.62311402582102,70.62311402582102,70.62311402582102,70.62311402582102,70.62311402582102,70.62311402582102,70.62311402582102,70.62311402582102,70.62311402582102,70.62311402582102,70.72869845789182,70.72869845789182,70.72869845789182,70.72869845789182,70.72869845789182,70.72869845789182,70.72869845789182,70.72869845789182,70.72869845789182,70.72869845789182,70.72869845789182,70.72869845789182,70.83428288996262,70.83428288996262,70.83428288996262,70.83428288996262,70.83428288996262,70.83428288996262,70.83428288996262,70.83428288996262,70.83428288996262,70.83428288996262,70.83428288996262,70.83428288996262,70.83428288996262,70.83428288996262,70.83428288996262,70.83428288996262,70.83428288996262,70.83428288996262,70.83428288996262,70.83428288996262,70.83428288996262,70.93986732203342,70.93986732203342,70.93986732203342,70.93986732203342,70.93986732203342,70.93986732203342,70.93986732203342,70.93986732203342,70.93986732203342,70.93986732203342,70.93986732203342,70.93986732203342,71.04545175410422,71.04545175410422,71.04545175410422,71.04545175410422,71.04545175410422,71.04545175410422,71.04545175410422,71.04545175410422,71.04545175410422,71.04545175410422,71.04545175410422,71.04545175410422,71.04545175410422,71.04545175410422,71.04545175410422,71.04545175410422,71.04545175410422,71.04545175410422,71.04545175410422,71.04545175410422,71.04545175410422,71.04545175410422,71.04545175410422,71.04545175410422,71.04545175410422,71.04545175410422,71.04545175410422,71.15103618617502,71.15103618617502,71.15103618617502,71.15103618617502,71.15103618617502,71.15103618617502,71.15103618617502,71.15103618617502,71.15103618617502,71.15103618617502,71.15103618617502,71.15103618617502,71.15103618617502,71.15103618617502,71.15103618617502,71.15103618617502,71.15103618617502,71.15103618617502,71.25662061824582,71.25662061824582,71.25662061824582,71.25662061824582,71.25662061824582,71.25662061824582,71.25662061824582,71.25662061824582,71.25662061824582,71.25662061824582,71.25662061824582,71.25662061824582,71.25662061824582,71.25662061824582,71.25662061824582,71.25662061824582,71.25662061824582,71.25662061824582,71.25662061824582,71.25662061824582,71.25662061824582,71.25662061824582,71.25662061824582,71.25662061824582,71.25662061824582,71.25662061824582,71.36220505031662,71.36220505031662,71.36220505031662,71.36220505031662,71.36220505031662,71.36220505031662,71.36220505031662,71.36220505031662,71.36220505031662,71.36220505031662,71.36220505031662,71.36220505031662,71.36220505031662,71.36220505031662,71.36220505031662,71.36220505031662,71.36220505031662,71.36220505031662,71.36220505031662,71.36220505031662,71.36220505031662,71.46778948238743,71.46778948238743,71.46778948238743,71.46778948238743,71.46778948238743,71.46778948238743,71.57337391445823,71.57337391445823,71.57337391445823,71.57337391445823,71.57337391445823,71.57337391445823,71.57337391445823,71.57337391445823,71.57337391445823,71.57337391445823,71.57337391445823,71.57337391445823,71.57337391445823,71.57337391445823,71.57337391445823,71.57337391445823,71.57337391445823,71.57337391445823,71.57337391445823,71.57337391445823,71.57337391445823,71.57337391445823,71.57337391445823,71.57337391445823,71.57337391445823,71.67895834652903,71.67895834652903,71.67895834652903,71.67895834652903,71.67895834652903,71.67895834652903,71.67895834652903,71.67895834652903,71.67895834652903,71.67895834652903,71.67895834652903,71.67895834652903,71.67895834652903,71.67895834652903,71.67895834652903,71.67895834652903,71.67895834652903,71.78454277859983,71.78454277859983,71.78454277859983,71.78454277859983,71.78454277859983,71.78454277859983,71.78454277859983,71.78454277859983,71.78454277859983,71.78454277859983,71.78454277859983,71.78454277859983,71.78454277859983,71.78454277859983,71.78454277859983,71.89012721067064,71.89012721067064,71.89012721067064,71.89012721067064,71.89012721067064,71.89012721067064,71.89012721067064,71.89012721067064,71.89012721067064,71.89012721067064,71.99571164274144,71.99571164274144,71.99571164274144,71.99571164274144,71.99571164274144,71.99571164274144,71.99571164274144,71.99571164274144,71.99571164274144,71.99571164274144,71.99571164274144,71.99571164274144,71.99571164274144,71.99571164274144,71.99571164274144,71.99571164274144,71.99571164274144,71.99571164274144,71.99571164274144,71.99571164274144,71.99571164274144,71.99571164274144,71.99571164274144,71.99571164274144,71.99571164274144,71.99571164274144,71.99571164274144,71.99571164274144,71.99571164274144,71.99571164274144,72.10129607481224,72.10129607481224,72.10129607481224,72.10129607481224,72.10129607481224,72.10129607481224,72.10129607481224,72.10129607481224,72.10129607481224,72.10129607481224,72.10129607481224,72.10129607481224,72.10129607481224,72.20688050688304,72.20688050688304,72.20688050688304,72.20688050688304,72.20688050688304,72.20688050688304,72.20688050688304,72.20688050688304,72.20688050688304,72.20688050688304,72.20688050688304,72.20688050688304,72.20688050688304,72.20688050688304,72.31246493895384,72.31246493895384,72.31246493895384,72.31246493895384,72.31246493895384,72.31246493895384,72.31246493895384,72.31246493895384,72.31246493895384,72.31246493895384,72.31246493895384,72.31246493895384,72.31246493895384,72.31246493895384,72.31246493895384,72.31246493895384,72.31246493895384,72.41804937102464,72.41804937102464,72.41804937102464,72.41804937102464,72.41804937102464,72.41804937102464,72.41804937102464,72.41804937102464,72.41804937102464,72.41804937102464,72.41804937102464,72.41804937102464,72.41804937102464,72.41804937102464,72.41804937102464,72.41804937102464,72.41804937102464,72.41804937102464,72.41804937102464,72.41804937102464,72.41804937102464,72.41804937102464,72.41804937102464,72.41804937102464,72.41804937102464,72.41804937102464,72.41804937102464,72.41804937102464,72.41804937102464,72.41804937102464,72.41804937102464,72.41804937102464,72.41804937102464,72.41804937102464,72.41804937102464,72.41804937102464,72.52363380309544,72.52363380309544,72.52363380309544,72.52363380309544,72.52363380309544,72.52363380309544,72.52363380309544,72.52363380309544,72.52363380309544,72.52363380309544,72.52363380309544,72.52363380309544,72.52363380309544,72.62921823516623,72.62921823516623,72.62921823516623,72.62921823516623,72.62921823516623,72.62921823516623,72.62921823516623,72.62921823516623,72.62921823516623,72.62921823516623,72.62921823516623,72.62921823516623,72.62921823516623,72.73480266723703,72.73480266723703,72.73480266723703,72.73480266723703,72.73480266723703,72.73480266723703,72.73480266723703,72.73480266723703,72.73480266723703,72.73480266723703,72.73480266723703,72.73480266723703,72.73480266723703,72.73480266723703,72.73480266723703,72.73480266723703,72.73480266723703,72.73480266723703,72.73480266723703,72.73480266723703,72.73480266723703,72.73480266723703,72.73480266723703,72.73480266723703,72.73480266723703,72.73480266723703,72.84038709930785,72.84038709930785,72.84038709930785,72.84038709930785,72.84038709930785,72.84038709930785,72.84038709930785,72.84038709930785,72.84038709930785,72.84038709930785,72.84038709930785,72.84038709930785,72.84038709930785,72.84038709930785,72.94597153137865,72.94597153137865,72.94597153137865,72.94597153137865,72.94597153137865,72.94597153137865,72.94597153137865,72.94597153137865,72.94597153137865,72.94597153137865,72.94597153137865,72.94597153137865,72.94597153137865,72.94597153137865,72.94597153137865,72.94597153137865,72.94597153137865,72.94597153137865,72.94597153137865,72.94597153137865,72.94597153137865,72.94597153137865,72.94597153137865,72.94597153137865,72.94597153137865,72.94597153137865,72.94597153137865,72.94597153137865,72.94597153137865,72.94597153137865,72.94597153137865,72.94597153137865,73.05155596344946,73.05155596344946,73.05155596344946,73.05155596344946,73.05155596344946,73.05155596344946,73.05155596344946,73.05155596344946,73.05155596344946,73.05155596344946,73.05155596344946,73.05155596344946,73.05155596344946,73.05155596344946,73.05155596344946,73.15714039552026,73.15714039552026,73.15714039552026,73.15714039552026,73.15714039552026,73.15714039552026,73.15714039552026,73.15714039552026,73.15714039552026,73.15714039552026,73.15714039552026,73.15714039552026,73.15714039552026,73.15714039552026,73.15714039552026,73.15714039552026,73.15714039552026,73.15714039552026,73.15714039552026,73.15714039552026,73.15714039552026,73.15714039552026,73.15714039552026,73.15714039552026,73.26272482759106,73.26272482759106,73.26272482759106,73.26272482759106,73.26272482759106,73.26272482759106,73.26272482759106,73.26272482759106,73.26272482759106,73.26272482759106,73.26272482759106,73.26272482759106,73.26272482759106,73.26272482759106,73.26272482759106,73.26272482759106,73.26272482759106,73.26272482759106,73.26272482759106,73.36830925966186,73.36830925966186,73.36830925966186,73.36830925966186,73.36830925966186,73.36830925966186,73.36830925966186,73.36830925966186,73.36830925966186,73.36830925966186,73.36830925966186,73.36830925966186,73.36830925966186,73.36830925966186,73.36830925966186,73.36830925966186,73.36830925966186,73.36830925966186,73.36830925966186,73.36830925966186,73.36830925966186,73.36830925966186,73.36830925966186,73.36830925966186,73.47389369173266,73.47389369173266,73.47389369173266,73.47389369173266,73.47389369173266,73.47389369173266,73.47389369173266,73.47389369173266,73.47389369173266,73.47389369173266,73.47389369173266,73.47389369173266,73.47389369173266,73.47389369173266,73.47389369173266,73.47389369173266,73.47389369173266,73.47389369173266,73.47389369173266,73.47389369173266,73.47389369173266,73.47389369173266,73.47389369173266,73.47389369173266,73.47389369173266,73.57947812380345,73.57947812380345,73.57947812380345,73.57947812380345,73.57947812380345,73.57947812380345,73.57947812380345,73.57947812380345,73.57947812380345,73.57947812380345,73.57947812380345,73.57947812380345,73.57947812380345,73.57947812380345,73.57947812380345,73.57947812380345,73.57947812380345,73.57947812380345,73.57947812380345,73.57947812380345,73.57947812380345,73.57947812380345,73.57947812380345,73.68506255587425,73.68506255587425,73.68506255587425,73.68506255587425,73.68506255587425,73.68506255587425,73.68506255587425,73.68506255587425,73.68506255587425,73.68506255587425,73.68506255587425,73.68506255587425,73.68506255587425,73.68506255587425,73.68506255587425,73.68506255587425,73.68506255587425,73.68506255587425,73.68506255587425,73.68506255587425,73.68506255587425,73.68506255587425,73.68506255587425,73.79064698794505,73.79064698794505,73.79064698794505,73.79064698794505,73.79064698794505,73.79064698794505,73.79064698794505,73.79064698794505,73.79064698794505,73.79064698794505,73.79064698794505,73.79064698794505,73.79064698794505,73.79064698794505,73.79064698794505,73.79064698794505,73.79064698794505,73.79064698794505,73.79064698794505,73.79064698794505,73.79064698794505,73.89623142001587,73.89623142001587,73.89623142001587,73.89623142001587,73.89623142001587,73.89623142001587,73.89623142001587,73.89623142001587,73.89623142001587,73.89623142001587,73.89623142001587,73.89623142001587,73.89623142001587,73.89623142001587,73.89623142001587,73.89623142001587,73.89623142001587,73.89623142001587,73.89623142001587,73.89623142001587,74.00181585208666,74.00181585208666,74.00181585208666,74.00181585208666,74.00181585208666,74.00181585208666,74.00181585208666,74.00181585208666,74.00181585208666,74.00181585208666,74.00181585208666,74.00181585208666,74.10740028415746,74.10740028415746,74.10740028415746,74.10740028415746,74.10740028415746,74.10740028415746,74.10740028415746,74.10740028415746,74.10740028415746,74.10740028415746,74.10740028415746,74.10740028415746,74.10740028415746,74.10740028415746,74.10740028415746,74.21298471622826,74.21298471622826,74.21298471622826,74.21298471622826,74.21298471622826,74.21298471622826,74.21298471622826,74.21298471622826,74.21298471622826,74.21298471622826,74.21298471622826,74.21298471622826,74.21298471622826,74.21298471622826,74.21298471622826,74.21298471622826,74.21298471622826,74.21298471622826,74.21298471622826,74.21298471622826,74.21298471622826,74.21298471622826,74.21298471622826,74.21298471622826,74.21298471622826,74.21298471622826,74.21298471622826,74.21298471622826,74.21298471622826,74.21298471622826,74.21298471622826,74.21298471622826,74.21298471622826,74.21298471622826,74.21298471622826,74.21298471622826,74.21298471622826,74.31856914829908,74.31856914829908,74.31856914829908,74.31856914829908,74.31856914829908,74.31856914829908,74.31856914829908,74.31856914829908,74.31856914829908,74.31856914829908,74.31856914829908,74.31856914829908,74.31856914829908,74.31856914829908,74.31856914829908,74.42415358036988,74.42415358036988,74.42415358036988,74.42415358036988,74.42415358036988,74.42415358036988,74.42415358036988,74.42415358036988,74.42415358036988,74.42415358036988,74.42415358036988,74.42415358036988,74.42415358036988,74.42415358036988,74.42415358036988,74.42415358036988,74.42415358036988,74.42415358036988,74.42415358036988,74.42415358036988,74.42415358036988,74.42415358036988,74.42415358036988,74.52973801244067,74.52973801244067,74.52973801244067,74.52973801244067,74.52973801244067,74.52973801244067,74.52973801244067,74.52973801244067,74.52973801244067,74.52973801244067,74.52973801244067,74.52973801244067,74.52973801244067,74.52973801244067,74.52973801244067,74.52973801244067,74.52973801244067,74.52973801244067,74.52973801244067,74.52973801244067,74.52973801244067,74.52973801244067,74.52973801244067,74.63532244451147,74.63532244451147,74.63532244451147,74.63532244451147,74.63532244451147,74.63532244451147,74.63532244451147,74.63532244451147,74.63532244451147,74.63532244451147,74.63532244451147,74.63532244451147,74.63532244451147,74.63532244451147,74.63532244451147,74.63532244451147,74.63532244451147,74.63532244451147,74.63532244451147,74.63532244451147,74.63532244451147,74.63532244451147,74.63532244451147,74.63532244451147,74.74090687658227,74.74090687658227,74.74090687658227,74.74090687658227,74.74090687658227,74.74090687658227,74.74090687658227,74.74090687658227,74.74090687658227,74.74090687658227,74.74090687658227,74.74090687658227,74.74090687658227,74.74090687658227,74.74090687658227,74.74090687658227,74.74090687658227,74.74090687658227,74.74090687658227,74.84649130865307,74.84649130865307,74.84649130865307,74.84649130865307,74.84649130865307,74.84649130865307,74.84649130865307,74.84649130865307,74.84649130865307,74.84649130865307,74.84649130865307,74.84649130865307,74.84649130865307,74.84649130865307,74.84649130865307,74.84649130865307,74.84649130865307,74.84649130865307,74.84649130865307,74.84649130865307,74.84649130865307,74.84649130865307,74.84649130865307,74.84649130865307,74.84649130865307,74.84649130865307,74.84649130865307,74.84649130865307,74.84649130865307,74.84649130865307,74.84649130865307,74.84649130865307,74.95207574072387,74.95207574072387,74.95207574072387,74.95207574072387,74.95207574072387,74.95207574072387,74.95207574072387,74.95207574072387,74.95207574072387,74.95207574072387,74.95207574072387,74.95207574072387,74.95207574072387,74.95207574072387,74.95207574072387,74.95207574072387,74.95207574072387,74.95207574072387,74.95207574072387,74.95207574072387,74.95207574072387,74.95207574072387,74.95207574072387,74.95207574072387,74.95207574072387,74.95207574072387,74.95207574072387,74.95207574072387,74.95207574072387,74.95207574072387,74.95207574072387,74.95207574072387,74.95207574072387,75.05766017279467,75.05766017279467,75.05766017279467,75.05766017279467,75.05766017279467,75.05766017279467,75.05766017279467,75.05766017279467,75.05766017279467,75.05766017279467,75.05766017279467,75.05766017279467,75.05766017279467,75.05766017279467,75.05766017279467,75.16324460486547,75.16324460486547,75.16324460486547,75.16324460486547,75.16324460486547,75.16324460486547,75.16324460486547,75.16324460486547,75.16324460486547,75.16324460486547,75.16324460486547,75.16324460486547,75.16324460486547,75.16324460486547,75.16324460486547,75.16324460486547,75.16324460486547,75.16324460486547,75.16324460486547,75.16324460486547,75.16324460486547,75.16324460486547,75.16324460486547,75.26882903693628,75.26882903693628,75.26882903693628,75.26882903693628,75.26882903693628,75.26882903693628,75.26882903693628,75.26882903693628,75.26882903693628,75.26882903693628,75.26882903693628,75.26882903693628,75.26882903693628,75.26882903693628,75.26882903693628,75.26882903693628,75.26882903693628,75.26882903693628,75.26882903693628,75.26882903693628,75.37441346900708,75.37441346900708,75.37441346900708,75.37441346900708,75.37441346900708,75.37441346900708,75.37441346900708,75.37441346900708,75.37441346900708,75.37441346900708,75.37441346900708,75.37441346900708,75.37441346900708,75.37441346900708,75.37441346900708,75.37441346900708,75.37441346900708,75.37441346900708,75.37441346900708,75.37441346900708,75.37441346900708,75.4799979010779,75.4799979010779,75.4799979010779,75.4799979010779,75.4799979010779,75.4799979010779,75.4799979010779,75.4799979010779,75.4799979010779,75.4799979010779,75.4799979010779,75.4799979010779,75.4799979010779,75.4799979010779,75.4799979010779,75.4799979010779,75.4799979010779,75.4799979010779,75.4799979010779,75.4799979010779,75.4799979010779,75.4799979010779,75.4799979010779,75.4799979010779,75.4799979010779,75.4799979010779,75.4799979010779,75.4799979010779,75.4799979010779,75.4799979010779,75.5855823331487,75.5855823331487,75.5855823331487,75.5855823331487,75.5855823331487,75.5855823331487,75.5855823331487,75.5855823331487,75.5855823331487,75.5855823331487,75.5855823331487,75.5855823331487,75.5855823331487,75.5855823331487,75.5855823331487,75.69116676521949,75.69116676521949,75.69116676521949,75.69116676521949,75.69116676521949,75.69116676521949,75.69116676521949,75.69116676521949,75.69116676521949,75.69116676521949,75.69116676521949,75.69116676521949,75.69116676521949,75.69116676521949,75.69116676521949,75.69116676521949,75.69116676521949,75.69116676521949,75.69116676521949,75.69116676521949,75.79675119729029,75.79675119729029,75.79675119729029,75.79675119729029,75.79675119729029,75.79675119729029,75.79675119729029,75.79675119729029,75.79675119729029,75.79675119729029,75.79675119729029,75.79675119729029,75.79675119729029,75.79675119729029,75.79675119729029,75.79675119729029,75.79675119729029,75.79675119729029,75.79675119729029,75.79675119729029,75.79675119729029,75.90233562936109,75.90233562936109,75.90233562936109,75.90233562936109,75.90233562936109,75.90233562936109,75.90233562936109,75.90233562936109,75.90233562936109,75.90233562936109,75.90233562936109,75.90233562936109,75.90233562936109,75.90233562936109,75.90233562936109,75.90233562936109,76.00792006143189,76.00792006143189,76.00792006143189,76.00792006143189,76.00792006143189,76.00792006143189,76.00792006143189,76.00792006143189,76.00792006143189,76.00792006143189,76.00792006143189,76.00792006143189,76.00792006143189,76.00792006143189,76.00792006143189,76.00792006143189,76.00792006143189,76.00792006143189,76.00792006143189,76.00792006143189,76.00792006143189,76.00792006143189,76.00792006143189,76.00792006143189,76.00792006143189,76.00792006143189,76.00792006143189,76.00792006143189,76.00792006143189,76.00792006143189,76.00792006143189,76.00792006143189,76.00792006143189,76.00792006143189,76.00792006143189,76.00792006143189,76.00792006143189,76.00792006143189,76.00792006143189,76.00792006143189,76.00792006143189,76.00792006143189,76.00792006143189,76.00792006143189,76.00792006143189,76.00792006143189,76.00792006143189,76.00792006143189,76.00792006143189,76.00792006143189,76.00792006143189,76.00792006143189,76.11350449350269,76.11350449350269,76.11350449350269,76.11350449350269,76.11350449350269,76.11350449350269,76.11350449350269,76.11350449350269,76.11350449350269,76.11350449350269,76.11350449350269,76.11350449350269,76.11350449350269,76.11350449350269,76.11350449350269,76.11350449350269,76.11350449350269,76.11350449350269,76.11350449350269,76.11350449350269,76.11350449350269,76.11350449350269,76.11350449350269,76.21908892557349,76.21908892557349,76.21908892557349,76.21908892557349,76.21908892557349,76.21908892557349,76.21908892557349,76.21908892557349,76.21908892557349,76.21908892557349,76.21908892557349,76.21908892557349,76.21908892557349,76.21908892557349,76.21908892557349,76.21908892557349,76.21908892557349,76.21908892557349,76.21908892557349,76.21908892557349,76.21908892557349,76.3246733576443,76.3246733576443,76.3246733576443,76.3246733576443,76.3246733576443,76.3246733576443,76.3246733576443,76.3246733576443,76.3246733576443,76.3246733576443,76.3246733576443,76.3246733576443,76.3246733576443,76.3246733576443,76.3246733576443,76.3246733576443,76.3246733576443,76.3246733576443,76.3246733576443,76.3246733576443,76.3246733576443,76.3246733576443,76.3246733576443,76.4302577897151,76.4302577897151,76.4302577897151,76.4302577897151,76.4302577897151,76.4302577897151,76.4302577897151,76.4302577897151,76.4302577897151,76.4302577897151,76.4302577897151,76.4302577897151,76.4302577897151,76.4302577897151,76.4302577897151,76.4302577897151,76.4302577897151,76.4302577897151,76.4302577897151,76.4302577897151,76.4302577897151,76.4302577897151,76.4302577897151,76.4302577897151,76.4302577897151,76.4302577897151,76.4302577897151,76.4302577897151,76.4302577897151,76.4302577897151,76.4302577897151,76.4302577897151,76.5358422217859,76.5358422217859,76.5358422217859,76.5358422217859,76.5358422217859,76.5358422217859,76.5358422217859,76.5358422217859,76.5358422217859,76.5358422217859,76.5358422217859,76.5358422217859,76.64142665385671,76.64142665385671,76.64142665385671,76.64142665385671,76.64142665385671,76.64142665385671,76.64142665385671,76.64142665385671,76.64142665385671,76.64142665385671,76.64142665385671,76.64142665385671,76.64142665385671,76.64142665385671,76.64142665385671,76.64142665385671,76.64142665385671,76.64142665385671,76.64142665385671,76.64142665385671,76.64142665385671,76.64142665385671,76.64142665385671,76.74701108592751,76.74701108592751,76.74701108592751,76.74701108592751,76.74701108592751,76.74701108592751,76.74701108592751,76.74701108592751,76.74701108592751,76.74701108592751,76.74701108592751,76.74701108592751,76.74701108592751,76.74701108592751,76.74701108592751,76.74701108592751,76.74701108592751,76.74701108592751,76.74701108592751,76.74701108592751,76.74701108592751,76.74701108592751,76.74701108592751,76.74701108592751,76.74701108592751,76.74701108592751,76.74701108592751,76.74701108592751,76.74701108592751,76.85259551799831,76.85259551799831,76.85259551799831,76.85259551799831,76.85259551799831,76.85259551799831,76.85259551799831,76.85259551799831,76.85259551799831,76.85259551799831,76.85259551799831,76.85259551799831,76.85259551799831,76.85259551799831,76.85259551799831,76.85259551799831,76.85259551799831,76.85259551799831,76.85259551799831,76.85259551799831,76.85259551799831,76.85259551799831,76.85259551799831,76.85259551799831,76.85259551799831,76.85259551799831,76.85259551799831,76.85259551799831,76.85259551799831,76.85259551799831,76.85259551799831,76.85259551799831,76.85259551799831,76.85259551799831,76.85259551799831,76.95817995006911,76.95817995006911,76.95817995006911,76.95817995006911,76.95817995006911,76.95817995006911,76.95817995006911,76.95817995006911,76.95817995006911,76.95817995006911,76.95817995006911,76.95817995006911,76.95817995006911,76.95817995006911,76.95817995006911,76.95817995006911,76.95817995006911,76.95817995006911,76.95817995006911,76.95817995006911,76.95817995006911,76.95817995006911,77.06376438213991,77.06376438213991,77.06376438213991,77.06376438213991,77.06376438213991,77.06376438213991,77.06376438213991,77.06376438213991,77.06376438213991,77.06376438213991,77.06376438213991,77.06376438213991,77.06376438213991,77.06376438213991,77.06376438213991,77.06376438213991,77.06376438213991,77.06376438213991,77.06376438213991,77.06376438213991,77.06376438213991,77.06376438213991,77.06376438213991,77.06376438213991,77.06376438213991,77.06376438213991,77.06376438213991,77.16934881421071,77.16934881421071,77.16934881421071,77.16934881421071,77.16934881421071,77.16934881421071,77.16934881421071,77.16934881421071,77.16934881421071,77.16934881421071,77.16934881421071,77.16934881421071,77.16934881421071,77.16934881421071,77.2749332462815,77.2749332462815,77.2749332462815,77.2749332462815,77.2749332462815,77.2749332462815,77.2749332462815,77.2749332462815,77.2749332462815,77.2749332462815,77.2749332462815,77.2749332462815,77.2749332462815,77.2749332462815,77.2749332462815,77.2749332462815,77.2749332462815,77.2749332462815,77.2749332462815,77.2749332462815,77.2749332462815,77.2749332462815,77.2749332462815,77.2749332462815,77.3805176783523,77.3805176783523,77.3805176783523,77.3805176783523,77.3805176783523,77.3805176783523,77.3805176783523,77.3805176783523,77.3805176783523,77.3805176783523,77.3805176783523,77.3805176783523,77.3805176783523,77.3805176783523,77.3805176783523,77.3805176783523,77.3805176783523,77.3805176783523,77.3805176783523,77.3805176783523,77.3805176783523,77.3805176783523,77.3805176783523,77.3805176783523,77.3805176783523,77.3805176783523,77.4861021104231,77.4861021104231,77.4861021104231,77.4861021104231,77.4861021104231,77.4861021104231,77.4861021104231,77.4861021104231,77.4861021104231,77.4861021104231,77.4861021104231,77.4861021104231,77.4861021104231,77.4861021104231,77.4861021104231,77.4861021104231,77.4861021104231,77.4861021104231,77.4861021104231,77.4861021104231,77.4861021104231,77.4861021104231,77.4861021104231,77.4861021104231,77.4861021104231,77.4861021104231,77.4861021104231,77.4861021104231,77.5916865424939,77.5916865424939,77.5916865424939,77.5916865424939,77.5916865424939,77.5916865424939,77.5916865424939,77.5916865424939,77.5916865424939,77.5916865424939,77.5916865424939,77.5916865424939,77.5916865424939,77.5916865424939,77.5916865424939,77.69727097456472,77.69727097456472,77.69727097456472,77.69727097456472,77.69727097456472,77.69727097456472,77.69727097456472,77.69727097456472,77.69727097456472,77.69727097456472,77.69727097456472,77.69727097456472,77.69727097456472,77.69727097456472,77.69727097456472,77.69727097456472,77.69727097456472,77.69727097456472,77.69727097456472,77.69727097456472,77.69727097456472,77.69727097456472,77.69727097456472,77.80285540663552,77.80285540663552,77.80285540663552,77.80285540663552,77.80285540663552,77.80285540663552,77.80285540663552,77.80285540663552,77.80285540663552,77.80285540663552,77.80285540663552,77.80285540663552,77.80285540663552,77.80285540663552,77.90843983870633,77.90843983870633,77.90843983870633,77.90843983870633,77.90843983870633,77.90843983870633,77.90843983870633,77.90843983870633,77.90843983870633,77.90843983870633,77.90843983870633,77.90843983870633,77.90843983870633,77.90843983870633,77.90843983870633,77.90843983870633,77.90843983870633,77.90843983870633,77.90843983870633,77.90843983870633,77.90843983870633,77.90843983870633,77.90843983870633,78.01402427077713,78.01402427077713,78.01402427077713,78.01402427077713,78.01402427077713,78.01402427077713,78.01402427077713,78.01402427077713,78.01402427077713,78.01402427077713,78.01402427077713,78.01402427077713,78.01402427077713,78.01402427077713,78.01402427077713,78.01402427077713,78.01402427077713,78.01402427077713,78.01402427077713,78.01402427077713,78.01402427077713,78.01402427077713,78.01402427077713,78.01402427077713,78.11960870284793,78.11960870284793,78.11960870284793,78.11960870284793,78.11960870284793,78.11960870284793,78.11960870284793,78.11960870284793,78.11960870284793,78.11960870284793,78.11960870284793,78.11960870284793,78.11960870284793,78.11960870284793,78.22519313491873,78.22519313491873,78.22519313491873,78.22519313491873,78.22519313491873,78.22519313491873,78.22519313491873,78.22519313491873,78.22519313491873,78.22519313491873,78.22519313491873,78.22519313491873,78.22519313491873,78.22519313491873,78.22519313491873,78.22519313491873,78.22519313491873,78.22519313491873,78.22519313491873,78.22519313491873,78.22519313491873,78.22519313491873,78.22519313491873,78.22519313491873,78.22519313491873,78.22519313491873,78.22519313491873,78.22519313491873,78.33077756698952,78.33077756698952,78.33077756698952,78.33077756698952,78.33077756698952,78.33077756698952,78.33077756698952,78.33077756698952,78.33077756698952,78.33077756698952,78.33077756698952,78.33077756698952,78.33077756698952,78.33077756698952,78.33077756698952,78.33077756698952,78.33077756698952,78.33077756698952,78.33077756698952,78.33077756698952,78.33077756698952,78.33077756698952,78.33077756698952,78.33077756698952,78.33077756698952,78.33077756698952,78.33077756698952,78.33077756698952,78.33077756698952,78.33077756698952,78.33077756698952,78.43636199906032,78.43636199906032,78.43636199906032,78.43636199906032,78.43636199906032,78.43636199906032,78.43636199906032,78.43636199906032,78.43636199906032,78.43636199906032,78.43636199906032,78.43636199906032,78.43636199906032,78.43636199906032,78.43636199906032,78.43636199906032,78.43636199906032,78.43636199906032,78.43636199906032,78.43636199906032,78.43636199906032,78.43636199906032,78.43636199906032,78.43636199906032,78.43636199906032,78.43636199906032,78.43636199906032,78.43636199906032,78.54194643113112,78.54194643113112,78.54194643113112,78.54194643113112,78.54194643113112,78.54194643113112,78.54194643113112,78.54194643113112,78.54194643113112,78.54194643113112,78.54194643113112,78.54194643113112,78.54194643113112,78.54194643113112,78.54194643113112,78.54194643113112,78.54194643113112,78.54194643113112,78.54194643113112,78.54194643113112,78.54194643113112,78.54194643113112,78.54194643113112,78.54194643113112,78.54194643113112,78.54194643113112,78.54194643113112,78.54194643113112,78.54194643113112,78.54194643113112,78.64753086320192,78.64753086320192,78.64753086320192,78.64753086320192,78.64753086320192,78.64753086320192,78.64753086320192,78.64753086320192,78.64753086320192,78.64753086320192,78.64753086320192,78.64753086320192,78.64753086320192,78.64753086320192,78.64753086320192,78.64753086320192,78.64753086320192,78.64753086320192,78.64753086320192,78.64753086320192,78.64753086320192,78.64753086320192,78.64753086320192,78.64753086320192,78.64753086320192,78.64753086320192,78.64753086320192,78.64753086320192,78.64753086320192,78.64753086320192,78.75311529527274,78.75311529527274,78.75311529527274,78.75311529527274,78.75311529527274,78.75311529527274,78.75311529527274,78.75311529527274,78.75311529527274,78.75311529527274,78.75311529527274,78.75311529527274,78.75311529527274,78.75311529527274,78.75311529527274,78.75311529527274,78.75311529527274,78.75311529527274,78.75311529527274,78.75311529527274,78.85869972734353,78.85869972734353,78.85869972734353,78.85869972734353,78.85869972734353,78.85869972734353,78.85869972734353,78.85869972734353,78.85869972734353,78.85869972734353,78.85869972734353,78.85869972734353,78.85869972734353,78.96428415941435,78.96428415941435,78.96428415941435,78.96428415941435,78.96428415941435,78.96428415941435,78.96428415941435,78.96428415941435,78.96428415941435,78.96428415941435,78.96428415941435,78.96428415941435,78.96428415941435,78.96428415941435,78.96428415941435,78.96428415941435,78.96428415941435,78.96428415941435,78.96428415941435,78.96428415941435,78.96428415941435,78.96428415941435,78.96428415941435,78.96428415941435,78.96428415941435,79.06986859148515,79.06986859148515,79.06986859148515,79.06986859148515,79.06986859148515,79.06986859148515,79.06986859148515,79.06986859148515,79.06986859148515,79.06986859148515,79.06986859148515,79.06986859148515,79.06986859148515,79.06986859148515,79.06986859148515,79.17545302355595,79.17545302355595,79.17545302355595,79.17545302355595,79.17545302355595,79.17545302355595,79.17545302355595,79.17545302355595,79.17545302355595,79.17545302355595,79.17545302355595,79.17545302355595,79.17545302355595,79.17545302355595,79.17545302355595,79.17545302355595,79.17545302355595,79.17545302355595,79.17545302355595,79.17545302355595,79.17545302355595,79.17545302355595,79.17545302355595,79.17545302355595,79.17545302355595,79.17545302355595,79.28103745562674,79.28103745562674,79.28103745562674,79.28103745562674,79.28103745562674,79.28103745562674,79.28103745562674,79.28103745562674,79.28103745562674,79.28103745562674,79.28103745562674,79.28103745562674,79.28103745562674,79.28103745562674,79.28103745562674,79.28103745562674,79.28103745562674,79.28103745562674,79.28103745562674,79.28103745562674,79.28103745562674,79.28103745562674,79.38662188769754,79.38662188769754,79.38662188769754,79.38662188769754,79.38662188769754,79.38662188769754,79.38662188769754,79.38662188769754,79.38662188769754,79.38662188769754,79.38662188769754,79.49220631976834,79.49220631976834,79.49220631976834,79.49220631976834,79.49220631976834,79.49220631976834,79.49220631976834,79.49220631976834,79.49220631976834,79.49220631976834,79.49220631976834,79.49220631976834,79.49220631976834,79.49220631976834,79.49220631976834,79.49220631976834,79.49220631976834,79.49220631976834,79.49220631976834,79.49220631976834,79.49220631976834,79.49220631976834,79.49220631976834,79.49220631976834,79.49220631976834,79.49220631976834,79.49220631976834,79.49220631976834,79.49220631976834,79.49220631976834,79.49220631976834,79.49220631976834,79.49220631976834,79.49220631976834,79.49220631976834,79.49220631976834,79.49220631976834,79.49220631976834,79.49220631976834,79.49220631976834,79.49220631976834,79.49220631976834,79.49220631976834,79.49220631976834,79.49220631976834,79.49220631976834,79.49220631976834,79.49220631976834,79.49220631976834,79.49220631976834,79.49220631976834,79.49220631976834,79.49220631976834,79.49220631976834,79.49220631976834,79.49220631976834,79.49220631976834,79.49220631976834,79.49220631976834,79.49220631976834,79.49220631976834,79.49220631976834,79.49220631976834,79.49220631976834,79.49220631976834,79.49220631976834,79.49220631976834,79.49220631976834,79.49220631976834,79.49220631976834,79.49220631976834,79.49220631976834,79.59779075183914,79.59779075183914,79.59779075183914,79.59779075183914,79.59779075183914,79.59779075183914,79.59779075183914,79.59779075183914,79.59779075183914,79.59779075183914,79.59779075183914,79.59779075183914,79.59779075183914,79.59779075183914,79.59779075183914,79.59779075183914,79.59779075183914,79.70337518390994,79.70337518390994,79.70337518390994,79.70337518390994,79.70337518390994,79.70337518390994,79.70337518390994,79.70337518390994,79.70337518390994,79.70337518390994,79.70337518390994,79.70337518390994,79.70337518390994,79.70337518390994,79.70337518390994,79.80895961598074,79.80895961598074,79.80895961598074,79.80895961598074,79.80895961598074,79.80895961598074,79.80895961598074,79.80895961598074,79.80895961598074,79.80895961598074,79.80895961598074,79.80895961598074,79.80895961598074,79.80895961598074,79.80895961598074,79.80895961598074,79.80895961598074,79.80895961598074,79.80895961598074,79.91454404805154,79.91454404805154,79.91454404805154,79.91454404805154,79.91454404805154,79.91454404805154,79.91454404805154,79.91454404805154,79.91454404805154,79.91454404805154,79.91454404805154,79.91454404805154,79.91454404805154,79.91454404805154,79.91454404805154,79.91454404805154,79.91454404805154,79.91454404805154,79.91454404805154,79.91454404805154,79.91454404805154,80.02012848012234,80.02012848012234,80.02012848012234,80.02012848012234,80.02012848012234,80.02012848012234,80.02012848012234,80.02012848012234,80.02012848012234,80.02012848012234,80.02012848012234,80.02012848012234,80.02012848012234,80.02012848012234,80.02012848012234,80.02012848012234,80.02012848012234,80.02012848012234,80.02012848012234,80.02012848012234,80.02012848012234,80.02012848012234,80.12571291219315,80.12571291219315,80.12571291219315,80.12571291219315,80.12571291219315,80.12571291219315,80.12571291219315,80.12571291219315,80.12571291219315,80.12571291219315,80.12571291219315,80.12571291219315,80.12571291219315,80.12571291219315,80.12571291219315,80.12571291219315,80.12571291219315,80.12571291219315,80.12571291219315,80.12571291219315,80.12571291219315,80.12571291219315,80.12571291219315,80.12571291219315,80.12571291219315,80.12571291219315,80.23129734426396,80.23129734426396,80.23129734426396,80.23129734426396,80.23129734426396,80.23129734426396,80.23129734426396,80.23129734426396,80.23129734426396,80.23129734426396,80.23129734426396,80.23129734426396,80.23129734426396,80.23129734426396,80.23129734426396,80.23129734426396,80.23129734426396,80.23129734426396,80.23129734426396,80.23129734426396,80.33688177633476,80.33688177633476,80.33688177633476,80.33688177633476,80.33688177633476,80.33688177633476,80.33688177633476,80.33688177633476,80.33688177633476,80.33688177633476,80.33688177633476,80.33688177633476,80.33688177633476,80.33688177633476,80.33688177633476,80.33688177633476,80.33688177633476,80.33688177633476,80.33688177633476,80.33688177633476,80.33688177633476,80.33688177633476,80.33688177633476,80.44246620840556,80.44246620840556,80.44246620840556,80.44246620840556,80.44246620840556,80.44246620840556,80.44246620840556,80.44246620840556,80.44246620840556,80.44246620840556,80.44246620840556,80.44246620840556,80.44246620840556,80.44246620840556,80.44246620840556,80.44246620840556,80.44246620840556,80.54805064047636,80.54805064047636,80.54805064047636,80.54805064047636,80.54805064047636,80.54805064047636,80.54805064047636,80.54805064047636,80.54805064047636,80.54805064047636,80.54805064047636,80.54805064047636,80.54805064047636,80.54805064047636,80.54805064047636,80.54805064047636,80.54805064047636,80.54805064047636,80.54805064047636,80.54805064047636,80.54805064047636,80.65363507254716,80.65363507254716,80.65363507254716,80.65363507254716,80.65363507254716,80.65363507254716,80.65363507254716,80.65363507254716,80.65363507254716,80.65363507254716,80.65363507254716,80.65363507254716,80.65363507254716,80.65363507254716,80.65363507254716,80.65363507254716,80.65363507254716,80.65363507254716,80.65363507254716,80.65363507254716,80.65363507254716,80.65363507254716,80.65363507254716,80.65363507254716,80.65363507254716,80.65363507254716,80.65363507254716,80.65363507254716,80.65363507254716,80.65363507254716,80.65363507254716,80.75921950461796,80.75921950461796,80.75921950461796,80.75921950461796,80.75921950461796,80.75921950461796,80.75921950461796,80.75921950461796,80.75921950461796,80.75921950461796,80.75921950461796,80.75921950461796,80.75921950461796,80.75921950461796,80.75921950461796,80.75921950461796,80.75921950461796,80.75921950461796,80.75921950461796,80.75921950461796,80.75921950461796,80.75921950461796,80.75921950461796,80.75921950461796,80.75921950461796,80.75921950461796,80.86480393668876,80.86480393668876,80.86480393668876,80.86480393668876,80.86480393668876,80.86480393668876,80.86480393668876,80.86480393668876,80.86480393668876,80.86480393668876,80.86480393668876,80.86480393668876,80.86480393668876,80.86480393668876,80.97038836875956,80.97038836875956,80.97038836875956,80.97038836875956,80.97038836875956,80.97038836875956,80.97038836875956,80.97038836875956,80.97038836875956,80.97038836875956,80.97038836875956,80.97038836875956,80.97038836875956,80.97038836875956,80.97038836875956,80.97038836875956,80.97038836875956,80.97038836875956,80.97038836875956,80.97038836875956,80.97038836875956,80.97038836875956,80.97038836875956,80.97038836875956,81.07597280083037,81.07597280083037,81.07597280083037,81.07597280083037,81.07597280083037,81.07597280083037,81.07597280083037,81.07597280083037,81.07597280083037,81.07597280083037,81.07597280083037,81.07597280083037,81.07597280083037,81.07597280083037,81.07597280083037,81.07597280083037,81.07597280083037,81.07597280083037,81.07597280083037,81.18155723290117,81.18155723290117,81.18155723290117,81.18155723290117,81.18155723290117,81.18155723290117,81.18155723290117,81.18155723290117,81.18155723290117,81.18155723290117,81.18155723290117,81.18155723290117,81.18155723290117,81.18155723290117,81.18155723290117,81.18155723290117,81.18155723290117,81.18155723290117,81.18155723290117,81.18155723290117,81.18155723290117,81.28714166497197,81.28714166497197,81.28714166497197,81.28714166497197,81.28714166497197,81.28714166497197,81.28714166497197,81.28714166497197,81.28714166497197,81.28714166497197,81.28714166497197,81.28714166497197,81.28714166497197,81.28714166497197,81.28714166497197,81.28714166497197,81.28714166497197,81.39272609704277,81.39272609704277,81.39272609704277,81.39272609704277,81.39272609704277,81.39272609704277,81.39272609704277,81.39272609704277,81.39272609704277,81.39272609704277,81.39272609704277,81.39272609704277,81.39272609704277,81.39272609704277,81.39272609704277,81.39272609704277,81.39272609704277,81.39272609704277,81.39272609704277,81.39272609704277,81.49831052911358,81.49831052911358,81.49831052911358,81.49831052911358,81.49831052911358,81.49831052911358,81.49831052911358,81.49831052911358,81.49831052911358,81.49831052911358,81.49831052911358,81.49831052911358,81.49831052911358,81.49831052911358,81.49831052911358,81.49831052911358,81.49831052911358,81.49831052911358,81.49831052911358,81.49831052911358,81.49831052911358,81.49831052911358,81.60389496118438,81.60389496118438,81.60389496118438,81.60389496118438,81.60389496118438,81.60389496118438,81.60389496118438,81.60389496118438,81.60389496118438,81.60389496118438,81.60389496118438,81.60389496118438,81.60389496118438,81.60389496118438,81.60389496118438,81.70947939325518,81.70947939325518,81.70947939325518,81.70947939325518,81.70947939325518,81.70947939325518,81.70947939325518,81.70947939325518,81.70947939325518,81.70947939325518,81.70947939325518,81.70947939325518,81.70947939325518,81.70947939325518,81.70947939325518,81.70947939325518,81.70947939325518,81.70947939325518,81.70947939325518,81.70947939325518,81.70947939325518,81.81506382532598,81.81506382532598,81.81506382532598,81.81506382532598,81.81506382532598,81.81506382532598,81.81506382532598,81.81506382532598,81.81506382532598,81.81506382532598,81.81506382532598,81.81506382532598,81.81506382532598,81.81506382532598,81.81506382532598,81.81506382532598,81.81506382532598,81.81506382532598,81.81506382532598,81.81506382532598,81.81506382532598,81.81506382532598,81.81506382532598,81.81506382532598,81.81506382532598,81.81506382532598,81.81506382532598,81.92064825739678,81.92064825739678,81.92064825739678,81.92064825739678,81.92064825739678,81.92064825739678,81.92064825739678,81.92064825739678,81.92064825739678,81.92064825739678,81.92064825739678,81.92064825739678,81.92064825739678,81.92064825739678,81.92064825739678,81.92064825739678,81.92064825739678,81.92064825739678,82.02623268946758,82.02623268946758,82.02623268946758,82.02623268946758,82.02623268946758,82.02623268946758,82.02623268946758,82.02623268946758,82.02623268946758,82.02623268946758,82.02623268946758,82.13181712153838,82.13181712153838,82.13181712153838,82.13181712153838,82.13181712153838,82.13181712153838,82.13181712153838,82.13181712153838,82.13181712153838,82.13181712153838,82.13181712153838,82.13181712153838,82.13181712153838,82.13181712153838,82.13181712153838,82.13181712153838,82.13181712153838,82.23740155360917,82.23740155360917,82.23740155360917,82.23740155360917,82.23740155360917,82.23740155360917,82.23740155360917,82.23740155360917,82.23740155360917,82.23740155360917,82.23740155360917,82.23740155360917,82.23740155360917,82.23740155360917,82.23740155360917,82.23740155360917,82.23740155360917,82.34298598567997,82.34298598567997,82.34298598567997,82.34298598567997,82.34298598567997,82.34298598567997,82.34298598567997,82.34298598567997,82.34298598567997,82.34298598567997,82.34298598567997,82.34298598567997,82.34298598567997,82.34298598567997,82.44857041775079,82.44857041775079,82.44857041775079,82.44857041775079,82.44857041775079,82.44857041775079,82.44857041775079,82.44857041775079,82.44857041775079,82.44857041775079,82.44857041775079,82.44857041775079,82.44857041775079,82.44857041775079,82.44857041775079,82.44857041775079,82.55415484982159,82.55415484982159,82.55415484982159,82.55415484982159,82.55415484982159,82.55415484982159,82.55415484982159,82.55415484982159,82.55415484982159,82.55415484982159,82.55415484982159,82.55415484982159,82.55415484982159,82.55415484982159,82.55415484982159,82.55415484982159,82.55415484982159,82.55415484982159,82.55415484982159,82.55415484982159,82.55415484982159,82.55415484982159,82.55415484982159,82.55415484982159,82.65973928189239,82.65973928189239,82.65973928189239,82.65973928189239,82.65973928189239,82.65973928189239,82.65973928189239,82.65973928189239,82.65973928189239,82.65973928189239,82.65973928189239,82.65973928189239,82.65973928189239,82.65973928189239,82.65973928189239,82.65973928189239,82.65973928189239,82.65973928189239,82.65973928189239,82.65973928189239,82.65973928189239,82.76532371396318,82.76532371396318,82.76532371396318,82.76532371396318,82.76532371396318,82.76532371396318,82.76532371396318,82.76532371396318,82.76532371396318,82.76532371396318,82.76532371396318,82.76532371396318,82.76532371396318,82.76532371396318,82.76532371396318,82.76532371396318,82.76532371396318,82.76532371396318,82.76532371396318,82.76532371396318,82.76532371396318,82.870908146034,82.870908146034,82.870908146034,82.870908146034,82.870908146034,82.870908146034,82.870908146034,82.870908146034,82.870908146034,82.870908146034,82.870908146034,82.870908146034,82.870908146034,82.870908146034,82.870908146034,82.870908146034,82.870908146034,82.870908146034,82.9764925781048,82.9764925781048,82.9764925781048,82.9764925781048,82.9764925781048,82.9764925781048,82.9764925781048,82.9764925781048,82.9764925781048,82.9764925781048,82.9764925781048,82.9764925781048,82.9764925781048,82.9764925781048,82.9764925781048,82.9764925781048,82.9764925781048,82.9764925781048,82.9764925781048,82.9764925781048,82.9764925781048,82.9764925781048,82.9764925781048,82.9764925781048,82.9764925781048,82.9764925781048,82.9764925781048,82.9764925781048,82.9764925781048,82.9764925781048,82.9764925781048,82.9764925781048,82.9764925781048,82.9764925781048,82.9764925781048,82.9764925781048,82.9764925781048,82.9764925781048,82.9764925781048,82.9764925781048,82.9764925781048,83.0820770101756,83.0820770101756,83.0820770101756,83.0820770101756,83.0820770101756,83.0820770101756,83.0820770101756,83.0820770101756,83.0820770101756,83.0820770101756,83.0820770101756,83.0820770101756,83.0820770101756,83.0820770101756,83.0820770101756,83.0820770101756,83.0820770101756,83.0820770101756,83.0820770101756,83.0820770101756,83.0820770101756,83.0820770101756,83.0820770101756,83.0820770101756,83.0820770101756,83.0820770101756,83.0820770101756,83.0820770101756,83.1876614422464,83.1876614422464,83.1876614422464,83.1876614422464,83.1876614422464,83.1876614422464,83.1876614422464,83.1876614422464,83.1876614422464,83.1876614422464,83.1876614422464,83.1876614422464,83.1876614422464,83.1876614422464,83.1876614422464,83.1876614422464,83.1876614422464,83.1876614422464,83.1876614422464,83.1876614422464,83.1876614422464,83.1876614422464,83.1876614422464,83.1876614422464,83.2932458743172,83.2932458743172,83.2932458743172,83.2932458743172,83.2932458743172,83.2932458743172,83.2932458743172,83.2932458743172,83.2932458743172,83.2932458743172,83.2932458743172,83.2932458743172,83.2932458743172,83.2932458743172,83.2932458743172,83.2932458743172,83.2932458743172,83.39883030638799,83.39883030638799,83.39883030638799,83.39883030638799,83.39883030638799,83.39883030638799,83.39883030638799,83.39883030638799,83.39883030638799,83.39883030638799,83.39883030638799,83.39883030638799,83.39883030638799,83.39883030638799,83.39883030638799,83.39883030638799,83.39883030638799,83.39883030638799,83.39883030638799,83.39883030638799,83.39883030638799,83.39883030638799,83.39883030638799,83.39883030638799,83.39883030638799,83.39883030638799,83.39883030638799,83.39883030638799,83.39883030638799,83.39883030638799,83.39883030638799,83.39883030638799,83.39883030638799,83.39883030638799,83.39883030638799,83.50441473845879,83.50441473845879,83.50441473845879,83.50441473845879,83.50441473845879,83.50441473845879,83.50441473845879,83.50441473845879,83.50441473845879,83.50441473845879,83.50441473845879,83.50441473845879,83.50441473845879,83.50441473845879,83.50441473845879,83.50441473845879,83.50441473845879,83.50441473845879,83.50441473845879,83.50441473845879,83.50441473845879,83.50441473845879,83.50441473845879,83.50441473845879,83.50441473845879,83.50441473845879,83.50441473845879,83.50441473845879,83.50441473845879,83.50441473845879,83.50441473845879,83.50441473845879,83.60999917052959,83.60999917052959,83.60999917052959,83.60999917052959,83.60999917052959,83.60999917052959,83.60999917052959,83.60999917052959,83.60999917052959,83.60999917052959,83.60999917052959,83.60999917052959,83.60999917052959,83.60999917052959,83.60999917052959,83.60999917052959,83.60999917052959,83.60999917052959,83.60999917052959,83.60999917052959,83.60999917052959,83.60999917052959,83.60999917052959,83.60999917052959,83.60999917052959,83.60999917052959,83.60999917052959,83.60999917052959,83.60999917052959,83.71558360260042,83.71558360260042,83.71558360260042,83.71558360260042,83.71558360260042,83.71558360260042,83.71558360260042,83.71558360260042,83.71558360260042,83.71558360260042,83.71558360260042,83.71558360260042,83.71558360260042,83.71558360260042,83.71558360260042,83.71558360260042,83.71558360260042,83.71558360260042,83.71558360260042,83.71558360260042,83.71558360260042,83.71558360260042,83.82116803467122,83.82116803467122,83.82116803467122,83.82116803467122,83.82116803467122,83.82116803467122,83.82116803467122,83.82116803467122,83.82116803467122,83.82116803467122,83.82116803467122,83.82116803467122,83.82116803467122,83.82116803467122,83.82116803467122,83.92675246674202,83.92675246674202,83.92675246674202,83.92675246674202,83.92675246674202,83.92675246674202,83.92675246674202,83.92675246674202,83.92675246674202,83.92675246674202,84.03233689881282,84.03233689881282,84.03233689881282,84.03233689881282,84.03233689881282,84.03233689881282,84.13792133088361,84.13792133088361,84.13792133088361,84.13792133088361,84.13792133088361,84.13792133088361,84.13792133088361,84.13792133088361,84.13792133088361,84.13792133088361,84.24350576295441,84.24350576295441,84.24350576295441,84.34909019502521,84.34909019502521,84.34909019502521,84.34909019502521,84.34909019502521,84.45467462709601,84.45467462709601,84.45467462709601,84.45467462709601,84.45467462709601,84.45467462709601,84.45467462709601,84.56025905916681,84.56025905916681,84.56025905916681,84.56025905916681,84.56025905916681,84.56025905916681,84.66584349123761,84.66584349123761,84.77142792330842,84.77142792330842,84.77142792330842,84.77142792330842,84.77142792330842,84.77142792330842,84.77142792330842,84.77142792330842,84.77142792330842,84.77142792330842,84.77142792330842,84.87701235537922,84.98259678745002,84.98259678745002,85.08818121952083,85.19376565159163,85.29935008366243,85.29935008366243,85.29935008366243,85.40493451573323,85.40493451573323,85.40493451573323,85.51051894780403,85.51051894780403,85.61610337987483,85.61610337987483,85.61610337987483,85.82727224401643,85.82727224401643,85.82727224401643,85.82727224401643,85.93285667608724,86.24960997229964,86.24960997229964,86.24960997229964,86.56636326851205,86.56636326851205,86.56636326851205,86.56636326851205,86.56636326851205,86.56636326851205,86.88311656472445,86.88311656472445,87.19986986093686,87.19986986093686,87.30545429300766,87.41103872507846,87.62220758922005,88.04454531750326],\"yaxis\":\"y\"}],                        {\"legend\":{\"tracegroupgap\":0},\"margin\":{\"t\":60},\"template\":{\"data\":{\"bar\":[{\"error_x\":{\"color\":\"#2a3f5f\"},\"error_y\":{\"color\":\"#2a3f5f\"},\"marker\":{\"line\":{\"color\":\"#E5ECF6\",\"width\":0.5},\"pattern\":{\"fillmode\":\"overlay\",\"size\":10,\"solidity\":0.2}},\"type\":\"bar\"}],\"barpolar\":[{\"marker\":{\"line\":{\"color\":\"#E5ECF6\",\"width\":0.5},\"pattern\":{\"fillmode\":\"overlay\",\"size\":10,\"solidity\":0.2}},\"type\":\"barpolar\"}],\"carpet\":[{\"aaxis\":{\"endlinecolor\":\"#2a3f5f\",\"gridcolor\":\"white\",\"linecolor\":\"white\",\"minorgridcolor\":\"white\",\"startlinecolor\":\"#2a3f5f\"},\"baxis\":{\"endlinecolor\":\"#2a3f5f\",\"gridcolor\":\"white\",\"linecolor\":\"white\",\"minorgridcolor\":\"white\",\"startlinecolor\":\"#2a3f5f\"},\"type\":\"carpet\"}],\"choropleth\":[{\"colorbar\":{\"outlinewidth\":0,\"ticks\":\"\"},\"type\":\"choropleth\"}],\"contour\":[{\"colorbar\":{\"outlinewidth\":0,\"ticks\":\"\"},\"colorscale\":[[0.0,\"#0d0887\"],[0.1111111111111111,\"#46039f\"],[0.2222222222222222,\"#7201a8\"],[0.3333333333333333,\"#9c179e\"],[0.4444444444444444,\"#bd3786\"],[0.5555555555555556,\"#d8576b\"],[0.6666666666666666,\"#ed7953\"],[0.7777777777777778,\"#fb9f3a\"],[0.8888888888888888,\"#fdca26\"],[1.0,\"#f0f921\"]],\"type\":\"contour\"}],\"contourcarpet\":[{\"colorbar\":{\"outlinewidth\":0,\"ticks\":\"\"},\"type\":\"contourcarpet\"}],\"heatmap\":[{\"colorbar\":{\"outlinewidth\":0,\"ticks\":\"\"},\"colorscale\":[[0.0,\"#0d0887\"],[0.1111111111111111,\"#46039f\"],[0.2222222222222222,\"#7201a8\"],[0.3333333333333333,\"#9c179e\"],[0.4444444444444444,\"#bd3786\"],[0.5555555555555556,\"#d8576b\"],[0.6666666666666666,\"#ed7953\"],[0.7777777777777778,\"#fb9f3a\"],[0.8888888888888888,\"#fdca26\"],[1.0,\"#f0f921\"]],\"type\":\"heatmap\"}],\"heatmapgl\":[{\"colorbar\":{\"outlinewidth\":0,\"ticks\":\"\"},\"colorscale\":[[0.0,\"#0d0887\"],[0.1111111111111111,\"#46039f\"],[0.2222222222222222,\"#7201a8\"],[0.3333333333333333,\"#9c179e\"],[0.4444444444444444,\"#bd3786\"],[0.5555555555555556,\"#d8576b\"],[0.6666666666666666,\"#ed7953\"],[0.7777777777777778,\"#fb9f3a\"],[0.8888888888888888,\"#fdca26\"],[1.0,\"#f0f921\"]],\"type\":\"heatmapgl\"}],\"histogram\":[{\"marker\":{\"pattern\":{\"fillmode\":\"overlay\",\"size\":10,\"solidity\":0.2}},\"type\":\"histogram\"}],\"histogram2d\":[{\"colorbar\":{\"outlinewidth\":0,\"ticks\":\"\"},\"colorscale\":[[0.0,\"#0d0887\"],[0.1111111111111111,\"#46039f\"],[0.2222222222222222,\"#7201a8\"],[0.3333333333333333,\"#9c179e\"],[0.4444444444444444,\"#bd3786\"],[0.5555555555555556,\"#d8576b\"],[0.6666666666666666,\"#ed7953\"],[0.7777777777777778,\"#fb9f3a\"],[0.8888888888888888,\"#fdca26\"],[1.0,\"#f0f921\"]],\"type\":\"histogram2d\"}],\"histogram2dcontour\":[{\"colorbar\":{\"outlinewidth\":0,\"ticks\":\"\"},\"colorscale\":[[0.0,\"#0d0887\"],[0.1111111111111111,\"#46039f\"],[0.2222222222222222,\"#7201a8\"],[0.3333333333333333,\"#9c179e\"],[0.4444444444444444,\"#bd3786\"],[0.5555555555555556,\"#d8576b\"],[0.6666666666666666,\"#ed7953\"],[0.7777777777777778,\"#fb9f3a\"],[0.8888888888888888,\"#fdca26\"],[1.0,\"#f0f921\"]],\"type\":\"histogram2dcontour\"}],\"mesh3d\":[{\"colorbar\":{\"outlinewidth\":0,\"ticks\":\"\"},\"type\":\"mesh3d\"}],\"parcoords\":[{\"line\":{\"colorbar\":{\"outlinewidth\":0,\"ticks\":\"\"}},\"type\":\"parcoords\"}],\"pie\":[{\"automargin\":true,\"type\":\"pie\"}],\"scatter\":[{\"marker\":{\"colorbar\":{\"outlinewidth\":0,\"ticks\":\"\"}},\"type\":\"scatter\"}],\"scatter3d\":[{\"line\":{\"colorbar\":{\"outlinewidth\":0,\"ticks\":\"\"}},\"marker\":{\"colorbar\":{\"outlinewidth\":0,\"ticks\":\"\"}},\"type\":\"scatter3d\"}],\"scattercarpet\":[{\"marker\":{\"colorbar\":{\"outlinewidth\":0,\"ticks\":\"\"}},\"type\":\"scattercarpet\"}],\"scattergeo\":[{\"marker\":{\"colorbar\":{\"outlinewidth\":0,\"ticks\":\"\"}},\"type\":\"scattergeo\"}],\"scattergl\":[{\"marker\":{\"colorbar\":{\"outlinewidth\":0,\"ticks\":\"\"}},\"type\":\"scattergl\"}],\"scattermapbox\":[{\"marker\":{\"colorbar\":{\"outlinewidth\":0,\"ticks\":\"\"}},\"type\":\"scattermapbox\"}],\"scatterpolar\":[{\"marker\":{\"colorbar\":{\"outlinewidth\":0,\"ticks\":\"\"}},\"type\":\"scatterpolar\"}],\"scatterpolargl\":[{\"marker\":{\"colorbar\":{\"outlinewidth\":0,\"ticks\":\"\"}},\"type\":\"scatterpolargl\"}],\"scatterternary\":[{\"marker\":{\"colorbar\":{\"outlinewidth\":0,\"ticks\":\"\"}},\"type\":\"scatterternary\"}],\"surface\":[{\"colorbar\":{\"outlinewidth\":0,\"ticks\":\"\"},\"colorscale\":[[0.0,\"#0d0887\"],[0.1111111111111111,\"#46039f\"],[0.2222222222222222,\"#7201a8\"],[0.3333333333333333,\"#9c179e\"],[0.4444444444444444,\"#bd3786\"],[0.5555555555555556,\"#d8576b\"],[0.6666666666666666,\"#ed7953\"],[0.7777777777777778,\"#fb9f3a\"],[0.8888888888888888,\"#fdca26\"],[1.0,\"#f0f921\"]],\"type\":\"surface\"}],\"table\":[{\"cells\":{\"fill\":{\"color\":\"#EBF0F8\"},\"line\":{\"color\":\"white\"}},\"header\":{\"fill\":{\"color\":\"#C8D4E3\"},\"line\":{\"color\":\"white\"}},\"type\":\"table\"}]},\"layout\":{\"annotationdefaults\":{\"arrowcolor\":\"#2a3f5f\",\"arrowhead\":0,\"arrowwidth\":1},\"autotypenumbers\":\"strict\",\"coloraxis\":{\"colorbar\":{\"outlinewidth\":0,\"ticks\":\"\"}},\"colorscale\":{\"diverging\":[[0,\"#8e0152\"],[0.1,\"#c51b7d\"],[0.2,\"#de77ae\"],[0.3,\"#f1b6da\"],[0.4,\"#fde0ef\"],[0.5,\"#f7f7f7\"],[0.6,\"#e6f5d0\"],[0.7,\"#b8e186\"],[0.8,\"#7fbc41\"],[0.9,\"#4d9221\"],[1,\"#276419\"]],\"sequential\":[[0.0,\"#0d0887\"],[0.1111111111111111,\"#46039f\"],[0.2222222222222222,\"#7201a8\"],[0.3333333333333333,\"#9c179e\"],[0.4444444444444444,\"#bd3786\"],[0.5555555555555556,\"#d8576b\"],[0.6666666666666666,\"#ed7953\"],[0.7777777777777778,\"#fb9f3a\"],[0.8888888888888888,\"#fdca26\"],[1.0,\"#f0f921\"]],\"sequentialminus\":[[0.0,\"#0d0887\"],[0.1111111111111111,\"#46039f\"],[0.2222222222222222,\"#7201a8\"],[0.3333333333333333,\"#9c179e\"],[0.4444444444444444,\"#bd3786\"],[0.5555555555555556,\"#d8576b\"],[0.6666666666666666,\"#ed7953\"],[0.7777777777777778,\"#fb9f3a\"],[0.8888888888888888,\"#fdca26\"],[1.0,\"#f0f921\"]]},\"colorway\":[\"#636efa\",\"#EF553B\",\"#00cc96\",\"#ab63fa\",\"#FFA15A\",\"#19d3f3\",\"#FF6692\",\"#B6E880\",\"#FF97FF\",\"#FECB52\"],\"font\":{\"color\":\"#2a3f5f\"},\"geo\":{\"bgcolor\":\"white\",\"lakecolor\":\"white\",\"landcolor\":\"#E5ECF6\",\"showlakes\":true,\"showland\":true,\"subunitcolor\":\"white\"},\"hoverlabel\":{\"align\":\"left\"},\"hovermode\":\"closest\",\"mapbox\":{\"style\":\"light\"},\"paper_bgcolor\":\"white\",\"plot_bgcolor\":\"#E5ECF6\",\"polar\":{\"angularaxis\":{\"gridcolor\":\"white\",\"linecolor\":\"white\",\"ticks\":\"\"},\"bgcolor\":\"#E5ECF6\",\"radialaxis\":{\"gridcolor\":\"white\",\"linecolor\":\"white\",\"ticks\":\"\"}},\"scene\":{\"xaxis\":{\"backgroundcolor\":\"#E5ECF6\",\"gridcolor\":\"white\",\"gridwidth\":2,\"linecolor\":\"white\",\"showbackground\":true,\"ticks\":\"\",\"zerolinecolor\":\"white\"},\"yaxis\":{\"backgroundcolor\":\"#E5ECF6\",\"gridcolor\":\"white\",\"gridwidth\":2,\"linecolor\":\"white\",\"showbackground\":true,\"ticks\":\"\",\"zerolinecolor\":\"white\"},\"zaxis\":{\"backgroundcolor\":\"#E5ECF6\",\"gridcolor\":\"white\",\"gridwidth\":2,\"linecolor\":\"white\",\"showbackground\":true,\"ticks\":\"\",\"zerolinecolor\":\"white\"}},\"shapedefaults\":{\"line\":{\"color\":\"#2a3f5f\"}},\"ternary\":{\"aaxis\":{\"gridcolor\":\"white\",\"linecolor\":\"white\",\"ticks\":\"\"},\"baxis\":{\"gridcolor\":\"white\",\"linecolor\":\"white\",\"ticks\":\"\"},\"bgcolor\":\"#E5ECF6\",\"caxis\":{\"gridcolor\":\"white\",\"linecolor\":\"white\",\"ticks\":\"\"}},\"title\":{\"x\":0.05},\"xaxis\":{\"automargin\":true,\"gridcolor\":\"white\",\"linecolor\":\"white\",\"ticks\":\"\",\"title\":{\"standoff\":15},\"zerolinecolor\":\"white\",\"zerolinewidth\":2},\"yaxis\":{\"automargin\":true,\"gridcolor\":\"white\",\"linecolor\":\"white\",\"ticks\":\"\",\"title\":{\"standoff\":15},\"zerolinecolor\":\"white\",\"zerolinewidth\":2}}},\"xaxis\":{\"anchor\":\"y\",\"domain\":[0.0,1.0],\"title\":{\"text\":\"rating\"}},\"yaxis\":{\"anchor\":\"x\",\"domain\":[0.0,1.0],\"title\":{\"text\":\"metacritic\"}}},                        {\"responsive\": true}                    ).then(function(){\n                            \nvar gd = document.getElementById('aa17016e-3513-40b9-a4f1-de223bd47fa6');\nvar x = new MutationObserver(function (mutations, observer) {{\n        var display = window.getComputedStyle(gd).display;\n        if (!display || display === 'none') {{\n            console.log([gd, 'removed!']);\n            Plotly.purge(gd);\n            observer.disconnect();\n        }}\n}});\n\n// Listen for the removal of the full notebook cells\nvar notebookContainer = gd.closest('#notebook-container');\nif (notebookContainer) {{\n    x.observe(notebookContainer, {childList: true});\n}}\n\n// Listen for the clearing of the current output cell\nvar outputEl = gd.closest('.output');\nif (outputEl) {{\n    x.observe(outputEl, {childList: true});\n}}\n\n                        })                };                            </script>        </div>\n</body>\n</html>"
     },
     "metadata": {},
     "output_type": "display_data"
    }
   ],
   "execution_count": 12
  },
  {
   "cell_type": "markdown",
   "source": "We can see with the trendline that there is some consistence between Metacritic and RAWG ratings, although not perfect (R² of .359).  \n\nIn the high ratings, RAWG users seem to be more lenient than Metacritic ones (4.5/5 = 0.9 for RAWG, when Metacritic is at 85%), but for lower ratings it seems to be reversed (3/5 = 0.6 for RAWG, against 70% for Metacritic). These results might be linked to the rating system of RAWG, which offers less precision to the user than Metacritic. Therefore, little differences between both ratings should not be taken too seriously.\n\nFor low ratings however (under 3/5), it's a whole different story. The lowest rating (1/5) on RAWG corresponds to around 50/100 on Metacritic. Therefore, we should consider a rating of 50 on Metacritic to be equivalent to a bad rating.\n\nTo sum up:\n| Metacritic | <-> | RAWG |\n|:--|-|--:|\n| < 50 | <-> | < 1 |\n| 50 to 70 | <-> | 1 to 3 |\n| > 70 | <-> | > 3 |",
   "metadata": {
    "tags": [],
    "cell_id": "00027-765da6ec-2e9b-442f-ad18-d972fbbad0f4",
    "deepnote_app_coordinates": {
     "x": 0,
     "y": 159,
     "w": 12,
     "h": 5
    },
    "deepnote_cell_type": "markdown"
   }
  },
  {
   "cell_type": "markdown",
   "source": "### Compare non-quantitative columns with RAWG and Metacritic ratings\nNow, we will compare each columns with the ratings from RAWG and from Metacritic, and try to find correlations.\n\n#### Release dates\n##### Plots",
   "metadata": {
    "tags": [],
    "cell_id": "00028-763fc217-b12d-46fe-8b42-bdf8532de8eb",
    "deepnote_app_coordinates": {
     "x": 0,
     "y": 165,
     "w": 12,
     "h": 5
    },
    "deepnote_cell_type": "markdown"
   }
  },
  {
   "cell_type": "code",
   "source": "dataset[\"release_year\"] = pd.DatetimeIndex(dataset['released']).year  # We will group data by release year, in order to make a more \"large-scale\" analysis\nby_release = dataset[[\"release_year\", \"metacritic\", \"rating\"]].groupby(\"release_year\").describe()",
   "metadata": {
    "tags": [],
    "cell_id": "00031-f2b7d17d-35fc-430f-b0e0-44ea03ed2e4b",
    "deepnote_to_be_reexecuted": false,
    "source_hash": "4847341",
    "execution_start": 1634417484205,
    "execution_millis": 716,
    "deepnote_app_coordinates": {
     "x": 0,
     "y": 171,
     "w": 12,
     "h": 5
    },
    "deepnote_cell_type": "code"
   },
   "outputs": [],
   "execution_count": 13
  },
  {
   "cell_type": "markdown",
   "source": "First we will see how many games were rated per year.",
   "metadata": {
    "tags": [],
    "cell_id": "00032-10c4bc98-c458-4e1b-8e9d-d7d300234418",
    "deepnote_app_coordinates": {
     "x": 0,
     "y": 237,
     "w": 12,
     "h": 5
    },
    "deepnote_cell_type": "markdown"
   }
  },
  {
   "cell_type": "code",
   "source": "by_release[\"metacritic\"].plot.line(y=[\"count\"], title=\"Count of Metacritic ratings by release year\")",
   "metadata": {
    "tags": [],
    "cell_id": "00033-cf5b0c6f-052a-421b-be5d-0097c83634a4",
    "deepnote_to_be_reexecuted": false,
    "source_hash": "9239e88",
    "execution_start": 1634417484934,
    "execution_millis": 677,
    "deepnote_app_coordinates": {
     "x": 0,
     "y": 213,
     "w": 12,
     "h": 5
    },
    "deepnote_cell_type": "code"
   },
   "outputs": [
    {
     "data": {
      "text/html": "<html>\n<head><meta charset=\"utf-8\" /></head>\n<body>\n    <div>            <script src=\"https://cdnjs.cloudflare.com/ajax/libs/mathjax/2.7.5/MathJax.js?config=TeX-AMS-MML_SVG\"></script><script type=\"text/javascript\">if (window.MathJax) {MathJax.Hub.Config({SVG: {font: \"STIX-Web\"}});}</script>                <script type=\"text/javascript\">window.PlotlyConfig = {MathJaxConfig: 'local'};</script>\n        <script src=\"https://cdn.plot.ly/plotly-2.4.2.min.js\"></script>                <div id=\"39d81752-5b00-4f03-bd50-7bba52a1a12f\" class=\"plotly-graph-div\" style=\"height:525px; width:100%;\"></div>            <script type=\"text/javascript\">                                    window.PLOTLYENV=window.PLOTLYENV || {};                                    if (document.getElementById(\"39d81752-5b00-4f03-bd50-7bba52a1a12f\")) {                    Plotly.newPlot(                        \"39d81752-5b00-4f03-bd50-7bba52a1a12f\",                        [{\"hovertemplate\":\"variable=count<br>release_year=%{x}<br>value=%{y}<extra></extra>\",\"legendgroup\":\"count\",\"line\":{\"color\":\"#636efa\",\"dash\":\"solid\"},\"marker\":{\"symbol\":\"circle\"},\"mode\":\"lines\",\"name\":\"count\",\"orientation\":\"v\",\"showlegend\":true,\"type\":\"scatter\",\"x\":[1962,1970,1971,1972,1974,1975,1976,1977,1978,1979,1980,1981,1982,1983,1984,1985,1986,1987,1988,1989,1990,1991,1992,1993,1994,1995,1996,1997,1998,1999,2000,2001,2002,2003,2004,2005,2006,2007,2008,2009,2010,2011,2012,2013,2014,2015,2016,2017,2018,2019,2020,2021],\"xaxis\":\"x\",\"y\":[0.0,0.0,0.0,0.0,0.0,0.0,0.0,0.0,0.0,0.0,1.0,0.0,0.0,0.0,0.0,0.0,0.0,0.0,0.0,0.0,0.0,3.0,2.0,3.0,2.0,2.0,7.0,13.0,17.0,36.0,56.0,82.0,90.0,104.0,122.0,115.0,147.0,141.0,160.0,228.0,220.0,233.0,265.0,317.0,363.0,439.0,434.0,361.0,242.0,246.0,268.0,0.0],\"yaxis\":\"y\"}],                        {\"legend\":{\"title\":{\"text\":\"variable\"},\"tracegroupgap\":0},\"template\":{\"data\":{\"bar\":[{\"error_x\":{\"color\":\"#2a3f5f\"},\"error_y\":{\"color\":\"#2a3f5f\"},\"marker\":{\"line\":{\"color\":\"#E5ECF6\",\"width\":0.5},\"pattern\":{\"fillmode\":\"overlay\",\"size\":10,\"solidity\":0.2}},\"type\":\"bar\"}],\"barpolar\":[{\"marker\":{\"line\":{\"color\":\"#E5ECF6\",\"width\":0.5},\"pattern\":{\"fillmode\":\"overlay\",\"size\":10,\"solidity\":0.2}},\"type\":\"barpolar\"}],\"carpet\":[{\"aaxis\":{\"endlinecolor\":\"#2a3f5f\",\"gridcolor\":\"white\",\"linecolor\":\"white\",\"minorgridcolor\":\"white\",\"startlinecolor\":\"#2a3f5f\"},\"baxis\":{\"endlinecolor\":\"#2a3f5f\",\"gridcolor\":\"white\",\"linecolor\":\"white\",\"minorgridcolor\":\"white\",\"startlinecolor\":\"#2a3f5f\"},\"type\":\"carpet\"}],\"choropleth\":[{\"colorbar\":{\"outlinewidth\":0,\"ticks\":\"\"},\"type\":\"choropleth\"}],\"contour\":[{\"colorbar\":{\"outlinewidth\":0,\"ticks\":\"\"},\"colorscale\":[[0.0,\"#0d0887\"],[0.1111111111111111,\"#46039f\"],[0.2222222222222222,\"#7201a8\"],[0.3333333333333333,\"#9c179e\"],[0.4444444444444444,\"#bd3786\"],[0.5555555555555556,\"#d8576b\"],[0.6666666666666666,\"#ed7953\"],[0.7777777777777778,\"#fb9f3a\"],[0.8888888888888888,\"#fdca26\"],[1.0,\"#f0f921\"]],\"type\":\"contour\"}],\"contourcarpet\":[{\"colorbar\":{\"outlinewidth\":0,\"ticks\":\"\"},\"type\":\"contourcarpet\"}],\"heatmap\":[{\"colorbar\":{\"outlinewidth\":0,\"ticks\":\"\"},\"colorscale\":[[0.0,\"#0d0887\"],[0.1111111111111111,\"#46039f\"],[0.2222222222222222,\"#7201a8\"],[0.3333333333333333,\"#9c179e\"],[0.4444444444444444,\"#bd3786\"],[0.5555555555555556,\"#d8576b\"],[0.6666666666666666,\"#ed7953\"],[0.7777777777777778,\"#fb9f3a\"],[0.8888888888888888,\"#fdca26\"],[1.0,\"#f0f921\"]],\"type\":\"heatmap\"}],\"heatmapgl\":[{\"colorbar\":{\"outlinewidth\":0,\"ticks\":\"\"},\"colorscale\":[[0.0,\"#0d0887\"],[0.1111111111111111,\"#46039f\"],[0.2222222222222222,\"#7201a8\"],[0.3333333333333333,\"#9c179e\"],[0.4444444444444444,\"#bd3786\"],[0.5555555555555556,\"#d8576b\"],[0.6666666666666666,\"#ed7953\"],[0.7777777777777778,\"#fb9f3a\"],[0.8888888888888888,\"#fdca26\"],[1.0,\"#f0f921\"]],\"type\":\"heatmapgl\"}],\"histogram\":[{\"marker\":{\"pattern\":{\"fillmode\":\"overlay\",\"size\":10,\"solidity\":0.2}},\"type\":\"histogram\"}],\"histogram2d\":[{\"colorbar\":{\"outlinewidth\":0,\"ticks\":\"\"},\"colorscale\":[[0.0,\"#0d0887\"],[0.1111111111111111,\"#46039f\"],[0.2222222222222222,\"#7201a8\"],[0.3333333333333333,\"#9c179e\"],[0.4444444444444444,\"#bd3786\"],[0.5555555555555556,\"#d8576b\"],[0.6666666666666666,\"#ed7953\"],[0.7777777777777778,\"#fb9f3a\"],[0.8888888888888888,\"#fdca26\"],[1.0,\"#f0f921\"]],\"type\":\"histogram2d\"}],\"histogram2dcontour\":[{\"colorbar\":{\"outlinewidth\":0,\"ticks\":\"\"},\"colorscale\":[[0.0,\"#0d0887\"],[0.1111111111111111,\"#46039f\"],[0.2222222222222222,\"#7201a8\"],[0.3333333333333333,\"#9c179e\"],[0.4444444444444444,\"#bd3786\"],[0.5555555555555556,\"#d8576b\"],[0.6666666666666666,\"#ed7953\"],[0.7777777777777778,\"#fb9f3a\"],[0.8888888888888888,\"#fdca26\"],[1.0,\"#f0f921\"]],\"type\":\"histogram2dcontour\"}],\"mesh3d\":[{\"colorbar\":{\"outlinewidth\":0,\"ticks\":\"\"},\"type\":\"mesh3d\"}],\"parcoords\":[{\"line\":{\"colorbar\":{\"outlinewidth\":0,\"ticks\":\"\"}},\"type\":\"parcoords\"}],\"pie\":[{\"automargin\":true,\"type\":\"pie\"}],\"scatter\":[{\"marker\":{\"colorbar\":{\"outlinewidth\":0,\"ticks\":\"\"}},\"type\":\"scatter\"}],\"scatter3d\":[{\"line\":{\"colorbar\":{\"outlinewidth\":0,\"ticks\":\"\"}},\"marker\":{\"colorbar\":{\"outlinewidth\":0,\"ticks\":\"\"}},\"type\":\"scatter3d\"}],\"scattercarpet\":[{\"marker\":{\"colorbar\":{\"outlinewidth\":0,\"ticks\":\"\"}},\"type\":\"scattercarpet\"}],\"scattergeo\":[{\"marker\":{\"colorbar\":{\"outlinewidth\":0,\"ticks\":\"\"}},\"type\":\"scattergeo\"}],\"scattergl\":[{\"marker\":{\"colorbar\":{\"outlinewidth\":0,\"ticks\":\"\"}},\"type\":\"scattergl\"}],\"scattermapbox\":[{\"marker\":{\"colorbar\":{\"outlinewidth\":0,\"ticks\":\"\"}},\"type\":\"scattermapbox\"}],\"scatterpolar\":[{\"marker\":{\"colorbar\":{\"outlinewidth\":0,\"ticks\":\"\"}},\"type\":\"scatterpolar\"}],\"scatterpolargl\":[{\"marker\":{\"colorbar\":{\"outlinewidth\":0,\"ticks\":\"\"}},\"type\":\"scatterpolargl\"}],\"scatterternary\":[{\"marker\":{\"colorbar\":{\"outlinewidth\":0,\"ticks\":\"\"}},\"type\":\"scatterternary\"}],\"surface\":[{\"colorbar\":{\"outlinewidth\":0,\"ticks\":\"\"},\"colorscale\":[[0.0,\"#0d0887\"],[0.1111111111111111,\"#46039f\"],[0.2222222222222222,\"#7201a8\"],[0.3333333333333333,\"#9c179e\"],[0.4444444444444444,\"#bd3786\"],[0.5555555555555556,\"#d8576b\"],[0.6666666666666666,\"#ed7953\"],[0.7777777777777778,\"#fb9f3a\"],[0.8888888888888888,\"#fdca26\"],[1.0,\"#f0f921\"]],\"type\":\"surface\"}],\"table\":[{\"cells\":{\"fill\":{\"color\":\"#EBF0F8\"},\"line\":{\"color\":\"white\"}},\"header\":{\"fill\":{\"color\":\"#C8D4E3\"},\"line\":{\"color\":\"white\"}},\"type\":\"table\"}]},\"layout\":{\"annotationdefaults\":{\"arrowcolor\":\"#2a3f5f\",\"arrowhead\":0,\"arrowwidth\":1},\"autotypenumbers\":\"strict\",\"coloraxis\":{\"colorbar\":{\"outlinewidth\":0,\"ticks\":\"\"}},\"colorscale\":{\"diverging\":[[0,\"#8e0152\"],[0.1,\"#c51b7d\"],[0.2,\"#de77ae\"],[0.3,\"#f1b6da\"],[0.4,\"#fde0ef\"],[0.5,\"#f7f7f7\"],[0.6,\"#e6f5d0\"],[0.7,\"#b8e186\"],[0.8,\"#7fbc41\"],[0.9,\"#4d9221\"],[1,\"#276419\"]],\"sequential\":[[0.0,\"#0d0887\"],[0.1111111111111111,\"#46039f\"],[0.2222222222222222,\"#7201a8\"],[0.3333333333333333,\"#9c179e\"],[0.4444444444444444,\"#bd3786\"],[0.5555555555555556,\"#d8576b\"],[0.6666666666666666,\"#ed7953\"],[0.7777777777777778,\"#fb9f3a\"],[0.8888888888888888,\"#fdca26\"],[1.0,\"#f0f921\"]],\"sequentialminus\":[[0.0,\"#0d0887\"],[0.1111111111111111,\"#46039f\"],[0.2222222222222222,\"#7201a8\"],[0.3333333333333333,\"#9c179e\"],[0.4444444444444444,\"#bd3786\"],[0.5555555555555556,\"#d8576b\"],[0.6666666666666666,\"#ed7953\"],[0.7777777777777778,\"#fb9f3a\"],[0.8888888888888888,\"#fdca26\"],[1.0,\"#f0f921\"]]},\"colorway\":[\"#636efa\",\"#EF553B\",\"#00cc96\",\"#ab63fa\",\"#FFA15A\",\"#19d3f3\",\"#FF6692\",\"#B6E880\",\"#FF97FF\",\"#FECB52\"],\"font\":{\"color\":\"#2a3f5f\"},\"geo\":{\"bgcolor\":\"white\",\"lakecolor\":\"white\",\"landcolor\":\"#E5ECF6\",\"showlakes\":true,\"showland\":true,\"subunitcolor\":\"white\"},\"hoverlabel\":{\"align\":\"left\"},\"hovermode\":\"closest\",\"mapbox\":{\"style\":\"light\"},\"paper_bgcolor\":\"white\",\"plot_bgcolor\":\"#E5ECF6\",\"polar\":{\"angularaxis\":{\"gridcolor\":\"white\",\"linecolor\":\"white\",\"ticks\":\"\"},\"bgcolor\":\"#E5ECF6\",\"radialaxis\":{\"gridcolor\":\"white\",\"linecolor\":\"white\",\"ticks\":\"\"}},\"scene\":{\"xaxis\":{\"backgroundcolor\":\"#E5ECF6\",\"gridcolor\":\"white\",\"gridwidth\":2,\"linecolor\":\"white\",\"showbackground\":true,\"ticks\":\"\",\"zerolinecolor\":\"white\"},\"yaxis\":{\"backgroundcolor\":\"#E5ECF6\",\"gridcolor\":\"white\",\"gridwidth\":2,\"linecolor\":\"white\",\"showbackground\":true,\"ticks\":\"\",\"zerolinecolor\":\"white\"},\"zaxis\":{\"backgroundcolor\":\"#E5ECF6\",\"gridcolor\":\"white\",\"gridwidth\":2,\"linecolor\":\"white\",\"showbackground\":true,\"ticks\":\"\",\"zerolinecolor\":\"white\"}},\"shapedefaults\":{\"line\":{\"color\":\"#2a3f5f\"}},\"ternary\":{\"aaxis\":{\"gridcolor\":\"white\",\"linecolor\":\"white\",\"ticks\":\"\"},\"baxis\":{\"gridcolor\":\"white\",\"linecolor\":\"white\",\"ticks\":\"\"},\"bgcolor\":\"#E5ECF6\",\"caxis\":{\"gridcolor\":\"white\",\"linecolor\":\"white\",\"ticks\":\"\"}},\"title\":{\"x\":0.05},\"xaxis\":{\"automargin\":true,\"gridcolor\":\"white\",\"linecolor\":\"white\",\"ticks\":\"\",\"title\":{\"standoff\":15},\"zerolinecolor\":\"white\",\"zerolinewidth\":2},\"yaxis\":{\"automargin\":true,\"gridcolor\":\"white\",\"linecolor\":\"white\",\"ticks\":\"\",\"title\":{\"standoff\":15},\"zerolinecolor\":\"white\",\"zerolinewidth\":2}}},\"title\":{\"text\":\"Count of Metacritic ratings by release year\"},\"xaxis\":{\"anchor\":\"y\",\"domain\":[0.0,1.0],\"title\":{\"text\":\"release_year\"}},\"yaxis\":{\"anchor\":\"x\",\"domain\":[0.0,1.0],\"title\":{\"text\":\"value\"}}},                        {\"responsive\": true}                    ).then(function(){\n                            \nvar gd = document.getElementById('39d81752-5b00-4f03-bd50-7bba52a1a12f');\nvar x = new MutationObserver(function (mutations, observer) {{\n        var display = window.getComputedStyle(gd).display;\n        if (!display || display === 'none') {{\n            console.log([gd, 'removed!']);\n            Plotly.purge(gd);\n            observer.disconnect();\n        }}\n}});\n\n// Listen for the removal of the full notebook cells\nvar notebookContainer = gd.closest('#notebook-container');\nif (notebookContainer) {{\n    x.observe(notebookContainer, {childList: true});\n}}\n\n// Listen for the clearing of the current output cell\nvar outputEl = gd.closest('.output');\nif (outputEl) {{\n    x.observe(outputEl, {childList: true});\n}}\n\n                        })                };                            </script>        </div>\n</body>\n</html>"
     },
     "metadata": {},
     "output_type": "display_data"
    }
   ],
   "execution_count": 14
  },
  {
   "cell_type": "code",
   "source": "by_release[\"rating\"].plot.line(y=[\"count\"], title=\"Count of RAWG ratings by release year\")",
   "metadata": {
    "tags": [],
    "cell_id": "00035-02acc177-207c-4475-a660-0b8203e7b3ae",
    "deepnote_to_be_reexecuted": false,
    "source_hash": "f22ccf2f",
    "execution_start": 1634417485113,
    "execution_millis": 500,
    "deepnote_app_coordinates": {
     "x": 0,
     "y": 219,
     "w": 12,
     "h": 5
    },
    "deepnote_cell_type": "code"
   },
   "outputs": [
    {
     "data": {
      "text/html": "<html>\n<head><meta charset=\"utf-8\" /></head>\n<body>\n    <div>            <script src=\"https://cdnjs.cloudflare.com/ajax/libs/mathjax/2.7.5/MathJax.js?config=TeX-AMS-MML_SVG\"></script><script type=\"text/javascript\">if (window.MathJax) {MathJax.Hub.Config({SVG: {font: \"STIX-Web\"}});}</script>                <script type=\"text/javascript\">window.PlotlyConfig = {MathJaxConfig: 'local'};</script>\n        <script src=\"https://cdn.plot.ly/plotly-2.4.2.min.js\"></script>                <div id=\"76076a9a-263a-422c-b79a-781b0983e788\" class=\"plotly-graph-div\" style=\"height:525px; width:100%;\"></div>            <script type=\"text/javascript\">                                    window.PLOTLYENV=window.PLOTLYENV || {};                                    if (document.getElementById(\"76076a9a-263a-422c-b79a-781b0983e788\")) {                    Plotly.newPlot(                        \"76076a9a-263a-422c-b79a-781b0983e788\",                        [{\"hovertemplate\":\"variable=count<br>release_year=%{x}<br>value=%{y}<extra></extra>\",\"legendgroup\":\"count\",\"line\":{\"color\":\"#636efa\",\"dash\":\"solid\"},\"marker\":{\"symbol\":\"circle\"},\"mode\":\"lines\",\"name\":\"count\",\"orientation\":\"v\",\"showlegend\":true,\"type\":\"scatter\",\"x\":[1962,1970,1971,1972,1974,1975,1976,1977,1978,1979,1980,1981,1982,1983,1984,1985,1986,1987,1988,1989,1990,1991,1992,1993,1994,1995,1996,1997,1998,1999,2000,2001,2002,2003,2004,2005,2006,2007,2008,2009,2010,2011,2012,2013,2014,2015,2016,2017,2018,2019,2020,2021],\"xaxis\":\"x\",\"y\":[1.0,0.0,2.0,1.0,0.0,0.0,2.0,1.0,2.0,4.0,5.0,9.0,13.0,13.0,22.0,28.0,25.0,38.0,32.0,35.0,53.0,83.0,91.0,117.0,120.0,135.0,117.0,135.0,146.0,204.0,180.0,186.0,173.0,227.0,244.0,260.0,271.0,289.0,356.0,436.0,468.0,451.0,563.0,657.0,905.0,1056.0,1218.0,935.0,693.0,508.0,296.0,2.0],\"yaxis\":\"y\"}],                        {\"legend\":{\"title\":{\"text\":\"variable\"},\"tracegroupgap\":0},\"template\":{\"data\":{\"bar\":[{\"error_x\":{\"color\":\"#2a3f5f\"},\"error_y\":{\"color\":\"#2a3f5f\"},\"marker\":{\"line\":{\"color\":\"#E5ECF6\",\"width\":0.5},\"pattern\":{\"fillmode\":\"overlay\",\"size\":10,\"solidity\":0.2}},\"type\":\"bar\"}],\"barpolar\":[{\"marker\":{\"line\":{\"color\":\"#E5ECF6\",\"width\":0.5},\"pattern\":{\"fillmode\":\"overlay\",\"size\":10,\"solidity\":0.2}},\"type\":\"barpolar\"}],\"carpet\":[{\"aaxis\":{\"endlinecolor\":\"#2a3f5f\",\"gridcolor\":\"white\",\"linecolor\":\"white\",\"minorgridcolor\":\"white\",\"startlinecolor\":\"#2a3f5f\"},\"baxis\":{\"endlinecolor\":\"#2a3f5f\",\"gridcolor\":\"white\",\"linecolor\":\"white\",\"minorgridcolor\":\"white\",\"startlinecolor\":\"#2a3f5f\"},\"type\":\"carpet\"}],\"choropleth\":[{\"colorbar\":{\"outlinewidth\":0,\"ticks\":\"\"},\"type\":\"choropleth\"}],\"contour\":[{\"colorbar\":{\"outlinewidth\":0,\"ticks\":\"\"},\"colorscale\":[[0.0,\"#0d0887\"],[0.1111111111111111,\"#46039f\"],[0.2222222222222222,\"#7201a8\"],[0.3333333333333333,\"#9c179e\"],[0.4444444444444444,\"#bd3786\"],[0.5555555555555556,\"#d8576b\"],[0.6666666666666666,\"#ed7953\"],[0.7777777777777778,\"#fb9f3a\"],[0.8888888888888888,\"#fdca26\"],[1.0,\"#f0f921\"]],\"type\":\"contour\"}],\"contourcarpet\":[{\"colorbar\":{\"outlinewidth\":0,\"ticks\":\"\"},\"type\":\"contourcarpet\"}],\"heatmap\":[{\"colorbar\":{\"outlinewidth\":0,\"ticks\":\"\"},\"colorscale\":[[0.0,\"#0d0887\"],[0.1111111111111111,\"#46039f\"],[0.2222222222222222,\"#7201a8\"],[0.3333333333333333,\"#9c179e\"],[0.4444444444444444,\"#bd3786\"],[0.5555555555555556,\"#d8576b\"],[0.6666666666666666,\"#ed7953\"],[0.7777777777777778,\"#fb9f3a\"],[0.8888888888888888,\"#fdca26\"],[1.0,\"#f0f921\"]],\"type\":\"heatmap\"}],\"heatmapgl\":[{\"colorbar\":{\"outlinewidth\":0,\"ticks\":\"\"},\"colorscale\":[[0.0,\"#0d0887\"],[0.1111111111111111,\"#46039f\"],[0.2222222222222222,\"#7201a8\"],[0.3333333333333333,\"#9c179e\"],[0.4444444444444444,\"#bd3786\"],[0.5555555555555556,\"#d8576b\"],[0.6666666666666666,\"#ed7953\"],[0.7777777777777778,\"#fb9f3a\"],[0.8888888888888888,\"#fdca26\"],[1.0,\"#f0f921\"]],\"type\":\"heatmapgl\"}],\"histogram\":[{\"marker\":{\"pattern\":{\"fillmode\":\"overlay\",\"size\":10,\"solidity\":0.2}},\"type\":\"histogram\"}],\"histogram2d\":[{\"colorbar\":{\"outlinewidth\":0,\"ticks\":\"\"},\"colorscale\":[[0.0,\"#0d0887\"],[0.1111111111111111,\"#46039f\"],[0.2222222222222222,\"#7201a8\"],[0.3333333333333333,\"#9c179e\"],[0.4444444444444444,\"#bd3786\"],[0.5555555555555556,\"#d8576b\"],[0.6666666666666666,\"#ed7953\"],[0.7777777777777778,\"#fb9f3a\"],[0.8888888888888888,\"#fdca26\"],[1.0,\"#f0f921\"]],\"type\":\"histogram2d\"}],\"histogram2dcontour\":[{\"colorbar\":{\"outlinewidth\":0,\"ticks\":\"\"},\"colorscale\":[[0.0,\"#0d0887\"],[0.1111111111111111,\"#46039f\"],[0.2222222222222222,\"#7201a8\"],[0.3333333333333333,\"#9c179e\"],[0.4444444444444444,\"#bd3786\"],[0.5555555555555556,\"#d8576b\"],[0.6666666666666666,\"#ed7953\"],[0.7777777777777778,\"#fb9f3a\"],[0.8888888888888888,\"#fdca26\"],[1.0,\"#f0f921\"]],\"type\":\"histogram2dcontour\"}],\"mesh3d\":[{\"colorbar\":{\"outlinewidth\":0,\"ticks\":\"\"},\"type\":\"mesh3d\"}],\"parcoords\":[{\"line\":{\"colorbar\":{\"outlinewidth\":0,\"ticks\":\"\"}},\"type\":\"parcoords\"}],\"pie\":[{\"automargin\":true,\"type\":\"pie\"}],\"scatter\":[{\"marker\":{\"colorbar\":{\"outlinewidth\":0,\"ticks\":\"\"}},\"type\":\"scatter\"}],\"scatter3d\":[{\"line\":{\"colorbar\":{\"outlinewidth\":0,\"ticks\":\"\"}},\"marker\":{\"colorbar\":{\"outlinewidth\":0,\"ticks\":\"\"}},\"type\":\"scatter3d\"}],\"scattercarpet\":[{\"marker\":{\"colorbar\":{\"outlinewidth\":0,\"ticks\":\"\"}},\"type\":\"scattercarpet\"}],\"scattergeo\":[{\"marker\":{\"colorbar\":{\"outlinewidth\":0,\"ticks\":\"\"}},\"type\":\"scattergeo\"}],\"scattergl\":[{\"marker\":{\"colorbar\":{\"outlinewidth\":0,\"ticks\":\"\"}},\"type\":\"scattergl\"}],\"scattermapbox\":[{\"marker\":{\"colorbar\":{\"outlinewidth\":0,\"ticks\":\"\"}},\"type\":\"scattermapbox\"}],\"scatterpolar\":[{\"marker\":{\"colorbar\":{\"outlinewidth\":0,\"ticks\":\"\"}},\"type\":\"scatterpolar\"}],\"scatterpolargl\":[{\"marker\":{\"colorbar\":{\"outlinewidth\":0,\"ticks\":\"\"}},\"type\":\"scatterpolargl\"}],\"scatterternary\":[{\"marker\":{\"colorbar\":{\"outlinewidth\":0,\"ticks\":\"\"}},\"type\":\"scatterternary\"}],\"surface\":[{\"colorbar\":{\"outlinewidth\":0,\"ticks\":\"\"},\"colorscale\":[[0.0,\"#0d0887\"],[0.1111111111111111,\"#46039f\"],[0.2222222222222222,\"#7201a8\"],[0.3333333333333333,\"#9c179e\"],[0.4444444444444444,\"#bd3786\"],[0.5555555555555556,\"#d8576b\"],[0.6666666666666666,\"#ed7953\"],[0.7777777777777778,\"#fb9f3a\"],[0.8888888888888888,\"#fdca26\"],[1.0,\"#f0f921\"]],\"type\":\"surface\"}],\"table\":[{\"cells\":{\"fill\":{\"color\":\"#EBF0F8\"},\"line\":{\"color\":\"white\"}},\"header\":{\"fill\":{\"color\":\"#C8D4E3\"},\"line\":{\"color\":\"white\"}},\"type\":\"table\"}]},\"layout\":{\"annotationdefaults\":{\"arrowcolor\":\"#2a3f5f\",\"arrowhead\":0,\"arrowwidth\":1},\"autotypenumbers\":\"strict\",\"coloraxis\":{\"colorbar\":{\"outlinewidth\":0,\"ticks\":\"\"}},\"colorscale\":{\"diverging\":[[0,\"#8e0152\"],[0.1,\"#c51b7d\"],[0.2,\"#de77ae\"],[0.3,\"#f1b6da\"],[0.4,\"#fde0ef\"],[0.5,\"#f7f7f7\"],[0.6,\"#e6f5d0\"],[0.7,\"#b8e186\"],[0.8,\"#7fbc41\"],[0.9,\"#4d9221\"],[1,\"#276419\"]],\"sequential\":[[0.0,\"#0d0887\"],[0.1111111111111111,\"#46039f\"],[0.2222222222222222,\"#7201a8\"],[0.3333333333333333,\"#9c179e\"],[0.4444444444444444,\"#bd3786\"],[0.5555555555555556,\"#d8576b\"],[0.6666666666666666,\"#ed7953\"],[0.7777777777777778,\"#fb9f3a\"],[0.8888888888888888,\"#fdca26\"],[1.0,\"#f0f921\"]],\"sequentialminus\":[[0.0,\"#0d0887\"],[0.1111111111111111,\"#46039f\"],[0.2222222222222222,\"#7201a8\"],[0.3333333333333333,\"#9c179e\"],[0.4444444444444444,\"#bd3786\"],[0.5555555555555556,\"#d8576b\"],[0.6666666666666666,\"#ed7953\"],[0.7777777777777778,\"#fb9f3a\"],[0.8888888888888888,\"#fdca26\"],[1.0,\"#f0f921\"]]},\"colorway\":[\"#636efa\",\"#EF553B\",\"#00cc96\",\"#ab63fa\",\"#FFA15A\",\"#19d3f3\",\"#FF6692\",\"#B6E880\",\"#FF97FF\",\"#FECB52\"],\"font\":{\"color\":\"#2a3f5f\"},\"geo\":{\"bgcolor\":\"white\",\"lakecolor\":\"white\",\"landcolor\":\"#E5ECF6\",\"showlakes\":true,\"showland\":true,\"subunitcolor\":\"white\"},\"hoverlabel\":{\"align\":\"left\"},\"hovermode\":\"closest\",\"mapbox\":{\"style\":\"light\"},\"paper_bgcolor\":\"white\",\"plot_bgcolor\":\"#E5ECF6\",\"polar\":{\"angularaxis\":{\"gridcolor\":\"white\",\"linecolor\":\"white\",\"ticks\":\"\"},\"bgcolor\":\"#E5ECF6\",\"radialaxis\":{\"gridcolor\":\"white\",\"linecolor\":\"white\",\"ticks\":\"\"}},\"scene\":{\"xaxis\":{\"backgroundcolor\":\"#E5ECF6\",\"gridcolor\":\"white\",\"gridwidth\":2,\"linecolor\":\"white\",\"showbackground\":true,\"ticks\":\"\",\"zerolinecolor\":\"white\"},\"yaxis\":{\"backgroundcolor\":\"#E5ECF6\",\"gridcolor\":\"white\",\"gridwidth\":2,\"linecolor\":\"white\",\"showbackground\":true,\"ticks\":\"\",\"zerolinecolor\":\"white\"},\"zaxis\":{\"backgroundcolor\":\"#E5ECF6\",\"gridcolor\":\"white\",\"gridwidth\":2,\"linecolor\":\"white\",\"showbackground\":true,\"ticks\":\"\",\"zerolinecolor\":\"white\"}},\"shapedefaults\":{\"line\":{\"color\":\"#2a3f5f\"}},\"ternary\":{\"aaxis\":{\"gridcolor\":\"white\",\"linecolor\":\"white\",\"ticks\":\"\"},\"baxis\":{\"gridcolor\":\"white\",\"linecolor\":\"white\",\"ticks\":\"\"},\"bgcolor\":\"#E5ECF6\",\"caxis\":{\"gridcolor\":\"white\",\"linecolor\":\"white\",\"ticks\":\"\"}},\"title\":{\"x\":0.05},\"xaxis\":{\"automargin\":true,\"gridcolor\":\"white\",\"linecolor\":\"white\",\"ticks\":\"\",\"title\":{\"standoff\":15},\"zerolinecolor\":\"white\",\"zerolinewidth\":2},\"yaxis\":{\"automargin\":true,\"gridcolor\":\"white\",\"linecolor\":\"white\",\"ticks\":\"\",\"title\":{\"standoff\":15},\"zerolinecolor\":\"white\",\"zerolinewidth\":2}}},\"title\":{\"text\":\"Count of RAWG ratings by release year\"},\"xaxis\":{\"anchor\":\"y\",\"domain\":[0.0,1.0],\"title\":{\"text\":\"release_year\"}},\"yaxis\":{\"anchor\":\"x\",\"domain\":[0.0,1.0],\"title\":{\"text\":\"value\"}}},                        {\"responsive\": true}                    ).then(function(){\n                            \nvar gd = document.getElementById('76076a9a-263a-422c-b79a-781b0983e788');\nvar x = new MutationObserver(function (mutations, observer) {{\n        var display = window.getComputedStyle(gd).display;\n        if (!display || display === 'none') {{\n            console.log([gd, 'removed!']);\n            Plotly.purge(gd);\n            observer.disconnect();\n        }}\n}});\n\n// Listen for the removal of the full notebook cells\nvar notebookContainer = gd.closest('#notebook-container');\nif (notebookContainer) {{\n    x.observe(notebookContainer, {childList: true});\n}}\n\n// Listen for the clearing of the current output cell\nvar outputEl = gd.closest('.output');\nif (outputEl) {{\n    x.observe(outputEl, {childList: true});\n}}\n\n                        })                };                            </script>        </div>\n</body>\n</html>"
     },
     "metadata": {},
     "output_type": "display_data"
    }
   ],
   "execution_count": 15
  },
  {
   "cell_type": "markdown",
   "source": "As we can see, there are some years where not enough ratings were given to represent all the games of that year. We will reduce the dataset to years with at least 10 ratings (= 10 games rated), in order to have data that is not biased by a single game.",
   "metadata": {
    "tags": [],
    "cell_id": "00032-45bbf657-da9e-46d3-a68e-ec5370a2c8aa",
    "deepnote_app_coordinates": {
     "x": 0,
     "y": 225,
     "w": 12,
     "h": 5
    },
    "deepnote_cell_type": "markdown"
   }
  },
  {
   "cell_type": "code",
   "source": "prev_len = len(by_release[\"rating\"])\nby_release = by_release.drop(by_release[(by_release['rating']['count'] <= 10)].index)\n#by_release[\"rating\"] = by_release[\"rating\"][(by_release[\"rating\"][\"count\"] >= 10)]\nprint(f\"Removed {prev_len - len(by_release['rating'])} years that do not have enough games rated.\")\n\nprev_len = len(by_release[\"metacritic\"])\nby_release = by_release.drop(by_release[(by_release['metacritic']['count'] <= 10)].index)\n#by_release[\"metacritic\"] = by_release[\"metacritic\"][(by_release[\"metacritic\"][\"count\"] >= 10)]\nprint(f\"Removed {prev_len - len(by_release['metacritic'])} years that do not have enough games rated.\")",
   "metadata": {
    "tags": [],
    "cell_id": "00033-2943c9f9-ed6b-486a-8fe3-cb42a6d67660",
    "deepnote_to_be_reexecuted": false,
    "source_hash": "dc58b439",
    "execution_start": 1634417485256,
    "execution_millis": 358,
    "deepnote_app_coordinates": {
     "x": 0,
     "y": 231,
     "w": 12,
     "h": 5
    },
    "deepnote_cell_type": "code"
   },
   "outputs": [
    {
     "name": "stdout",
     "text": "Removed 13 years that do not have enough games rated.\nRemoved 15 years that do not have enough games rated.\n",
     "output_type": "stream"
    }
   ],
   "execution_count": 16
  },
  {
   "cell_type": "code",
   "source": "by_release[\"metacritic\"].plot.scatter(x=by_release.index, y=[\"mean\", \"min\", \"max\"], title=\"Mean, Min and Max Metacritic ratings by release year\", trendline=\"lowess\")",
   "metadata": {
    "tags": [],
    "cell_id": "00033-9f437ce9-012f-4c25-8a6f-93ac18b3b953",
    "deepnote_to_be_reexecuted": false,
    "source_hash": "619d8729",
    "execution_start": 1634417485257,
    "execution_millis": 536,
    "deepnote_app_coordinates": {
     "x": 0,
     "y": 189,
     "w": 12,
     "h": 5
    },
    "deepnote_cell_type": "code"
   },
   "outputs": [
    {
     "data": {
      "text/html": "<html>\n<head><meta charset=\"utf-8\" /></head>\n<body>\n    <div>            <script src=\"https://cdnjs.cloudflare.com/ajax/libs/mathjax/2.7.5/MathJax.js?config=TeX-AMS-MML_SVG\"></script><script type=\"text/javascript\">if (window.MathJax) {MathJax.Hub.Config({SVG: {font: \"STIX-Web\"}});}</script>                <script type=\"text/javascript\">window.PlotlyConfig = {MathJaxConfig: 'local'};</script>\n        <script src=\"https://cdn.plot.ly/plotly-2.4.2.min.js\"></script>                <div id=\"2f714b28-576c-4828-91f8-6d389762df4a\" class=\"plotly-graph-div\" style=\"height:525px; width:100%;\"></div>            <script type=\"text/javascript\">                                    window.PLOTLYENV=window.PLOTLYENV || {};                                    if (document.getElementById(\"2f714b28-576c-4828-91f8-6d389762df4a\")) {                    Plotly.newPlot(                        \"2f714b28-576c-4828-91f8-6d389762df4a\",                        [{\"hovertemplate\":\"variable=mean<br>release_year=%{x}<br>value=%{y}<extra></extra>\",\"legendgroup\":\"mean\",\"marker\":{\"color\":\"#636efa\",\"symbol\":\"circle\"},\"mode\":\"markers\",\"name\":\"mean\",\"orientation\":\"v\",\"showlegend\":true,\"type\":\"scatter\",\"x\":[1997,1998,1999,2000,2001,2002,2003,2004,2005,2006,2007,2008,2009,2010,2011,2012,2013,2014,2015,2016,2017,2018,2019,2020],\"xaxis\":\"x\",\"y\":[83.46153846153847,87.23529411764706,81.88888888888889,79.375,76.6951219512195,74.54444444444445,74.76923076923077,75.19672131147541,76.98260869565217,71.95918367346938,74.37588652482269,72.85,71.90350877192982,73.98636363636363,72.85407725321889,72.22641509433963,71.26182965299685,70.633608815427,71.26195899772209,72.14516129032258,74.40443213296399,74.5495867768595,74.00813008130082,72.95149253731343],\"yaxis\":\"y\"},{\"hovertemplate\":\"<b>LOWESS trendline</b><br><br>variable=mean<br>release_year=%{x}<br>value=%{y} <b>(trend)</b><extra></extra>\",\"legendgroup\":\"mean\",\"marker\":{\"color\":\"#636efa\",\"symbol\":\"circle\"},\"mode\":\"lines\",\"name\":\"mean\",\"showlegend\":false,\"type\":\"scatter\",\"x\":[1997,1998,1999,2000,2001,2002,2003,2004,2005,2006,2007,2008,2009,2010,2011,2012,2013,2014,2015,2016,2017,2018,2019,2020],\"xaxis\":\"x\",\"y\":[82.98151431075281,81.80897244695139,80.6727629161661,79.57162622451608,78.4959422759476,77.4284663739047,76.3483886687909,75.30803270966881,74.63188270882307,74.15835553244489,73.81152762287746,73.47216802308314,73.08384902262075,72.69370395596596,72.40407934250128,72.28063133779796,72.2929287749517,72.51729164413085,72.68665587578894,72.8463205666832,73.02211257109965,73.22305100245235,73.44795621573192,73.6901780691777],\"yaxis\":\"y\"},{\"hovertemplate\":\"variable=min<br>release_year=%{x}<br>value=%{y}<extra></extra>\",\"legendgroup\":\"min\",\"marker\":{\"color\":\"#EF553B\",\"symbol\":\"circle\"},\"mode\":\"markers\",\"name\":\"min\",\"orientation\":\"v\",\"showlegend\":true,\"type\":\"scatter\",\"x\":[1997,1998,1999,2000,2001,2002,2003,2004,2005,2006,2007,2008,2009,2010,2011,2012,2013,2014,2015,2016,2017,2018,2019,2020],\"xaxis\":\"x\",\"y\":[56.0,71.0,57.0,48.0,39.0,27.0,35.0,42.0,45.0,28.0,35.0,37.0,25.0,38.0,34.0,22.0,20.0,32.0,15.0,36.0,27.0,34.0,38.0,33.0],\"yaxis\":\"y\"},{\"hovertemplate\":\"<b>LOWESS trendline</b><br><br>variable=min<br>release_year=%{x}<br>value=%{y} <b>(trend)</b><extra></extra>\",\"legendgroup\":\"min\",\"marker\":{\"color\":\"#EF553B\",\"symbol\":\"circle\"},\"mode\":\"lines\",\"name\":\"min\",\"showlegend\":false,\"type\":\"scatter\",\"x\":[1997,1998,1999,2000,2001,2002,2003,2004,2005,2006,2007,2008,2009,2010,2011,2012,2013,2014,2015,2016,2017,2018,2019,2020],\"xaxis\":\"x\",\"y\":[58.41570878411031,55.32506935255957,52.359942880204194,49.516590022188566,46.75273068387752,43.98929133970264,41.09854957619769,38.09946724647794,36.47092341892011,35.566418047645605,34.769936065842934,33.5886533491478,32.114346560117156,30.610223478881043,29.570326665580748,28.9993303609259,28.711291684612874,29.35211802829397,29.970392562104383,30.5937821857366,31.286208891252915,32.06091457510847,32.922729774360846,33.86439991601627],\"yaxis\":\"y\"},{\"hovertemplate\":\"variable=max<br>release_year=%{x}<br>value=%{y}<extra></extra>\",\"legendgroup\":\"max\",\"marker\":{\"color\":\"#00cc96\",\"symbol\":\"circle\"},\"mode\":\"markers\",\"name\":\"max\",\"orientation\":\"v\",\"showlegend\":true,\"type\":\"scatter\",\"x\":[1997,1998,1999,2000,2001,2002,2003,2004,2005,2006,2007,2008,2009,2010,2011,2012,2013,2014,2015,2016,2017,2018,2019,2020],\"xaxis\":\"x\",\"y\":[96.0,99.0,94.0,97.0,96.0,97.0,95.0,96.0,94.0,94.0,97.0,95.0,96.0,97.0,95.0,92.0,97.0,95.0,96.0,93.0,97.0,96.0,92.0,95.0],\"yaxis\":\"y\"},{\"hovertemplate\":\"<b>LOWESS trendline</b><br><br>variable=max<br>release_year=%{x}<br>value=%{y} <b>(trend)</b><extra></extra>\",\"legendgroup\":\"max\",\"marker\":{\"color\":\"#00cc96\",\"symbol\":\"circle\"},\"mode\":\"lines\",\"name\":\"max\",\"showlegend\":false,\"type\":\"scatter\",\"x\":[1997,1998,1999,2000,2001,2002,2003,2004,2005,2006,2007,2008,2009,2010,2011,2012,2013,2014,2015,2016,2017,2018,2019,2020],\"xaxis\":\"x\",\"y\":[96.78155304963988,96.60178969457428,96.4240373547095,96.2474790662737,96.07473610683938,95.90851794715692,95.74970201324047,95.59726707181456,95.56451255516647,95.51662362360638,95.44996884243672,95.42271555763193,95.44504358558132,95.48583765786458,95.49142757244725,95.45572459562811,95.39213028832458,95.2939903658427,95.17903535719893,95.06866414224335,94.96115914517327,94.85671493255845,94.75110117950553,94.63920068018173],\"yaxis\":\"y\"}],                        {\"legend\":{\"title\":{\"text\":\"variable\"},\"tracegroupgap\":0},\"template\":{\"data\":{\"bar\":[{\"error_x\":{\"color\":\"#2a3f5f\"},\"error_y\":{\"color\":\"#2a3f5f\"},\"marker\":{\"line\":{\"color\":\"#E5ECF6\",\"width\":0.5},\"pattern\":{\"fillmode\":\"overlay\",\"size\":10,\"solidity\":0.2}},\"type\":\"bar\"}],\"barpolar\":[{\"marker\":{\"line\":{\"color\":\"#E5ECF6\",\"width\":0.5},\"pattern\":{\"fillmode\":\"overlay\",\"size\":10,\"solidity\":0.2}},\"type\":\"barpolar\"}],\"carpet\":[{\"aaxis\":{\"endlinecolor\":\"#2a3f5f\",\"gridcolor\":\"white\",\"linecolor\":\"white\",\"minorgridcolor\":\"white\",\"startlinecolor\":\"#2a3f5f\"},\"baxis\":{\"endlinecolor\":\"#2a3f5f\",\"gridcolor\":\"white\",\"linecolor\":\"white\",\"minorgridcolor\":\"white\",\"startlinecolor\":\"#2a3f5f\"},\"type\":\"carpet\"}],\"choropleth\":[{\"colorbar\":{\"outlinewidth\":0,\"ticks\":\"\"},\"type\":\"choropleth\"}],\"contour\":[{\"colorbar\":{\"outlinewidth\":0,\"ticks\":\"\"},\"colorscale\":[[0.0,\"#0d0887\"],[0.1111111111111111,\"#46039f\"],[0.2222222222222222,\"#7201a8\"],[0.3333333333333333,\"#9c179e\"],[0.4444444444444444,\"#bd3786\"],[0.5555555555555556,\"#d8576b\"],[0.6666666666666666,\"#ed7953\"],[0.7777777777777778,\"#fb9f3a\"],[0.8888888888888888,\"#fdca26\"],[1.0,\"#f0f921\"]],\"type\":\"contour\"}],\"contourcarpet\":[{\"colorbar\":{\"outlinewidth\":0,\"ticks\":\"\"},\"type\":\"contourcarpet\"}],\"heatmap\":[{\"colorbar\":{\"outlinewidth\":0,\"ticks\":\"\"},\"colorscale\":[[0.0,\"#0d0887\"],[0.1111111111111111,\"#46039f\"],[0.2222222222222222,\"#7201a8\"],[0.3333333333333333,\"#9c179e\"],[0.4444444444444444,\"#bd3786\"],[0.5555555555555556,\"#d8576b\"],[0.6666666666666666,\"#ed7953\"],[0.7777777777777778,\"#fb9f3a\"],[0.8888888888888888,\"#fdca26\"],[1.0,\"#f0f921\"]],\"type\":\"heatmap\"}],\"heatmapgl\":[{\"colorbar\":{\"outlinewidth\":0,\"ticks\":\"\"},\"colorscale\":[[0.0,\"#0d0887\"],[0.1111111111111111,\"#46039f\"],[0.2222222222222222,\"#7201a8\"],[0.3333333333333333,\"#9c179e\"],[0.4444444444444444,\"#bd3786\"],[0.5555555555555556,\"#d8576b\"],[0.6666666666666666,\"#ed7953\"],[0.7777777777777778,\"#fb9f3a\"],[0.8888888888888888,\"#fdca26\"],[1.0,\"#f0f921\"]],\"type\":\"heatmapgl\"}],\"histogram\":[{\"marker\":{\"pattern\":{\"fillmode\":\"overlay\",\"size\":10,\"solidity\":0.2}},\"type\":\"histogram\"}],\"histogram2d\":[{\"colorbar\":{\"outlinewidth\":0,\"ticks\":\"\"},\"colorscale\":[[0.0,\"#0d0887\"],[0.1111111111111111,\"#46039f\"],[0.2222222222222222,\"#7201a8\"],[0.3333333333333333,\"#9c179e\"],[0.4444444444444444,\"#bd3786\"],[0.5555555555555556,\"#d8576b\"],[0.6666666666666666,\"#ed7953\"],[0.7777777777777778,\"#fb9f3a\"],[0.8888888888888888,\"#fdca26\"],[1.0,\"#f0f921\"]],\"type\":\"histogram2d\"}],\"histogram2dcontour\":[{\"colorbar\":{\"outlinewidth\":0,\"ticks\":\"\"},\"colorscale\":[[0.0,\"#0d0887\"],[0.1111111111111111,\"#46039f\"],[0.2222222222222222,\"#7201a8\"],[0.3333333333333333,\"#9c179e\"],[0.4444444444444444,\"#bd3786\"],[0.5555555555555556,\"#d8576b\"],[0.6666666666666666,\"#ed7953\"],[0.7777777777777778,\"#fb9f3a\"],[0.8888888888888888,\"#fdca26\"],[1.0,\"#f0f921\"]],\"type\":\"histogram2dcontour\"}],\"mesh3d\":[{\"colorbar\":{\"outlinewidth\":0,\"ticks\":\"\"},\"type\":\"mesh3d\"}],\"parcoords\":[{\"line\":{\"colorbar\":{\"outlinewidth\":0,\"ticks\":\"\"}},\"type\":\"parcoords\"}],\"pie\":[{\"automargin\":true,\"type\":\"pie\"}],\"scatter\":[{\"marker\":{\"colorbar\":{\"outlinewidth\":0,\"ticks\":\"\"}},\"type\":\"scatter\"}],\"scatter3d\":[{\"line\":{\"colorbar\":{\"outlinewidth\":0,\"ticks\":\"\"}},\"marker\":{\"colorbar\":{\"outlinewidth\":0,\"ticks\":\"\"}},\"type\":\"scatter3d\"}],\"scattercarpet\":[{\"marker\":{\"colorbar\":{\"outlinewidth\":0,\"ticks\":\"\"}},\"type\":\"scattercarpet\"}],\"scattergeo\":[{\"marker\":{\"colorbar\":{\"outlinewidth\":0,\"ticks\":\"\"}},\"type\":\"scattergeo\"}],\"scattergl\":[{\"marker\":{\"colorbar\":{\"outlinewidth\":0,\"ticks\":\"\"}},\"type\":\"scattergl\"}],\"scattermapbox\":[{\"marker\":{\"colorbar\":{\"outlinewidth\":0,\"ticks\":\"\"}},\"type\":\"scattermapbox\"}],\"scatterpolar\":[{\"marker\":{\"colorbar\":{\"outlinewidth\":0,\"ticks\":\"\"}},\"type\":\"scatterpolar\"}],\"scatterpolargl\":[{\"marker\":{\"colorbar\":{\"outlinewidth\":0,\"ticks\":\"\"}},\"type\":\"scatterpolargl\"}],\"scatterternary\":[{\"marker\":{\"colorbar\":{\"outlinewidth\":0,\"ticks\":\"\"}},\"type\":\"scatterternary\"}],\"surface\":[{\"colorbar\":{\"outlinewidth\":0,\"ticks\":\"\"},\"colorscale\":[[0.0,\"#0d0887\"],[0.1111111111111111,\"#46039f\"],[0.2222222222222222,\"#7201a8\"],[0.3333333333333333,\"#9c179e\"],[0.4444444444444444,\"#bd3786\"],[0.5555555555555556,\"#d8576b\"],[0.6666666666666666,\"#ed7953\"],[0.7777777777777778,\"#fb9f3a\"],[0.8888888888888888,\"#fdca26\"],[1.0,\"#f0f921\"]],\"type\":\"surface\"}],\"table\":[{\"cells\":{\"fill\":{\"color\":\"#EBF0F8\"},\"line\":{\"color\":\"white\"}},\"header\":{\"fill\":{\"color\":\"#C8D4E3\"},\"line\":{\"color\":\"white\"}},\"type\":\"table\"}]},\"layout\":{\"annotationdefaults\":{\"arrowcolor\":\"#2a3f5f\",\"arrowhead\":0,\"arrowwidth\":1},\"autotypenumbers\":\"strict\",\"coloraxis\":{\"colorbar\":{\"outlinewidth\":0,\"ticks\":\"\"}},\"colorscale\":{\"diverging\":[[0,\"#8e0152\"],[0.1,\"#c51b7d\"],[0.2,\"#de77ae\"],[0.3,\"#f1b6da\"],[0.4,\"#fde0ef\"],[0.5,\"#f7f7f7\"],[0.6,\"#e6f5d0\"],[0.7,\"#b8e186\"],[0.8,\"#7fbc41\"],[0.9,\"#4d9221\"],[1,\"#276419\"]],\"sequential\":[[0.0,\"#0d0887\"],[0.1111111111111111,\"#46039f\"],[0.2222222222222222,\"#7201a8\"],[0.3333333333333333,\"#9c179e\"],[0.4444444444444444,\"#bd3786\"],[0.5555555555555556,\"#d8576b\"],[0.6666666666666666,\"#ed7953\"],[0.7777777777777778,\"#fb9f3a\"],[0.8888888888888888,\"#fdca26\"],[1.0,\"#f0f921\"]],\"sequentialminus\":[[0.0,\"#0d0887\"],[0.1111111111111111,\"#46039f\"],[0.2222222222222222,\"#7201a8\"],[0.3333333333333333,\"#9c179e\"],[0.4444444444444444,\"#bd3786\"],[0.5555555555555556,\"#d8576b\"],[0.6666666666666666,\"#ed7953\"],[0.7777777777777778,\"#fb9f3a\"],[0.8888888888888888,\"#fdca26\"],[1.0,\"#f0f921\"]]},\"colorway\":[\"#636efa\",\"#EF553B\",\"#00cc96\",\"#ab63fa\",\"#FFA15A\",\"#19d3f3\",\"#FF6692\",\"#B6E880\",\"#FF97FF\",\"#FECB52\"],\"font\":{\"color\":\"#2a3f5f\"},\"geo\":{\"bgcolor\":\"white\",\"lakecolor\":\"white\",\"landcolor\":\"#E5ECF6\",\"showlakes\":true,\"showland\":true,\"subunitcolor\":\"white\"},\"hoverlabel\":{\"align\":\"left\"},\"hovermode\":\"closest\",\"mapbox\":{\"style\":\"light\"},\"paper_bgcolor\":\"white\",\"plot_bgcolor\":\"#E5ECF6\",\"polar\":{\"angularaxis\":{\"gridcolor\":\"white\",\"linecolor\":\"white\",\"ticks\":\"\"},\"bgcolor\":\"#E5ECF6\",\"radialaxis\":{\"gridcolor\":\"white\",\"linecolor\":\"white\",\"ticks\":\"\"}},\"scene\":{\"xaxis\":{\"backgroundcolor\":\"#E5ECF6\",\"gridcolor\":\"white\",\"gridwidth\":2,\"linecolor\":\"white\",\"showbackground\":true,\"ticks\":\"\",\"zerolinecolor\":\"white\"},\"yaxis\":{\"backgroundcolor\":\"#E5ECF6\",\"gridcolor\":\"white\",\"gridwidth\":2,\"linecolor\":\"white\",\"showbackground\":true,\"ticks\":\"\",\"zerolinecolor\":\"white\"},\"zaxis\":{\"backgroundcolor\":\"#E5ECF6\",\"gridcolor\":\"white\",\"gridwidth\":2,\"linecolor\":\"white\",\"showbackground\":true,\"ticks\":\"\",\"zerolinecolor\":\"white\"}},\"shapedefaults\":{\"line\":{\"color\":\"#2a3f5f\"}},\"ternary\":{\"aaxis\":{\"gridcolor\":\"white\",\"linecolor\":\"white\",\"ticks\":\"\"},\"baxis\":{\"gridcolor\":\"white\",\"linecolor\":\"white\",\"ticks\":\"\"},\"bgcolor\":\"#E5ECF6\",\"caxis\":{\"gridcolor\":\"white\",\"linecolor\":\"white\",\"ticks\":\"\"}},\"title\":{\"x\":0.05},\"xaxis\":{\"automargin\":true,\"gridcolor\":\"white\",\"linecolor\":\"white\",\"ticks\":\"\",\"title\":{\"standoff\":15},\"zerolinecolor\":\"white\",\"zerolinewidth\":2},\"yaxis\":{\"automargin\":true,\"gridcolor\":\"white\",\"linecolor\":\"white\",\"ticks\":\"\",\"title\":{\"standoff\":15},\"zerolinecolor\":\"white\",\"zerolinewidth\":2}}},\"title\":{\"text\":\"Mean, Min and Max Metacritic ratings by release year\"},\"xaxis\":{\"anchor\":\"y\",\"domain\":[0.0,1.0],\"title\":{\"text\":\"release_year\"}},\"yaxis\":{\"anchor\":\"x\",\"domain\":[0.0,1.0],\"title\":{\"text\":\"value\"}}},                        {\"responsive\": true}                    ).then(function(){\n                            \nvar gd = document.getElementById('2f714b28-576c-4828-91f8-6d389762df4a');\nvar x = new MutationObserver(function (mutations, observer) {{\n        var display = window.getComputedStyle(gd).display;\n        if (!display || display === 'none') {{\n            console.log([gd, 'removed!']);\n            Plotly.purge(gd);\n            observer.disconnect();\n        }}\n}});\n\n// Listen for the removal of the full notebook cells\nvar notebookContainer = gd.closest('#notebook-container');\nif (notebookContainer) {{\n    x.observe(notebookContainer, {childList: true});\n}}\n\n// Listen for the clearing of the current output cell\nvar outputEl = gd.closest('.output');\nif (outputEl) {{\n    x.observe(outputEl, {childList: true});\n}}\n\n                        })                };                            </script>        </div>\n</body>\n</html>"
     },
     "metadata": {},
     "output_type": "display_data"
    }
   ],
   "execution_count": 17
  },
  {
   "cell_type": "code",
   "source": "by_release[\"rating\"].plot.scatter(x=by_release.index, y=[\"mean\", \"min\", \"max\"], title=\"Mean, Min and Max RAWG ratings by release year\", trendline=\"lowess\")",
   "metadata": {
    "tags": [],
    "cell_id": "00034-2467700d-ec06-4bec-b3b2-4b746ddd3910",
    "deepnote_to_be_reexecuted": false,
    "source_hash": "651efcc4",
    "execution_start": 1634417485643,
    "execution_millis": 152,
    "deepnote_app_coordinates": {
     "x": 0,
     "y": 195,
     "w": 12,
     "h": 5
    },
    "deepnote_cell_type": "code"
   },
   "outputs": [
    {
     "data": {
      "text/html": "<html>\n<head><meta charset=\"utf-8\" /></head>\n<body>\n    <div>            <script src=\"https://cdnjs.cloudflare.com/ajax/libs/mathjax/2.7.5/MathJax.js?config=TeX-AMS-MML_SVG\"></script><script type=\"text/javascript\">if (window.MathJax) {MathJax.Hub.Config({SVG: {font: \"STIX-Web\"}});}</script>                <script type=\"text/javascript\">window.PlotlyConfig = {MathJaxConfig: 'local'};</script>\n        <script src=\"https://cdn.plot.ly/plotly-2.4.2.min.js\"></script>                <div id=\"a5ccb265-0bf3-45ac-9e68-409b782a06bc\" class=\"plotly-graph-div\" style=\"height:525px; width:100%;\"></div>            <script type=\"text/javascript\">                                    window.PLOTLYENV=window.PLOTLYENV || {};                                    if (document.getElementById(\"a5ccb265-0bf3-45ac-9e68-409b782a06bc\")) {                    Plotly.newPlot(                        \"a5ccb265-0bf3-45ac-9e68-409b782a06bc\",                        [{\"hovertemplate\":\"variable=mean<br>release_year=%{x}<br>value=%{y}<extra></extra>\",\"legendgroup\":\"mean\",\"marker\":{\"color\":\"#636efa\",\"symbol\":\"circle\"},\"mode\":\"markers\",\"name\":\"mean\",\"orientation\":\"v\",\"showlegend\":true,\"type\":\"scatter\",\"x\":[1997,1998,1999,2000,2001,2002,2003,2004,2005,2006,2007,2008,2009,2010,2011,2012,2013,2014,2015,2016,2017,2018,2019,2020],\"xaxis\":\"x\",\"y\":[3.9434814814814816,3.876986301369863,3.9065686274509805,3.9495,3.9332795698924734,3.8305202312138733,3.7644933920704844,3.790655737704918,3.739,3.6253505535055353,3.6022491349480967,3.433876404494382,3.40545871559633,3.4373504273504274,3.3211973392461194,3.312397868561279,3.255936073059361,3.045767955801105,3.039308712121212,2.9664532019704435,3.262577540106952,3.4579365079365076,3.4991338582677156,3.5636148648648645],\"yaxis\":\"y\"},{\"hovertemplate\":\"<b>LOWESS trendline</b><br><br>variable=mean<br>release_year=%{x}<br>value=%{y} <b>(trend)</b><extra></extra>\",\"legendgroup\":\"mean\",\"marker\":{\"color\":\"#636efa\",\"symbol\":\"circle\"},\"mode\":\"lines\",\"name\":\"mean\",\"showlegend\":false,\"type\":\"scatter\",\"x\":[1997,1998,1999,2000,2001,2002,2003,2004,2005,2006,2007,2008,2009,2010,2011,2012,2013,2014,2015,2016,2017,2018,2019,2020],\"xaxis\":\"x\",\"y\":[3.9803855794562946,3.9491164490969606,3.9165218107350763,3.8827627977222208,3.8481613308223577,3.8130199462785965,3.777476791826553,3.738694273514941,3.6844990891137956,3.62744041901657,3.570606889223965,3.5140766968086794,3.4562421108585673,3.3990533699716674,3.3493312285288743,3.325637374705101,3.3354938032342187,3.370107175851148,3.392335265518888,3.411429399896119,3.43037072979759,3.4499241466749977,3.470598032139816,3.492658592129084],\"yaxis\":\"y\"},{\"hovertemplate\":\"variable=min<br>release_year=%{x}<br>value=%{y}<extra></extra>\",\"legendgroup\":\"min\",\"marker\":{\"color\":\"#EF553B\",\"symbol\":\"circle\"},\"mode\":\"markers\",\"name\":\"min\",\"orientation\":\"v\",\"showlegend\":true,\"type\":\"scatter\",\"x\":[1997,1998,1999,2000,2001,2002,2003,2004,2005,2006,2007,2008,2009,2010,2011,2012,2013,2014,2015,2016,2017,2018,2019,2020],\"xaxis\":\"x\",\"y\":[2.43,1.5,2.48,2.4,2.22,1.64,1.36,1.71,1.93,1.33,1.29,1.58,1.29,1.29,1.55,1.5,1.29,1.18,1.11,1.0,1.0,1.0,1.38,1.0],\"yaxis\":\"y\"},{\"hovertemplate\":\"<b>LOWESS trendline</b><br><br>variable=min<br>release_year=%{x}<br>value=%{y} <b>(trend)</b><extra></extra>\",\"legendgroup\":\"min\",\"marker\":{\"color\":\"#EF553B\",\"symbol\":\"circle\"},\"mode\":\"lines\",\"name\":\"min\",\"showlegend\":false,\"type\":\"scatter\",\"x\":[1997,1998,1999,2000,2001,2002,2003,2004,2005,2006,2007,2008,2009,2010,2011,2012,2013,2014,2015,2016,2017,2018,2019,2020],\"xaxis\":\"x\",\"y\":[2.545279874321385,2.4243116947207684,2.304273959222877,2.186542217371275,2.071906665800868,1.9596345997309361,1.8456512739018012,1.7201279337408533,1.6170110649786842,1.5398315148445378,1.492199244945713,1.4608590635669472,1.4273934217270061,1.386796065010973,1.3453480342313717,1.3049658077147839,1.2621179407928518,1.2240077865911674,1.189032966483437,1.1521209006745088,1.1140460239373544,1.0760161281116416,1.0391990452509687,1.0044121264203172],\"yaxis\":\"y\"},{\"hovertemplate\":\"variable=max<br>release_year=%{x}<br>value=%{y}<extra></extra>\",\"legendgroup\":\"max\",\"marker\":{\"color\":\"#00cc96\",\"symbol\":\"circle\"},\"mode\":\"markers\",\"name\":\"max\",\"orientation\":\"v\",\"showlegend\":true,\"type\":\"scatter\",\"x\":[1997,1998,1999,2000,2001,2002,2003,2004,2005,2006,2007,2008,2009,2010,2011,2012,2013,2014,2015,2016,2017,2018,2019,2020],\"xaxis\":\"x\",\"y\":[4.6,4.56,4.5,4.71,4.67,4.67,4.83,4.56,4.67,4.71,4.67,4.67,4.67,4.73,4.67,4.86,4.67,4.78,4.75,4.77,4.71,4.83,4.62,4.81],\"yaxis\":\"y\"},{\"hovertemplate\":\"<b>LOWESS trendline</b><br><br>variable=max<br>release_year=%{x}<br>value=%{y} <b>(trend)</b><extra></extra>\",\"legendgroup\":\"max\",\"marker\":{\"color\":\"#00cc96\",\"symbol\":\"circle\"},\"mode\":\"lines\",\"name\":\"max\",\"showlegend\":false,\"type\":\"scatter\",\"x\":[1997,1998,1999,2000,2001,2002,2003,2004,2005,2006,2007,2008,2009,2010,2011,2012,2013,2014,2015,2016,2017,2018,2019,2020],\"xaxis\":\"x\",\"y\":[4.588449756810701,4.600231711326741,4.611369117110998,4.621902648728308,4.632195613123286,4.642727959572209,4.654274824111507,4.666826076209775,4.671616065795825,4.673731345289555,4.67789317452614,4.684855904954204,4.693876730309619,4.703501584526345,4.712453792764271,4.72105605432085,4.730763546361699,4.738822312479892,4.747248738081225,4.755797896605505,4.764235659230057,4.7724873723281345,4.780615775488103,4.788610232812266],\"yaxis\":\"y\"}],                        {\"legend\":{\"title\":{\"text\":\"variable\"},\"tracegroupgap\":0},\"template\":{\"data\":{\"bar\":[{\"error_x\":{\"color\":\"#2a3f5f\"},\"error_y\":{\"color\":\"#2a3f5f\"},\"marker\":{\"line\":{\"color\":\"#E5ECF6\",\"width\":0.5},\"pattern\":{\"fillmode\":\"overlay\",\"size\":10,\"solidity\":0.2}},\"type\":\"bar\"}],\"barpolar\":[{\"marker\":{\"line\":{\"color\":\"#E5ECF6\",\"width\":0.5},\"pattern\":{\"fillmode\":\"overlay\",\"size\":10,\"solidity\":0.2}},\"type\":\"barpolar\"}],\"carpet\":[{\"aaxis\":{\"endlinecolor\":\"#2a3f5f\",\"gridcolor\":\"white\",\"linecolor\":\"white\",\"minorgridcolor\":\"white\",\"startlinecolor\":\"#2a3f5f\"},\"baxis\":{\"endlinecolor\":\"#2a3f5f\",\"gridcolor\":\"white\",\"linecolor\":\"white\",\"minorgridcolor\":\"white\",\"startlinecolor\":\"#2a3f5f\"},\"type\":\"carpet\"}],\"choropleth\":[{\"colorbar\":{\"outlinewidth\":0,\"ticks\":\"\"},\"type\":\"choropleth\"}],\"contour\":[{\"colorbar\":{\"outlinewidth\":0,\"ticks\":\"\"},\"colorscale\":[[0.0,\"#0d0887\"],[0.1111111111111111,\"#46039f\"],[0.2222222222222222,\"#7201a8\"],[0.3333333333333333,\"#9c179e\"],[0.4444444444444444,\"#bd3786\"],[0.5555555555555556,\"#d8576b\"],[0.6666666666666666,\"#ed7953\"],[0.7777777777777778,\"#fb9f3a\"],[0.8888888888888888,\"#fdca26\"],[1.0,\"#f0f921\"]],\"type\":\"contour\"}],\"contourcarpet\":[{\"colorbar\":{\"outlinewidth\":0,\"ticks\":\"\"},\"type\":\"contourcarpet\"}],\"heatmap\":[{\"colorbar\":{\"outlinewidth\":0,\"ticks\":\"\"},\"colorscale\":[[0.0,\"#0d0887\"],[0.1111111111111111,\"#46039f\"],[0.2222222222222222,\"#7201a8\"],[0.3333333333333333,\"#9c179e\"],[0.4444444444444444,\"#bd3786\"],[0.5555555555555556,\"#d8576b\"],[0.6666666666666666,\"#ed7953\"],[0.7777777777777778,\"#fb9f3a\"],[0.8888888888888888,\"#fdca26\"],[1.0,\"#f0f921\"]],\"type\":\"heatmap\"}],\"heatmapgl\":[{\"colorbar\":{\"outlinewidth\":0,\"ticks\":\"\"},\"colorscale\":[[0.0,\"#0d0887\"],[0.1111111111111111,\"#46039f\"],[0.2222222222222222,\"#7201a8\"],[0.3333333333333333,\"#9c179e\"],[0.4444444444444444,\"#bd3786\"],[0.5555555555555556,\"#d8576b\"],[0.6666666666666666,\"#ed7953\"],[0.7777777777777778,\"#fb9f3a\"],[0.8888888888888888,\"#fdca26\"],[1.0,\"#f0f921\"]],\"type\":\"heatmapgl\"}],\"histogram\":[{\"marker\":{\"pattern\":{\"fillmode\":\"overlay\",\"size\":10,\"solidity\":0.2}},\"type\":\"histogram\"}],\"histogram2d\":[{\"colorbar\":{\"outlinewidth\":0,\"ticks\":\"\"},\"colorscale\":[[0.0,\"#0d0887\"],[0.1111111111111111,\"#46039f\"],[0.2222222222222222,\"#7201a8\"],[0.3333333333333333,\"#9c179e\"],[0.4444444444444444,\"#bd3786\"],[0.5555555555555556,\"#d8576b\"],[0.6666666666666666,\"#ed7953\"],[0.7777777777777778,\"#fb9f3a\"],[0.8888888888888888,\"#fdca26\"],[1.0,\"#f0f921\"]],\"type\":\"histogram2d\"}],\"histogram2dcontour\":[{\"colorbar\":{\"outlinewidth\":0,\"ticks\":\"\"},\"colorscale\":[[0.0,\"#0d0887\"],[0.1111111111111111,\"#46039f\"],[0.2222222222222222,\"#7201a8\"],[0.3333333333333333,\"#9c179e\"],[0.4444444444444444,\"#bd3786\"],[0.5555555555555556,\"#d8576b\"],[0.6666666666666666,\"#ed7953\"],[0.7777777777777778,\"#fb9f3a\"],[0.8888888888888888,\"#fdca26\"],[1.0,\"#f0f921\"]],\"type\":\"histogram2dcontour\"}],\"mesh3d\":[{\"colorbar\":{\"outlinewidth\":0,\"ticks\":\"\"},\"type\":\"mesh3d\"}],\"parcoords\":[{\"line\":{\"colorbar\":{\"outlinewidth\":0,\"ticks\":\"\"}},\"type\":\"parcoords\"}],\"pie\":[{\"automargin\":true,\"type\":\"pie\"}],\"scatter\":[{\"marker\":{\"colorbar\":{\"outlinewidth\":0,\"ticks\":\"\"}},\"type\":\"scatter\"}],\"scatter3d\":[{\"line\":{\"colorbar\":{\"outlinewidth\":0,\"ticks\":\"\"}},\"marker\":{\"colorbar\":{\"outlinewidth\":0,\"ticks\":\"\"}},\"type\":\"scatter3d\"}],\"scattercarpet\":[{\"marker\":{\"colorbar\":{\"outlinewidth\":0,\"ticks\":\"\"}},\"type\":\"scattercarpet\"}],\"scattergeo\":[{\"marker\":{\"colorbar\":{\"outlinewidth\":0,\"ticks\":\"\"}},\"type\":\"scattergeo\"}],\"scattergl\":[{\"marker\":{\"colorbar\":{\"outlinewidth\":0,\"ticks\":\"\"}},\"type\":\"scattergl\"}],\"scattermapbox\":[{\"marker\":{\"colorbar\":{\"outlinewidth\":0,\"ticks\":\"\"}},\"type\":\"scattermapbox\"}],\"scatterpolar\":[{\"marker\":{\"colorbar\":{\"outlinewidth\":0,\"ticks\":\"\"}},\"type\":\"scatterpolar\"}],\"scatterpolargl\":[{\"marker\":{\"colorbar\":{\"outlinewidth\":0,\"ticks\":\"\"}},\"type\":\"scatterpolargl\"}],\"scatterternary\":[{\"marker\":{\"colorbar\":{\"outlinewidth\":0,\"ticks\":\"\"}},\"type\":\"scatterternary\"}],\"surface\":[{\"colorbar\":{\"outlinewidth\":0,\"ticks\":\"\"},\"colorscale\":[[0.0,\"#0d0887\"],[0.1111111111111111,\"#46039f\"],[0.2222222222222222,\"#7201a8\"],[0.3333333333333333,\"#9c179e\"],[0.4444444444444444,\"#bd3786\"],[0.5555555555555556,\"#d8576b\"],[0.6666666666666666,\"#ed7953\"],[0.7777777777777778,\"#fb9f3a\"],[0.8888888888888888,\"#fdca26\"],[1.0,\"#f0f921\"]],\"type\":\"surface\"}],\"table\":[{\"cells\":{\"fill\":{\"color\":\"#EBF0F8\"},\"line\":{\"color\":\"white\"}},\"header\":{\"fill\":{\"color\":\"#C8D4E3\"},\"line\":{\"color\":\"white\"}},\"type\":\"table\"}]},\"layout\":{\"annotationdefaults\":{\"arrowcolor\":\"#2a3f5f\",\"arrowhead\":0,\"arrowwidth\":1},\"autotypenumbers\":\"strict\",\"coloraxis\":{\"colorbar\":{\"outlinewidth\":0,\"ticks\":\"\"}},\"colorscale\":{\"diverging\":[[0,\"#8e0152\"],[0.1,\"#c51b7d\"],[0.2,\"#de77ae\"],[0.3,\"#f1b6da\"],[0.4,\"#fde0ef\"],[0.5,\"#f7f7f7\"],[0.6,\"#e6f5d0\"],[0.7,\"#b8e186\"],[0.8,\"#7fbc41\"],[0.9,\"#4d9221\"],[1,\"#276419\"]],\"sequential\":[[0.0,\"#0d0887\"],[0.1111111111111111,\"#46039f\"],[0.2222222222222222,\"#7201a8\"],[0.3333333333333333,\"#9c179e\"],[0.4444444444444444,\"#bd3786\"],[0.5555555555555556,\"#d8576b\"],[0.6666666666666666,\"#ed7953\"],[0.7777777777777778,\"#fb9f3a\"],[0.8888888888888888,\"#fdca26\"],[1.0,\"#f0f921\"]],\"sequentialminus\":[[0.0,\"#0d0887\"],[0.1111111111111111,\"#46039f\"],[0.2222222222222222,\"#7201a8\"],[0.3333333333333333,\"#9c179e\"],[0.4444444444444444,\"#bd3786\"],[0.5555555555555556,\"#d8576b\"],[0.6666666666666666,\"#ed7953\"],[0.7777777777777778,\"#fb9f3a\"],[0.8888888888888888,\"#fdca26\"],[1.0,\"#f0f921\"]]},\"colorway\":[\"#636efa\",\"#EF553B\",\"#00cc96\",\"#ab63fa\",\"#FFA15A\",\"#19d3f3\",\"#FF6692\",\"#B6E880\",\"#FF97FF\",\"#FECB52\"],\"font\":{\"color\":\"#2a3f5f\"},\"geo\":{\"bgcolor\":\"white\",\"lakecolor\":\"white\",\"landcolor\":\"#E5ECF6\",\"showlakes\":true,\"showland\":true,\"subunitcolor\":\"white\"},\"hoverlabel\":{\"align\":\"left\"},\"hovermode\":\"closest\",\"mapbox\":{\"style\":\"light\"},\"paper_bgcolor\":\"white\",\"plot_bgcolor\":\"#E5ECF6\",\"polar\":{\"angularaxis\":{\"gridcolor\":\"white\",\"linecolor\":\"white\",\"ticks\":\"\"},\"bgcolor\":\"#E5ECF6\",\"radialaxis\":{\"gridcolor\":\"white\",\"linecolor\":\"white\",\"ticks\":\"\"}},\"scene\":{\"xaxis\":{\"backgroundcolor\":\"#E5ECF6\",\"gridcolor\":\"white\",\"gridwidth\":2,\"linecolor\":\"white\",\"showbackground\":true,\"ticks\":\"\",\"zerolinecolor\":\"white\"},\"yaxis\":{\"backgroundcolor\":\"#E5ECF6\",\"gridcolor\":\"white\",\"gridwidth\":2,\"linecolor\":\"white\",\"showbackground\":true,\"ticks\":\"\",\"zerolinecolor\":\"white\"},\"zaxis\":{\"backgroundcolor\":\"#E5ECF6\",\"gridcolor\":\"white\",\"gridwidth\":2,\"linecolor\":\"white\",\"showbackground\":true,\"ticks\":\"\",\"zerolinecolor\":\"white\"}},\"shapedefaults\":{\"line\":{\"color\":\"#2a3f5f\"}},\"ternary\":{\"aaxis\":{\"gridcolor\":\"white\",\"linecolor\":\"white\",\"ticks\":\"\"},\"baxis\":{\"gridcolor\":\"white\",\"linecolor\":\"white\",\"ticks\":\"\"},\"bgcolor\":\"#E5ECF6\",\"caxis\":{\"gridcolor\":\"white\",\"linecolor\":\"white\",\"ticks\":\"\"}},\"title\":{\"x\":0.05},\"xaxis\":{\"automargin\":true,\"gridcolor\":\"white\",\"linecolor\":\"white\",\"ticks\":\"\",\"title\":{\"standoff\":15},\"zerolinecolor\":\"white\",\"zerolinewidth\":2},\"yaxis\":{\"automargin\":true,\"gridcolor\":\"white\",\"linecolor\":\"white\",\"ticks\":\"\",\"title\":{\"standoff\":15},\"zerolinecolor\":\"white\",\"zerolinewidth\":2}}},\"title\":{\"text\":\"Mean, Min and Max RAWG ratings by release year\"},\"xaxis\":{\"anchor\":\"y\",\"domain\":[0.0,1.0],\"title\":{\"text\":\"release_year\"}},\"yaxis\":{\"anchor\":\"x\",\"domain\":[0.0,1.0],\"title\":{\"text\":\"value\"}}},                        {\"responsive\": true}                    ).then(function(){\n                            \nvar gd = document.getElementById('a5ccb265-0bf3-45ac-9e68-409b782a06bc');\nvar x = new MutationObserver(function (mutations, observer) {{\n        var display = window.getComputedStyle(gd).display;\n        if (!display || display === 'none') {{\n            console.log([gd, 'removed!']);\n            Plotly.purge(gd);\n            observer.disconnect();\n        }}\n}});\n\n// Listen for the removal of the full notebook cells\nvar notebookContainer = gd.closest('#notebook-container');\nif (notebookContainer) {{\n    x.observe(notebookContainer, {childList: true});\n}}\n\n// Listen for the clearing of the current output cell\nvar outputEl = gd.closest('.output');\nif (outputEl) {{\n    x.observe(outputEl, {childList: true});\n}}\n\n                        })                };                            </script>        </div>\n</body>\n</html>"
     },
     "metadata": {},
     "output_type": "display_data"
    }
   ],
   "execution_count": 18
  },
  {
   "cell_type": "markdown",
   "source": "#### Analysis\n\nFirstly, we will note that Metacritic ratings from before 1999 and RAWG ratings from before 2010 (date of foundation of RAWG not found, but safe to assume it did not exist before then) were made long after the publishing of the game. As such, there may be [a Rosy Retrospection bias](https://en.wikipedia.org/wiki/Rosy_retrospection) in the ratings for those games. However, determining if this bias is present this would require more in-depth analysis that we will not do here. Therefore, we cannot guarantee the accuracy of our analysis for dates prior to those afore-mentioned.\n    \nWe can see that the mean rating per release year follows a normal distribution when the sample size grows. This means, the more games have been rated, the more the mean of those ratings is average. For \n\nIf we are to believe this data though, it would seem that the more \"retro\" the games, the better the ratings.",
   "metadata": {
    "tags": [],
    "cell_id": "00034-37a93c78-1125-4eba-ae84-087492481d15",
    "deepnote_app_coordinates": {
     "x": 0,
     "y": 207,
     "w": 12,
     "h": 5
    },
    "deepnote_cell_type": "markdown"
   }
  },
  {
   "cell_type": "markdown",
   "source": "#### Genres\nWe will try to determine which genres are the most popular in the gaming community.",
   "metadata": {
    "tags": [],
    "cell_id": "00040-d2c35440-88e6-4a32-a71b-c76547edcc28",
    "deepnote_app_coordinates": {
     "x": 0,
     "y": 249,
     "w": 12,
     "h": 5
    },
    "deepnote_cell_type": "markdown"
   }
  },
  {
   "cell_type": "code",
   "source": "genres = get_uniques_from_column(dataset[\"genres\"].unique())\ngenres.remove(np.nan)  # removing NaN from game genres\ndataset_genres = dataset.copy()",
   "metadata": {
    "tags": [],
    "cell_id": "00035-abcfeb84-40b9-4463-8caf-1de14b00f160",
    "deepnote_to_be_reexecuted": false,
    "source_hash": "3e3e2c4",
    "execution_start": 1634417485644,
    "execution_millis": 43,
    "deepnote_app_coordinates": {
     "x": 0,
     "y": 201,
     "w": 12,
     "h": 5
    },
    "deepnote_cell_type": "code"
   },
   "outputs": [],
   "execution_count": 19
  },
  {
   "cell_type": "code",
   "source": "#dataset_genres[\"genres\"] = dataset_genres[\"genres\"].astype(str).apply(lambda x: x.split('||')) # spliting genres string to make a list of genre for each game\nfor genre in genres:\n    dataset_genres[genre] = False\n    dataset_genres[genre] = dataset_genres[\"genres\"].str.contains(r\"(^|\\|\\|)\"  + genre + r\"($|\\|\\|)\", na=False)",
   "metadata": {
    "tags": [],
    "cell_id": "00041-df51bf51-983a-4b74-acb3-66d5b8773dcc",
    "deepnote_app_coordinates": {
     "x": 0,
     "y": 243,
     "w": 12,
     "h": 5
    },
    "deepnote_to_be_reexecuted": false,
    "source_hash": "a5edc03d",
    "execution_start": 1634417485797,
    "execution_millis": 5929,
    "deepnote_cell_type": "code"
   },
   "outputs": [
    {
     "name": "stderr",
     "text": "/shared-libs/python3.7/py/lib/python3.7/site-packages/pandas/core/strings/accessor.py:101: UserWarning:\n\nThis pattern has match groups. To actually get the groups, use str.extract.\n\n",
     "output_type": "stream"
    },
    {
     "output_type": "error",
     "ename": "KeyboardInterrupt",
     "evalue": "",
     "traceback": [
      "\u001b[0;31m---------------------------------------------------------------------------\u001b[0m",
      "\u001b[0;31mKeyboardInterrupt\u001b[0m                         Traceback (most recent call last)",
      "\u001b[0;32m<ipython-input-20-b20714bf0e4e>\u001b[0m in \u001b[0;36m<module>\u001b[0;34m\u001b[0m\n\u001b[1;32m      2\u001b[0m \u001b[0;32mfor\u001b[0m \u001b[0mgenre\u001b[0m \u001b[0;32min\u001b[0m \u001b[0mgenres\u001b[0m\u001b[0;34m:\u001b[0m\u001b[0;34m\u001b[0m\u001b[0;34m\u001b[0m\u001b[0m\n\u001b[1;32m      3\u001b[0m     \u001b[0mdataset_genres\u001b[0m\u001b[0;34m[\u001b[0m\u001b[0mgenre\u001b[0m\u001b[0;34m]\u001b[0m \u001b[0;34m=\u001b[0m \u001b[0;32mFalse\u001b[0m\u001b[0;34m\u001b[0m\u001b[0;34m\u001b[0m\u001b[0m\n\u001b[0;32m----> 4\u001b[0;31m     \u001b[0mdataset_genres\u001b[0m\u001b[0;34m[\u001b[0m\u001b[0mgenre\u001b[0m\u001b[0;34m]\u001b[0m \u001b[0;34m=\u001b[0m \u001b[0mdataset_genres\u001b[0m\u001b[0;34m[\u001b[0m\u001b[0;34m\"genres\"\u001b[0m\u001b[0;34m]\u001b[0m\u001b[0;34m.\u001b[0m\u001b[0mstr\u001b[0m\u001b[0;34m.\u001b[0m\u001b[0mcontains\u001b[0m\u001b[0;34m(\u001b[0m\u001b[0;34mr\"(^|\\|\\|)\"\u001b[0m  \u001b[0;34m+\u001b[0m \u001b[0mgenre\u001b[0m \u001b[0;34m+\u001b[0m \u001b[0;34mr\"($|\\|\\|)\"\u001b[0m\u001b[0;34m,\u001b[0m \u001b[0mna\u001b[0m\u001b[0;34m=\u001b[0m\u001b[0;32mFalse\u001b[0m\u001b[0;34m)\u001b[0m\u001b[0;34m\u001b[0m\u001b[0;34m\u001b[0m\u001b[0m\n\u001b[0m",
      "\u001b[0;32m/shared-libs/python3.7/py/lib/python3.7/site-packages/pandas/core/strings/accessor.py\u001b[0m in \u001b[0;36mwrapper\u001b[0;34m(self, *args, **kwargs)\u001b[0m\n\u001b[1;32m     99\u001b[0m                 )\n\u001b[1;32m    100\u001b[0m                 \u001b[0;32mraise\u001b[0m \u001b[0mTypeError\u001b[0m\u001b[0;34m(\u001b[0m\u001b[0mmsg\u001b[0m\u001b[0;34m)\u001b[0m\u001b[0;34m\u001b[0m\u001b[0;34m\u001b[0m\u001b[0m\n\u001b[0;32m--> 101\u001b[0;31m             \u001b[0;32mreturn\u001b[0m \u001b[0mfunc\u001b[0m\u001b[0;34m(\u001b[0m\u001b[0mself\u001b[0m\u001b[0;34m,\u001b[0m \u001b[0;34m*\u001b[0m\u001b[0margs\u001b[0m\u001b[0;34m,\u001b[0m \u001b[0;34m**\u001b[0m\u001b[0mkwargs\u001b[0m\u001b[0;34m)\u001b[0m\u001b[0;34m\u001b[0m\u001b[0;34m\u001b[0m\u001b[0m\n\u001b[0m\u001b[1;32m    102\u001b[0m \u001b[0;34m\u001b[0m\u001b[0m\n\u001b[1;32m    103\u001b[0m         \u001b[0mwrapper\u001b[0m\u001b[0;34m.\u001b[0m\u001b[0m__name__\u001b[0m \u001b[0;34m=\u001b[0m \u001b[0mfunc_name\u001b[0m\u001b[0;34m\u001b[0m\u001b[0;34m\u001b[0m\u001b[0m\n",
      "\u001b[0;32m/shared-libs/python3.7/py/lib/python3.7/site-packages/pandas/core/strings/accessor.py\u001b[0m in \u001b[0;36mcontains\u001b[0;34m(self, pat, case, flags, na, regex)\u001b[0m\n\u001b[1;32m   1108\u001b[0m         \u001b[0mdtype\u001b[0m\u001b[0;34m:\u001b[0m \u001b[0mbool\u001b[0m\u001b[0;34m\u001b[0m\u001b[0;34m\u001b[0m\u001b[0m\n\u001b[1;32m   1109\u001b[0m         \"\"\"\n\u001b[0;32m-> 1110\u001b[0;31m         \u001b[0mresult\u001b[0m \u001b[0;34m=\u001b[0m \u001b[0mself\u001b[0m\u001b[0;34m.\u001b[0m\u001b[0m_data\u001b[0m\u001b[0;34m.\u001b[0m\u001b[0marray\u001b[0m\u001b[0;34m.\u001b[0m\u001b[0m_str_contains\u001b[0m\u001b[0;34m(\u001b[0m\u001b[0mpat\u001b[0m\u001b[0;34m,\u001b[0m \u001b[0mcase\u001b[0m\u001b[0;34m,\u001b[0m \u001b[0mflags\u001b[0m\u001b[0;34m,\u001b[0m \u001b[0mna\u001b[0m\u001b[0;34m,\u001b[0m \u001b[0mregex\u001b[0m\u001b[0;34m)\u001b[0m\u001b[0;34m\u001b[0m\u001b[0;34m\u001b[0m\u001b[0m\n\u001b[0m\u001b[1;32m   1111\u001b[0m         \u001b[0;32mreturn\u001b[0m \u001b[0mself\u001b[0m\u001b[0;34m.\u001b[0m\u001b[0m_wrap_result\u001b[0m\u001b[0;34m(\u001b[0m\u001b[0mresult\u001b[0m\u001b[0;34m,\u001b[0m \u001b[0mfill_value\u001b[0m\u001b[0;34m=\u001b[0m\u001b[0mna\u001b[0m\u001b[0;34m,\u001b[0m \u001b[0mreturns_string\u001b[0m\u001b[0;34m=\u001b[0m\u001b[0;32mFalse\u001b[0m\u001b[0;34m)\u001b[0m\u001b[0;34m\u001b[0m\u001b[0;34m\u001b[0m\u001b[0m\n\u001b[1;32m   1112\u001b[0m \u001b[0;34m\u001b[0m\u001b[0m\n",
      "\u001b[0;32m/shared-libs/python3.7/py/lib/python3.7/site-packages/pandas/core/strings/object_array.py\u001b[0m in \u001b[0;36m_str_contains\u001b[0;34m(self, pat, case, flags, na, regex)\u001b[0m\n\u001b[1;32m    125\u001b[0m                 \u001b[0mupper_pat\u001b[0m \u001b[0;34m=\u001b[0m \u001b[0mpat\u001b[0m\u001b[0;34m.\u001b[0m\u001b[0mupper\u001b[0m\u001b[0;34m(\u001b[0m\u001b[0;34m)\u001b[0m\u001b[0;34m\u001b[0m\u001b[0;34m\u001b[0m\u001b[0m\n\u001b[1;32m    126\u001b[0m                 \u001b[0mf\u001b[0m \u001b[0;34m=\u001b[0m \u001b[0;32mlambda\u001b[0m \u001b[0mx\u001b[0m\u001b[0;34m:\u001b[0m \u001b[0mupper_pat\u001b[0m \u001b[0;32min\u001b[0m \u001b[0mx\u001b[0m\u001b[0;34m.\u001b[0m\u001b[0mupper\u001b[0m\u001b[0;34m(\u001b[0m\u001b[0;34m)\u001b[0m\u001b[0;34m\u001b[0m\u001b[0;34m\u001b[0m\u001b[0m\n\u001b[0;32m--> 127\u001b[0;31m         \u001b[0;32mreturn\u001b[0m \u001b[0mself\u001b[0m\u001b[0;34m.\u001b[0m\u001b[0m_str_map\u001b[0m\u001b[0;34m(\u001b[0m\u001b[0mf\u001b[0m\u001b[0;34m,\u001b[0m \u001b[0mna\u001b[0m\u001b[0;34m,\u001b[0m \u001b[0mdtype\u001b[0m\u001b[0;34m=\u001b[0m\u001b[0mnp\u001b[0m\u001b[0;34m.\u001b[0m\u001b[0mdtype\u001b[0m\u001b[0;34m(\u001b[0m\u001b[0;34m\"bool\"\u001b[0m\u001b[0;34m)\u001b[0m\u001b[0;34m)\u001b[0m\u001b[0;34m\u001b[0m\u001b[0;34m\u001b[0m\u001b[0m\n\u001b[0m\u001b[1;32m    128\u001b[0m \u001b[0;34m\u001b[0m\u001b[0m\n\u001b[1;32m    129\u001b[0m     \u001b[0;32mdef\u001b[0m \u001b[0m_str_startswith\u001b[0m\u001b[0;34m(\u001b[0m\u001b[0mself\u001b[0m\u001b[0;34m,\u001b[0m \u001b[0mpat\u001b[0m\u001b[0;34m,\u001b[0m \u001b[0mna\u001b[0m\u001b[0;34m=\u001b[0m\u001b[0;32mNone\u001b[0m\u001b[0;34m)\u001b[0m\u001b[0;34m:\u001b[0m\u001b[0;34m\u001b[0m\u001b[0;34m\u001b[0m\u001b[0m\n",
      "\u001b[0;32m/shared-libs/python3.7/py/lib/python3.7/site-packages/pandas/core/strings/object_array.py\u001b[0m in \u001b[0;36m_str_map\u001b[0;34m(self, f, na_value, dtype)\u001b[0m\n\u001b[1;32m     59\u001b[0m         \u001b[0mconvert\u001b[0m \u001b[0;34m=\u001b[0m \u001b[0;32mnot\u001b[0m \u001b[0mnp\u001b[0m\u001b[0;34m.\u001b[0m\u001b[0mall\u001b[0m\u001b[0;34m(\u001b[0m\u001b[0mmask\u001b[0m\u001b[0;34m)\u001b[0m\u001b[0;34m\u001b[0m\u001b[0;34m\u001b[0m\u001b[0m\n\u001b[1;32m     60\u001b[0m         \u001b[0;32mtry\u001b[0m\u001b[0;34m:\u001b[0m\u001b[0;34m\u001b[0m\u001b[0;34m\u001b[0m\u001b[0m\n\u001b[0;32m---> 61\u001b[0;31m             \u001b[0mresult\u001b[0m \u001b[0;34m=\u001b[0m \u001b[0mlib\u001b[0m\u001b[0;34m.\u001b[0m\u001b[0mmap_infer_mask\u001b[0m\u001b[0;34m(\u001b[0m\u001b[0marr\u001b[0m\u001b[0;34m,\u001b[0m \u001b[0mf\u001b[0m\u001b[0;34m,\u001b[0m \u001b[0mmask\u001b[0m\u001b[0;34m.\u001b[0m\u001b[0mview\u001b[0m\u001b[0;34m(\u001b[0m\u001b[0mnp\u001b[0m\u001b[0;34m.\u001b[0m\u001b[0muint8\u001b[0m\u001b[0;34m)\u001b[0m\u001b[0;34m,\u001b[0m \u001b[0mconvert\u001b[0m\u001b[0;34m)\u001b[0m\u001b[0;34m\u001b[0m\u001b[0;34m\u001b[0m\u001b[0m\n\u001b[0m\u001b[1;32m     62\u001b[0m         \u001b[0;32mexcept\u001b[0m \u001b[0;34m(\u001b[0m\u001b[0mTypeError\u001b[0m\u001b[0;34m,\u001b[0m \u001b[0mAttributeError\u001b[0m\u001b[0;34m)\u001b[0m \u001b[0;32mas\u001b[0m \u001b[0me\u001b[0m\u001b[0;34m:\u001b[0m\u001b[0;34m\u001b[0m\u001b[0;34m\u001b[0m\u001b[0m\n\u001b[1;32m     63\u001b[0m             \u001b[0;31m# Reraise the exception if callable `f` got wrong number of args.\u001b[0m\u001b[0;34m\u001b[0m\u001b[0;34m\u001b[0m\u001b[0;34m\u001b[0m\u001b[0m\n",
      "\u001b[0;32mpandas/_libs/lib.pyx\u001b[0m in \u001b[0;36mpandas._libs.lib.map_infer_mask\u001b[0;34m()\u001b[0m\n",
      "\u001b[0;32m/shared-libs/python3.7/py/lib/python3.7/site-packages/pandas/core/strings/object_array.py\u001b[0m in \u001b[0;36m<lambda>\u001b[0;34m(x)\u001b[0m\n\u001b[1;32m    118\u001b[0m                 )\n\u001b[1;32m    119\u001b[0m \u001b[0;34m\u001b[0m\u001b[0m\n\u001b[0;32m--> 120\u001b[0;31m             \u001b[0mf\u001b[0m \u001b[0;34m=\u001b[0m \u001b[0;32mlambda\u001b[0m \u001b[0mx\u001b[0m\u001b[0;34m:\u001b[0m \u001b[0mregex\u001b[0m\u001b[0;34m.\u001b[0m\u001b[0msearch\u001b[0m\u001b[0;34m(\u001b[0m\u001b[0mx\u001b[0m\u001b[0;34m)\u001b[0m \u001b[0;32mis\u001b[0m \u001b[0;32mnot\u001b[0m \u001b[0;32mNone\u001b[0m\u001b[0;34m\u001b[0m\u001b[0;34m\u001b[0m\u001b[0m\n\u001b[0m\u001b[1;32m    121\u001b[0m         \u001b[0;32melse\u001b[0m\u001b[0;34m:\u001b[0m\u001b[0;34m\u001b[0m\u001b[0;34m\u001b[0m\u001b[0m\n\u001b[1;32m    122\u001b[0m             \u001b[0;32mif\u001b[0m \u001b[0mcase\u001b[0m\u001b[0;34m:\u001b[0m\u001b[0;34m\u001b[0m\u001b[0;34m\u001b[0m\u001b[0m\n",
      "\u001b[0;31mKeyboardInterrupt\u001b[0m: "
     ]
    }
   ],
   "execution_count": 20
  },
  {
   "cell_type": "code",
   "source": "def get_describe_by(mean_col, by_col, dataframe):\n    def wrapped(elem):\n        tmp = dataframe.where(dataframe[elem[by_col]] == True)[mean_col].describe()\n        for col in tmp.index:\n           elem[mean_col + '-' + col] = tmp[col]\n        return elem\n    return wrapped",
   "metadata": {
    "tags": [],
    "deepnote_app_coordinates": {
     "x": 0,
     "y": 0,
     "w": 12,
     "h": 5
    },
    "cell_id": "00045-8637ca96-37e7-475c-a6a6-686d46a0e2b5",
    "deepnote_to_be_reexecuted": true,
    "source_hash": "eddd4d29",
    "execution_start": 1634417321433,
    "execution_millis": 1,
    "deepnote_cell_type": "code"
   },
   "outputs": [],
   "execution_count": null
  },
  {
   "cell_type": "code",
   "source": "rating_genres = pd.DataFrame(data={'genres': genres})\n\nrating_genres = rating_genres.apply(get_describe_by(\"metacritic\", \"genres\", dataset_genres), axis=1)\nrating_genres.set_index('genres', inplace=True)\n#rating_genres.sort_values(\"metacritic\", inplace=True)\n#rating_genres[\"metacritic\"].plot.bar()\nrating_genres.sort_values(\"metacritic-count\", inplace=True)\nrating_genres.plot.bar(x=rating_genres.index, y=[\"metacritic-count\"])",
   "metadata": {
    "tags": [],
    "deepnote_app_coordinates": {
     "x": 0,
     "y": 0,
     "w": 12,
     "h": 5
    },
    "cell_id": "00044-8a2a1111-d076-4cfc-873a-8b579fbe6f77",
    "deepnote_to_be_reexecuted": true,
    "source_hash": "13fe6d1a",
    "execution_start": 1634417321435,
    "execution_millis": 6452,
    "deepnote_cell_type": "code"
   },
   "outputs": [
    {
     "output_type": "error",
     "ename": "KeyboardInterrupt",
     "evalue": "",
     "traceback": [
      "\u001b[0;31m---------------------------------------------------------------------------\u001b[0m",
      "\u001b[0;31mKeyboardInterrupt\u001b[0m                         Traceback (most recent call last)",
      "\u001b[0;32m<ipython-input-22-ad0315b6d08b>\u001b[0m in \u001b[0;36m<module>\u001b[0;34m\u001b[0m\n\u001b[1;32m      1\u001b[0m \u001b[0mrating_genres\u001b[0m \u001b[0;34m=\u001b[0m \u001b[0mpd\u001b[0m\u001b[0;34m.\u001b[0m\u001b[0mDataFrame\u001b[0m\u001b[0;34m(\u001b[0m\u001b[0mdata\u001b[0m\u001b[0;34m=\u001b[0m\u001b[0;34m{\u001b[0m\u001b[0;34m'genres'\u001b[0m\u001b[0;34m:\u001b[0m \u001b[0mgenres\u001b[0m\u001b[0;34m}\u001b[0m\u001b[0;34m)\u001b[0m\u001b[0;34m\u001b[0m\u001b[0;34m\u001b[0m\u001b[0m\n\u001b[1;32m      2\u001b[0m \u001b[0;34m\u001b[0m\u001b[0m\n\u001b[0;32m----> 3\u001b[0;31m \u001b[0mrating_genres\u001b[0m \u001b[0;34m=\u001b[0m \u001b[0mrating_genres\u001b[0m\u001b[0;34m.\u001b[0m\u001b[0mapply\u001b[0m\u001b[0;34m(\u001b[0m\u001b[0mget_describe_by\u001b[0m\u001b[0;34m(\u001b[0m\u001b[0;34m\"metacritic\"\u001b[0m\u001b[0;34m,\u001b[0m \u001b[0;34m\"genres\"\u001b[0m\u001b[0;34m,\u001b[0m \u001b[0mdataset_genres\u001b[0m\u001b[0;34m)\u001b[0m\u001b[0;34m,\u001b[0m \u001b[0maxis\u001b[0m\u001b[0;34m=\u001b[0m\u001b[0;36m1\u001b[0m\u001b[0;34m)\u001b[0m\u001b[0;34m\u001b[0m\u001b[0;34m\u001b[0m\u001b[0m\n\u001b[0m\u001b[1;32m      4\u001b[0m \u001b[0mrating_genres\u001b[0m\u001b[0;34m.\u001b[0m\u001b[0mset_index\u001b[0m\u001b[0;34m(\u001b[0m\u001b[0;34m'genres'\u001b[0m\u001b[0;34m,\u001b[0m \u001b[0minplace\u001b[0m\u001b[0;34m=\u001b[0m\u001b[0;32mTrue\u001b[0m\u001b[0;34m)\u001b[0m\u001b[0;34m\u001b[0m\u001b[0;34m\u001b[0m\u001b[0m\n\u001b[1;32m      5\u001b[0m \u001b[0;31m#rating_genres.sort_values(\"metacritic\", inplace=True)\u001b[0m\u001b[0;34m\u001b[0m\u001b[0;34m\u001b[0m\u001b[0;34m\u001b[0m\u001b[0m\n",
      "\u001b[0;32m/shared-libs/python3.7/py/lib/python3.7/site-packages/pandas/core/frame.py\u001b[0m in \u001b[0;36mapply\u001b[0;34m(self, func, axis, raw, result_type, args, **kwds)\u001b[0m\n\u001b[1;32m   7766\u001b[0m             \u001b[0mkwds\u001b[0m\u001b[0;34m=\u001b[0m\u001b[0mkwds\u001b[0m\u001b[0;34m,\u001b[0m\u001b[0;34m\u001b[0m\u001b[0;34m\u001b[0m\u001b[0m\n\u001b[1;32m   7767\u001b[0m         )\n\u001b[0;32m-> 7768\u001b[0;31m         \u001b[0;32mreturn\u001b[0m \u001b[0mop\u001b[0m\u001b[0;34m.\u001b[0m\u001b[0mget_result\u001b[0m\u001b[0;34m(\u001b[0m\u001b[0;34m)\u001b[0m\u001b[0;34m\u001b[0m\u001b[0;34m\u001b[0m\u001b[0m\n\u001b[0m\u001b[1;32m   7769\u001b[0m \u001b[0;34m\u001b[0m\u001b[0m\n\u001b[1;32m   7770\u001b[0m     \u001b[0;32mdef\u001b[0m \u001b[0mapplymap\u001b[0m\u001b[0;34m(\u001b[0m\u001b[0mself\u001b[0m\u001b[0;34m,\u001b[0m \u001b[0mfunc\u001b[0m\u001b[0;34m,\u001b[0m \u001b[0mna_action\u001b[0m\u001b[0;34m:\u001b[0m \u001b[0mOptional\u001b[0m\u001b[0;34m[\u001b[0m\u001b[0mstr\u001b[0m\u001b[0;34m]\u001b[0m \u001b[0;34m=\u001b[0m \u001b[0;32mNone\u001b[0m\u001b[0;34m)\u001b[0m \u001b[0;34m->\u001b[0m \u001b[0mDataFrame\u001b[0m\u001b[0;34m:\u001b[0m\u001b[0;34m\u001b[0m\u001b[0;34m\u001b[0m\u001b[0m\n",
      "\u001b[0;32m/shared-libs/python3.7/py/lib/python3.7/site-packages/pandas/core/apply.py\u001b[0m in \u001b[0;36mget_result\u001b[0;34m(self)\u001b[0m\n\u001b[1;32m    183\u001b[0m             \u001b[0;32mreturn\u001b[0m \u001b[0mself\u001b[0m\u001b[0;34m.\u001b[0m\u001b[0mapply_raw\u001b[0m\u001b[0;34m(\u001b[0m\u001b[0;34m)\u001b[0m\u001b[0;34m\u001b[0m\u001b[0;34m\u001b[0m\u001b[0m\n\u001b[1;32m    184\u001b[0m \u001b[0;34m\u001b[0m\u001b[0m\n\u001b[0;32m--> 185\u001b[0;31m         \u001b[0;32mreturn\u001b[0m \u001b[0mself\u001b[0m\u001b[0;34m.\u001b[0m\u001b[0mapply_standard\u001b[0m\u001b[0;34m(\u001b[0m\u001b[0;34m)\u001b[0m\u001b[0;34m\u001b[0m\u001b[0;34m\u001b[0m\u001b[0m\n\u001b[0m\u001b[1;32m    186\u001b[0m \u001b[0;34m\u001b[0m\u001b[0m\n\u001b[1;32m    187\u001b[0m     \u001b[0;32mdef\u001b[0m \u001b[0mapply_empty_result\u001b[0m\u001b[0;34m(\u001b[0m\u001b[0mself\u001b[0m\u001b[0;34m)\u001b[0m\u001b[0;34m:\u001b[0m\u001b[0;34m\u001b[0m\u001b[0;34m\u001b[0m\u001b[0m\n",
      "\u001b[0;32m/shared-libs/python3.7/py/lib/python3.7/site-packages/pandas/core/apply.py\u001b[0m in \u001b[0;36mapply_standard\u001b[0;34m(self)\u001b[0m\n\u001b[1;32m    274\u001b[0m \u001b[0;34m\u001b[0m\u001b[0m\n\u001b[1;32m    275\u001b[0m     \u001b[0;32mdef\u001b[0m \u001b[0mapply_standard\u001b[0m\u001b[0;34m(\u001b[0m\u001b[0mself\u001b[0m\u001b[0;34m)\u001b[0m\u001b[0;34m:\u001b[0m\u001b[0;34m\u001b[0m\u001b[0;34m\u001b[0m\u001b[0m\n\u001b[0;32m--> 276\u001b[0;31m         \u001b[0mresults\u001b[0m\u001b[0;34m,\u001b[0m \u001b[0mres_index\u001b[0m \u001b[0;34m=\u001b[0m \u001b[0mself\u001b[0m\u001b[0;34m.\u001b[0m\u001b[0mapply_series_generator\u001b[0m\u001b[0;34m(\u001b[0m\u001b[0;34m)\u001b[0m\u001b[0;34m\u001b[0m\u001b[0;34m\u001b[0m\u001b[0m\n\u001b[0m\u001b[1;32m    277\u001b[0m \u001b[0;34m\u001b[0m\u001b[0m\n\u001b[1;32m    278\u001b[0m         \u001b[0;31m# wrap results\u001b[0m\u001b[0;34m\u001b[0m\u001b[0;34m\u001b[0m\u001b[0;34m\u001b[0m\u001b[0m\n",
      "\u001b[0;32m/shared-libs/python3.7/py/lib/python3.7/site-packages/pandas/core/apply.py\u001b[0m in \u001b[0;36mapply_series_generator\u001b[0;34m(self)\u001b[0m\n\u001b[1;32m    288\u001b[0m             \u001b[0;32mfor\u001b[0m \u001b[0mi\u001b[0m\u001b[0;34m,\u001b[0m \u001b[0mv\u001b[0m \u001b[0;32min\u001b[0m \u001b[0menumerate\u001b[0m\u001b[0;34m(\u001b[0m\u001b[0mseries_gen\u001b[0m\u001b[0;34m)\u001b[0m\u001b[0;34m:\u001b[0m\u001b[0;34m\u001b[0m\u001b[0;34m\u001b[0m\u001b[0m\n\u001b[1;32m    289\u001b[0m                 \u001b[0;31m# ignore SettingWithCopy here in case the user mutates\u001b[0m\u001b[0;34m\u001b[0m\u001b[0;34m\u001b[0m\u001b[0;34m\u001b[0m\u001b[0m\n\u001b[0;32m--> 290\u001b[0;31m                 \u001b[0mresults\u001b[0m\u001b[0;34m[\u001b[0m\u001b[0mi\u001b[0m\u001b[0;34m]\u001b[0m \u001b[0;34m=\u001b[0m \u001b[0mself\u001b[0m\u001b[0;34m.\u001b[0m\u001b[0mf\u001b[0m\u001b[0;34m(\u001b[0m\u001b[0mv\u001b[0m\u001b[0;34m)\u001b[0m\u001b[0;34m\u001b[0m\u001b[0;34m\u001b[0m\u001b[0m\n\u001b[0m\u001b[1;32m    291\u001b[0m                 \u001b[0;32mif\u001b[0m \u001b[0misinstance\u001b[0m\u001b[0;34m(\u001b[0m\u001b[0mresults\u001b[0m\u001b[0;34m[\u001b[0m\u001b[0mi\u001b[0m\u001b[0;34m]\u001b[0m\u001b[0;34m,\u001b[0m \u001b[0mABCSeries\u001b[0m\u001b[0;34m)\u001b[0m\u001b[0;34m:\u001b[0m\u001b[0;34m\u001b[0m\u001b[0;34m\u001b[0m\u001b[0m\n\u001b[1;32m    292\u001b[0m                     \u001b[0;31m# If we have a view on v, we need to make a copy because\u001b[0m\u001b[0;34m\u001b[0m\u001b[0;34m\u001b[0m\u001b[0;34m\u001b[0m\u001b[0m\n",
      "\u001b[0;32m<ipython-input-21-b3def99a78a1>\u001b[0m in \u001b[0;36mwrapped\u001b[0;34m(elem)\u001b[0m\n\u001b[1;32m      1\u001b[0m \u001b[0;32mdef\u001b[0m \u001b[0mget_describe_by\u001b[0m\u001b[0;34m(\u001b[0m\u001b[0mmean_col\u001b[0m\u001b[0;34m,\u001b[0m \u001b[0mby_col\u001b[0m\u001b[0;34m,\u001b[0m \u001b[0mdataframe\u001b[0m\u001b[0;34m)\u001b[0m\u001b[0;34m:\u001b[0m\u001b[0;34m\u001b[0m\u001b[0;34m\u001b[0m\u001b[0m\n\u001b[1;32m      2\u001b[0m     \u001b[0;32mdef\u001b[0m \u001b[0mwrapped\u001b[0m\u001b[0;34m(\u001b[0m\u001b[0melem\u001b[0m\u001b[0;34m)\u001b[0m\u001b[0;34m:\u001b[0m\u001b[0;34m\u001b[0m\u001b[0;34m\u001b[0m\u001b[0m\n\u001b[0;32m----> 3\u001b[0;31m         \u001b[0mtmp\u001b[0m \u001b[0;34m=\u001b[0m \u001b[0mdataframe\u001b[0m\u001b[0;34m.\u001b[0m\u001b[0mwhere\u001b[0m\u001b[0;34m(\u001b[0m\u001b[0mdataframe\u001b[0m\u001b[0;34m[\u001b[0m\u001b[0melem\u001b[0m\u001b[0;34m[\u001b[0m\u001b[0mby_col\u001b[0m\u001b[0;34m]\u001b[0m\u001b[0;34m]\u001b[0m \u001b[0;34m==\u001b[0m \u001b[0;32mTrue\u001b[0m\u001b[0;34m)\u001b[0m\u001b[0;34m[\u001b[0m\u001b[0mmean_col\u001b[0m\u001b[0;34m]\u001b[0m\u001b[0;34m.\u001b[0m\u001b[0mdescribe\u001b[0m\u001b[0;34m(\u001b[0m\u001b[0;34m)\u001b[0m\u001b[0;34m\u001b[0m\u001b[0;34m\u001b[0m\u001b[0m\n\u001b[0m\u001b[1;32m      4\u001b[0m         \u001b[0;32mfor\u001b[0m \u001b[0mcol\u001b[0m \u001b[0;32min\u001b[0m \u001b[0mtmp\u001b[0m\u001b[0;34m.\u001b[0m\u001b[0mindex\u001b[0m\u001b[0;34m:\u001b[0m\u001b[0;34m\u001b[0m\u001b[0;34m\u001b[0m\u001b[0m\n\u001b[1;32m      5\u001b[0m            \u001b[0melem\u001b[0m\u001b[0;34m[\u001b[0m\u001b[0mmean_col\u001b[0m \u001b[0;34m+\u001b[0m \u001b[0;34m'-'\u001b[0m \u001b[0;34m+\u001b[0m \u001b[0mcol\u001b[0m\u001b[0;34m]\u001b[0m \u001b[0;34m=\u001b[0m \u001b[0mtmp\u001b[0m\u001b[0;34m[\u001b[0m\u001b[0mcol\u001b[0m\u001b[0;34m]\u001b[0m\u001b[0;34m\u001b[0m\u001b[0;34m\u001b[0m\u001b[0m\n",
      "\u001b[0;32m/shared-libs/python3.7/py/lib/python3.7/site-packages/pandas/core/generic.py\u001b[0m in \u001b[0;36mdescribe\u001b[0;34m(self, percentiles, include, exclude, datetime_is_numeric)\u001b[0m\n\u001b[1;32m  10382\u001b[0m             \u001b[0;31m# Incompatible return value type\u001b[0m\u001b[0;34m\u001b[0m\u001b[0;34m\u001b[0m\u001b[0;34m\u001b[0m\u001b[0m\n\u001b[1;32m  10383\u001b[0m             \u001b[0;31m#  (got \"Series\", expected \"FrameOrSeries\")  [return-value]\u001b[0m\u001b[0;34m\u001b[0m\u001b[0;34m\u001b[0m\u001b[0;34m\u001b[0m\u001b[0m\n\u001b[0;32m> 10384\u001b[0;31m             \u001b[0;32mreturn\u001b[0m \u001b[0mdescribe_1d\u001b[0m\u001b[0;34m(\u001b[0m\u001b[0mself\u001b[0m\u001b[0;34m)\u001b[0m  \u001b[0;31m# type:ignore[return-value]\u001b[0m\u001b[0;34m\u001b[0m\u001b[0;34m\u001b[0m\u001b[0m\n\u001b[0m\u001b[1;32m  10385\u001b[0m         \u001b[0;32melif\u001b[0m \u001b[0;34m(\u001b[0m\u001b[0minclude\u001b[0m \u001b[0;32mis\u001b[0m \u001b[0;32mNone\u001b[0m\u001b[0;34m)\u001b[0m \u001b[0;32mand\u001b[0m \u001b[0;34m(\u001b[0m\u001b[0mexclude\u001b[0m \u001b[0;32mis\u001b[0m \u001b[0;32mNone\u001b[0m\u001b[0;34m)\u001b[0m\u001b[0;34m:\u001b[0m\u001b[0;34m\u001b[0m\u001b[0;34m\u001b[0m\u001b[0m\n\u001b[1;32m  10386\u001b[0m             \u001b[0;31m# when some numerics are found, keep only numerics\u001b[0m\u001b[0;34m\u001b[0m\u001b[0;34m\u001b[0m\u001b[0;34m\u001b[0m\u001b[0m\n",
      "\u001b[0;32m/shared-libs/python3.7/py/lib/python3.7/site-packages/pandas/core/generic.py\u001b[0m in \u001b[0;36mdescribe_1d\u001b[0;34m(data)\u001b[0m\n\u001b[1;32m  10371\u001b[0m                 \u001b[0;32mreturn\u001b[0m \u001b[0mdescribe_categorical_1d\u001b[0m\u001b[0;34m(\u001b[0m\u001b[0mdata\u001b[0m\u001b[0;34m)\u001b[0m\u001b[0;34m\u001b[0m\u001b[0;34m\u001b[0m\u001b[0m\n\u001b[1;32m  10372\u001b[0m             \u001b[0;32melif\u001b[0m \u001b[0mis_numeric_dtype\u001b[0m\u001b[0;34m(\u001b[0m\u001b[0mdata\u001b[0m\u001b[0;34m)\u001b[0m\u001b[0;34m:\u001b[0m\u001b[0;34m\u001b[0m\u001b[0;34m\u001b[0m\u001b[0m\n\u001b[0;32m> 10373\u001b[0;31m                 \u001b[0;32mreturn\u001b[0m \u001b[0mdescribe_numeric_1d\u001b[0m\u001b[0;34m(\u001b[0m\u001b[0mdata\u001b[0m\u001b[0;34m)\u001b[0m\u001b[0;34m\u001b[0m\u001b[0;34m\u001b[0m\u001b[0m\n\u001b[0m\u001b[1;32m  10374\u001b[0m             \u001b[0;32melif\u001b[0m \u001b[0mis_datetime64_any_dtype\u001b[0m\u001b[0;34m(\u001b[0m\u001b[0mdata\u001b[0m\u001b[0;34m.\u001b[0m\u001b[0mdtype\u001b[0m\u001b[0;34m)\u001b[0m \u001b[0;32mand\u001b[0m \u001b[0mdatetime_is_numeric\u001b[0m\u001b[0;34m:\u001b[0m\u001b[0;34m\u001b[0m\u001b[0;34m\u001b[0m\u001b[0m\n\u001b[1;32m  10375\u001b[0m                 \u001b[0;32mreturn\u001b[0m \u001b[0mdescribe_timestamp_1d\u001b[0m\u001b[0;34m(\u001b[0m\u001b[0mdata\u001b[0m\u001b[0;34m)\u001b[0m\u001b[0;34m\u001b[0m\u001b[0;34m\u001b[0m\u001b[0m\n",
      "\u001b[0;32m/shared-libs/python3.7/py/lib/python3.7/site-packages/pandas/core/generic.py\u001b[0m in \u001b[0;36mdescribe_numeric_1d\u001b[0;34m(series)\u001b[0m\n\u001b[1;32m  10304\u001b[0m                 \u001b[0;34m[\u001b[0m\u001b[0mseries\u001b[0m\u001b[0;34m.\u001b[0m\u001b[0mcount\u001b[0m\u001b[0;34m(\u001b[0m\u001b[0;34m)\u001b[0m\u001b[0;34m,\u001b[0m \u001b[0mseries\u001b[0m\u001b[0;34m.\u001b[0m\u001b[0mmean\u001b[0m\u001b[0;34m(\u001b[0m\u001b[0;34m)\u001b[0m\u001b[0;34m,\u001b[0m \u001b[0mseries\u001b[0m\u001b[0;34m.\u001b[0m\u001b[0mstd\u001b[0m\u001b[0;34m(\u001b[0m\u001b[0;34m)\u001b[0m\u001b[0;34m,\u001b[0m \u001b[0mseries\u001b[0m\u001b[0;34m.\u001b[0m\u001b[0mmin\u001b[0m\u001b[0;34m(\u001b[0m\u001b[0;34m)\u001b[0m\u001b[0;34m]\u001b[0m\u001b[0;34m\u001b[0m\u001b[0;34m\u001b[0m\u001b[0m\n\u001b[1;32m  10305\u001b[0m                 \u001b[0;34m+\u001b[0m \u001b[0mseries\u001b[0m\u001b[0;34m.\u001b[0m\u001b[0mquantile\u001b[0m\u001b[0;34m(\u001b[0m\u001b[0mpercentiles\u001b[0m\u001b[0;34m)\u001b[0m\u001b[0;34m.\u001b[0m\u001b[0mtolist\u001b[0m\u001b[0;34m(\u001b[0m\u001b[0;34m)\u001b[0m\u001b[0;34m\u001b[0m\u001b[0;34m\u001b[0m\u001b[0m\n\u001b[0;32m> 10306\u001b[0;31m                 \u001b[0;34m+\u001b[0m \u001b[0;34m[\u001b[0m\u001b[0mseries\u001b[0m\u001b[0;34m.\u001b[0m\u001b[0mmax\u001b[0m\u001b[0;34m(\u001b[0m\u001b[0;34m)\u001b[0m\u001b[0;34m]\u001b[0m\u001b[0;34m\u001b[0m\u001b[0;34m\u001b[0m\u001b[0m\n\u001b[0m\u001b[1;32m  10307\u001b[0m             )\n\u001b[1;32m  10308\u001b[0m             \u001b[0;32mreturn\u001b[0m \u001b[0mpd\u001b[0m\u001b[0;34m.\u001b[0m\u001b[0mSeries\u001b[0m\u001b[0;34m(\u001b[0m\u001b[0md\u001b[0m\u001b[0;34m,\u001b[0m \u001b[0mindex\u001b[0m\u001b[0;34m=\u001b[0m\u001b[0mstat_index\u001b[0m\u001b[0;34m,\u001b[0m \u001b[0mname\u001b[0m\u001b[0;34m=\u001b[0m\u001b[0mseries\u001b[0m\u001b[0;34m.\u001b[0m\u001b[0mname\u001b[0m\u001b[0;34m)\u001b[0m\u001b[0;34m\u001b[0m\u001b[0;34m\u001b[0m\u001b[0m\n",
      "\u001b[0;32m/shared-libs/python3.7/py/lib/python3.7/site-packages/pandas/core/generic.py\u001b[0m in \u001b[0;36mstd\u001b[0;34m(self, axis, skipna, level, ddof, numeric_only, **kwargs)\u001b[0m\n\u001b[1;32m  10979\u001b[0m             \u001b[0;34m**\u001b[0m\u001b[0mkwargs\u001b[0m\u001b[0;34m,\u001b[0m\u001b[0;34m\u001b[0m\u001b[0;34m\u001b[0m\u001b[0m\n\u001b[1;32m  10980\u001b[0m         ):\n\u001b[0;32m> 10981\u001b[0;31m             \u001b[0;32mreturn\u001b[0m \u001b[0mNDFrame\u001b[0m\u001b[0;34m.\u001b[0m\u001b[0mstd\u001b[0m\u001b[0;34m(\u001b[0m\u001b[0mself\u001b[0m\u001b[0;34m,\u001b[0m \u001b[0maxis\u001b[0m\u001b[0;34m,\u001b[0m \u001b[0mskipna\u001b[0m\u001b[0;34m,\u001b[0m \u001b[0mlevel\u001b[0m\u001b[0;34m,\u001b[0m \u001b[0mddof\u001b[0m\u001b[0;34m,\u001b[0m \u001b[0mnumeric_only\u001b[0m\u001b[0;34m,\u001b[0m \u001b[0;34m**\u001b[0m\u001b[0mkwargs\u001b[0m\u001b[0;34m)\u001b[0m\u001b[0;34m\u001b[0m\u001b[0;34m\u001b[0m\u001b[0m\n\u001b[0m\u001b[1;32m  10982\u001b[0m \u001b[0;34m\u001b[0m\u001b[0m\n\u001b[1;32m  10983\u001b[0m         \u001b[0;31m# pandas\\core\\generic.py:10801: error: Cannot assign to a method\u001b[0m\u001b[0;34m\u001b[0m\u001b[0;34m\u001b[0m\u001b[0;34m\u001b[0m\u001b[0m\n",
      "\u001b[0;32m/shared-libs/python3.7/py/lib/python3.7/site-packages/pandas/core/generic.py\u001b[0m in \u001b[0;36mstd\u001b[0;34m(self, axis, skipna, level, ddof, numeric_only, **kwargs)\u001b[0m\n\u001b[1;32m  10685\u001b[0m     ):\n\u001b[1;32m  10686\u001b[0m         return self._stat_function_ddof(\n\u001b[0;32m> 10687\u001b[0;31m             \u001b[0;34m\"std\"\u001b[0m\u001b[0;34m,\u001b[0m \u001b[0mnanops\u001b[0m\u001b[0;34m.\u001b[0m\u001b[0mnanstd\u001b[0m\u001b[0;34m,\u001b[0m \u001b[0maxis\u001b[0m\u001b[0;34m,\u001b[0m \u001b[0mskipna\u001b[0m\u001b[0;34m,\u001b[0m \u001b[0mlevel\u001b[0m\u001b[0;34m,\u001b[0m \u001b[0mddof\u001b[0m\u001b[0;34m,\u001b[0m \u001b[0mnumeric_only\u001b[0m\u001b[0;34m,\u001b[0m \u001b[0;34m**\u001b[0m\u001b[0mkwargs\u001b[0m\u001b[0;34m\u001b[0m\u001b[0;34m\u001b[0m\u001b[0m\n\u001b[0m\u001b[1;32m  10688\u001b[0m         )\n\u001b[1;32m  10689\u001b[0m \u001b[0;34m\u001b[0m\u001b[0m\n",
      "\u001b[0;32m/shared-libs/python3.7/py/lib/python3.7/site-packages/pandas/core/generic.py\u001b[0m in \u001b[0;36m_stat_function_ddof\u001b[0;34m(self, name, func, axis, skipna, level, ddof, numeric_only, **kwargs)\u001b[0m\n\u001b[1;32m  10664\u001b[0m             )\n\u001b[1;32m  10665\u001b[0m         return self._reduce(\n\u001b[0;32m> 10666\u001b[0;31m             \u001b[0mfunc\u001b[0m\u001b[0;34m,\u001b[0m \u001b[0mname\u001b[0m\u001b[0;34m,\u001b[0m \u001b[0maxis\u001b[0m\u001b[0;34m=\u001b[0m\u001b[0maxis\u001b[0m\u001b[0;34m,\u001b[0m \u001b[0mnumeric_only\u001b[0m\u001b[0;34m=\u001b[0m\u001b[0mnumeric_only\u001b[0m\u001b[0;34m,\u001b[0m \u001b[0mskipna\u001b[0m\u001b[0;34m=\u001b[0m\u001b[0mskipna\u001b[0m\u001b[0;34m,\u001b[0m \u001b[0mddof\u001b[0m\u001b[0;34m=\u001b[0m\u001b[0mddof\u001b[0m\u001b[0;34m\u001b[0m\u001b[0;34m\u001b[0m\u001b[0m\n\u001b[0m\u001b[1;32m  10667\u001b[0m         )\n\u001b[1;32m  10668\u001b[0m \u001b[0;34m\u001b[0m\u001b[0m\n",
      "\u001b[0;32m/shared-libs/python3.7/py/lib/python3.7/site-packages/pandas/core/series.py\u001b[0m in \u001b[0;36m_reduce\u001b[0;34m(self, op, name, axis, skipna, numeric_only, filter_type, **kwds)\u001b[0m\n\u001b[1;32m   4180\u001b[0m                 )\n\u001b[1;32m   4181\u001b[0m             \u001b[0;32mwith\u001b[0m \u001b[0mnp\u001b[0m\u001b[0;34m.\u001b[0m\u001b[0merrstate\u001b[0m\u001b[0;34m(\u001b[0m\u001b[0mall\u001b[0m\u001b[0;34m=\u001b[0m\u001b[0;34m\"ignore\"\u001b[0m\u001b[0;34m)\u001b[0m\u001b[0;34m:\u001b[0m\u001b[0;34m\u001b[0m\u001b[0;34m\u001b[0m\u001b[0m\n\u001b[0;32m-> 4182\u001b[0;31m                 \u001b[0;32mreturn\u001b[0m \u001b[0mop\u001b[0m\u001b[0;34m(\u001b[0m\u001b[0mdelegate\u001b[0m\u001b[0;34m,\u001b[0m \u001b[0mskipna\u001b[0m\u001b[0;34m=\u001b[0m\u001b[0mskipna\u001b[0m\u001b[0;34m,\u001b[0m \u001b[0;34m**\u001b[0m\u001b[0mkwds\u001b[0m\u001b[0;34m)\u001b[0m\u001b[0;34m\u001b[0m\u001b[0;34m\u001b[0m\u001b[0m\n\u001b[0m\u001b[1;32m   4183\u001b[0m \u001b[0;34m\u001b[0m\u001b[0m\n\u001b[1;32m   4184\u001b[0m     \u001b[0;32mdef\u001b[0m \u001b[0m_reindex_indexer\u001b[0m\u001b[0;34m(\u001b[0m\u001b[0mself\u001b[0m\u001b[0;34m,\u001b[0m \u001b[0mnew_index\u001b[0m\u001b[0;34m,\u001b[0m \u001b[0mindexer\u001b[0m\u001b[0;34m,\u001b[0m \u001b[0mcopy\u001b[0m\u001b[0;34m)\u001b[0m\u001b[0;34m:\u001b[0m\u001b[0;34m\u001b[0m\u001b[0;34m\u001b[0m\u001b[0m\n",
      "\u001b[0;32m/shared-libs/python3.7/py/lib/python3.7/site-packages/pandas/core/nanops.py\u001b[0m in \u001b[0;36mf\u001b[0;34m(values, axis, skipna, **kwds)\u001b[0m\n\u001b[1;32m    133\u001b[0m                     \u001b[0mresult\u001b[0m \u001b[0;34m=\u001b[0m \u001b[0malt\u001b[0m\u001b[0;34m(\u001b[0m\u001b[0mvalues\u001b[0m\u001b[0;34m,\u001b[0m \u001b[0maxis\u001b[0m\u001b[0;34m=\u001b[0m\u001b[0maxis\u001b[0m\u001b[0;34m,\u001b[0m \u001b[0mskipna\u001b[0m\u001b[0;34m=\u001b[0m\u001b[0mskipna\u001b[0m\u001b[0;34m,\u001b[0m \u001b[0;34m**\u001b[0m\u001b[0mkwds\u001b[0m\u001b[0;34m)\u001b[0m\u001b[0;34m\u001b[0m\u001b[0;34m\u001b[0m\u001b[0m\n\u001b[1;32m    134\u001b[0m             \u001b[0;32melse\u001b[0m\u001b[0;34m:\u001b[0m\u001b[0;34m\u001b[0m\u001b[0;34m\u001b[0m\u001b[0m\n\u001b[0;32m--> 135\u001b[0;31m                 \u001b[0mresult\u001b[0m \u001b[0;34m=\u001b[0m \u001b[0malt\u001b[0m\u001b[0;34m(\u001b[0m\u001b[0mvalues\u001b[0m\u001b[0;34m,\u001b[0m \u001b[0maxis\u001b[0m\u001b[0;34m=\u001b[0m\u001b[0maxis\u001b[0m\u001b[0;34m,\u001b[0m \u001b[0mskipna\u001b[0m\u001b[0;34m=\u001b[0m\u001b[0mskipna\u001b[0m\u001b[0;34m,\u001b[0m \u001b[0;34m**\u001b[0m\u001b[0mkwds\u001b[0m\u001b[0;34m)\u001b[0m\u001b[0;34m\u001b[0m\u001b[0;34m\u001b[0m\u001b[0m\n\u001b[0m\u001b[1;32m    136\u001b[0m \u001b[0;34m\u001b[0m\u001b[0m\n\u001b[1;32m    137\u001b[0m             \u001b[0;32mreturn\u001b[0m \u001b[0mresult\u001b[0m\u001b[0;34m\u001b[0m\u001b[0;34m\u001b[0m\u001b[0m\n",
      "\u001b[0;32m/shared-libs/python3.7/py/lib/python3.7/site-packages/pandas/core/nanops.py\u001b[0m in \u001b[0;36mnanstd\u001b[0;34m(values, axis, skipna, ddof, mask)\u001b[0m\n\u001b[1;32m    830\u001b[0m     \u001b[0mvalues\u001b[0m\u001b[0;34m,\u001b[0m \u001b[0mmask\u001b[0m\u001b[0;34m,\u001b[0m \u001b[0m_\u001b[0m\u001b[0;34m,\u001b[0m \u001b[0m_\u001b[0m\u001b[0;34m,\u001b[0m \u001b[0m_\u001b[0m \u001b[0;34m=\u001b[0m \u001b[0m_get_values\u001b[0m\u001b[0;34m(\u001b[0m\u001b[0mvalues\u001b[0m\u001b[0;34m,\u001b[0m \u001b[0mskipna\u001b[0m\u001b[0;34m,\u001b[0m \u001b[0mmask\u001b[0m\u001b[0;34m=\u001b[0m\u001b[0mmask\u001b[0m\u001b[0;34m)\u001b[0m\u001b[0;34m\u001b[0m\u001b[0;34m\u001b[0m\u001b[0m\n\u001b[1;32m    831\u001b[0m \u001b[0;34m\u001b[0m\u001b[0m\n\u001b[0;32m--> 832\u001b[0;31m     \u001b[0mresult\u001b[0m \u001b[0;34m=\u001b[0m \u001b[0mnp\u001b[0m\u001b[0;34m.\u001b[0m\u001b[0msqrt\u001b[0m\u001b[0;34m(\u001b[0m\u001b[0mnanvar\u001b[0m\u001b[0;34m(\u001b[0m\u001b[0mvalues\u001b[0m\u001b[0;34m,\u001b[0m \u001b[0maxis\u001b[0m\u001b[0;34m=\u001b[0m\u001b[0maxis\u001b[0m\u001b[0;34m,\u001b[0m \u001b[0mskipna\u001b[0m\u001b[0;34m=\u001b[0m\u001b[0mskipna\u001b[0m\u001b[0;34m,\u001b[0m \u001b[0mddof\u001b[0m\u001b[0;34m=\u001b[0m\u001b[0mddof\u001b[0m\u001b[0;34m,\u001b[0m \u001b[0mmask\u001b[0m\u001b[0;34m=\u001b[0m\u001b[0mmask\u001b[0m\u001b[0;34m)\u001b[0m\u001b[0;34m)\u001b[0m\u001b[0;34m\u001b[0m\u001b[0;34m\u001b[0m\u001b[0m\n\u001b[0m\u001b[1;32m    833\u001b[0m     \u001b[0;32mreturn\u001b[0m \u001b[0m_wrap_results\u001b[0m\u001b[0;34m(\u001b[0m\u001b[0mresult\u001b[0m\u001b[0;34m,\u001b[0m \u001b[0morig_dtype\u001b[0m\u001b[0;34m)\u001b[0m\u001b[0;34m\u001b[0m\u001b[0;34m\u001b[0m\u001b[0m\n\u001b[1;32m    834\u001b[0m \u001b[0;34m\u001b[0m\u001b[0m\n",
      "\u001b[0;32m/shared-libs/python3.7/py/lib/python3.7/site-packages/pandas/core/nanops.py\u001b[0m in \u001b[0;36m_f\u001b[0;34m(*args, **kwargs)\u001b[0m\n\u001b[1;32m     71\u001b[0m             \u001b[0;32mtry\u001b[0m\u001b[0;34m:\u001b[0m\u001b[0;34m\u001b[0m\u001b[0;34m\u001b[0m\u001b[0m\n\u001b[1;32m     72\u001b[0m                 \u001b[0;32mwith\u001b[0m \u001b[0mnp\u001b[0m\u001b[0;34m.\u001b[0m\u001b[0merrstate\u001b[0m\u001b[0;34m(\u001b[0m\u001b[0minvalid\u001b[0m\u001b[0;34m=\u001b[0m\u001b[0;34m\"ignore\"\u001b[0m\u001b[0;34m)\u001b[0m\u001b[0;34m:\u001b[0m\u001b[0;34m\u001b[0m\u001b[0;34m\u001b[0m\u001b[0m\n\u001b[0;32m---> 73\u001b[0;31m                     \u001b[0;32mreturn\u001b[0m \u001b[0mf\u001b[0m\u001b[0;34m(\u001b[0m\u001b[0;34m*\u001b[0m\u001b[0margs\u001b[0m\u001b[0;34m,\u001b[0m \u001b[0;34m**\u001b[0m\u001b[0mkwargs\u001b[0m\u001b[0;34m)\u001b[0m\u001b[0;34m\u001b[0m\u001b[0;34m\u001b[0m\u001b[0m\n\u001b[0m\u001b[1;32m     74\u001b[0m             \u001b[0;32mexcept\u001b[0m \u001b[0mValueError\u001b[0m \u001b[0;32mas\u001b[0m \u001b[0me\u001b[0m\u001b[0;34m:\u001b[0m\u001b[0;34m\u001b[0m\u001b[0;34m\u001b[0m\u001b[0m\n\u001b[1;32m     75\u001b[0m                 \u001b[0;31m# we want to transform an object array\u001b[0m\u001b[0;34m\u001b[0m\u001b[0;34m\u001b[0m\u001b[0;34m\u001b[0m\u001b[0m\n",
      "\u001b[0;32m/shared-libs/python3.7/py/lib/python3.7/site-packages/pandas/core/nanops.py\u001b[0m in \u001b[0;36mf\u001b[0;34m(values, axis, skipna, **kwds)\u001b[0m\n\u001b[1;32m    133\u001b[0m                     \u001b[0mresult\u001b[0m \u001b[0;34m=\u001b[0m \u001b[0malt\u001b[0m\u001b[0;34m(\u001b[0m\u001b[0mvalues\u001b[0m\u001b[0;34m,\u001b[0m \u001b[0maxis\u001b[0m\u001b[0;34m=\u001b[0m\u001b[0maxis\u001b[0m\u001b[0;34m,\u001b[0m \u001b[0mskipna\u001b[0m\u001b[0;34m=\u001b[0m\u001b[0mskipna\u001b[0m\u001b[0;34m,\u001b[0m \u001b[0;34m**\u001b[0m\u001b[0mkwds\u001b[0m\u001b[0;34m)\u001b[0m\u001b[0;34m\u001b[0m\u001b[0;34m\u001b[0m\u001b[0m\n\u001b[1;32m    134\u001b[0m             \u001b[0;32melse\u001b[0m\u001b[0;34m:\u001b[0m\u001b[0;34m\u001b[0m\u001b[0;34m\u001b[0m\u001b[0m\n\u001b[0;32m--> 135\u001b[0;31m                 \u001b[0mresult\u001b[0m \u001b[0;34m=\u001b[0m \u001b[0malt\u001b[0m\u001b[0;34m(\u001b[0m\u001b[0mvalues\u001b[0m\u001b[0;34m,\u001b[0m \u001b[0maxis\u001b[0m\u001b[0;34m=\u001b[0m\u001b[0maxis\u001b[0m\u001b[0;34m,\u001b[0m \u001b[0mskipna\u001b[0m\u001b[0;34m=\u001b[0m\u001b[0mskipna\u001b[0m\u001b[0;34m,\u001b[0m \u001b[0;34m**\u001b[0m\u001b[0mkwds\u001b[0m\u001b[0;34m)\u001b[0m\u001b[0;34m\u001b[0m\u001b[0;34m\u001b[0m\u001b[0m\n\u001b[0m\u001b[1;32m    136\u001b[0m \u001b[0;34m\u001b[0m\u001b[0m\n\u001b[1;32m    137\u001b[0m             \u001b[0;32mreturn\u001b[0m \u001b[0mresult\u001b[0m\u001b[0;34m\u001b[0m\u001b[0;34m\u001b[0m\u001b[0m\n",
      "\u001b[0;32m/shared-libs/python3.7/py/lib/python3.7/site-packages/pandas/core/nanops.py\u001b[0m in \u001b[0;36mnanvar\u001b[0;34m(values, axis, skipna, ddof, mask)\u001b[0m\n\u001b[1;32m    890\u001b[0m     \u001b[0;32mif\u001b[0m \u001b[0maxis\u001b[0m \u001b[0;32mis\u001b[0m \u001b[0;32mnot\u001b[0m \u001b[0;32mNone\u001b[0m\u001b[0;34m:\u001b[0m\u001b[0;34m\u001b[0m\u001b[0;34m\u001b[0m\u001b[0m\n\u001b[1;32m    891\u001b[0m         \u001b[0mavg\u001b[0m \u001b[0;34m=\u001b[0m \u001b[0mnp\u001b[0m\u001b[0;34m.\u001b[0m\u001b[0mexpand_dims\u001b[0m\u001b[0;34m(\u001b[0m\u001b[0mavg\u001b[0m\u001b[0;34m,\u001b[0m \u001b[0maxis\u001b[0m\u001b[0;34m)\u001b[0m\u001b[0;34m\u001b[0m\u001b[0;34m\u001b[0m\u001b[0m\n\u001b[0;32m--> 892\u001b[0;31m     \u001b[0msqr\u001b[0m \u001b[0;34m=\u001b[0m \u001b[0m_ensure_numeric\u001b[0m\u001b[0;34m(\u001b[0m\u001b[0;34m(\u001b[0m\u001b[0mavg\u001b[0m \u001b[0;34m-\u001b[0m \u001b[0mvalues\u001b[0m\u001b[0;34m)\u001b[0m \u001b[0;34m**\u001b[0m \u001b[0;36m2\u001b[0m\u001b[0;34m)\u001b[0m\u001b[0;34m\u001b[0m\u001b[0;34m\u001b[0m\u001b[0m\n\u001b[0m\u001b[1;32m    893\u001b[0m     \u001b[0;32mif\u001b[0m \u001b[0mmask\u001b[0m \u001b[0;32mis\u001b[0m \u001b[0;32mnot\u001b[0m \u001b[0;32mNone\u001b[0m\u001b[0;34m:\u001b[0m\u001b[0;34m\u001b[0m\u001b[0;34m\u001b[0m\u001b[0m\n\u001b[1;32m    894\u001b[0m         \u001b[0mnp\u001b[0m\u001b[0;34m.\u001b[0m\u001b[0mputmask\u001b[0m\u001b[0;34m(\u001b[0m\u001b[0msqr\u001b[0m\u001b[0;34m,\u001b[0m \u001b[0mmask\u001b[0m\u001b[0;34m,\u001b[0m \u001b[0;36m0\u001b[0m\u001b[0;34m)\u001b[0m\u001b[0;34m\u001b[0m\u001b[0;34m\u001b[0m\u001b[0m\n",
      "\u001b[0;31mKeyboardInterrupt\u001b[0m: "
     ]
    }
   ],
   "execution_count": null
  },
  {
   "cell_type": "code",
   "source": "rating_genres.sort_values(\"metacritic-mean\", inplace=True)\nrating_genres.plot.scatter(x=rating_genres.index, y=[\"metacritic-min\", \"metacritic-mean\", \"metacritic-max\"])",
   "metadata": {
    "tags": [],
    "deepnote_app_coordinates": {
     "x": 0,
     "y": 0,
     "w": 12,
     "h": 5
    },
    "cell_id": "00047-d9945e42-bbc3-407d-b490-a539006b8f8d",
    "deepnote_to_be_reexecuted": true,
    "source_hash": "9da347b2",
    "execution_start": 1634416513337,
    "execution_millis": 232,
    "deepnote_cell_type": "code"
   },
   "outputs": [
    {
     "data": {
      "text/html": "<html>\n<head><meta charset=\"utf-8\" /></head>\n<body>\n    <div>            <script src=\"https://cdnjs.cloudflare.com/ajax/libs/mathjax/2.7.5/MathJax.js?config=TeX-AMS-MML_SVG\"></script><script type=\"text/javascript\">if (window.MathJax) {MathJax.Hub.Config({SVG: {font: \"STIX-Web\"}});}</script>                <script type=\"text/javascript\">window.PlotlyConfig = {MathJaxConfig: 'local'};</script>\n        <script src=\"https://cdn.plot.ly/plotly-2.4.2.min.js\"></script>                <div id=\"25320530-c94e-4b5c-a483-8f0fb15d2ca5\" class=\"plotly-graph-div\" style=\"height:525px; width:100%;\"></div>            <script type=\"text/javascript\">                                    window.PLOTLYENV=window.PLOTLYENV || {};                                    if (document.getElementById(\"25320530-c94e-4b5c-a483-8f0fb15d2ca5\")) {                    Plotly.newPlot(                        \"25320530-c94e-4b5c-a483-8f0fb15d2ca5\",                        [{\"hovertemplate\":\"variable=metacritic-min<br>genres=%{x}<br>value=%{y}<extra></extra>\",\"legendgroup\":\"metacritic-min\",\"marker\":{\"color\":\"#636efa\",\"symbol\":\"circle\"},\"mode\":\"markers\",\"name\":\"metacritic-min\",\"orientation\":\"v\",\"showlegend\":true,\"type\":\"scatter\",\"x\":[\"Indie\",\"Simulation\",\"Adventure\",\"Action\",\"Arcade\",\"Casual\",\"Strategy\",\"Family\",\"Racing\",\"Shooter\",\"Board Games\",\"Sports\",\"RPG\",\"Fighting\",\"Puzzle\",\"Card\",\"Educational\",\"Massively Multiplayer\",\"Platformer\"],\"xaxis\":\"x\",\"y\":[27.0,33.0,27.0,15.0,22.0,40.0,20.0,22.0,27.0,28.0,51.0,22.0,31.0,25.0,50.0,46.0,59.0,56.0,38.0],\"yaxis\":\"y\"},{\"hovertemplate\":\"variable=metacritic-mean<br>genres=%{x}<br>value=%{y}<extra></extra>\",\"legendgroup\":\"metacritic-mean\",\"marker\":{\"color\":\"#EF553B\",\"symbol\":\"circle\"},\"mode\":\"markers\",\"name\":\"metacritic-mean\",\"orientation\":\"v\",\"showlegend\":true,\"type\":\"scatter\",\"x\":[\"Indie\",\"Simulation\",\"Adventure\",\"Action\",\"Arcade\",\"Casual\",\"Strategy\",\"Family\",\"Racing\",\"Shooter\",\"Board Games\",\"Sports\",\"RPG\",\"Fighting\",\"Puzzle\",\"Card\",\"Educational\",\"Massively Multiplayer\",\"Platformer\"],\"xaxis\":\"x\",\"y\":[71.66709511568124,72.09030100334448,72.26535480023853,72.51281040599133,72.62020905923345,73.0198511166253,73.02777777777777,73.04761904761905,73.50381679389314,73.64223385689354,74.06451612903226,74.68217054263566,74.77330716388616,74.88983050847457,75.98064516129033,76.0,76.5,76.63302752293578,77.44615384615385],\"yaxis\":\"y\"},{\"hovertemplate\":\"variable=metacritic-max<br>genres=%{x}<br>value=%{y}<extra></extra>\",\"legendgroup\":\"metacritic-max\",\"marker\":{\"color\":\"#00cc96\",\"symbol\":\"circle\"},\"mode\":\"markers\",\"name\":\"metacritic-max\",\"orientation\":\"v\",\"showlegend\":true,\"type\":\"scatter\",\"x\":[\"Indie\",\"Simulation\",\"Adventure\",\"Action\",\"Arcade\",\"Casual\",\"Strategy\",\"Family\",\"Racing\",\"Shooter\",\"Board Games\",\"Sports\",\"RPG\",\"Fighting\",\"Puzzle\",\"Card\",\"Educational\",\"Massively Multiplayer\",\"Platformer\"],\"xaxis\":\"x\",\"y\":[94.0,94.0,99.0,99.0,97.0,94.0,95.0,92.0,96.0,97.0,91.0,94.0,99.0,98.0,95.0,90.0,90.0,93.0,97.0],\"yaxis\":\"y\"}],                        {\"legend\":{\"title\":{\"text\":\"variable\"},\"tracegroupgap\":0},\"margin\":{\"t\":60},\"template\":{\"data\":{\"bar\":[{\"error_x\":{\"color\":\"#2a3f5f\"},\"error_y\":{\"color\":\"#2a3f5f\"},\"marker\":{\"line\":{\"color\":\"#E5ECF6\",\"width\":0.5},\"pattern\":{\"fillmode\":\"overlay\",\"size\":10,\"solidity\":0.2}},\"type\":\"bar\"}],\"barpolar\":[{\"marker\":{\"line\":{\"color\":\"#E5ECF6\",\"width\":0.5},\"pattern\":{\"fillmode\":\"overlay\",\"size\":10,\"solidity\":0.2}},\"type\":\"barpolar\"}],\"carpet\":[{\"aaxis\":{\"endlinecolor\":\"#2a3f5f\",\"gridcolor\":\"white\",\"linecolor\":\"white\",\"minorgridcolor\":\"white\",\"startlinecolor\":\"#2a3f5f\"},\"baxis\":{\"endlinecolor\":\"#2a3f5f\",\"gridcolor\":\"white\",\"linecolor\":\"white\",\"minorgridcolor\":\"white\",\"startlinecolor\":\"#2a3f5f\"},\"type\":\"carpet\"}],\"choropleth\":[{\"colorbar\":{\"outlinewidth\":0,\"ticks\":\"\"},\"type\":\"choropleth\"}],\"contour\":[{\"colorbar\":{\"outlinewidth\":0,\"ticks\":\"\"},\"colorscale\":[[0.0,\"#0d0887\"],[0.1111111111111111,\"#46039f\"],[0.2222222222222222,\"#7201a8\"],[0.3333333333333333,\"#9c179e\"],[0.4444444444444444,\"#bd3786\"],[0.5555555555555556,\"#d8576b\"],[0.6666666666666666,\"#ed7953\"],[0.7777777777777778,\"#fb9f3a\"],[0.8888888888888888,\"#fdca26\"],[1.0,\"#f0f921\"]],\"type\":\"contour\"}],\"contourcarpet\":[{\"colorbar\":{\"outlinewidth\":0,\"ticks\":\"\"},\"type\":\"contourcarpet\"}],\"heatmap\":[{\"colorbar\":{\"outlinewidth\":0,\"ticks\":\"\"},\"colorscale\":[[0.0,\"#0d0887\"],[0.1111111111111111,\"#46039f\"],[0.2222222222222222,\"#7201a8\"],[0.3333333333333333,\"#9c179e\"],[0.4444444444444444,\"#bd3786\"],[0.5555555555555556,\"#d8576b\"],[0.6666666666666666,\"#ed7953\"],[0.7777777777777778,\"#fb9f3a\"],[0.8888888888888888,\"#fdca26\"],[1.0,\"#f0f921\"]],\"type\":\"heatmap\"}],\"heatmapgl\":[{\"colorbar\":{\"outlinewidth\":0,\"ticks\":\"\"},\"colorscale\":[[0.0,\"#0d0887\"],[0.1111111111111111,\"#46039f\"],[0.2222222222222222,\"#7201a8\"],[0.3333333333333333,\"#9c179e\"],[0.4444444444444444,\"#bd3786\"],[0.5555555555555556,\"#d8576b\"],[0.6666666666666666,\"#ed7953\"],[0.7777777777777778,\"#fb9f3a\"],[0.8888888888888888,\"#fdca26\"],[1.0,\"#f0f921\"]],\"type\":\"heatmapgl\"}],\"histogram\":[{\"marker\":{\"pattern\":{\"fillmode\":\"overlay\",\"size\":10,\"solidity\":0.2}},\"type\":\"histogram\"}],\"histogram2d\":[{\"colorbar\":{\"outlinewidth\":0,\"ticks\":\"\"},\"colorscale\":[[0.0,\"#0d0887\"],[0.1111111111111111,\"#46039f\"],[0.2222222222222222,\"#7201a8\"],[0.3333333333333333,\"#9c179e\"],[0.4444444444444444,\"#bd3786\"],[0.5555555555555556,\"#d8576b\"],[0.6666666666666666,\"#ed7953\"],[0.7777777777777778,\"#fb9f3a\"],[0.8888888888888888,\"#fdca26\"],[1.0,\"#f0f921\"]],\"type\":\"histogram2d\"}],\"histogram2dcontour\":[{\"colorbar\":{\"outlinewidth\":0,\"ticks\":\"\"},\"colorscale\":[[0.0,\"#0d0887\"],[0.1111111111111111,\"#46039f\"],[0.2222222222222222,\"#7201a8\"],[0.3333333333333333,\"#9c179e\"],[0.4444444444444444,\"#bd3786\"],[0.5555555555555556,\"#d8576b\"],[0.6666666666666666,\"#ed7953\"],[0.7777777777777778,\"#fb9f3a\"],[0.8888888888888888,\"#fdca26\"],[1.0,\"#f0f921\"]],\"type\":\"histogram2dcontour\"}],\"mesh3d\":[{\"colorbar\":{\"outlinewidth\":0,\"ticks\":\"\"},\"type\":\"mesh3d\"}],\"parcoords\":[{\"line\":{\"colorbar\":{\"outlinewidth\":0,\"ticks\":\"\"}},\"type\":\"parcoords\"}],\"pie\":[{\"automargin\":true,\"type\":\"pie\"}],\"scatter\":[{\"marker\":{\"colorbar\":{\"outlinewidth\":0,\"ticks\":\"\"}},\"type\":\"scatter\"}],\"scatter3d\":[{\"line\":{\"colorbar\":{\"outlinewidth\":0,\"ticks\":\"\"}},\"marker\":{\"colorbar\":{\"outlinewidth\":0,\"ticks\":\"\"}},\"type\":\"scatter3d\"}],\"scattercarpet\":[{\"marker\":{\"colorbar\":{\"outlinewidth\":0,\"ticks\":\"\"}},\"type\":\"scattercarpet\"}],\"scattergeo\":[{\"marker\":{\"colorbar\":{\"outlinewidth\":0,\"ticks\":\"\"}},\"type\":\"scattergeo\"}],\"scattergl\":[{\"marker\":{\"colorbar\":{\"outlinewidth\":0,\"ticks\":\"\"}},\"type\":\"scattergl\"}],\"scattermapbox\":[{\"marker\":{\"colorbar\":{\"outlinewidth\":0,\"ticks\":\"\"}},\"type\":\"scattermapbox\"}],\"scatterpolar\":[{\"marker\":{\"colorbar\":{\"outlinewidth\":0,\"ticks\":\"\"}},\"type\":\"scatterpolar\"}],\"scatterpolargl\":[{\"marker\":{\"colorbar\":{\"outlinewidth\":0,\"ticks\":\"\"}},\"type\":\"scatterpolargl\"}],\"scatterternary\":[{\"marker\":{\"colorbar\":{\"outlinewidth\":0,\"ticks\":\"\"}},\"type\":\"scatterternary\"}],\"surface\":[{\"colorbar\":{\"outlinewidth\":0,\"ticks\":\"\"},\"colorscale\":[[0.0,\"#0d0887\"],[0.1111111111111111,\"#46039f\"],[0.2222222222222222,\"#7201a8\"],[0.3333333333333333,\"#9c179e\"],[0.4444444444444444,\"#bd3786\"],[0.5555555555555556,\"#d8576b\"],[0.6666666666666666,\"#ed7953\"],[0.7777777777777778,\"#fb9f3a\"],[0.8888888888888888,\"#fdca26\"],[1.0,\"#f0f921\"]],\"type\":\"surface\"}],\"table\":[{\"cells\":{\"fill\":{\"color\":\"#EBF0F8\"},\"line\":{\"color\":\"white\"}},\"header\":{\"fill\":{\"color\":\"#C8D4E3\"},\"line\":{\"color\":\"white\"}},\"type\":\"table\"}]},\"layout\":{\"annotationdefaults\":{\"arrowcolor\":\"#2a3f5f\",\"arrowhead\":0,\"arrowwidth\":1},\"autotypenumbers\":\"strict\",\"coloraxis\":{\"colorbar\":{\"outlinewidth\":0,\"ticks\":\"\"}},\"colorscale\":{\"diverging\":[[0,\"#8e0152\"],[0.1,\"#c51b7d\"],[0.2,\"#de77ae\"],[0.3,\"#f1b6da\"],[0.4,\"#fde0ef\"],[0.5,\"#f7f7f7\"],[0.6,\"#e6f5d0\"],[0.7,\"#b8e186\"],[0.8,\"#7fbc41\"],[0.9,\"#4d9221\"],[1,\"#276419\"]],\"sequential\":[[0.0,\"#0d0887\"],[0.1111111111111111,\"#46039f\"],[0.2222222222222222,\"#7201a8\"],[0.3333333333333333,\"#9c179e\"],[0.4444444444444444,\"#bd3786\"],[0.5555555555555556,\"#d8576b\"],[0.6666666666666666,\"#ed7953\"],[0.7777777777777778,\"#fb9f3a\"],[0.8888888888888888,\"#fdca26\"],[1.0,\"#f0f921\"]],\"sequentialminus\":[[0.0,\"#0d0887\"],[0.1111111111111111,\"#46039f\"],[0.2222222222222222,\"#7201a8\"],[0.3333333333333333,\"#9c179e\"],[0.4444444444444444,\"#bd3786\"],[0.5555555555555556,\"#d8576b\"],[0.6666666666666666,\"#ed7953\"],[0.7777777777777778,\"#fb9f3a\"],[0.8888888888888888,\"#fdca26\"],[1.0,\"#f0f921\"]]},\"colorway\":[\"#636efa\",\"#EF553B\",\"#00cc96\",\"#ab63fa\",\"#FFA15A\",\"#19d3f3\",\"#FF6692\",\"#B6E880\",\"#FF97FF\",\"#FECB52\"],\"font\":{\"color\":\"#2a3f5f\"},\"geo\":{\"bgcolor\":\"white\",\"lakecolor\":\"white\",\"landcolor\":\"#E5ECF6\",\"showlakes\":true,\"showland\":true,\"subunitcolor\":\"white\"},\"hoverlabel\":{\"align\":\"left\"},\"hovermode\":\"closest\",\"mapbox\":{\"style\":\"light\"},\"paper_bgcolor\":\"white\",\"plot_bgcolor\":\"#E5ECF6\",\"polar\":{\"angularaxis\":{\"gridcolor\":\"white\",\"linecolor\":\"white\",\"ticks\":\"\"},\"bgcolor\":\"#E5ECF6\",\"radialaxis\":{\"gridcolor\":\"white\",\"linecolor\":\"white\",\"ticks\":\"\"}},\"scene\":{\"xaxis\":{\"backgroundcolor\":\"#E5ECF6\",\"gridcolor\":\"white\",\"gridwidth\":2,\"linecolor\":\"white\",\"showbackground\":true,\"ticks\":\"\",\"zerolinecolor\":\"white\"},\"yaxis\":{\"backgroundcolor\":\"#E5ECF6\",\"gridcolor\":\"white\",\"gridwidth\":2,\"linecolor\":\"white\",\"showbackground\":true,\"ticks\":\"\",\"zerolinecolor\":\"white\"},\"zaxis\":{\"backgroundcolor\":\"#E5ECF6\",\"gridcolor\":\"white\",\"gridwidth\":2,\"linecolor\":\"white\",\"showbackground\":true,\"ticks\":\"\",\"zerolinecolor\":\"white\"}},\"shapedefaults\":{\"line\":{\"color\":\"#2a3f5f\"}},\"ternary\":{\"aaxis\":{\"gridcolor\":\"white\",\"linecolor\":\"white\",\"ticks\":\"\"},\"baxis\":{\"gridcolor\":\"white\",\"linecolor\":\"white\",\"ticks\":\"\"},\"bgcolor\":\"#E5ECF6\",\"caxis\":{\"gridcolor\":\"white\",\"linecolor\":\"white\",\"ticks\":\"\"}},\"title\":{\"x\":0.05},\"xaxis\":{\"automargin\":true,\"gridcolor\":\"white\",\"linecolor\":\"white\",\"ticks\":\"\",\"title\":{\"standoff\":15},\"zerolinecolor\":\"white\",\"zerolinewidth\":2},\"yaxis\":{\"automargin\":true,\"gridcolor\":\"white\",\"linecolor\":\"white\",\"ticks\":\"\",\"title\":{\"standoff\":15},\"zerolinecolor\":\"white\",\"zerolinewidth\":2}}},\"xaxis\":{\"anchor\":\"y\",\"domain\":[0.0,1.0],\"title\":{\"text\":\"genres\"}},\"yaxis\":{\"anchor\":\"x\",\"domain\":[0.0,1.0],\"title\":{\"text\":\"value\"}}},                        {\"responsive\": true}                    ).then(function(){\n                            \nvar gd = document.getElementById('25320530-c94e-4b5c-a483-8f0fb15d2ca5');\nvar x = new MutationObserver(function (mutations, observer) {{\n        var display = window.getComputedStyle(gd).display;\n        if (!display || display === 'none') {{\n            console.log([gd, 'removed!']);\n            Plotly.purge(gd);\n            observer.disconnect();\n        }}\n}});\n\n// Listen for the removal of the full notebook cells\nvar notebookContainer = gd.closest('#notebook-container');\nif (notebookContainer) {{\n    x.observe(notebookContainer, {childList: true});\n}}\n\n// Listen for the clearing of the current output cell\nvar outputEl = gd.closest('.output');\nif (outputEl) {{\n    x.observe(outputEl, {childList: true});\n}}\n\n                        })                };                            </script>        </div>\n</body>\n</html>"
     },
     "metadata": {},
     "output_type": "display_data"
    }
   ],
   "execution_count": null
  },
  {
   "cell_type": "markdown",
   "source": "#### Platforms\nNow, same process as the genres but with the platforms.",
   "metadata": {
    "tags": [],
    "deepnote_app_coordinates": {
     "x": 0,
     "y": 0,
     "w": 12,
     "h": 5
    },
    "cell_id": "00046-068e79b5-649b-4241-85de-ce0d5bab63b2",
    "deepnote_cell_type": "markdown"
   }
  },
  {
   "cell_type": "code",
   "source": "print(len(dataset[\"platforms\"]), len(dataset[\"platforms\"].unique()))",
   "metadata": {
    "tags": [],
    "deepnote_app_coordinates": {
     "x": 0,
     "y": 0,
     "w": 12,
     "h": 5
    },
    "cell_id": "00048-543b45ad-590c-4067-b476-1d904df8f6f3",
    "deepnote_to_be_reexecuted": true,
    "source_hash": "1486486b",
    "execution_start": 1634416513612,
    "execution_millis": 49,
    "deepnote_cell_type": "code"
   },
   "outputs": [
    {
     "name": "stdout",
     "text": "449461 5038\n",
     "output_type": "stream"
    }
   ],
   "execution_count": null
  },
  {
   "cell_type": "code",
   "source": "pd.options.mode.chained_assignment = None  # disabling false positive warning\n#platforms = get_uniques_from_column(dataset[\"platforms\"].unique())\nplatforms = get_uniques_from_column(dataset[\"platforms\"], remove_under=5)\nplatforms.remove(np.nan)\n\nplatforms_df = dataset[[\"rating\", \"metacritic\", \"platforms\"]]\n\nfor platform in platforms:\n    platforms_df[platform] = False\n    platforms_df[platform] = platforms_df[\"platforms\"].str.contains(r\"(^|\\|\\|)\"  + platform + r\"($|\\|\\|)\", na=False)\n\nplatforms_df.drop(\"platforms\", axis=1, inplace=True)\npd.options.mode.chained_assignment = 'warn'  # re-enabling warning",
   "metadata": {
    "tags": [],
    "deepnote_app_coordinates": {
     "x": 0,
     "y": 0,
     "w": 12,
     "h": 5
    },
    "cell_id": "00047-884cc39c-33bd-4b78-b576-5d61a18fa81b",
    "deepnote_to_be_reexecuted": true,
    "source_hash": "5bdd7a66",
    "execution_start": 1634416513613,
    "execution_millis": 11158,
    "deepnote_app_is_output_hidden": true,
    "deepnote_cell_type": "code"
   },
   "outputs": [
    {
     "name": "stderr",
     "text": "/shared-libs/python3.7/py/lib/python3.7/site-packages/pandas/core/strings/accessor.py:101: UserWarning:\n\nThis pattern has match groups. To actually get the groups, use str.extract.\n\n",
     "output_type": "stream"
    }
   ],
   "execution_count": null
  },
  {
   "cell_type": "code",
   "source": "platforms_new_df = pd.DataFrame({\"platform\": platforms})\nplatforms_rating = platforms_new_df.apply(get_describe_by(\"rating\", \"platform\", platforms_df), axis=1)\nplatforms_metacritic = platforms_new_df.apply(get_describe_by(\"metacritic\", \"platform\", platforms_df), axis=1)\nplatforms_rating.set_index(\"platform\", inplace=True)\nplatforms_metacritic.set_index(\"platform\", inplace=True)",
   "metadata": {
    "tags": [],
    "deepnote_app_coordinates": {
     "x": 0,
     "y": 0,
     "w": 12,
     "h": 5
    },
    "cell_id": "00049-c24417de-126a-44cd-bc35-e3aba006915a",
    "deepnote_to_be_reexecuted": true,
    "source_hash": "a4a7f86d",
    "execution_start": 1634416524771,
    "execution_millis": 50168,
    "deepnote_cell_type": "code"
   },
   "outputs": [],
   "execution_count": null
  },
  {
   "cell_type": "code",
   "source": "platforms_metacritic = platforms_metacritic.drop(platforms_metacritic[(platforms_metacritic[\"metacritic-count\"] < 5)].index)\nplatforms_metacritic.sort_values(\"metacritic-count\", inplace=True)\nplatforms_metacritic.plot.bar(x=platforms_metacritic.index, y=\"metacritic-count\")",
   "metadata": {
    "tags": [],
    "deepnote_app_coordinates": {
     "x": 0,
     "y": 0,
     "w": 12,
     "h": 5
    },
    "cell_id": "00050-2768d545-1dd4-4eeb-9977-45928ae3ba39",
    "deepnote_to_be_reexecuted": true,
    "source_hash": "fcd3f641",
    "execution_start": 1634416574999,
    "execution_millis": 551,
    "deepnote_cell_type": "code"
   },
   "outputs": [
    {
     "data": {
      "text/html": "<html>\n<head><meta charset=\"utf-8\" /></head>\n<body>\n    <div>            <script src=\"https://cdnjs.cloudflare.com/ajax/libs/mathjax/2.7.5/MathJax.js?config=TeX-AMS-MML_SVG\"></script><script type=\"text/javascript\">if (window.MathJax) {MathJax.Hub.Config({SVG: {font: \"STIX-Web\"}});}</script>                <script type=\"text/javascript\">window.PlotlyConfig = {MathJaxConfig: 'local'};</script>\n        <script src=\"https://cdn.plot.ly/plotly-2.4.2.min.js\"></script>                <div id=\"559cd7ef-d599-4c3e-9c96-b74255ae1463\" class=\"plotly-graph-div\" style=\"height:525px; width:100%;\"></div>            <script type=\"text/javascript\">                                    window.PLOTLYENV=window.PLOTLYENV || {};                                    if (document.getElementById(\"559cd7ef-d599-4c3e-9c96-b74255ae1463\")) {                    Plotly.newPlot(                        \"559cd7ef-d599-4c3e-9c96-b74255ae1463\",                        [{\"alignmentgroup\":\"True\",\"hovertemplate\":\"platform=%{x}<br>metacritic-count=%{y}<extra></extra>\",\"legendgroup\":\"\",\"marker\":{\"color\":\"#636efa\",\"pattern\":{\"shape\":\"\"}},\"name\":\"\",\"offsetgroup\":\"\",\"orientation\":\"v\",\"showlegend\":false,\"textposition\":\"auto\",\"type\":\"bar\",\"x\":[\"SEGA Saturn\",\"Commodore / Amiga\",\"SNES\",\"Web\",\"Game Boy Color\",\"Nintendo 64\",\"Classic Macintosh\",\"Xbox Series S/X\",\"PlayStation 5\",\"Dreamcast\",\"PlayStation\",\"Game Boy Advance\",\"GameCube\",\"Nintendo 3DS\",\"PSP\",\"Xbox\",\"Nintendo DS\",\"Wii U\",\"Wii\",\"PS Vita\",\"PlayStation 2\",\"Android\",\"iOS\",\"Xbox 360\",\"PlayStation 3\",\"Nintendo Switch\",\"Linux\",\"Xbox One\",\"macOS\",\"PlayStation 4\",\"PC\"],\"xaxis\":\"x\",\"y\":[5.0,5.0,6.0,10.0,15.0,22.0,32.0,36.0,36.0,37.0,68.0,85.0,103.0,138.0,147.0,157.0,159.0,179.0,201.0,257.0,376.0,413.0,642.0,768.0,824.0,851.0,902.0,1347.0,1430.0,1530.0,3890.0],\"yaxis\":\"y\"}],                        {\"barmode\":\"relative\",\"legend\":{\"tracegroupgap\":0},\"margin\":{\"t\":60},\"template\":{\"data\":{\"bar\":[{\"error_x\":{\"color\":\"#2a3f5f\"},\"error_y\":{\"color\":\"#2a3f5f\"},\"marker\":{\"line\":{\"color\":\"#E5ECF6\",\"width\":0.5},\"pattern\":{\"fillmode\":\"overlay\",\"size\":10,\"solidity\":0.2}},\"type\":\"bar\"}],\"barpolar\":[{\"marker\":{\"line\":{\"color\":\"#E5ECF6\",\"width\":0.5},\"pattern\":{\"fillmode\":\"overlay\",\"size\":10,\"solidity\":0.2}},\"type\":\"barpolar\"}],\"carpet\":[{\"aaxis\":{\"endlinecolor\":\"#2a3f5f\",\"gridcolor\":\"white\",\"linecolor\":\"white\",\"minorgridcolor\":\"white\",\"startlinecolor\":\"#2a3f5f\"},\"baxis\":{\"endlinecolor\":\"#2a3f5f\",\"gridcolor\":\"white\",\"linecolor\":\"white\",\"minorgridcolor\":\"white\",\"startlinecolor\":\"#2a3f5f\"},\"type\":\"carpet\"}],\"choropleth\":[{\"colorbar\":{\"outlinewidth\":0,\"ticks\":\"\"},\"type\":\"choropleth\"}],\"contour\":[{\"colorbar\":{\"outlinewidth\":0,\"ticks\":\"\"},\"colorscale\":[[0.0,\"#0d0887\"],[0.1111111111111111,\"#46039f\"],[0.2222222222222222,\"#7201a8\"],[0.3333333333333333,\"#9c179e\"],[0.4444444444444444,\"#bd3786\"],[0.5555555555555556,\"#d8576b\"],[0.6666666666666666,\"#ed7953\"],[0.7777777777777778,\"#fb9f3a\"],[0.8888888888888888,\"#fdca26\"],[1.0,\"#f0f921\"]],\"type\":\"contour\"}],\"contourcarpet\":[{\"colorbar\":{\"outlinewidth\":0,\"ticks\":\"\"},\"type\":\"contourcarpet\"}],\"heatmap\":[{\"colorbar\":{\"outlinewidth\":0,\"ticks\":\"\"},\"colorscale\":[[0.0,\"#0d0887\"],[0.1111111111111111,\"#46039f\"],[0.2222222222222222,\"#7201a8\"],[0.3333333333333333,\"#9c179e\"],[0.4444444444444444,\"#bd3786\"],[0.5555555555555556,\"#d8576b\"],[0.6666666666666666,\"#ed7953\"],[0.7777777777777778,\"#fb9f3a\"],[0.8888888888888888,\"#fdca26\"],[1.0,\"#f0f921\"]],\"type\":\"heatmap\"}],\"heatmapgl\":[{\"colorbar\":{\"outlinewidth\":0,\"ticks\":\"\"},\"colorscale\":[[0.0,\"#0d0887\"],[0.1111111111111111,\"#46039f\"],[0.2222222222222222,\"#7201a8\"],[0.3333333333333333,\"#9c179e\"],[0.4444444444444444,\"#bd3786\"],[0.5555555555555556,\"#d8576b\"],[0.6666666666666666,\"#ed7953\"],[0.7777777777777778,\"#fb9f3a\"],[0.8888888888888888,\"#fdca26\"],[1.0,\"#f0f921\"]],\"type\":\"heatmapgl\"}],\"histogram\":[{\"marker\":{\"pattern\":{\"fillmode\":\"overlay\",\"size\":10,\"solidity\":0.2}},\"type\":\"histogram\"}],\"histogram2d\":[{\"colorbar\":{\"outlinewidth\":0,\"ticks\":\"\"},\"colorscale\":[[0.0,\"#0d0887\"],[0.1111111111111111,\"#46039f\"],[0.2222222222222222,\"#7201a8\"],[0.3333333333333333,\"#9c179e\"],[0.4444444444444444,\"#bd3786\"],[0.5555555555555556,\"#d8576b\"],[0.6666666666666666,\"#ed7953\"],[0.7777777777777778,\"#fb9f3a\"],[0.8888888888888888,\"#fdca26\"],[1.0,\"#f0f921\"]],\"type\":\"histogram2d\"}],\"histogram2dcontour\":[{\"colorbar\":{\"outlinewidth\":0,\"ticks\":\"\"},\"colorscale\":[[0.0,\"#0d0887\"],[0.1111111111111111,\"#46039f\"],[0.2222222222222222,\"#7201a8\"],[0.3333333333333333,\"#9c179e\"],[0.4444444444444444,\"#bd3786\"],[0.5555555555555556,\"#d8576b\"],[0.6666666666666666,\"#ed7953\"],[0.7777777777777778,\"#fb9f3a\"],[0.8888888888888888,\"#fdca26\"],[1.0,\"#f0f921\"]],\"type\":\"histogram2dcontour\"}],\"mesh3d\":[{\"colorbar\":{\"outlinewidth\":0,\"ticks\":\"\"},\"type\":\"mesh3d\"}],\"parcoords\":[{\"line\":{\"colorbar\":{\"outlinewidth\":0,\"ticks\":\"\"}},\"type\":\"parcoords\"}],\"pie\":[{\"automargin\":true,\"type\":\"pie\"}],\"scatter\":[{\"marker\":{\"colorbar\":{\"outlinewidth\":0,\"ticks\":\"\"}},\"type\":\"scatter\"}],\"scatter3d\":[{\"line\":{\"colorbar\":{\"outlinewidth\":0,\"ticks\":\"\"}},\"marker\":{\"colorbar\":{\"outlinewidth\":0,\"ticks\":\"\"}},\"type\":\"scatter3d\"}],\"scattercarpet\":[{\"marker\":{\"colorbar\":{\"outlinewidth\":0,\"ticks\":\"\"}},\"type\":\"scattercarpet\"}],\"scattergeo\":[{\"marker\":{\"colorbar\":{\"outlinewidth\":0,\"ticks\":\"\"}},\"type\":\"scattergeo\"}],\"scattergl\":[{\"marker\":{\"colorbar\":{\"outlinewidth\":0,\"ticks\":\"\"}},\"type\":\"scattergl\"}],\"scattermapbox\":[{\"marker\":{\"colorbar\":{\"outlinewidth\":0,\"ticks\":\"\"}},\"type\":\"scattermapbox\"}],\"scatterpolar\":[{\"marker\":{\"colorbar\":{\"outlinewidth\":0,\"ticks\":\"\"}},\"type\":\"scatterpolar\"}],\"scatterpolargl\":[{\"marker\":{\"colorbar\":{\"outlinewidth\":0,\"ticks\":\"\"}},\"type\":\"scatterpolargl\"}],\"scatterternary\":[{\"marker\":{\"colorbar\":{\"outlinewidth\":0,\"ticks\":\"\"}},\"type\":\"scatterternary\"}],\"surface\":[{\"colorbar\":{\"outlinewidth\":0,\"ticks\":\"\"},\"colorscale\":[[0.0,\"#0d0887\"],[0.1111111111111111,\"#46039f\"],[0.2222222222222222,\"#7201a8\"],[0.3333333333333333,\"#9c179e\"],[0.4444444444444444,\"#bd3786\"],[0.5555555555555556,\"#d8576b\"],[0.6666666666666666,\"#ed7953\"],[0.7777777777777778,\"#fb9f3a\"],[0.8888888888888888,\"#fdca26\"],[1.0,\"#f0f921\"]],\"type\":\"surface\"}],\"table\":[{\"cells\":{\"fill\":{\"color\":\"#EBF0F8\"},\"line\":{\"color\":\"white\"}},\"header\":{\"fill\":{\"color\":\"#C8D4E3\"},\"line\":{\"color\":\"white\"}},\"type\":\"table\"}]},\"layout\":{\"annotationdefaults\":{\"arrowcolor\":\"#2a3f5f\",\"arrowhead\":0,\"arrowwidth\":1},\"autotypenumbers\":\"strict\",\"coloraxis\":{\"colorbar\":{\"outlinewidth\":0,\"ticks\":\"\"}},\"colorscale\":{\"diverging\":[[0,\"#8e0152\"],[0.1,\"#c51b7d\"],[0.2,\"#de77ae\"],[0.3,\"#f1b6da\"],[0.4,\"#fde0ef\"],[0.5,\"#f7f7f7\"],[0.6,\"#e6f5d0\"],[0.7,\"#b8e186\"],[0.8,\"#7fbc41\"],[0.9,\"#4d9221\"],[1,\"#276419\"]],\"sequential\":[[0.0,\"#0d0887\"],[0.1111111111111111,\"#46039f\"],[0.2222222222222222,\"#7201a8\"],[0.3333333333333333,\"#9c179e\"],[0.4444444444444444,\"#bd3786\"],[0.5555555555555556,\"#d8576b\"],[0.6666666666666666,\"#ed7953\"],[0.7777777777777778,\"#fb9f3a\"],[0.8888888888888888,\"#fdca26\"],[1.0,\"#f0f921\"]],\"sequentialminus\":[[0.0,\"#0d0887\"],[0.1111111111111111,\"#46039f\"],[0.2222222222222222,\"#7201a8\"],[0.3333333333333333,\"#9c179e\"],[0.4444444444444444,\"#bd3786\"],[0.5555555555555556,\"#d8576b\"],[0.6666666666666666,\"#ed7953\"],[0.7777777777777778,\"#fb9f3a\"],[0.8888888888888888,\"#fdca26\"],[1.0,\"#f0f921\"]]},\"colorway\":[\"#636efa\",\"#EF553B\",\"#00cc96\",\"#ab63fa\",\"#FFA15A\",\"#19d3f3\",\"#FF6692\",\"#B6E880\",\"#FF97FF\",\"#FECB52\"],\"font\":{\"color\":\"#2a3f5f\"},\"geo\":{\"bgcolor\":\"white\",\"lakecolor\":\"white\",\"landcolor\":\"#E5ECF6\",\"showlakes\":true,\"showland\":true,\"subunitcolor\":\"white\"},\"hoverlabel\":{\"align\":\"left\"},\"hovermode\":\"closest\",\"mapbox\":{\"style\":\"light\"},\"paper_bgcolor\":\"white\",\"plot_bgcolor\":\"#E5ECF6\",\"polar\":{\"angularaxis\":{\"gridcolor\":\"white\",\"linecolor\":\"white\",\"ticks\":\"\"},\"bgcolor\":\"#E5ECF6\",\"radialaxis\":{\"gridcolor\":\"white\",\"linecolor\":\"white\",\"ticks\":\"\"}},\"scene\":{\"xaxis\":{\"backgroundcolor\":\"#E5ECF6\",\"gridcolor\":\"white\",\"gridwidth\":2,\"linecolor\":\"white\",\"showbackground\":true,\"ticks\":\"\",\"zerolinecolor\":\"white\"},\"yaxis\":{\"backgroundcolor\":\"#E5ECF6\",\"gridcolor\":\"white\",\"gridwidth\":2,\"linecolor\":\"white\",\"showbackground\":true,\"ticks\":\"\",\"zerolinecolor\":\"white\"},\"zaxis\":{\"backgroundcolor\":\"#E5ECF6\",\"gridcolor\":\"white\",\"gridwidth\":2,\"linecolor\":\"white\",\"showbackground\":true,\"ticks\":\"\",\"zerolinecolor\":\"white\"}},\"shapedefaults\":{\"line\":{\"color\":\"#2a3f5f\"}},\"ternary\":{\"aaxis\":{\"gridcolor\":\"white\",\"linecolor\":\"white\",\"ticks\":\"\"},\"baxis\":{\"gridcolor\":\"white\",\"linecolor\":\"white\",\"ticks\":\"\"},\"bgcolor\":\"#E5ECF6\",\"caxis\":{\"gridcolor\":\"white\",\"linecolor\":\"white\",\"ticks\":\"\"}},\"title\":{\"x\":0.05},\"xaxis\":{\"automargin\":true,\"gridcolor\":\"white\",\"linecolor\":\"white\",\"ticks\":\"\",\"title\":{\"standoff\":15},\"zerolinecolor\":\"white\",\"zerolinewidth\":2},\"yaxis\":{\"automargin\":true,\"gridcolor\":\"white\",\"linecolor\":\"white\",\"ticks\":\"\",\"title\":{\"standoff\":15},\"zerolinecolor\":\"white\",\"zerolinewidth\":2}}},\"xaxis\":{\"anchor\":\"y\",\"domain\":[0.0,1.0],\"title\":{\"text\":\"platform\"}},\"yaxis\":{\"anchor\":\"x\",\"domain\":[0.0,1.0],\"title\":{\"text\":\"metacritic-count\"}}},                        {\"responsive\": true}                    ).then(function(){\n                            \nvar gd = document.getElementById('559cd7ef-d599-4c3e-9c96-b74255ae1463');\nvar x = new MutationObserver(function (mutations, observer) {{\n        var display = window.getComputedStyle(gd).display;\n        if (!display || display === 'none') {{\n            console.log([gd, 'removed!']);\n            Plotly.purge(gd);\n            observer.disconnect();\n        }}\n}});\n\n// Listen for the removal of the full notebook cells\nvar notebookContainer = gd.closest('#notebook-container');\nif (notebookContainer) {{\n    x.observe(notebookContainer, {childList: true});\n}}\n\n// Listen for the clearing of the current output cell\nvar outputEl = gd.closest('.output');\nif (outputEl) {{\n    x.observe(outputEl, {childList: true});\n}}\n\n                        })                };                            </script>        </div>\n</body>\n</html>"
     },
     "metadata": {},
     "output_type": "display_data"
    }
   ],
   "execution_count": null
  },
  {
   "cell_type": "code",
   "source": "platforms_metacritic.sort_values(\"metacritic-mean\", inplace=True)\nplatforms_metacritic.plot.scatter(x=platforms_metacritic.index, y=[\"metacritic-min\", \"metacritic-mean\", \"metacritic-max\"])",
   "metadata": {
    "tags": [],
    "deepnote_app_coordinates": {
     "x": 0,
     "y": 0,
     "w": 12,
     "h": 5
    },
    "cell_id": "00051-aaff91c2-ba60-4421-8c28-76219d0b52fb",
    "deepnote_to_be_reexecuted": true,
    "source_hash": "26bf3b62",
    "execution_start": 1634416575517,
    "execution_millis": 34,
    "deepnote_cell_type": "code"
   },
   "outputs": [
    {
     "data": {
      "text/html": "<html>\n<head><meta charset=\"utf-8\" /></head>\n<body>\n    <div>            <script src=\"https://cdnjs.cloudflare.com/ajax/libs/mathjax/2.7.5/MathJax.js?config=TeX-AMS-MML_SVG\"></script><script type=\"text/javascript\">if (window.MathJax) {MathJax.Hub.Config({SVG: {font: \"STIX-Web\"}});}</script>                <script type=\"text/javascript\">window.PlotlyConfig = {MathJaxConfig: 'local'};</script>\n        <script src=\"https://cdn.plot.ly/plotly-2.4.2.min.js\"></script>                <div id=\"7a5db0b5-a58c-4513-9307-f7db0f87b494\" class=\"plotly-graph-div\" style=\"height:525px; width:100%;\"></div>            <script type=\"text/javascript\">                                    window.PLOTLYENV=window.PLOTLYENV || {};                                    if (document.getElementById(\"7a5db0b5-a58c-4513-9307-f7db0f87b494\")) {                    Plotly.newPlot(                        \"7a5db0b5-a58c-4513-9307-f7db0f87b494\",                        [{\"hovertemplate\":\"variable=metacritic-min<br>platform=%{x}<br>value=%{y}<extra></extra>\",\"legendgroup\":\"metacritic-min\",\"marker\":{\"color\":\"#636efa\",\"symbol\":\"circle\"},\"mode\":\"markers\",\"name\":\"metacritic-min\",\"orientation\":\"v\",\"showlegend\":true,\"type\":\"scatter\",\"x\":[\"Commodore / Amiga\",\"Game Boy Color\",\"Nintendo DS\",\"Wii\",\"PC\",\"PlayStation 2\",\"Linux\",\"macOS\",\"Game Boy Advance\",\"Xbox 360\",\"PlayStation 4\",\"PSP\",\"Xbox One\",\"PlayStation 3\",\"iOS\",\"Android\",\"Nintendo Switch\",\"Xbox\",\"Wii U\",\"GameCube\",\"Nintendo 3DS\",\"PS Vita\",\"PlayStation\",\"Classic Macintosh\",\"Dreamcast\",\"SNES\",\"Xbox Series S/X\",\"PlayStation 5\",\"Web\",\"Nintendo 64\",\"SEGA Saturn\"],\"xaxis\":\"x\",\"y\":[40.0,46.0,22.0,22.0,15.0,37.0,15.0,15.0,27.0,22.0,15.0,37.0,27.0,22.0,39.0,42.0,27.0,42.0,32.0,40.0,22.0,44.0,25.0,40.0,54.0,40.0,65.0,61.0,67.0,55.0,83.0],\"yaxis\":\"y\"},{\"hovertemplate\":\"variable=metacritic-mean<br>platform=%{x}<br>value=%{y}<extra></extra>\",\"legendgroup\":\"metacritic-mean\",\"marker\":{\"color\":\"#EF553B\",\"symbol\":\"circle\"},\"mode\":\"markers\",\"name\":\"metacritic-mean\",\"orientation\":\"v\",\"showlegend\":true,\"type\":\"scatter\",\"x\":[\"Commodore / Amiga\",\"Game Boy Color\",\"Nintendo DS\",\"Wii\",\"PC\",\"PlayStation 2\",\"Linux\",\"macOS\",\"Game Boy Advance\",\"Xbox 360\",\"PlayStation 4\",\"PSP\",\"Xbox One\",\"PlayStation 3\",\"iOS\",\"Android\",\"Nintendo Switch\",\"Xbox\",\"Wii U\",\"GameCube\",\"Nintendo 3DS\",\"PS Vita\",\"PlayStation\",\"Classic Macintosh\",\"Dreamcast\",\"SNES\",\"Xbox Series S/X\",\"PlayStation 5\",\"Web\",\"Nintendo 64\",\"SEGA Saturn\"],\"xaxis\":\"x\",\"y\":[66.6,69.46666666666667,70.87421383647799,71.4726368159204,72.52879177377892,73.11702127659575,73.63414634146342,73.93986013986014,73.95294117647059,74.125,74.21045751633987,74.40136054421768,74.60950259836675,74.76577669902913,74.96573208722741,75.23728813559322,75.58519388954171,76.24203821656052,76.34078212290503,76.40776699029126,76.51449275362319,76.79377431906615,77.26470588235294,77.5625,77.70270270270271,78.16666666666667,79.22222222222223,79.30555555555556,79.7,84.0,90.0],\"yaxis\":\"y\"},{\"hovertemplate\":\"variable=metacritic-max<br>platform=%{x}<br>value=%{y}<extra></extra>\",\"legendgroup\":\"metacritic-max\",\"marker\":{\"color\":\"#00cc96\",\"symbol\":\"circle\"},\"mode\":\"markers\",\"name\":\"metacritic-max\",\"orientation\":\"v\",\"showlegend\":true,\"type\":\"scatter\",\"x\":[\"Commodore / Amiga\",\"Game Boy Color\",\"Nintendo DS\",\"Wii\",\"PC\",\"PlayStation 2\",\"Linux\",\"macOS\",\"Game Boy Advance\",\"Xbox 360\",\"PlayStation 4\",\"PSP\",\"Xbox One\",\"PlayStation 3\",\"iOS\",\"Android\",\"Nintendo Switch\",\"Xbox\",\"Wii U\",\"GameCube\",\"Nintendo 3DS\",\"PS Vita\",\"PlayStation\",\"Classic Macintosh\",\"Dreamcast\",\"SNES\",\"Xbox Series S/X\",\"PlayStation 5\",\"Web\",\"Nintendo 64\",\"SEGA Saturn\"],\"xaxis\":\"x\",\"y\":[88.0,94.0,94.0,99.0,97.0,96.0,96.0,96.0,95.0,98.0,97.0,94.0,98.0,97.0,98.0,98.0,97.0,96.0,99.0,99.0,95.0,96.0,96.0,94.0,98.0,95.0,97.0,97.0,87.0,99.0,94.0],\"yaxis\":\"y\"}],                        {\"legend\":{\"title\":{\"text\":\"variable\"},\"tracegroupgap\":0},\"margin\":{\"t\":60},\"template\":{\"data\":{\"bar\":[{\"error_x\":{\"color\":\"#2a3f5f\"},\"error_y\":{\"color\":\"#2a3f5f\"},\"marker\":{\"line\":{\"color\":\"#E5ECF6\",\"width\":0.5},\"pattern\":{\"fillmode\":\"overlay\",\"size\":10,\"solidity\":0.2}},\"type\":\"bar\"}],\"barpolar\":[{\"marker\":{\"line\":{\"color\":\"#E5ECF6\",\"width\":0.5},\"pattern\":{\"fillmode\":\"overlay\",\"size\":10,\"solidity\":0.2}},\"type\":\"barpolar\"}],\"carpet\":[{\"aaxis\":{\"endlinecolor\":\"#2a3f5f\",\"gridcolor\":\"white\",\"linecolor\":\"white\",\"minorgridcolor\":\"white\",\"startlinecolor\":\"#2a3f5f\"},\"baxis\":{\"endlinecolor\":\"#2a3f5f\",\"gridcolor\":\"white\",\"linecolor\":\"white\",\"minorgridcolor\":\"white\",\"startlinecolor\":\"#2a3f5f\"},\"type\":\"carpet\"}],\"choropleth\":[{\"colorbar\":{\"outlinewidth\":0,\"ticks\":\"\"},\"type\":\"choropleth\"}],\"contour\":[{\"colorbar\":{\"outlinewidth\":0,\"ticks\":\"\"},\"colorscale\":[[0.0,\"#0d0887\"],[0.1111111111111111,\"#46039f\"],[0.2222222222222222,\"#7201a8\"],[0.3333333333333333,\"#9c179e\"],[0.4444444444444444,\"#bd3786\"],[0.5555555555555556,\"#d8576b\"],[0.6666666666666666,\"#ed7953\"],[0.7777777777777778,\"#fb9f3a\"],[0.8888888888888888,\"#fdca26\"],[1.0,\"#f0f921\"]],\"type\":\"contour\"}],\"contourcarpet\":[{\"colorbar\":{\"outlinewidth\":0,\"ticks\":\"\"},\"type\":\"contourcarpet\"}],\"heatmap\":[{\"colorbar\":{\"outlinewidth\":0,\"ticks\":\"\"},\"colorscale\":[[0.0,\"#0d0887\"],[0.1111111111111111,\"#46039f\"],[0.2222222222222222,\"#7201a8\"],[0.3333333333333333,\"#9c179e\"],[0.4444444444444444,\"#bd3786\"],[0.5555555555555556,\"#d8576b\"],[0.6666666666666666,\"#ed7953\"],[0.7777777777777778,\"#fb9f3a\"],[0.8888888888888888,\"#fdca26\"],[1.0,\"#f0f921\"]],\"type\":\"heatmap\"}],\"heatmapgl\":[{\"colorbar\":{\"outlinewidth\":0,\"ticks\":\"\"},\"colorscale\":[[0.0,\"#0d0887\"],[0.1111111111111111,\"#46039f\"],[0.2222222222222222,\"#7201a8\"],[0.3333333333333333,\"#9c179e\"],[0.4444444444444444,\"#bd3786\"],[0.5555555555555556,\"#d8576b\"],[0.6666666666666666,\"#ed7953\"],[0.7777777777777778,\"#fb9f3a\"],[0.8888888888888888,\"#fdca26\"],[1.0,\"#f0f921\"]],\"type\":\"heatmapgl\"}],\"histogram\":[{\"marker\":{\"pattern\":{\"fillmode\":\"overlay\",\"size\":10,\"solidity\":0.2}},\"type\":\"histogram\"}],\"histogram2d\":[{\"colorbar\":{\"outlinewidth\":0,\"ticks\":\"\"},\"colorscale\":[[0.0,\"#0d0887\"],[0.1111111111111111,\"#46039f\"],[0.2222222222222222,\"#7201a8\"],[0.3333333333333333,\"#9c179e\"],[0.4444444444444444,\"#bd3786\"],[0.5555555555555556,\"#d8576b\"],[0.6666666666666666,\"#ed7953\"],[0.7777777777777778,\"#fb9f3a\"],[0.8888888888888888,\"#fdca26\"],[1.0,\"#f0f921\"]],\"type\":\"histogram2d\"}],\"histogram2dcontour\":[{\"colorbar\":{\"outlinewidth\":0,\"ticks\":\"\"},\"colorscale\":[[0.0,\"#0d0887\"],[0.1111111111111111,\"#46039f\"],[0.2222222222222222,\"#7201a8\"],[0.3333333333333333,\"#9c179e\"],[0.4444444444444444,\"#bd3786\"],[0.5555555555555556,\"#d8576b\"],[0.6666666666666666,\"#ed7953\"],[0.7777777777777778,\"#fb9f3a\"],[0.8888888888888888,\"#fdca26\"],[1.0,\"#f0f921\"]],\"type\":\"histogram2dcontour\"}],\"mesh3d\":[{\"colorbar\":{\"outlinewidth\":0,\"ticks\":\"\"},\"type\":\"mesh3d\"}],\"parcoords\":[{\"line\":{\"colorbar\":{\"outlinewidth\":0,\"ticks\":\"\"}},\"type\":\"parcoords\"}],\"pie\":[{\"automargin\":true,\"type\":\"pie\"}],\"scatter\":[{\"marker\":{\"colorbar\":{\"outlinewidth\":0,\"ticks\":\"\"}},\"type\":\"scatter\"}],\"scatter3d\":[{\"line\":{\"colorbar\":{\"outlinewidth\":0,\"ticks\":\"\"}},\"marker\":{\"colorbar\":{\"outlinewidth\":0,\"ticks\":\"\"}},\"type\":\"scatter3d\"}],\"scattercarpet\":[{\"marker\":{\"colorbar\":{\"outlinewidth\":0,\"ticks\":\"\"}},\"type\":\"scattercarpet\"}],\"scattergeo\":[{\"marker\":{\"colorbar\":{\"outlinewidth\":0,\"ticks\":\"\"}},\"type\":\"scattergeo\"}],\"scattergl\":[{\"marker\":{\"colorbar\":{\"outlinewidth\":0,\"ticks\":\"\"}},\"type\":\"scattergl\"}],\"scattermapbox\":[{\"marker\":{\"colorbar\":{\"outlinewidth\":0,\"ticks\":\"\"}},\"type\":\"scattermapbox\"}],\"scatterpolar\":[{\"marker\":{\"colorbar\":{\"outlinewidth\":0,\"ticks\":\"\"}},\"type\":\"scatterpolar\"}],\"scatterpolargl\":[{\"marker\":{\"colorbar\":{\"outlinewidth\":0,\"ticks\":\"\"}},\"type\":\"scatterpolargl\"}],\"scatterternary\":[{\"marker\":{\"colorbar\":{\"outlinewidth\":0,\"ticks\":\"\"}},\"type\":\"scatterternary\"}],\"surface\":[{\"colorbar\":{\"outlinewidth\":0,\"ticks\":\"\"},\"colorscale\":[[0.0,\"#0d0887\"],[0.1111111111111111,\"#46039f\"],[0.2222222222222222,\"#7201a8\"],[0.3333333333333333,\"#9c179e\"],[0.4444444444444444,\"#bd3786\"],[0.5555555555555556,\"#d8576b\"],[0.6666666666666666,\"#ed7953\"],[0.7777777777777778,\"#fb9f3a\"],[0.8888888888888888,\"#fdca26\"],[1.0,\"#f0f921\"]],\"type\":\"surface\"}],\"table\":[{\"cells\":{\"fill\":{\"color\":\"#EBF0F8\"},\"line\":{\"color\":\"white\"}},\"header\":{\"fill\":{\"color\":\"#C8D4E3\"},\"line\":{\"color\":\"white\"}},\"type\":\"table\"}]},\"layout\":{\"annotationdefaults\":{\"arrowcolor\":\"#2a3f5f\",\"arrowhead\":0,\"arrowwidth\":1},\"autotypenumbers\":\"strict\",\"coloraxis\":{\"colorbar\":{\"outlinewidth\":0,\"ticks\":\"\"}},\"colorscale\":{\"diverging\":[[0,\"#8e0152\"],[0.1,\"#c51b7d\"],[0.2,\"#de77ae\"],[0.3,\"#f1b6da\"],[0.4,\"#fde0ef\"],[0.5,\"#f7f7f7\"],[0.6,\"#e6f5d0\"],[0.7,\"#b8e186\"],[0.8,\"#7fbc41\"],[0.9,\"#4d9221\"],[1,\"#276419\"]],\"sequential\":[[0.0,\"#0d0887\"],[0.1111111111111111,\"#46039f\"],[0.2222222222222222,\"#7201a8\"],[0.3333333333333333,\"#9c179e\"],[0.4444444444444444,\"#bd3786\"],[0.5555555555555556,\"#d8576b\"],[0.6666666666666666,\"#ed7953\"],[0.7777777777777778,\"#fb9f3a\"],[0.8888888888888888,\"#fdca26\"],[1.0,\"#f0f921\"]],\"sequentialminus\":[[0.0,\"#0d0887\"],[0.1111111111111111,\"#46039f\"],[0.2222222222222222,\"#7201a8\"],[0.3333333333333333,\"#9c179e\"],[0.4444444444444444,\"#bd3786\"],[0.5555555555555556,\"#d8576b\"],[0.6666666666666666,\"#ed7953\"],[0.7777777777777778,\"#fb9f3a\"],[0.8888888888888888,\"#fdca26\"],[1.0,\"#f0f921\"]]},\"colorway\":[\"#636efa\",\"#EF553B\",\"#00cc96\",\"#ab63fa\",\"#FFA15A\",\"#19d3f3\",\"#FF6692\",\"#B6E880\",\"#FF97FF\",\"#FECB52\"],\"font\":{\"color\":\"#2a3f5f\"},\"geo\":{\"bgcolor\":\"white\",\"lakecolor\":\"white\",\"landcolor\":\"#E5ECF6\",\"showlakes\":true,\"showland\":true,\"subunitcolor\":\"white\"},\"hoverlabel\":{\"align\":\"left\"},\"hovermode\":\"closest\",\"mapbox\":{\"style\":\"light\"},\"paper_bgcolor\":\"white\",\"plot_bgcolor\":\"#E5ECF6\",\"polar\":{\"angularaxis\":{\"gridcolor\":\"white\",\"linecolor\":\"white\",\"ticks\":\"\"},\"bgcolor\":\"#E5ECF6\",\"radialaxis\":{\"gridcolor\":\"white\",\"linecolor\":\"white\",\"ticks\":\"\"}},\"scene\":{\"xaxis\":{\"backgroundcolor\":\"#E5ECF6\",\"gridcolor\":\"white\",\"gridwidth\":2,\"linecolor\":\"white\",\"showbackground\":true,\"ticks\":\"\",\"zerolinecolor\":\"white\"},\"yaxis\":{\"backgroundcolor\":\"#E5ECF6\",\"gridcolor\":\"white\",\"gridwidth\":2,\"linecolor\":\"white\",\"showbackground\":true,\"ticks\":\"\",\"zerolinecolor\":\"white\"},\"zaxis\":{\"backgroundcolor\":\"#E5ECF6\",\"gridcolor\":\"white\",\"gridwidth\":2,\"linecolor\":\"white\",\"showbackground\":true,\"ticks\":\"\",\"zerolinecolor\":\"white\"}},\"shapedefaults\":{\"line\":{\"color\":\"#2a3f5f\"}},\"ternary\":{\"aaxis\":{\"gridcolor\":\"white\",\"linecolor\":\"white\",\"ticks\":\"\"},\"baxis\":{\"gridcolor\":\"white\",\"linecolor\":\"white\",\"ticks\":\"\"},\"bgcolor\":\"#E5ECF6\",\"caxis\":{\"gridcolor\":\"white\",\"linecolor\":\"white\",\"ticks\":\"\"}},\"title\":{\"x\":0.05},\"xaxis\":{\"automargin\":true,\"gridcolor\":\"white\",\"linecolor\":\"white\",\"ticks\":\"\",\"title\":{\"standoff\":15},\"zerolinecolor\":\"white\",\"zerolinewidth\":2},\"yaxis\":{\"automargin\":true,\"gridcolor\":\"white\",\"linecolor\":\"white\",\"ticks\":\"\",\"title\":{\"standoff\":15},\"zerolinecolor\":\"white\",\"zerolinewidth\":2}}},\"xaxis\":{\"anchor\":\"y\",\"domain\":[0.0,1.0],\"title\":{\"text\":\"platform\"}},\"yaxis\":{\"anchor\":\"x\",\"domain\":[0.0,1.0],\"title\":{\"text\":\"value\"}}},                        {\"responsive\": true}                    ).then(function(){\n                            \nvar gd = document.getElementById('7a5db0b5-a58c-4513-9307-f7db0f87b494');\nvar x = new MutationObserver(function (mutations, observer) {{\n        var display = window.getComputedStyle(gd).display;\n        if (!display || display === 'none') {{\n            console.log([gd, 'removed!']);\n            Plotly.purge(gd);\n            observer.disconnect();\n        }}\n}});\n\n// Listen for the removal of the full notebook cells\nvar notebookContainer = gd.closest('#notebook-container');\nif (notebookContainer) {{\n    x.observe(notebookContainer, {childList: true});\n}}\n\n// Listen for the clearing of the current output cell\nvar outputEl = gd.closest('.output');\nif (outputEl) {{\n    x.observe(outputEl, {childList: true});\n}}\n\n                        })                };                            </script>        </div>\n</body>\n</html>"
     },
     "metadata": {},
     "output_type": "display_data"
    }
   ],
   "execution_count": null
  },
  {
   "cell_type": "code",
   "source": "platforms_rating = platforms_rating.drop(platforms_rating[(platforms_rating[\"rating-count\"] < 5)].index)\nplatforms_rating.sort_values(\"rating-count\", inplace=True)\nplatforms_rating.plot.bar(x=platforms_rating.index, y=\"rating-count\")",
   "metadata": {
    "tags": [],
    "deepnote_app_coordinates": {
     "x": 0,
     "y": 0,
     "w": 12,
     "h": 5
    },
    "cell_id": "00052-bdd9f85b-277d-4a9b-896d-cbb301028def",
    "deepnote_to_be_reexecuted": true,
    "source_hash": "7448aef0",
    "execution_start": 1634416575519,
    "execution_millis": 33,
    "deepnote_cell_type": "code"
   },
   "outputs": [
    {
     "data": {
      "text/html": "<html>\n<head><meta charset=\"utf-8\" /></head>\n<body>\n    <div>            <script src=\"https://cdnjs.cloudflare.com/ajax/libs/mathjax/2.7.5/MathJax.js?config=TeX-AMS-MML_SVG\"></script><script type=\"text/javascript\">if (window.MathJax) {MathJax.Hub.Config({SVG: {font: \"STIX-Web\"}});}</script>                <script type=\"text/javascript\">window.PlotlyConfig = {MathJaxConfig: 'local'};</script>\n        <script src=\"https://cdn.plot.ly/plotly-2.4.2.min.js\"></script>                <div id=\"af2f723d-9716-49d8-a6bb-7f2ed7a733c7\" class=\"plotly-graph-div\" style=\"height:525px; width:100%;\"></div>            <script type=\"text/javascript\">                                    window.PLOTLYENV=window.PLOTLYENV || {};                                    if (document.getElementById(\"af2f723d-9716-49d8-a6bb-7f2ed7a733c7\")) {                    Plotly.newPlot(                        \"af2f723d-9716-49d8-a6bb-7f2ed7a733c7\",                        [{\"alignmentgroup\":\"True\",\"hovertemplate\":\"platform=%{x}<br>rating-count=%{y}<extra></extra>\",\"legendgroup\":\"\",\"marker\":{\"color\":\"#636efa\",\"pattern\":{\"shape\":\"\"}},\"name\":\"\",\"offsetgroup\":\"\",\"orientation\":\"v\",\"showlegend\":false,\"textposition\":\"auto\",\"type\":\"bar\",\"x\":[\"Nintendo DSi\",\"Atari Flashback\",\"Atari Lynx\",\"Jaguar\",\"Atari 7800\",\"SEGA 32X\",\"Atari 5200\",\"Neo Geo\",\"Xbox Series S/X\",\"PlayStation 5\",\"3DO\",\"SEGA CD\",\"Atari 2600\",\"Atari 8-bit\",\"Apple II\",\"Web\",\"SEGA Master System\",\"Game Gear\",\"SEGA Saturn\",\"Game Boy Color\",\"Atari ST\",\"Dreamcast\",\"Nintendo 64\",\"Classic Macintosh\",\"Game Boy\",\"Commodore / Amiga\",\"SNES\",\"Genesis\",\"NES\",\"GameCube\",\"Game Boy Advance\",\"Nintendo DS\",\"Xbox\",\"Nintendo 3DS\",\"PSP\",\"PlayStation\",\"Wii U\",\"Wii\",\"PlayStation 2\",\"PS Vita\",\"Android\",\"Xbox 360\",\"Nintendo Switch\",\"iOS\",\"PlayStation 3\",\"Linux\",\"Xbox One\",\"PlayStation 4\",\"macOS\",\"PC\"],\"xaxis\":\"x\",\"y\":[6.0,7.0,10.0,14.0,17.0,18.0,19.0,25.0,31.0,32.0,35.0,37.0,41.0,41.0,55.0,56.0,69.0,70.0,91.0,94.0,100.0,115.0,131.0,163.0,167.0,220.0,233.0,245.0,261.0,288.0,312.0,315.0,319.0,395.0,408.0,469.0,493.0,647.0,666.0,739.0,1143.0,1436.0,1469.0,1587.0,1717.0,1951.0,2085.0,2454.0,3053.0,9112.0],\"yaxis\":\"y\"}],                        {\"barmode\":\"relative\",\"legend\":{\"tracegroupgap\":0},\"margin\":{\"t\":60},\"template\":{\"data\":{\"bar\":[{\"error_x\":{\"color\":\"#2a3f5f\"},\"error_y\":{\"color\":\"#2a3f5f\"},\"marker\":{\"line\":{\"color\":\"#E5ECF6\",\"width\":0.5},\"pattern\":{\"fillmode\":\"overlay\",\"size\":10,\"solidity\":0.2}},\"type\":\"bar\"}],\"barpolar\":[{\"marker\":{\"line\":{\"color\":\"#E5ECF6\",\"width\":0.5},\"pattern\":{\"fillmode\":\"overlay\",\"size\":10,\"solidity\":0.2}},\"type\":\"barpolar\"}],\"carpet\":[{\"aaxis\":{\"endlinecolor\":\"#2a3f5f\",\"gridcolor\":\"white\",\"linecolor\":\"white\",\"minorgridcolor\":\"white\",\"startlinecolor\":\"#2a3f5f\"},\"baxis\":{\"endlinecolor\":\"#2a3f5f\",\"gridcolor\":\"white\",\"linecolor\":\"white\",\"minorgridcolor\":\"white\",\"startlinecolor\":\"#2a3f5f\"},\"type\":\"carpet\"}],\"choropleth\":[{\"colorbar\":{\"outlinewidth\":0,\"ticks\":\"\"},\"type\":\"choropleth\"}],\"contour\":[{\"colorbar\":{\"outlinewidth\":0,\"ticks\":\"\"},\"colorscale\":[[0.0,\"#0d0887\"],[0.1111111111111111,\"#46039f\"],[0.2222222222222222,\"#7201a8\"],[0.3333333333333333,\"#9c179e\"],[0.4444444444444444,\"#bd3786\"],[0.5555555555555556,\"#d8576b\"],[0.6666666666666666,\"#ed7953\"],[0.7777777777777778,\"#fb9f3a\"],[0.8888888888888888,\"#fdca26\"],[1.0,\"#f0f921\"]],\"type\":\"contour\"}],\"contourcarpet\":[{\"colorbar\":{\"outlinewidth\":0,\"ticks\":\"\"},\"type\":\"contourcarpet\"}],\"heatmap\":[{\"colorbar\":{\"outlinewidth\":0,\"ticks\":\"\"},\"colorscale\":[[0.0,\"#0d0887\"],[0.1111111111111111,\"#46039f\"],[0.2222222222222222,\"#7201a8\"],[0.3333333333333333,\"#9c179e\"],[0.4444444444444444,\"#bd3786\"],[0.5555555555555556,\"#d8576b\"],[0.6666666666666666,\"#ed7953\"],[0.7777777777777778,\"#fb9f3a\"],[0.8888888888888888,\"#fdca26\"],[1.0,\"#f0f921\"]],\"type\":\"heatmap\"}],\"heatmapgl\":[{\"colorbar\":{\"outlinewidth\":0,\"ticks\":\"\"},\"colorscale\":[[0.0,\"#0d0887\"],[0.1111111111111111,\"#46039f\"],[0.2222222222222222,\"#7201a8\"],[0.3333333333333333,\"#9c179e\"],[0.4444444444444444,\"#bd3786\"],[0.5555555555555556,\"#d8576b\"],[0.6666666666666666,\"#ed7953\"],[0.7777777777777778,\"#fb9f3a\"],[0.8888888888888888,\"#fdca26\"],[1.0,\"#f0f921\"]],\"type\":\"heatmapgl\"}],\"histogram\":[{\"marker\":{\"pattern\":{\"fillmode\":\"overlay\",\"size\":10,\"solidity\":0.2}},\"type\":\"histogram\"}],\"histogram2d\":[{\"colorbar\":{\"outlinewidth\":0,\"ticks\":\"\"},\"colorscale\":[[0.0,\"#0d0887\"],[0.1111111111111111,\"#46039f\"],[0.2222222222222222,\"#7201a8\"],[0.3333333333333333,\"#9c179e\"],[0.4444444444444444,\"#bd3786\"],[0.5555555555555556,\"#d8576b\"],[0.6666666666666666,\"#ed7953\"],[0.7777777777777778,\"#fb9f3a\"],[0.8888888888888888,\"#fdca26\"],[1.0,\"#f0f921\"]],\"type\":\"histogram2d\"}],\"histogram2dcontour\":[{\"colorbar\":{\"outlinewidth\":0,\"ticks\":\"\"},\"colorscale\":[[0.0,\"#0d0887\"],[0.1111111111111111,\"#46039f\"],[0.2222222222222222,\"#7201a8\"],[0.3333333333333333,\"#9c179e\"],[0.4444444444444444,\"#bd3786\"],[0.5555555555555556,\"#d8576b\"],[0.6666666666666666,\"#ed7953\"],[0.7777777777777778,\"#fb9f3a\"],[0.8888888888888888,\"#fdca26\"],[1.0,\"#f0f921\"]],\"type\":\"histogram2dcontour\"}],\"mesh3d\":[{\"colorbar\":{\"outlinewidth\":0,\"ticks\":\"\"},\"type\":\"mesh3d\"}],\"parcoords\":[{\"line\":{\"colorbar\":{\"outlinewidth\":0,\"ticks\":\"\"}},\"type\":\"parcoords\"}],\"pie\":[{\"automargin\":true,\"type\":\"pie\"}],\"scatter\":[{\"marker\":{\"colorbar\":{\"outlinewidth\":0,\"ticks\":\"\"}},\"type\":\"scatter\"}],\"scatter3d\":[{\"line\":{\"colorbar\":{\"outlinewidth\":0,\"ticks\":\"\"}},\"marker\":{\"colorbar\":{\"outlinewidth\":0,\"ticks\":\"\"}},\"type\":\"scatter3d\"}],\"scattercarpet\":[{\"marker\":{\"colorbar\":{\"outlinewidth\":0,\"ticks\":\"\"}},\"type\":\"scattercarpet\"}],\"scattergeo\":[{\"marker\":{\"colorbar\":{\"outlinewidth\":0,\"ticks\":\"\"}},\"type\":\"scattergeo\"}],\"scattergl\":[{\"marker\":{\"colorbar\":{\"outlinewidth\":0,\"ticks\":\"\"}},\"type\":\"scattergl\"}],\"scattermapbox\":[{\"marker\":{\"colorbar\":{\"outlinewidth\":0,\"ticks\":\"\"}},\"type\":\"scattermapbox\"}],\"scatterpolar\":[{\"marker\":{\"colorbar\":{\"outlinewidth\":0,\"ticks\":\"\"}},\"type\":\"scatterpolar\"}],\"scatterpolargl\":[{\"marker\":{\"colorbar\":{\"outlinewidth\":0,\"ticks\":\"\"}},\"type\":\"scatterpolargl\"}],\"scatterternary\":[{\"marker\":{\"colorbar\":{\"outlinewidth\":0,\"ticks\":\"\"}},\"type\":\"scatterternary\"}],\"surface\":[{\"colorbar\":{\"outlinewidth\":0,\"ticks\":\"\"},\"colorscale\":[[0.0,\"#0d0887\"],[0.1111111111111111,\"#46039f\"],[0.2222222222222222,\"#7201a8\"],[0.3333333333333333,\"#9c179e\"],[0.4444444444444444,\"#bd3786\"],[0.5555555555555556,\"#d8576b\"],[0.6666666666666666,\"#ed7953\"],[0.7777777777777778,\"#fb9f3a\"],[0.8888888888888888,\"#fdca26\"],[1.0,\"#f0f921\"]],\"type\":\"surface\"}],\"table\":[{\"cells\":{\"fill\":{\"color\":\"#EBF0F8\"},\"line\":{\"color\":\"white\"}},\"header\":{\"fill\":{\"color\":\"#C8D4E3\"},\"line\":{\"color\":\"white\"}},\"type\":\"table\"}]},\"layout\":{\"annotationdefaults\":{\"arrowcolor\":\"#2a3f5f\",\"arrowhead\":0,\"arrowwidth\":1},\"autotypenumbers\":\"strict\",\"coloraxis\":{\"colorbar\":{\"outlinewidth\":0,\"ticks\":\"\"}},\"colorscale\":{\"diverging\":[[0,\"#8e0152\"],[0.1,\"#c51b7d\"],[0.2,\"#de77ae\"],[0.3,\"#f1b6da\"],[0.4,\"#fde0ef\"],[0.5,\"#f7f7f7\"],[0.6,\"#e6f5d0\"],[0.7,\"#b8e186\"],[0.8,\"#7fbc41\"],[0.9,\"#4d9221\"],[1,\"#276419\"]],\"sequential\":[[0.0,\"#0d0887\"],[0.1111111111111111,\"#46039f\"],[0.2222222222222222,\"#7201a8\"],[0.3333333333333333,\"#9c179e\"],[0.4444444444444444,\"#bd3786\"],[0.5555555555555556,\"#d8576b\"],[0.6666666666666666,\"#ed7953\"],[0.7777777777777778,\"#fb9f3a\"],[0.8888888888888888,\"#fdca26\"],[1.0,\"#f0f921\"]],\"sequentialminus\":[[0.0,\"#0d0887\"],[0.1111111111111111,\"#46039f\"],[0.2222222222222222,\"#7201a8\"],[0.3333333333333333,\"#9c179e\"],[0.4444444444444444,\"#bd3786\"],[0.5555555555555556,\"#d8576b\"],[0.6666666666666666,\"#ed7953\"],[0.7777777777777778,\"#fb9f3a\"],[0.8888888888888888,\"#fdca26\"],[1.0,\"#f0f921\"]]},\"colorway\":[\"#636efa\",\"#EF553B\",\"#00cc96\",\"#ab63fa\",\"#FFA15A\",\"#19d3f3\",\"#FF6692\",\"#B6E880\",\"#FF97FF\",\"#FECB52\"],\"font\":{\"color\":\"#2a3f5f\"},\"geo\":{\"bgcolor\":\"white\",\"lakecolor\":\"white\",\"landcolor\":\"#E5ECF6\",\"showlakes\":true,\"showland\":true,\"subunitcolor\":\"white\"},\"hoverlabel\":{\"align\":\"left\"},\"hovermode\":\"closest\",\"mapbox\":{\"style\":\"light\"},\"paper_bgcolor\":\"white\",\"plot_bgcolor\":\"#E5ECF6\",\"polar\":{\"angularaxis\":{\"gridcolor\":\"white\",\"linecolor\":\"white\",\"ticks\":\"\"},\"bgcolor\":\"#E5ECF6\",\"radialaxis\":{\"gridcolor\":\"white\",\"linecolor\":\"white\",\"ticks\":\"\"}},\"scene\":{\"xaxis\":{\"backgroundcolor\":\"#E5ECF6\",\"gridcolor\":\"white\",\"gridwidth\":2,\"linecolor\":\"white\",\"showbackground\":true,\"ticks\":\"\",\"zerolinecolor\":\"white\"},\"yaxis\":{\"backgroundcolor\":\"#E5ECF6\",\"gridcolor\":\"white\",\"gridwidth\":2,\"linecolor\":\"white\",\"showbackground\":true,\"ticks\":\"\",\"zerolinecolor\":\"white\"},\"zaxis\":{\"backgroundcolor\":\"#E5ECF6\",\"gridcolor\":\"white\",\"gridwidth\":2,\"linecolor\":\"white\",\"showbackground\":true,\"ticks\":\"\",\"zerolinecolor\":\"white\"}},\"shapedefaults\":{\"line\":{\"color\":\"#2a3f5f\"}},\"ternary\":{\"aaxis\":{\"gridcolor\":\"white\",\"linecolor\":\"white\",\"ticks\":\"\"},\"baxis\":{\"gridcolor\":\"white\",\"linecolor\":\"white\",\"ticks\":\"\"},\"bgcolor\":\"#E5ECF6\",\"caxis\":{\"gridcolor\":\"white\",\"linecolor\":\"white\",\"ticks\":\"\"}},\"title\":{\"x\":0.05},\"xaxis\":{\"automargin\":true,\"gridcolor\":\"white\",\"linecolor\":\"white\",\"ticks\":\"\",\"title\":{\"standoff\":15},\"zerolinecolor\":\"white\",\"zerolinewidth\":2},\"yaxis\":{\"automargin\":true,\"gridcolor\":\"white\",\"linecolor\":\"white\",\"ticks\":\"\",\"title\":{\"standoff\":15},\"zerolinecolor\":\"white\",\"zerolinewidth\":2}}},\"xaxis\":{\"anchor\":\"y\",\"domain\":[0.0,1.0],\"title\":{\"text\":\"platform\"}},\"yaxis\":{\"anchor\":\"x\",\"domain\":[0.0,1.0],\"title\":{\"text\":\"rating-count\"}}},                        {\"responsive\": true}                    ).then(function(){\n                            \nvar gd = document.getElementById('af2f723d-9716-49d8-a6bb-7f2ed7a733c7');\nvar x = new MutationObserver(function (mutations, observer) {{\n        var display = window.getComputedStyle(gd).display;\n        if (!display || display === 'none') {{\n            console.log([gd, 'removed!']);\n            Plotly.purge(gd);\n            observer.disconnect();\n        }}\n}});\n\n// Listen for the removal of the full notebook cells\nvar notebookContainer = gd.closest('#notebook-container');\nif (notebookContainer) {{\n    x.observe(notebookContainer, {childList: true});\n}}\n\n// Listen for the clearing of the current output cell\nvar outputEl = gd.closest('.output');\nif (outputEl) {{\n    x.observe(outputEl, {childList: true});\n}}\n\n                        })                };                            </script>        </div>\n</body>\n</html>"
     },
     "metadata": {},
     "output_type": "display_data"
    }
   ],
   "execution_count": null
  },
  {
   "cell_type": "code",
   "source": "platforms_rating.sort_values(\"rating-mean\", inplace=True)\nplatforms_rating.plot.scatter(x=platforms_rating.index, y=[\"rating-min\", \"rating-mean\", \"rating-max\"])",
   "metadata": {
    "tags": [],
    "deepnote_app_coordinates": {
     "x": 0,
     "y": 0,
     "w": 12,
     "h": 5
    },
    "cell_id": "00050-d4fd58c4-1012-4896-9d4d-5dfc0bf49583",
    "deepnote_to_be_reexecuted": true,
    "source_hash": "e914e59a",
    "execution_start": 1634416575520,
    "execution_millis": 620,
    "deepnote_cell_type": "code"
   },
   "outputs": [
    {
     "data": {
      "text/html": "<html>\n<head><meta charset=\"utf-8\" /></head>\n<body>\n    <div>            <script src=\"https://cdnjs.cloudflare.com/ajax/libs/mathjax/2.7.5/MathJax.js?config=TeX-AMS-MML_SVG\"></script><script type=\"text/javascript\">if (window.MathJax) {MathJax.Hub.Config({SVG: {font: \"STIX-Web\"}});}</script>                <script type=\"text/javascript\">window.PlotlyConfig = {MathJaxConfig: 'local'};</script>\n        <script src=\"https://cdn.plot.ly/plotly-2.4.2.min.js\"></script>                <div id=\"534ebb82-c0f9-48fc-923c-bdffe2876e8a\" class=\"plotly-graph-div\" style=\"height:525px; width:100%;\"></div>            <script type=\"text/javascript\">                                    window.PLOTLYENV=window.PLOTLYENV || {};                                    if (document.getElementById(\"534ebb82-c0f9-48fc-923c-bdffe2876e8a\")) {                    Plotly.newPlot(                        \"534ebb82-c0f9-48fc-923c-bdffe2876e8a\",                        [{\"hovertemplate\":\"variable=rating-min<br>platform=%{x}<br>value=%{y}<extra></extra>\",\"legendgroup\":\"rating-min\",\"marker\":{\"color\":\"#636efa\",\"symbol\":\"circle\"},\"mode\":\"markers\",\"name\":\"rating-min\",\"orientation\":\"v\",\"showlegend\":true,\"type\":\"scatter\",\"x\":[\"Linux\",\"macOS\",\"PC\",\"PlayStation 4\",\"iOS\",\"Xbox One\",\"Xbox 360\",\"Android\",\"Nintendo Switch\",\"PS Vita\",\"Apple II\",\"Web\",\"PlayStation 3\",\"Atari 2600\",\"Nintendo DS\",\"Atari 8-bit\",\"Atari 5200\",\"Commodore / Amiga\",\"Atari ST\",\"Wii\",\"Wii U\",\"Neo Geo\",\"Atari 7800\",\"SEGA Master System\",\"PlayStation 5\",\"Xbox Series S/X\",\"Game Gear\",\"NES\",\"PlayStation 2\",\"Classic Macintosh\",\"Xbox\",\"SEGA CD\",\"Game Boy\",\"Nintendo 3DS\",\"GameCube\",\"Genesis\",\"Atari Lynx\",\"PSP\",\"Game Boy Advance\",\"SEGA 32X\",\"Nintendo DSi\",\"3DO\",\"SNES\",\"SEGA Saturn\",\"Nintendo 64\",\"PlayStation\",\"Game Boy Color\",\"Dreamcast\",\"Jaguar\",\"Atari Flashback\"],\"xaxis\":\"x\",\"y\":[1.0,1.0,1.0,1.0,1.33,1.0,1.33,1.65,1.3,1.33,1.91,2.14,1.33,1.5,1.5,2.0,2.71,2.0,2.0,1.5,1.8,2.92,3.0,2.27,2.27,2.27,2.29,1.57,1.71,1.57,1.71,2.0,2.0,1.5,1.71,2.29,3.38,2.0,1.71,3.0,3.62,2.33,1.57,2.87,2.27,2.24,2.18,2.7,3.38,3.71],\"yaxis\":\"y\"},{\"hovertemplate\":\"variable=rating-mean<br>platform=%{x}<br>value=%{y}<extra></extra>\",\"legendgroup\":\"rating-mean\",\"marker\":{\"color\":\"#EF553B\",\"symbol\":\"circle\"},\"mode\":\"markers\",\"name\":\"rating-mean\",\"orientation\":\"v\",\"showlegend\":true,\"type\":\"scatter\",\"x\":[\"Linux\",\"macOS\",\"PC\",\"PlayStation 4\",\"iOS\",\"Xbox One\",\"Xbox 360\",\"Android\",\"Nintendo Switch\",\"PS Vita\",\"Apple II\",\"Web\",\"PlayStation 3\",\"Atari 2600\",\"Nintendo DS\",\"Atari 8-bit\",\"Atari 5200\",\"Commodore / Amiga\",\"Atari ST\",\"Wii\",\"Wii U\",\"Neo Geo\",\"Atari 7800\",\"SEGA Master System\",\"PlayStation 5\",\"Xbox Series S/X\",\"Game Gear\",\"NES\",\"PlayStation 2\",\"Classic Macintosh\",\"Xbox\",\"SEGA CD\",\"Game Boy\",\"Nintendo 3DS\",\"GameCube\",\"Genesis\",\"Atari Lynx\",\"PSP\",\"Game Boy Advance\",\"SEGA 32X\",\"Nintendo DSi\",\"3DO\",\"SNES\",\"SEGA Saturn\",\"Nintendo 64\",\"PlayStation\",\"Game Boy Color\",\"Dreamcast\",\"Jaguar\",\"Atari Flashback\"],\"xaxis\":\"x\",\"y\":[3.2078780112762693,3.242882410743532,3.286972124670762,3.466903015484922,3.467202268431002,3.4786378896882484,3.4976671309192215,3.5231846019247595,3.525568413886998,3.5322327469553447,3.565818181818182,3.5757142857142847,3.5896330809551555,3.618536585365854,3.640349206349207,3.6604878048780485,3.6868421052631586,3.6955909090909094,3.7005999999999997,3.7079752704791344,3.7084381338742403,3.7212,3.728235294117647,3.73,3.73,3.7506451612903224,3.7545714285714284,3.754904214559387,3.763528528528529,3.766012269938651,3.7855799373040755,3.7924324324324323,3.798622754491018,3.803974683544303,3.817291666666667,3.8301632653061217,3.8329999999999997,3.8356617647058826,3.842243589743589,3.8827777777777777,3.89,3.8937142857142857,3.8939484978540775,3.9213186813186818,3.9264122137404582,3.9330277185501066,3.9585106382978728,3.9628695652173915,3.982857142857143,4.018571428571429],\"yaxis\":\"y\"},{\"hovertemplate\":\"variable=rating-max<br>platform=%{x}<br>value=%{y}<extra></extra>\",\"legendgroup\":\"rating-max\",\"marker\":{\"color\":\"#00cc96\",\"symbol\":\"circle\"},\"mode\":\"markers\",\"name\":\"rating-max\",\"orientation\":\"v\",\"showlegend\":true,\"type\":\"scatter\",\"x\":[\"Linux\",\"macOS\",\"PC\",\"PlayStation 4\",\"iOS\",\"Xbox One\",\"Xbox 360\",\"Android\",\"Nintendo Switch\",\"PS Vita\",\"Apple II\",\"Web\",\"PlayStation 3\",\"Atari 2600\",\"Nintendo DS\",\"Atari 8-bit\",\"Atari 5200\",\"Commodore / Amiga\",\"Atari ST\",\"Wii\",\"Wii U\",\"Neo Geo\",\"Atari 7800\",\"SEGA Master System\",\"PlayStation 5\",\"Xbox Series S/X\",\"Game Gear\",\"NES\",\"PlayStation 2\",\"Classic Macintosh\",\"Xbox\",\"SEGA CD\",\"Game Boy\",\"Nintendo 3DS\",\"GameCube\",\"Genesis\",\"Atari Lynx\",\"PSP\",\"Game Boy Advance\",\"SEGA 32X\",\"Nintendo DSi\",\"3DO\",\"SNES\",\"SEGA Saturn\",\"Nintendo 64\",\"PlayStation\",\"Game Boy Color\",\"Dreamcast\",\"Jaguar\",\"Atari Flashback\"],\"xaxis\":\"x\",\"y\":[4.78,4.78,4.83,4.81,4.86,4.78,4.73,4.75,4.78,4.78,4.4,4.5,4.78,4.45,4.67,4.59,4.45,4.5,4.45,4.71,4.78,4.27,4.21,4.38,4.73,4.73,4.38,4.67,4.67,4.57,4.67,4.32,4.53,4.78,4.62,4.67,4.21,4.67,4.83,4.67,4.28,4.5,4.71,4.67,4.5,4.71,4.53,4.5,4.37,4.45],\"yaxis\":\"y\"}],                        {\"legend\":{\"title\":{\"text\":\"variable\"},\"tracegroupgap\":0},\"margin\":{\"t\":60},\"template\":{\"data\":{\"bar\":[{\"error_x\":{\"color\":\"#2a3f5f\"},\"error_y\":{\"color\":\"#2a3f5f\"},\"marker\":{\"line\":{\"color\":\"#E5ECF6\",\"width\":0.5},\"pattern\":{\"fillmode\":\"overlay\",\"size\":10,\"solidity\":0.2}},\"type\":\"bar\"}],\"barpolar\":[{\"marker\":{\"line\":{\"color\":\"#E5ECF6\",\"width\":0.5},\"pattern\":{\"fillmode\":\"overlay\",\"size\":10,\"solidity\":0.2}},\"type\":\"barpolar\"}],\"carpet\":[{\"aaxis\":{\"endlinecolor\":\"#2a3f5f\",\"gridcolor\":\"white\",\"linecolor\":\"white\",\"minorgridcolor\":\"white\",\"startlinecolor\":\"#2a3f5f\"},\"baxis\":{\"endlinecolor\":\"#2a3f5f\",\"gridcolor\":\"white\",\"linecolor\":\"white\",\"minorgridcolor\":\"white\",\"startlinecolor\":\"#2a3f5f\"},\"type\":\"carpet\"}],\"choropleth\":[{\"colorbar\":{\"outlinewidth\":0,\"ticks\":\"\"},\"type\":\"choropleth\"}],\"contour\":[{\"colorbar\":{\"outlinewidth\":0,\"ticks\":\"\"},\"colorscale\":[[0.0,\"#0d0887\"],[0.1111111111111111,\"#46039f\"],[0.2222222222222222,\"#7201a8\"],[0.3333333333333333,\"#9c179e\"],[0.4444444444444444,\"#bd3786\"],[0.5555555555555556,\"#d8576b\"],[0.6666666666666666,\"#ed7953\"],[0.7777777777777778,\"#fb9f3a\"],[0.8888888888888888,\"#fdca26\"],[1.0,\"#f0f921\"]],\"type\":\"contour\"}],\"contourcarpet\":[{\"colorbar\":{\"outlinewidth\":0,\"ticks\":\"\"},\"type\":\"contourcarpet\"}],\"heatmap\":[{\"colorbar\":{\"outlinewidth\":0,\"ticks\":\"\"},\"colorscale\":[[0.0,\"#0d0887\"],[0.1111111111111111,\"#46039f\"],[0.2222222222222222,\"#7201a8\"],[0.3333333333333333,\"#9c179e\"],[0.4444444444444444,\"#bd3786\"],[0.5555555555555556,\"#d8576b\"],[0.6666666666666666,\"#ed7953\"],[0.7777777777777778,\"#fb9f3a\"],[0.8888888888888888,\"#fdca26\"],[1.0,\"#f0f921\"]],\"type\":\"heatmap\"}],\"heatmapgl\":[{\"colorbar\":{\"outlinewidth\":0,\"ticks\":\"\"},\"colorscale\":[[0.0,\"#0d0887\"],[0.1111111111111111,\"#46039f\"],[0.2222222222222222,\"#7201a8\"],[0.3333333333333333,\"#9c179e\"],[0.4444444444444444,\"#bd3786\"],[0.5555555555555556,\"#d8576b\"],[0.6666666666666666,\"#ed7953\"],[0.7777777777777778,\"#fb9f3a\"],[0.8888888888888888,\"#fdca26\"],[1.0,\"#f0f921\"]],\"type\":\"heatmapgl\"}],\"histogram\":[{\"marker\":{\"pattern\":{\"fillmode\":\"overlay\",\"size\":10,\"solidity\":0.2}},\"type\":\"histogram\"}],\"histogram2d\":[{\"colorbar\":{\"outlinewidth\":0,\"ticks\":\"\"},\"colorscale\":[[0.0,\"#0d0887\"],[0.1111111111111111,\"#46039f\"],[0.2222222222222222,\"#7201a8\"],[0.3333333333333333,\"#9c179e\"],[0.4444444444444444,\"#bd3786\"],[0.5555555555555556,\"#d8576b\"],[0.6666666666666666,\"#ed7953\"],[0.7777777777777778,\"#fb9f3a\"],[0.8888888888888888,\"#fdca26\"],[1.0,\"#f0f921\"]],\"type\":\"histogram2d\"}],\"histogram2dcontour\":[{\"colorbar\":{\"outlinewidth\":0,\"ticks\":\"\"},\"colorscale\":[[0.0,\"#0d0887\"],[0.1111111111111111,\"#46039f\"],[0.2222222222222222,\"#7201a8\"],[0.3333333333333333,\"#9c179e\"],[0.4444444444444444,\"#bd3786\"],[0.5555555555555556,\"#d8576b\"],[0.6666666666666666,\"#ed7953\"],[0.7777777777777778,\"#fb9f3a\"],[0.8888888888888888,\"#fdca26\"],[1.0,\"#f0f921\"]],\"type\":\"histogram2dcontour\"}],\"mesh3d\":[{\"colorbar\":{\"outlinewidth\":0,\"ticks\":\"\"},\"type\":\"mesh3d\"}],\"parcoords\":[{\"line\":{\"colorbar\":{\"outlinewidth\":0,\"ticks\":\"\"}},\"type\":\"parcoords\"}],\"pie\":[{\"automargin\":true,\"type\":\"pie\"}],\"scatter\":[{\"marker\":{\"colorbar\":{\"outlinewidth\":0,\"ticks\":\"\"}},\"type\":\"scatter\"}],\"scatter3d\":[{\"line\":{\"colorbar\":{\"outlinewidth\":0,\"ticks\":\"\"}},\"marker\":{\"colorbar\":{\"outlinewidth\":0,\"ticks\":\"\"}},\"type\":\"scatter3d\"}],\"scattercarpet\":[{\"marker\":{\"colorbar\":{\"outlinewidth\":0,\"ticks\":\"\"}},\"type\":\"scattercarpet\"}],\"scattergeo\":[{\"marker\":{\"colorbar\":{\"outlinewidth\":0,\"ticks\":\"\"}},\"type\":\"scattergeo\"}],\"scattergl\":[{\"marker\":{\"colorbar\":{\"outlinewidth\":0,\"ticks\":\"\"}},\"type\":\"scattergl\"}],\"scattermapbox\":[{\"marker\":{\"colorbar\":{\"outlinewidth\":0,\"ticks\":\"\"}},\"type\":\"scattermapbox\"}],\"scatterpolar\":[{\"marker\":{\"colorbar\":{\"outlinewidth\":0,\"ticks\":\"\"}},\"type\":\"scatterpolar\"}],\"scatterpolargl\":[{\"marker\":{\"colorbar\":{\"outlinewidth\":0,\"ticks\":\"\"}},\"type\":\"scatterpolargl\"}],\"scatterternary\":[{\"marker\":{\"colorbar\":{\"outlinewidth\":0,\"ticks\":\"\"}},\"type\":\"scatterternary\"}],\"surface\":[{\"colorbar\":{\"outlinewidth\":0,\"ticks\":\"\"},\"colorscale\":[[0.0,\"#0d0887\"],[0.1111111111111111,\"#46039f\"],[0.2222222222222222,\"#7201a8\"],[0.3333333333333333,\"#9c179e\"],[0.4444444444444444,\"#bd3786\"],[0.5555555555555556,\"#d8576b\"],[0.6666666666666666,\"#ed7953\"],[0.7777777777777778,\"#fb9f3a\"],[0.8888888888888888,\"#fdca26\"],[1.0,\"#f0f921\"]],\"type\":\"surface\"}],\"table\":[{\"cells\":{\"fill\":{\"color\":\"#EBF0F8\"},\"line\":{\"color\":\"white\"}},\"header\":{\"fill\":{\"color\":\"#C8D4E3\"},\"line\":{\"color\":\"white\"}},\"type\":\"table\"}]},\"layout\":{\"annotationdefaults\":{\"arrowcolor\":\"#2a3f5f\",\"arrowhead\":0,\"arrowwidth\":1},\"autotypenumbers\":\"strict\",\"coloraxis\":{\"colorbar\":{\"outlinewidth\":0,\"ticks\":\"\"}},\"colorscale\":{\"diverging\":[[0,\"#8e0152\"],[0.1,\"#c51b7d\"],[0.2,\"#de77ae\"],[0.3,\"#f1b6da\"],[0.4,\"#fde0ef\"],[0.5,\"#f7f7f7\"],[0.6,\"#e6f5d0\"],[0.7,\"#b8e186\"],[0.8,\"#7fbc41\"],[0.9,\"#4d9221\"],[1,\"#276419\"]],\"sequential\":[[0.0,\"#0d0887\"],[0.1111111111111111,\"#46039f\"],[0.2222222222222222,\"#7201a8\"],[0.3333333333333333,\"#9c179e\"],[0.4444444444444444,\"#bd3786\"],[0.5555555555555556,\"#d8576b\"],[0.6666666666666666,\"#ed7953\"],[0.7777777777777778,\"#fb9f3a\"],[0.8888888888888888,\"#fdca26\"],[1.0,\"#f0f921\"]],\"sequentialminus\":[[0.0,\"#0d0887\"],[0.1111111111111111,\"#46039f\"],[0.2222222222222222,\"#7201a8\"],[0.3333333333333333,\"#9c179e\"],[0.4444444444444444,\"#bd3786\"],[0.5555555555555556,\"#d8576b\"],[0.6666666666666666,\"#ed7953\"],[0.7777777777777778,\"#fb9f3a\"],[0.8888888888888888,\"#fdca26\"],[1.0,\"#f0f921\"]]},\"colorway\":[\"#636efa\",\"#EF553B\",\"#00cc96\",\"#ab63fa\",\"#FFA15A\",\"#19d3f3\",\"#FF6692\",\"#B6E880\",\"#FF97FF\",\"#FECB52\"],\"font\":{\"color\":\"#2a3f5f\"},\"geo\":{\"bgcolor\":\"white\",\"lakecolor\":\"white\",\"landcolor\":\"#E5ECF6\",\"showlakes\":true,\"showland\":true,\"subunitcolor\":\"white\"},\"hoverlabel\":{\"align\":\"left\"},\"hovermode\":\"closest\",\"mapbox\":{\"style\":\"light\"},\"paper_bgcolor\":\"white\",\"plot_bgcolor\":\"#E5ECF6\",\"polar\":{\"angularaxis\":{\"gridcolor\":\"white\",\"linecolor\":\"white\",\"ticks\":\"\"},\"bgcolor\":\"#E5ECF6\",\"radialaxis\":{\"gridcolor\":\"white\",\"linecolor\":\"white\",\"ticks\":\"\"}},\"scene\":{\"xaxis\":{\"backgroundcolor\":\"#E5ECF6\",\"gridcolor\":\"white\",\"gridwidth\":2,\"linecolor\":\"white\",\"showbackground\":true,\"ticks\":\"\",\"zerolinecolor\":\"white\"},\"yaxis\":{\"backgroundcolor\":\"#E5ECF6\",\"gridcolor\":\"white\",\"gridwidth\":2,\"linecolor\":\"white\",\"showbackground\":true,\"ticks\":\"\",\"zerolinecolor\":\"white\"},\"zaxis\":{\"backgroundcolor\":\"#E5ECF6\",\"gridcolor\":\"white\",\"gridwidth\":2,\"linecolor\":\"white\",\"showbackground\":true,\"ticks\":\"\",\"zerolinecolor\":\"white\"}},\"shapedefaults\":{\"line\":{\"color\":\"#2a3f5f\"}},\"ternary\":{\"aaxis\":{\"gridcolor\":\"white\",\"linecolor\":\"white\",\"ticks\":\"\"},\"baxis\":{\"gridcolor\":\"white\",\"linecolor\":\"white\",\"ticks\":\"\"},\"bgcolor\":\"#E5ECF6\",\"caxis\":{\"gridcolor\":\"white\",\"linecolor\":\"white\",\"ticks\":\"\"}},\"title\":{\"x\":0.05},\"xaxis\":{\"automargin\":true,\"gridcolor\":\"white\",\"linecolor\":\"white\",\"ticks\":\"\",\"title\":{\"standoff\":15},\"zerolinecolor\":\"white\",\"zerolinewidth\":2},\"yaxis\":{\"automargin\":true,\"gridcolor\":\"white\",\"linecolor\":\"white\",\"ticks\":\"\",\"title\":{\"standoff\":15},\"zerolinecolor\":\"white\",\"zerolinewidth\":2}}},\"xaxis\":{\"anchor\":\"y\",\"domain\":[0.0,1.0],\"title\":{\"text\":\"platform\"}},\"yaxis\":{\"anchor\":\"x\",\"domain\":[0.0,1.0],\"title\":{\"text\":\"value\"}}},                        {\"responsive\": true}                    ).then(function(){\n                            \nvar gd = document.getElementById('534ebb82-c0f9-48fc-923c-bdffe2876e8a');\nvar x = new MutationObserver(function (mutations, observer) {{\n        var display = window.getComputedStyle(gd).display;\n        if (!display || display === 'none') {{\n            console.log([gd, 'removed!']);\n            Plotly.purge(gd);\n            observer.disconnect();\n        }}\n}});\n\n// Listen for the removal of the full notebook cells\nvar notebookContainer = gd.closest('#notebook-container');\nif (notebookContainer) {{\n    x.observe(notebookContainer, {childList: true});\n}}\n\n// Listen for the clearing of the current output cell\nvar outputEl = gd.closest('.output');\nif (outputEl) {{\n    x.observe(outputEl, {childList: true});\n}}\n\n                        })                };                            </script>        </div>\n</body>\n</html>"
     },
     "metadata": {},
     "output_type": "display_data"
    }
   ],
   "execution_count": null
  },
  {
   "cell_type": "markdown",
   "source": "#### Publishers\nThis part will not be used in the published version of the notebook, it remains here for the evaluation only.",
   "metadata": {
    "tags": [],
    "deepnote_app_coordinates": {
     "x": 0,
     "y": 0,
     "w": 12,
     "h": 5
    },
    "cell_id": "00052-31bbc317-4056-4ec1-bc2b-3fd9ee389b01",
    "deepnote_cell_type": "markdown"
   }
  },
  {
   "cell_type": "code",
   "source": "#publishers = get_uniques_from_column(dataset[\"publishers\"])\n#publishers\n#publishers.remove(np.nan)  # removing NaN from game publishers\n#dataset_publishers = dataset.copy()\n\n#for publisher in publishers:\n#    dataset_publishers[publisher] = False\n#    dataset_publishers[publisher] = dataset_publishers[\"publishers\"].str.contains(r\"(^|\\|\\|)\"  + publisher + r\"($|\\|\\|)\", na=False)\n\n#rating_publishers = pd.DataFrame(data={'publishers': publishers})\n\n#rating_publishers = rating_publishers.apply(get_describe_by(\"metacritic\", \"publishers\", dataset_publishers), axis=1)\n#rating_publishers.set_index('publishers', inplace=True)\n#rating_publishers.sort_values(\"metacritic\", inplace=True)\n#rating_publishers[\"metacritic\"].plot.bar()\n#rating_publishers.sort_values(\"metacritic-count\", inplace=True)\n#rating_publishers.plot.scatter(x=rating_publishers.index, y=[\"metacritic-count\"])\n\n#rating_publishers.sort_values(\"metacritic-mean\", inplace=True)\n#rating_publishers.plot.scatter(x=rating_publishers.index, y=[\"metacritic-min\", \"metacritic-mean\", \"metacritic-max\"])",
   "metadata": {
    "tags": [],
    "deepnote_app_coordinates": {
     "x": 0,
     "y": 0,
     "w": 12,
     "h": 5
    },
    "cell_id": "00056-5f2c1472-aff2-405b-9173-c39c88f5efc6",
    "deepnote_to_be_reexecuted": true,
    "source_hash": "37335848",
    "execution_start": 1634416575606,
    "execution_millis": 0,
    "deepnote_cell_type": "code"
   },
   "outputs": [],
   "execution_count": null
  },
  {
   "cell_type": "code",
   "source": "#rating_publishers.sort_values(\"metacritic-mean\", inplace=True)\n#rating_publishers.plot.scatter(x=rating_publishers.index, y=[\"metacritic-min\", \"metacritic-mean\", \"metacritic-max\"])",
   "metadata": {
    "tags": [],
    "deepnote_app_coordinates": {
     "x": 0,
     "y": 0,
     "w": 12,
     "h": 5
    },
    "cell_id": "00057-642216f7-db21-4b40-a895-17afcae5f50d",
    "deepnote_to_be_reexecuted": true,
    "source_hash": "423e72f6",
    "execution_start": 1634416575606,
    "execution_millis": 15,
    "deepnote_cell_type": "code"
   },
   "outputs": [],
   "execution_count": null
  },
  {
   "cell_type": "code",
   "source": "#dataset_genres = dataset.copy()\n\n#dataset_genres[\"genres\"] = dataset_genres[\"genres\"].astype(str).apply(lambda x: x.split('||'))",
   "metadata": {
    "tags": [],
    "deepnote_app_coordinates": {
     "x": 0,
     "y": 0,
     "w": 12,
     "h": 5
    },
    "cell_id": "00058-d0a32f74-2624-41e4-9fa6-934c10e35e9e",
    "deepnote_to_be_reexecuted": true,
    "source_hash": "3818458a",
    "execution_start": 1634416575666,
    "execution_millis": 0,
    "deepnote_cell_type": "code"
   },
   "outputs": [],
   "execution_count": null
  },
  {
   "cell_type": "code",
   "source": "\n#def lol(game):\n#    new_dataset = pd.DataFrame()\n#    tmp = game.copy()\n#    for genre in game[\"genres\"]:\n#        tmp[\"genres\"] = genre\n#        new_dataset.append(other=tmp)\n#    return new_dataset\n\n#new_dataset = dataset_genres.apply(lambda x: lol(x), axis=1)\n\n#new_dataset.head()\n",
   "metadata": {
    "tags": [],
    "deepnote_app_coordinates": {
     "x": 0,
     "y": 0,
     "w": 12,
     "h": 5
    },
    "cell_id": "00058-f9b48d4c-02fa-478e-9f25-16a8a288b5c2",
    "deepnote_to_be_reexecuted": true,
    "source_hash": "d8e3406d",
    "execution_start": 1634416575704,
    "execution_millis": 62976588,
    "deepnote_cell_type": "code"
   },
   "outputs": [],
   "execution_count": null
  },
  {
   "cell_type": "markdown",
   "source": "#### ESRB Category",
   "metadata": {
    "tags": [],
    "deepnote_app_coordinates": {
     "x": 0,
     "y": 0,
     "w": 12,
     "h": 5
    },
    "cell_id": "00057-d0d6359a-c8fd-456f-8991-a283cca9390c",
    "deepnote_cell_type": "markdown"
   }
  },
  {
   "cell_type": "code",
   "source": "categories = get_uniques_from_column(dataset[\"esrb_category\"].unique())\ncategories.remove(np.nan)  # removing NaN from esrb category\ndataset_categories = dataset.copy()\n\ndataset_categories = dataset_categories.drop(dataset_categories[(dataset_categories['metacritic']['count'] <= 10)].index)\n\nfor category in categories:\n    dataset_categories[category] = False\n    dataset_categories[category] = dataset_categories[\"esrb_category\"].str.contains(r\"(^|\\|\\|)\"  + category + r\"($|\\|\\|)\", na=False)",
   "metadata": {
    "tags": [],
    "deepnote_app_coordinates": {
     "x": 0,
     "y": 0,
     "w": 12,
     "h": 5
    },
    "cell_id": "00059-9e4840b0-edef-4abc-8f4c-d9749b35fdca",
    "deepnote_to_be_reexecuted": true,
    "source_hash": "181b80dc",
    "execution_start": 1634416575705,
    "execution_millis": 1418,
    "deepnote_cell_type": "code"
   },
   "outputs": [
    {
     "name": "stderr",
     "text": "/shared-libs/python3.7/py/lib/python3.7/site-packages/pandas/core/strings/accessor.py:101: UserWarning:\n\nThis pattern has match groups. To actually get the groups, use str.extract.\n\n",
     "output_type": "stream"
    }
   ],
   "execution_count": null
  },
  {
   "cell_type": "code",
   "source": "rating_categories = pd.DataFrame(data={'esrb_category': categories})\n\nrating_categories = rating_categories.apply(get_describe_by(\"metacritic\", \"esrb_category\", dataset_categories), axis=1)\nrating_categories.set_index('esrb_category', inplace=True)\n#rating_genres.sort_values(\"metacritic\", inplace=True)\n#rating_genres[\"metacritic\"].plot.bar()\nrating_categories.sort_values(\"metacritic-count\", inplace=True)\nrating_categories.plot.bar(x=rating_categories.index, y=[\"metacritic-count\"])",
   "metadata": {
    "tags": [],
    "deepnote_app_coordinates": {
     "x": 0,
     "y": 0,
     "w": 12,
     "h": 5
    },
    "cell_id": "00061-7815f11b-1d95-4491-a5de-4c5d9d8b74e0",
    "deepnote_to_be_reexecuted": true,
    "source_hash": "5e079a2a",
    "execution_start": 1634416577123,
    "execution_millis": 1754,
    "deepnote_cell_type": "code"
   },
   "outputs": [
    {
     "data": {
      "text/html": "<html>\n<head><meta charset=\"utf-8\" /></head>\n<body>\n    <div>            <script src=\"https://cdnjs.cloudflare.com/ajax/libs/mathjax/2.7.5/MathJax.js?config=TeX-AMS-MML_SVG\"></script><script type=\"text/javascript\">if (window.MathJax) {MathJax.Hub.Config({SVG: {font: \"STIX-Web\"}});}</script>                <script type=\"text/javascript\">window.PlotlyConfig = {MathJaxConfig: 'local'};</script>\n        <script src=\"https://cdn.plot.ly/plotly-2.4.2.min.js\"></script>                <div id=\"d69961ce-694f-4d10-8113-7d5efd032f58\" class=\"plotly-graph-div\" style=\"height:525px; width:100%;\"></div>            <script type=\"text/javascript\">                                    window.PLOTLYENV=window.PLOTLYENV || {};                                    if (document.getElementById(\"d69961ce-694f-4d10-8113-7d5efd032f58\")) {                    Plotly.newPlot(                        \"d69961ce-694f-4d10-8113-7d5efd032f58\",                        [{\"alignmentgroup\":\"True\",\"hovertemplate\":\"variable=metacritic-count<br>esrb_category=%{x}<br>value=%{y}<extra></extra>\",\"legendgroup\":\"metacritic-count\",\"marker\":{\"color\":\"#636efa\",\"pattern\":{\"shape\":\"\"}},\"name\":\"metacritic-count\",\"offsetgroup\":\"metacritic-count\",\"orientation\":\"v\",\"showlegend\":true,\"textposition\":\"auto\",\"type\":\"bar\",\"x\":[\"Everyone 10+\",\"Rating Pending\",\"Adults Only\",\"Everyone\",\"Mature\",\"Teen\"],\"xaxis\":\"x\",\"y\":[0.0,7.0,91.0,362.0,722.0,899.0],\"yaxis\":\"y\"}],                        {\"barmode\":\"relative\",\"legend\":{\"title\":{\"text\":\"variable\"},\"tracegroupgap\":0},\"margin\":{\"t\":60},\"template\":{\"data\":{\"bar\":[{\"error_x\":{\"color\":\"#2a3f5f\"},\"error_y\":{\"color\":\"#2a3f5f\"},\"marker\":{\"line\":{\"color\":\"#E5ECF6\",\"width\":0.5},\"pattern\":{\"fillmode\":\"overlay\",\"size\":10,\"solidity\":0.2}},\"type\":\"bar\"}],\"barpolar\":[{\"marker\":{\"line\":{\"color\":\"#E5ECF6\",\"width\":0.5},\"pattern\":{\"fillmode\":\"overlay\",\"size\":10,\"solidity\":0.2}},\"type\":\"barpolar\"}],\"carpet\":[{\"aaxis\":{\"endlinecolor\":\"#2a3f5f\",\"gridcolor\":\"white\",\"linecolor\":\"white\",\"minorgridcolor\":\"white\",\"startlinecolor\":\"#2a3f5f\"},\"baxis\":{\"endlinecolor\":\"#2a3f5f\",\"gridcolor\":\"white\",\"linecolor\":\"white\",\"minorgridcolor\":\"white\",\"startlinecolor\":\"#2a3f5f\"},\"type\":\"carpet\"}],\"choropleth\":[{\"colorbar\":{\"outlinewidth\":0,\"ticks\":\"\"},\"type\":\"choropleth\"}],\"contour\":[{\"colorbar\":{\"outlinewidth\":0,\"ticks\":\"\"},\"colorscale\":[[0.0,\"#0d0887\"],[0.1111111111111111,\"#46039f\"],[0.2222222222222222,\"#7201a8\"],[0.3333333333333333,\"#9c179e\"],[0.4444444444444444,\"#bd3786\"],[0.5555555555555556,\"#d8576b\"],[0.6666666666666666,\"#ed7953\"],[0.7777777777777778,\"#fb9f3a\"],[0.8888888888888888,\"#fdca26\"],[1.0,\"#f0f921\"]],\"type\":\"contour\"}],\"contourcarpet\":[{\"colorbar\":{\"outlinewidth\":0,\"ticks\":\"\"},\"type\":\"contourcarpet\"}],\"heatmap\":[{\"colorbar\":{\"outlinewidth\":0,\"ticks\":\"\"},\"colorscale\":[[0.0,\"#0d0887\"],[0.1111111111111111,\"#46039f\"],[0.2222222222222222,\"#7201a8\"],[0.3333333333333333,\"#9c179e\"],[0.4444444444444444,\"#bd3786\"],[0.5555555555555556,\"#d8576b\"],[0.6666666666666666,\"#ed7953\"],[0.7777777777777778,\"#fb9f3a\"],[0.8888888888888888,\"#fdca26\"],[1.0,\"#f0f921\"]],\"type\":\"heatmap\"}],\"heatmapgl\":[{\"colorbar\":{\"outlinewidth\":0,\"ticks\":\"\"},\"colorscale\":[[0.0,\"#0d0887\"],[0.1111111111111111,\"#46039f\"],[0.2222222222222222,\"#7201a8\"],[0.3333333333333333,\"#9c179e\"],[0.4444444444444444,\"#bd3786\"],[0.5555555555555556,\"#d8576b\"],[0.6666666666666666,\"#ed7953\"],[0.7777777777777778,\"#fb9f3a\"],[0.8888888888888888,\"#fdca26\"],[1.0,\"#f0f921\"]],\"type\":\"heatmapgl\"}],\"histogram\":[{\"marker\":{\"pattern\":{\"fillmode\":\"overlay\",\"size\":10,\"solidity\":0.2}},\"type\":\"histogram\"}],\"histogram2d\":[{\"colorbar\":{\"outlinewidth\":0,\"ticks\":\"\"},\"colorscale\":[[0.0,\"#0d0887\"],[0.1111111111111111,\"#46039f\"],[0.2222222222222222,\"#7201a8\"],[0.3333333333333333,\"#9c179e\"],[0.4444444444444444,\"#bd3786\"],[0.5555555555555556,\"#d8576b\"],[0.6666666666666666,\"#ed7953\"],[0.7777777777777778,\"#fb9f3a\"],[0.8888888888888888,\"#fdca26\"],[1.0,\"#f0f921\"]],\"type\":\"histogram2d\"}],\"histogram2dcontour\":[{\"colorbar\":{\"outlinewidth\":0,\"ticks\":\"\"},\"colorscale\":[[0.0,\"#0d0887\"],[0.1111111111111111,\"#46039f\"],[0.2222222222222222,\"#7201a8\"],[0.3333333333333333,\"#9c179e\"],[0.4444444444444444,\"#bd3786\"],[0.5555555555555556,\"#d8576b\"],[0.6666666666666666,\"#ed7953\"],[0.7777777777777778,\"#fb9f3a\"],[0.8888888888888888,\"#fdca26\"],[1.0,\"#f0f921\"]],\"type\":\"histogram2dcontour\"}],\"mesh3d\":[{\"colorbar\":{\"outlinewidth\":0,\"ticks\":\"\"},\"type\":\"mesh3d\"}],\"parcoords\":[{\"line\":{\"colorbar\":{\"outlinewidth\":0,\"ticks\":\"\"}},\"type\":\"parcoords\"}],\"pie\":[{\"automargin\":true,\"type\":\"pie\"}],\"scatter\":[{\"marker\":{\"colorbar\":{\"outlinewidth\":0,\"ticks\":\"\"}},\"type\":\"scatter\"}],\"scatter3d\":[{\"line\":{\"colorbar\":{\"outlinewidth\":0,\"ticks\":\"\"}},\"marker\":{\"colorbar\":{\"outlinewidth\":0,\"ticks\":\"\"}},\"type\":\"scatter3d\"}],\"scattercarpet\":[{\"marker\":{\"colorbar\":{\"outlinewidth\":0,\"ticks\":\"\"}},\"type\":\"scattercarpet\"}],\"scattergeo\":[{\"marker\":{\"colorbar\":{\"outlinewidth\":0,\"ticks\":\"\"}},\"type\":\"scattergeo\"}],\"scattergl\":[{\"marker\":{\"colorbar\":{\"outlinewidth\":0,\"ticks\":\"\"}},\"type\":\"scattergl\"}],\"scattermapbox\":[{\"marker\":{\"colorbar\":{\"outlinewidth\":0,\"ticks\":\"\"}},\"type\":\"scattermapbox\"}],\"scatterpolar\":[{\"marker\":{\"colorbar\":{\"outlinewidth\":0,\"ticks\":\"\"}},\"type\":\"scatterpolar\"}],\"scatterpolargl\":[{\"marker\":{\"colorbar\":{\"outlinewidth\":0,\"ticks\":\"\"}},\"type\":\"scatterpolargl\"}],\"scatterternary\":[{\"marker\":{\"colorbar\":{\"outlinewidth\":0,\"ticks\":\"\"}},\"type\":\"scatterternary\"}],\"surface\":[{\"colorbar\":{\"outlinewidth\":0,\"ticks\":\"\"},\"colorscale\":[[0.0,\"#0d0887\"],[0.1111111111111111,\"#46039f\"],[0.2222222222222222,\"#7201a8\"],[0.3333333333333333,\"#9c179e\"],[0.4444444444444444,\"#bd3786\"],[0.5555555555555556,\"#d8576b\"],[0.6666666666666666,\"#ed7953\"],[0.7777777777777778,\"#fb9f3a\"],[0.8888888888888888,\"#fdca26\"],[1.0,\"#f0f921\"]],\"type\":\"surface\"}],\"table\":[{\"cells\":{\"fill\":{\"color\":\"#EBF0F8\"},\"line\":{\"color\":\"white\"}},\"header\":{\"fill\":{\"color\":\"#C8D4E3\"},\"line\":{\"color\":\"white\"}},\"type\":\"table\"}]},\"layout\":{\"annotationdefaults\":{\"arrowcolor\":\"#2a3f5f\",\"arrowhead\":0,\"arrowwidth\":1},\"autotypenumbers\":\"strict\",\"coloraxis\":{\"colorbar\":{\"outlinewidth\":0,\"ticks\":\"\"}},\"colorscale\":{\"diverging\":[[0,\"#8e0152\"],[0.1,\"#c51b7d\"],[0.2,\"#de77ae\"],[0.3,\"#f1b6da\"],[0.4,\"#fde0ef\"],[0.5,\"#f7f7f7\"],[0.6,\"#e6f5d0\"],[0.7,\"#b8e186\"],[0.8,\"#7fbc41\"],[0.9,\"#4d9221\"],[1,\"#276419\"]],\"sequential\":[[0.0,\"#0d0887\"],[0.1111111111111111,\"#46039f\"],[0.2222222222222222,\"#7201a8\"],[0.3333333333333333,\"#9c179e\"],[0.4444444444444444,\"#bd3786\"],[0.5555555555555556,\"#d8576b\"],[0.6666666666666666,\"#ed7953\"],[0.7777777777777778,\"#fb9f3a\"],[0.8888888888888888,\"#fdca26\"],[1.0,\"#f0f921\"]],\"sequentialminus\":[[0.0,\"#0d0887\"],[0.1111111111111111,\"#46039f\"],[0.2222222222222222,\"#7201a8\"],[0.3333333333333333,\"#9c179e\"],[0.4444444444444444,\"#bd3786\"],[0.5555555555555556,\"#d8576b\"],[0.6666666666666666,\"#ed7953\"],[0.7777777777777778,\"#fb9f3a\"],[0.8888888888888888,\"#fdca26\"],[1.0,\"#f0f921\"]]},\"colorway\":[\"#636efa\",\"#EF553B\",\"#00cc96\",\"#ab63fa\",\"#FFA15A\",\"#19d3f3\",\"#FF6692\",\"#B6E880\",\"#FF97FF\",\"#FECB52\"],\"font\":{\"color\":\"#2a3f5f\"},\"geo\":{\"bgcolor\":\"white\",\"lakecolor\":\"white\",\"landcolor\":\"#E5ECF6\",\"showlakes\":true,\"showland\":true,\"subunitcolor\":\"white\"},\"hoverlabel\":{\"align\":\"left\"},\"hovermode\":\"closest\",\"mapbox\":{\"style\":\"light\"},\"paper_bgcolor\":\"white\",\"plot_bgcolor\":\"#E5ECF6\",\"polar\":{\"angularaxis\":{\"gridcolor\":\"white\",\"linecolor\":\"white\",\"ticks\":\"\"},\"bgcolor\":\"#E5ECF6\",\"radialaxis\":{\"gridcolor\":\"white\",\"linecolor\":\"white\",\"ticks\":\"\"}},\"scene\":{\"xaxis\":{\"backgroundcolor\":\"#E5ECF6\",\"gridcolor\":\"white\",\"gridwidth\":2,\"linecolor\":\"white\",\"showbackground\":true,\"ticks\":\"\",\"zerolinecolor\":\"white\"},\"yaxis\":{\"backgroundcolor\":\"#E5ECF6\",\"gridcolor\":\"white\",\"gridwidth\":2,\"linecolor\":\"white\",\"showbackground\":true,\"ticks\":\"\",\"zerolinecolor\":\"white\"},\"zaxis\":{\"backgroundcolor\":\"#E5ECF6\",\"gridcolor\":\"white\",\"gridwidth\":2,\"linecolor\":\"white\",\"showbackground\":true,\"ticks\":\"\",\"zerolinecolor\":\"white\"}},\"shapedefaults\":{\"line\":{\"color\":\"#2a3f5f\"}},\"ternary\":{\"aaxis\":{\"gridcolor\":\"white\",\"linecolor\":\"white\",\"ticks\":\"\"},\"baxis\":{\"gridcolor\":\"white\",\"linecolor\":\"white\",\"ticks\":\"\"},\"bgcolor\":\"#E5ECF6\",\"caxis\":{\"gridcolor\":\"white\",\"linecolor\":\"white\",\"ticks\":\"\"}},\"title\":{\"x\":0.05},\"xaxis\":{\"automargin\":true,\"gridcolor\":\"white\",\"linecolor\":\"white\",\"ticks\":\"\",\"title\":{\"standoff\":15},\"zerolinecolor\":\"white\",\"zerolinewidth\":2},\"yaxis\":{\"automargin\":true,\"gridcolor\":\"white\",\"linecolor\":\"white\",\"ticks\":\"\",\"title\":{\"standoff\":15},\"zerolinecolor\":\"white\",\"zerolinewidth\":2}}},\"xaxis\":{\"anchor\":\"y\",\"domain\":[0.0,1.0],\"title\":{\"text\":\"esrb_category\"}},\"yaxis\":{\"anchor\":\"x\",\"domain\":[0.0,1.0],\"title\":{\"text\":\"value\"}}},                        {\"responsive\": true}                    ).then(function(){\n                            \nvar gd = document.getElementById('d69961ce-694f-4d10-8113-7d5efd032f58');\nvar x = new MutationObserver(function (mutations, observer) {{\n        var display = window.getComputedStyle(gd).display;\n        if (!display || display === 'none') {{\n            console.log([gd, 'removed!']);\n            Plotly.purge(gd);\n            observer.disconnect();\n        }}\n}});\n\n// Listen for the removal of the full notebook cells\nvar notebookContainer = gd.closest('#notebook-container');\nif (notebookContainer) {{\n    x.observe(notebookContainer, {childList: true});\n}}\n\n// Listen for the clearing of the current output cell\nvar outputEl = gd.closest('.output');\nif (outputEl) {{\n    x.observe(outputEl, {childList: true});\n}}\n\n                        })                };                            </script>        </div>\n</body>\n</html>"
     },
     "metadata": {},
     "output_type": "display_data"
    }
   ],
   "execution_count": null
  },
  {
   "cell_type": "code",
   "source": "",
   "metadata": {
    "tags": [],
    "deepnote_app_coordinates": {
     "x": 0,
     "y": 0,
     "w": 12,
     "h": 5
    },
    "cell_id": "00062-af9863bf-2d3b-4396-aded-d24b7e107930",
    "deepnote_to_be_reexecuted": true,
    "source_hash": "b623e53d",
    "deepnote_cell_type": "code"
   },
   "outputs": [],
   "execution_count": null
  },
  {
   "cell_type": "code",
   "source": "rating_genres = pd.DataFrame(data={'genres': genres})\n\nrating_genres = rating_genres.apply(get_describe_by(\"metacritic\", \"genres\", dataset_genres), axis=1)\nrating_genres.set_index('genres', inplace=True)\n#rating_genres.sort_values(\"metacritic\", inplace=True)\n#rating_genres[\"metacritic\"].plot.bar()\nrating_genres.sort_values(\"metacritic-count\", inplace=True)\nrating_genres.plot.bar(x=rating_genres.index, y=[\"metacritic-count\"])",
   "metadata": {
    "tags": [],
    "deepnote_app_coordinates": {
     "x": 0,
     "y": 0,
     "w": 12,
     "h": 5
    },
    "cell_id": "00061-8bdee40d-4f01-49ec-a4d7-e0e458e2f2e6",
    "deepnote_to_be_reexecuted": true,
    "source_hash": "13fe6d1a",
    "execution_start": 1634416578804,
    "execution_millis": 8400,
    "deepnote_cell_type": "code"
   },
   "outputs": [
    {
     "data": {
      "text/html": "<html>\n<head><meta charset=\"utf-8\" /></head>\n<body>\n    <div>            <script src=\"https://cdnjs.cloudflare.com/ajax/libs/mathjax/2.7.5/MathJax.js?config=TeX-AMS-MML_SVG\"></script><script type=\"text/javascript\">if (window.MathJax) {MathJax.Hub.Config({SVG: {font: \"STIX-Web\"}});}</script>                <script type=\"text/javascript\">window.PlotlyConfig = {MathJaxConfig: 'local'};</script>\n        <script src=\"https://cdn.plot.ly/plotly-2.4.2.min.js\"></script>                <div id=\"a476ae8b-4c9d-4687-b372-d6fd2ff32697\" class=\"plotly-graph-div\" style=\"height:525px; width:100%;\"></div>            <script type=\"text/javascript\">                                    window.PLOTLYENV=window.PLOTLYENV || {};                                    if (document.getElementById(\"a476ae8b-4c9d-4687-b372-d6fd2ff32697\")) {                    Plotly.newPlot(                        \"a476ae8b-4c9d-4687-b372-d6fd2ff32697\",                        [{\"alignmentgroup\":\"True\",\"hovertemplate\":\"variable=metacritic-count<br>genres=%{x}<br>value=%{y}<extra></extra>\",\"legendgroup\":\"metacritic-count\",\"marker\":{\"color\":\"#636efa\",\"pattern\":{\"shape\":\"\"}},\"name\":\"metacritic-count\",\"offsetgroup\":\"metacritic-count\",\"orientation\":\"v\",\"showlegend\":true,\"textposition\":\"auto\",\"type\":\"bar\",\"x\":[\"Educational\",\"Card\",\"Board Games\",\"Family\",\"Massively Multiplayer\",\"Fighting\",\"Sports\",\"Platformer\",\"Racing\",\"Arcade\",\"Puzzle\",\"Casual\",\"Shooter\",\"Simulation\",\"Strategy\",\"RPG\",\"Indie\",\"Adventure\",\"Action\"],\"xaxis\":\"x\",\"y\":[16.0,29.0,31.0,84.0,109.0,118.0,258.0,260.0,262.0,287.0,310.0,403.0,573.0,598.0,936.0,1019.0,1556.0,1677.0,2537.0],\"yaxis\":\"y\"}],                        {\"barmode\":\"relative\",\"legend\":{\"title\":{\"text\":\"variable\"},\"tracegroupgap\":0},\"margin\":{\"t\":60},\"template\":{\"data\":{\"bar\":[{\"error_x\":{\"color\":\"#2a3f5f\"},\"error_y\":{\"color\":\"#2a3f5f\"},\"marker\":{\"line\":{\"color\":\"#E5ECF6\",\"width\":0.5},\"pattern\":{\"fillmode\":\"overlay\",\"size\":10,\"solidity\":0.2}},\"type\":\"bar\"}],\"barpolar\":[{\"marker\":{\"line\":{\"color\":\"#E5ECF6\",\"width\":0.5},\"pattern\":{\"fillmode\":\"overlay\",\"size\":10,\"solidity\":0.2}},\"type\":\"barpolar\"}],\"carpet\":[{\"aaxis\":{\"endlinecolor\":\"#2a3f5f\",\"gridcolor\":\"white\",\"linecolor\":\"white\",\"minorgridcolor\":\"white\",\"startlinecolor\":\"#2a3f5f\"},\"baxis\":{\"endlinecolor\":\"#2a3f5f\",\"gridcolor\":\"white\",\"linecolor\":\"white\",\"minorgridcolor\":\"white\",\"startlinecolor\":\"#2a3f5f\"},\"type\":\"carpet\"}],\"choropleth\":[{\"colorbar\":{\"outlinewidth\":0,\"ticks\":\"\"},\"type\":\"choropleth\"}],\"contour\":[{\"colorbar\":{\"outlinewidth\":0,\"ticks\":\"\"},\"colorscale\":[[0.0,\"#0d0887\"],[0.1111111111111111,\"#46039f\"],[0.2222222222222222,\"#7201a8\"],[0.3333333333333333,\"#9c179e\"],[0.4444444444444444,\"#bd3786\"],[0.5555555555555556,\"#d8576b\"],[0.6666666666666666,\"#ed7953\"],[0.7777777777777778,\"#fb9f3a\"],[0.8888888888888888,\"#fdca26\"],[1.0,\"#f0f921\"]],\"type\":\"contour\"}],\"contourcarpet\":[{\"colorbar\":{\"outlinewidth\":0,\"ticks\":\"\"},\"type\":\"contourcarpet\"}],\"heatmap\":[{\"colorbar\":{\"outlinewidth\":0,\"ticks\":\"\"},\"colorscale\":[[0.0,\"#0d0887\"],[0.1111111111111111,\"#46039f\"],[0.2222222222222222,\"#7201a8\"],[0.3333333333333333,\"#9c179e\"],[0.4444444444444444,\"#bd3786\"],[0.5555555555555556,\"#d8576b\"],[0.6666666666666666,\"#ed7953\"],[0.7777777777777778,\"#fb9f3a\"],[0.8888888888888888,\"#fdca26\"],[1.0,\"#f0f921\"]],\"type\":\"heatmap\"}],\"heatmapgl\":[{\"colorbar\":{\"outlinewidth\":0,\"ticks\":\"\"},\"colorscale\":[[0.0,\"#0d0887\"],[0.1111111111111111,\"#46039f\"],[0.2222222222222222,\"#7201a8\"],[0.3333333333333333,\"#9c179e\"],[0.4444444444444444,\"#bd3786\"],[0.5555555555555556,\"#d8576b\"],[0.6666666666666666,\"#ed7953\"],[0.7777777777777778,\"#fb9f3a\"],[0.8888888888888888,\"#fdca26\"],[1.0,\"#f0f921\"]],\"type\":\"heatmapgl\"}],\"histogram\":[{\"marker\":{\"pattern\":{\"fillmode\":\"overlay\",\"size\":10,\"solidity\":0.2}},\"type\":\"histogram\"}],\"histogram2d\":[{\"colorbar\":{\"outlinewidth\":0,\"ticks\":\"\"},\"colorscale\":[[0.0,\"#0d0887\"],[0.1111111111111111,\"#46039f\"],[0.2222222222222222,\"#7201a8\"],[0.3333333333333333,\"#9c179e\"],[0.4444444444444444,\"#bd3786\"],[0.5555555555555556,\"#d8576b\"],[0.6666666666666666,\"#ed7953\"],[0.7777777777777778,\"#fb9f3a\"],[0.8888888888888888,\"#fdca26\"],[1.0,\"#f0f921\"]],\"type\":\"histogram2d\"}],\"histogram2dcontour\":[{\"colorbar\":{\"outlinewidth\":0,\"ticks\":\"\"},\"colorscale\":[[0.0,\"#0d0887\"],[0.1111111111111111,\"#46039f\"],[0.2222222222222222,\"#7201a8\"],[0.3333333333333333,\"#9c179e\"],[0.4444444444444444,\"#bd3786\"],[0.5555555555555556,\"#d8576b\"],[0.6666666666666666,\"#ed7953\"],[0.7777777777777778,\"#fb9f3a\"],[0.8888888888888888,\"#fdca26\"],[1.0,\"#f0f921\"]],\"type\":\"histogram2dcontour\"}],\"mesh3d\":[{\"colorbar\":{\"outlinewidth\":0,\"ticks\":\"\"},\"type\":\"mesh3d\"}],\"parcoords\":[{\"line\":{\"colorbar\":{\"outlinewidth\":0,\"ticks\":\"\"}},\"type\":\"parcoords\"}],\"pie\":[{\"automargin\":true,\"type\":\"pie\"}],\"scatter\":[{\"marker\":{\"colorbar\":{\"outlinewidth\":0,\"ticks\":\"\"}},\"type\":\"scatter\"}],\"scatter3d\":[{\"line\":{\"colorbar\":{\"outlinewidth\":0,\"ticks\":\"\"}},\"marker\":{\"colorbar\":{\"outlinewidth\":0,\"ticks\":\"\"}},\"type\":\"scatter3d\"}],\"scattercarpet\":[{\"marker\":{\"colorbar\":{\"outlinewidth\":0,\"ticks\":\"\"}},\"type\":\"scattercarpet\"}],\"scattergeo\":[{\"marker\":{\"colorbar\":{\"outlinewidth\":0,\"ticks\":\"\"}},\"type\":\"scattergeo\"}],\"scattergl\":[{\"marker\":{\"colorbar\":{\"outlinewidth\":0,\"ticks\":\"\"}},\"type\":\"scattergl\"}],\"scattermapbox\":[{\"marker\":{\"colorbar\":{\"outlinewidth\":0,\"ticks\":\"\"}},\"type\":\"scattermapbox\"}],\"scatterpolar\":[{\"marker\":{\"colorbar\":{\"outlinewidth\":0,\"ticks\":\"\"}},\"type\":\"scatterpolar\"}],\"scatterpolargl\":[{\"marker\":{\"colorbar\":{\"outlinewidth\":0,\"ticks\":\"\"}},\"type\":\"scatterpolargl\"}],\"scatterternary\":[{\"marker\":{\"colorbar\":{\"outlinewidth\":0,\"ticks\":\"\"}},\"type\":\"scatterternary\"}],\"surface\":[{\"colorbar\":{\"outlinewidth\":0,\"ticks\":\"\"},\"colorscale\":[[0.0,\"#0d0887\"],[0.1111111111111111,\"#46039f\"],[0.2222222222222222,\"#7201a8\"],[0.3333333333333333,\"#9c179e\"],[0.4444444444444444,\"#bd3786\"],[0.5555555555555556,\"#d8576b\"],[0.6666666666666666,\"#ed7953\"],[0.7777777777777778,\"#fb9f3a\"],[0.8888888888888888,\"#fdca26\"],[1.0,\"#f0f921\"]],\"type\":\"surface\"}],\"table\":[{\"cells\":{\"fill\":{\"color\":\"#EBF0F8\"},\"line\":{\"color\":\"white\"}},\"header\":{\"fill\":{\"color\":\"#C8D4E3\"},\"line\":{\"color\":\"white\"}},\"type\":\"table\"}]},\"layout\":{\"annotationdefaults\":{\"arrowcolor\":\"#2a3f5f\",\"arrowhead\":0,\"arrowwidth\":1},\"autotypenumbers\":\"strict\",\"coloraxis\":{\"colorbar\":{\"outlinewidth\":0,\"ticks\":\"\"}},\"colorscale\":{\"diverging\":[[0,\"#8e0152\"],[0.1,\"#c51b7d\"],[0.2,\"#de77ae\"],[0.3,\"#f1b6da\"],[0.4,\"#fde0ef\"],[0.5,\"#f7f7f7\"],[0.6,\"#e6f5d0\"],[0.7,\"#b8e186\"],[0.8,\"#7fbc41\"],[0.9,\"#4d9221\"],[1,\"#276419\"]],\"sequential\":[[0.0,\"#0d0887\"],[0.1111111111111111,\"#46039f\"],[0.2222222222222222,\"#7201a8\"],[0.3333333333333333,\"#9c179e\"],[0.4444444444444444,\"#bd3786\"],[0.5555555555555556,\"#d8576b\"],[0.6666666666666666,\"#ed7953\"],[0.7777777777777778,\"#fb9f3a\"],[0.8888888888888888,\"#fdca26\"],[1.0,\"#f0f921\"]],\"sequentialminus\":[[0.0,\"#0d0887\"],[0.1111111111111111,\"#46039f\"],[0.2222222222222222,\"#7201a8\"],[0.3333333333333333,\"#9c179e\"],[0.4444444444444444,\"#bd3786\"],[0.5555555555555556,\"#d8576b\"],[0.6666666666666666,\"#ed7953\"],[0.7777777777777778,\"#fb9f3a\"],[0.8888888888888888,\"#fdca26\"],[1.0,\"#f0f921\"]]},\"colorway\":[\"#636efa\",\"#EF553B\",\"#00cc96\",\"#ab63fa\",\"#FFA15A\",\"#19d3f3\",\"#FF6692\",\"#B6E880\",\"#FF97FF\",\"#FECB52\"],\"font\":{\"color\":\"#2a3f5f\"},\"geo\":{\"bgcolor\":\"white\",\"lakecolor\":\"white\",\"landcolor\":\"#E5ECF6\",\"showlakes\":true,\"showland\":true,\"subunitcolor\":\"white\"},\"hoverlabel\":{\"align\":\"left\"},\"hovermode\":\"closest\",\"mapbox\":{\"style\":\"light\"},\"paper_bgcolor\":\"white\",\"plot_bgcolor\":\"#E5ECF6\",\"polar\":{\"angularaxis\":{\"gridcolor\":\"white\",\"linecolor\":\"white\",\"ticks\":\"\"},\"bgcolor\":\"#E5ECF6\",\"radialaxis\":{\"gridcolor\":\"white\",\"linecolor\":\"white\",\"ticks\":\"\"}},\"scene\":{\"xaxis\":{\"backgroundcolor\":\"#E5ECF6\",\"gridcolor\":\"white\",\"gridwidth\":2,\"linecolor\":\"white\",\"showbackground\":true,\"ticks\":\"\",\"zerolinecolor\":\"white\"},\"yaxis\":{\"backgroundcolor\":\"#E5ECF6\",\"gridcolor\":\"white\",\"gridwidth\":2,\"linecolor\":\"white\",\"showbackground\":true,\"ticks\":\"\",\"zerolinecolor\":\"white\"},\"zaxis\":{\"backgroundcolor\":\"#E5ECF6\",\"gridcolor\":\"white\",\"gridwidth\":2,\"linecolor\":\"white\",\"showbackground\":true,\"ticks\":\"\",\"zerolinecolor\":\"white\"}},\"shapedefaults\":{\"line\":{\"color\":\"#2a3f5f\"}},\"ternary\":{\"aaxis\":{\"gridcolor\":\"white\",\"linecolor\":\"white\",\"ticks\":\"\"},\"baxis\":{\"gridcolor\":\"white\",\"linecolor\":\"white\",\"ticks\":\"\"},\"bgcolor\":\"#E5ECF6\",\"caxis\":{\"gridcolor\":\"white\",\"linecolor\":\"white\",\"ticks\":\"\"}},\"title\":{\"x\":0.05},\"xaxis\":{\"automargin\":true,\"gridcolor\":\"white\",\"linecolor\":\"white\",\"ticks\":\"\",\"title\":{\"standoff\":15},\"zerolinecolor\":\"white\",\"zerolinewidth\":2},\"yaxis\":{\"automargin\":true,\"gridcolor\":\"white\",\"linecolor\":\"white\",\"ticks\":\"\",\"title\":{\"standoff\":15},\"zerolinecolor\":\"white\",\"zerolinewidth\":2}}},\"xaxis\":{\"anchor\":\"y\",\"domain\":[0.0,1.0],\"title\":{\"text\":\"genres\"}},\"yaxis\":{\"anchor\":\"x\",\"domain\":[0.0,1.0],\"title\":{\"text\":\"value\"}}},                        {\"responsive\": true}                    ).then(function(){\n                            \nvar gd = document.getElementById('a476ae8b-4c9d-4687-b372-d6fd2ff32697');\nvar x = new MutationObserver(function (mutations, observer) {{\n        var display = window.getComputedStyle(gd).display;\n        if (!display || display === 'none') {{\n            console.log([gd, 'removed!']);\n            Plotly.purge(gd);\n            observer.disconnect();\n        }}\n}});\n\n// Listen for the removal of the full notebook cells\nvar notebookContainer = gd.closest('#notebook-container');\nif (notebookContainer) {{\n    x.observe(notebookContainer, {childList: true});\n}}\n\n// Listen for the clearing of the current output cell\nvar outputEl = gd.closest('.output');\nif (outputEl) {{\n    x.observe(outputEl, {childList: true});\n}}\n\n                        })                };                            </script>        </div>\n</body>\n</html>"
     },
     "metadata": {},
     "output_type": "display_data"
    }
   ],
   "execution_count": null
  },
  {
   "cell_type": "code",
   "source": "platforms_new_df = pd.DataFrame({\"platform\": platforms})\nplatforms_rating = platforms_new_df.apply(get_describe_by(\"rating\", \"platform\", platforms_df), axis=1)\nplatforms_metacritic = platforms_new_df.apply(get_describe_by(\"metacritic\", \"platform\", platforms_df), axis=1)\nplatforms_rating.set_index(\"platform\", inplace=True)\nplatforms_metacritic.set_index(\"platform\", inplace=True)\n\nplatforms_metacritic = platforms_metacritic.drop(platforms_metacritic[(platforms_metacritic[\"metacritic-count\"] < 5)].index)\nplatforms_metacritic.sort_values(\"metacritic-count\", inplace=True)\nplatforms_metacritic.plot.bar(x=platforms_metacritic.index, y=\"metacritic-count\")",
   "metadata": {
    "tags": [],
    "deepnote_app_coordinates": {
     "x": 0,
     "y": 0,
     "w": 12,
     "h": 5
    },
    "cell_id": "00062-57702f41-6768-4830-b035-af93e983fa50",
    "deepnote_to_be_reexecuted": true,
    "source_hash": "3b811380",
    "execution_start": 1634416587051,
    "execution_millis": 66211,
    "deepnote_cell_type": "code"
   },
   "outputs": [
    {
     "data": {
      "text/html": "<html>\n<head><meta charset=\"utf-8\" /></head>\n<body>\n    <div>            <script src=\"https://cdnjs.cloudflare.com/ajax/libs/mathjax/2.7.5/MathJax.js?config=TeX-AMS-MML_SVG\"></script><script type=\"text/javascript\">if (window.MathJax) {MathJax.Hub.Config({SVG: {font: \"STIX-Web\"}});}</script>                <script type=\"text/javascript\">window.PlotlyConfig = {MathJaxConfig: 'local'};</script>\n        <script src=\"https://cdn.plot.ly/plotly-2.4.2.min.js\"></script>                <div id=\"d620b429-a065-4fc1-8c03-34ff8ee6ec82\" class=\"plotly-graph-div\" style=\"height:525px; width:100%;\"></div>            <script type=\"text/javascript\">                                    window.PLOTLYENV=window.PLOTLYENV || {};                                    if (document.getElementById(\"d620b429-a065-4fc1-8c03-34ff8ee6ec82\")) {                    Plotly.newPlot(                        \"d620b429-a065-4fc1-8c03-34ff8ee6ec82\",                        [{\"alignmentgroup\":\"True\",\"hovertemplate\":\"platform=%{x}<br>metacritic-count=%{y}<extra></extra>\",\"legendgroup\":\"\",\"marker\":{\"color\":\"#636efa\",\"pattern\":{\"shape\":\"\"}},\"name\":\"\",\"offsetgroup\":\"\",\"orientation\":\"v\",\"showlegend\":false,\"textposition\":\"auto\",\"type\":\"bar\",\"x\":[\"SEGA Saturn\",\"Commodore / Amiga\",\"SNES\",\"Web\",\"Game Boy Color\",\"Nintendo 64\",\"Classic Macintosh\",\"Xbox Series S/X\",\"PlayStation 5\",\"Dreamcast\",\"PlayStation\",\"Game Boy Advance\",\"GameCube\",\"Nintendo 3DS\",\"PSP\",\"Xbox\",\"Nintendo DS\",\"Wii U\",\"Wii\",\"PS Vita\",\"PlayStation 2\",\"Android\",\"iOS\",\"Xbox 360\",\"PlayStation 3\",\"Nintendo Switch\",\"Linux\",\"Xbox One\",\"macOS\",\"PlayStation 4\",\"PC\"],\"xaxis\":\"x\",\"y\":[5.0,5.0,6.0,10.0,15.0,22.0,32.0,36.0,36.0,37.0,68.0,85.0,103.0,138.0,147.0,157.0,159.0,179.0,201.0,257.0,376.0,413.0,642.0,768.0,824.0,851.0,902.0,1347.0,1430.0,1530.0,3890.0],\"yaxis\":\"y\"}],                        {\"barmode\":\"relative\",\"legend\":{\"tracegroupgap\":0},\"margin\":{\"t\":60},\"template\":{\"data\":{\"bar\":[{\"error_x\":{\"color\":\"#2a3f5f\"},\"error_y\":{\"color\":\"#2a3f5f\"},\"marker\":{\"line\":{\"color\":\"#E5ECF6\",\"width\":0.5},\"pattern\":{\"fillmode\":\"overlay\",\"size\":10,\"solidity\":0.2}},\"type\":\"bar\"}],\"barpolar\":[{\"marker\":{\"line\":{\"color\":\"#E5ECF6\",\"width\":0.5},\"pattern\":{\"fillmode\":\"overlay\",\"size\":10,\"solidity\":0.2}},\"type\":\"barpolar\"}],\"carpet\":[{\"aaxis\":{\"endlinecolor\":\"#2a3f5f\",\"gridcolor\":\"white\",\"linecolor\":\"white\",\"minorgridcolor\":\"white\",\"startlinecolor\":\"#2a3f5f\"},\"baxis\":{\"endlinecolor\":\"#2a3f5f\",\"gridcolor\":\"white\",\"linecolor\":\"white\",\"minorgridcolor\":\"white\",\"startlinecolor\":\"#2a3f5f\"},\"type\":\"carpet\"}],\"choropleth\":[{\"colorbar\":{\"outlinewidth\":0,\"ticks\":\"\"},\"type\":\"choropleth\"}],\"contour\":[{\"colorbar\":{\"outlinewidth\":0,\"ticks\":\"\"},\"colorscale\":[[0.0,\"#0d0887\"],[0.1111111111111111,\"#46039f\"],[0.2222222222222222,\"#7201a8\"],[0.3333333333333333,\"#9c179e\"],[0.4444444444444444,\"#bd3786\"],[0.5555555555555556,\"#d8576b\"],[0.6666666666666666,\"#ed7953\"],[0.7777777777777778,\"#fb9f3a\"],[0.8888888888888888,\"#fdca26\"],[1.0,\"#f0f921\"]],\"type\":\"contour\"}],\"contourcarpet\":[{\"colorbar\":{\"outlinewidth\":0,\"ticks\":\"\"},\"type\":\"contourcarpet\"}],\"heatmap\":[{\"colorbar\":{\"outlinewidth\":0,\"ticks\":\"\"},\"colorscale\":[[0.0,\"#0d0887\"],[0.1111111111111111,\"#46039f\"],[0.2222222222222222,\"#7201a8\"],[0.3333333333333333,\"#9c179e\"],[0.4444444444444444,\"#bd3786\"],[0.5555555555555556,\"#d8576b\"],[0.6666666666666666,\"#ed7953\"],[0.7777777777777778,\"#fb9f3a\"],[0.8888888888888888,\"#fdca26\"],[1.0,\"#f0f921\"]],\"type\":\"heatmap\"}],\"heatmapgl\":[{\"colorbar\":{\"outlinewidth\":0,\"ticks\":\"\"},\"colorscale\":[[0.0,\"#0d0887\"],[0.1111111111111111,\"#46039f\"],[0.2222222222222222,\"#7201a8\"],[0.3333333333333333,\"#9c179e\"],[0.4444444444444444,\"#bd3786\"],[0.5555555555555556,\"#d8576b\"],[0.6666666666666666,\"#ed7953\"],[0.7777777777777778,\"#fb9f3a\"],[0.8888888888888888,\"#fdca26\"],[1.0,\"#f0f921\"]],\"type\":\"heatmapgl\"}],\"histogram\":[{\"marker\":{\"pattern\":{\"fillmode\":\"overlay\",\"size\":10,\"solidity\":0.2}},\"type\":\"histogram\"}],\"histogram2d\":[{\"colorbar\":{\"outlinewidth\":0,\"ticks\":\"\"},\"colorscale\":[[0.0,\"#0d0887\"],[0.1111111111111111,\"#46039f\"],[0.2222222222222222,\"#7201a8\"],[0.3333333333333333,\"#9c179e\"],[0.4444444444444444,\"#bd3786\"],[0.5555555555555556,\"#d8576b\"],[0.6666666666666666,\"#ed7953\"],[0.7777777777777778,\"#fb9f3a\"],[0.8888888888888888,\"#fdca26\"],[1.0,\"#f0f921\"]],\"type\":\"histogram2d\"}],\"histogram2dcontour\":[{\"colorbar\":{\"outlinewidth\":0,\"ticks\":\"\"},\"colorscale\":[[0.0,\"#0d0887\"],[0.1111111111111111,\"#46039f\"],[0.2222222222222222,\"#7201a8\"],[0.3333333333333333,\"#9c179e\"],[0.4444444444444444,\"#bd3786\"],[0.5555555555555556,\"#d8576b\"],[0.6666666666666666,\"#ed7953\"],[0.7777777777777778,\"#fb9f3a\"],[0.8888888888888888,\"#fdca26\"],[1.0,\"#f0f921\"]],\"type\":\"histogram2dcontour\"}],\"mesh3d\":[{\"colorbar\":{\"outlinewidth\":0,\"ticks\":\"\"},\"type\":\"mesh3d\"}],\"parcoords\":[{\"line\":{\"colorbar\":{\"outlinewidth\":0,\"ticks\":\"\"}},\"type\":\"parcoords\"}],\"pie\":[{\"automargin\":true,\"type\":\"pie\"}],\"scatter\":[{\"marker\":{\"colorbar\":{\"outlinewidth\":0,\"ticks\":\"\"}},\"type\":\"scatter\"}],\"scatter3d\":[{\"line\":{\"colorbar\":{\"outlinewidth\":0,\"ticks\":\"\"}},\"marker\":{\"colorbar\":{\"outlinewidth\":0,\"ticks\":\"\"}},\"type\":\"scatter3d\"}],\"scattercarpet\":[{\"marker\":{\"colorbar\":{\"outlinewidth\":0,\"ticks\":\"\"}},\"type\":\"scattercarpet\"}],\"scattergeo\":[{\"marker\":{\"colorbar\":{\"outlinewidth\":0,\"ticks\":\"\"}},\"type\":\"scattergeo\"}],\"scattergl\":[{\"marker\":{\"colorbar\":{\"outlinewidth\":0,\"ticks\":\"\"}},\"type\":\"scattergl\"}],\"scattermapbox\":[{\"marker\":{\"colorbar\":{\"outlinewidth\":0,\"ticks\":\"\"}},\"type\":\"scattermapbox\"}],\"scatterpolar\":[{\"marker\":{\"colorbar\":{\"outlinewidth\":0,\"ticks\":\"\"}},\"type\":\"scatterpolar\"}],\"scatterpolargl\":[{\"marker\":{\"colorbar\":{\"outlinewidth\":0,\"ticks\":\"\"}},\"type\":\"scatterpolargl\"}],\"scatterternary\":[{\"marker\":{\"colorbar\":{\"outlinewidth\":0,\"ticks\":\"\"}},\"type\":\"scatterternary\"}],\"surface\":[{\"colorbar\":{\"outlinewidth\":0,\"ticks\":\"\"},\"colorscale\":[[0.0,\"#0d0887\"],[0.1111111111111111,\"#46039f\"],[0.2222222222222222,\"#7201a8\"],[0.3333333333333333,\"#9c179e\"],[0.4444444444444444,\"#bd3786\"],[0.5555555555555556,\"#d8576b\"],[0.6666666666666666,\"#ed7953\"],[0.7777777777777778,\"#fb9f3a\"],[0.8888888888888888,\"#fdca26\"],[1.0,\"#f0f921\"]],\"type\":\"surface\"}],\"table\":[{\"cells\":{\"fill\":{\"color\":\"#EBF0F8\"},\"line\":{\"color\":\"white\"}},\"header\":{\"fill\":{\"color\":\"#C8D4E3\"},\"line\":{\"color\":\"white\"}},\"type\":\"table\"}]},\"layout\":{\"annotationdefaults\":{\"arrowcolor\":\"#2a3f5f\",\"arrowhead\":0,\"arrowwidth\":1},\"autotypenumbers\":\"strict\",\"coloraxis\":{\"colorbar\":{\"outlinewidth\":0,\"ticks\":\"\"}},\"colorscale\":{\"diverging\":[[0,\"#8e0152\"],[0.1,\"#c51b7d\"],[0.2,\"#de77ae\"],[0.3,\"#f1b6da\"],[0.4,\"#fde0ef\"],[0.5,\"#f7f7f7\"],[0.6,\"#e6f5d0\"],[0.7,\"#b8e186\"],[0.8,\"#7fbc41\"],[0.9,\"#4d9221\"],[1,\"#276419\"]],\"sequential\":[[0.0,\"#0d0887\"],[0.1111111111111111,\"#46039f\"],[0.2222222222222222,\"#7201a8\"],[0.3333333333333333,\"#9c179e\"],[0.4444444444444444,\"#bd3786\"],[0.5555555555555556,\"#d8576b\"],[0.6666666666666666,\"#ed7953\"],[0.7777777777777778,\"#fb9f3a\"],[0.8888888888888888,\"#fdca26\"],[1.0,\"#f0f921\"]],\"sequentialminus\":[[0.0,\"#0d0887\"],[0.1111111111111111,\"#46039f\"],[0.2222222222222222,\"#7201a8\"],[0.3333333333333333,\"#9c179e\"],[0.4444444444444444,\"#bd3786\"],[0.5555555555555556,\"#d8576b\"],[0.6666666666666666,\"#ed7953\"],[0.7777777777777778,\"#fb9f3a\"],[0.8888888888888888,\"#fdca26\"],[1.0,\"#f0f921\"]]},\"colorway\":[\"#636efa\",\"#EF553B\",\"#00cc96\",\"#ab63fa\",\"#FFA15A\",\"#19d3f3\",\"#FF6692\",\"#B6E880\",\"#FF97FF\",\"#FECB52\"],\"font\":{\"color\":\"#2a3f5f\"},\"geo\":{\"bgcolor\":\"white\",\"lakecolor\":\"white\",\"landcolor\":\"#E5ECF6\",\"showlakes\":true,\"showland\":true,\"subunitcolor\":\"white\"},\"hoverlabel\":{\"align\":\"left\"},\"hovermode\":\"closest\",\"mapbox\":{\"style\":\"light\"},\"paper_bgcolor\":\"white\",\"plot_bgcolor\":\"#E5ECF6\",\"polar\":{\"angularaxis\":{\"gridcolor\":\"white\",\"linecolor\":\"white\",\"ticks\":\"\"},\"bgcolor\":\"#E5ECF6\",\"radialaxis\":{\"gridcolor\":\"white\",\"linecolor\":\"white\",\"ticks\":\"\"}},\"scene\":{\"xaxis\":{\"backgroundcolor\":\"#E5ECF6\",\"gridcolor\":\"white\",\"gridwidth\":2,\"linecolor\":\"white\",\"showbackground\":true,\"ticks\":\"\",\"zerolinecolor\":\"white\"},\"yaxis\":{\"backgroundcolor\":\"#E5ECF6\",\"gridcolor\":\"white\",\"gridwidth\":2,\"linecolor\":\"white\",\"showbackground\":true,\"ticks\":\"\",\"zerolinecolor\":\"white\"},\"zaxis\":{\"backgroundcolor\":\"#E5ECF6\",\"gridcolor\":\"white\",\"gridwidth\":2,\"linecolor\":\"white\",\"showbackground\":true,\"ticks\":\"\",\"zerolinecolor\":\"white\"}},\"shapedefaults\":{\"line\":{\"color\":\"#2a3f5f\"}},\"ternary\":{\"aaxis\":{\"gridcolor\":\"white\",\"linecolor\":\"white\",\"ticks\":\"\"},\"baxis\":{\"gridcolor\":\"white\",\"linecolor\":\"white\",\"ticks\":\"\"},\"bgcolor\":\"#E5ECF6\",\"caxis\":{\"gridcolor\":\"white\",\"linecolor\":\"white\",\"ticks\":\"\"}},\"title\":{\"x\":0.05},\"xaxis\":{\"automargin\":true,\"gridcolor\":\"white\",\"linecolor\":\"white\",\"ticks\":\"\",\"title\":{\"standoff\":15},\"zerolinecolor\":\"white\",\"zerolinewidth\":2},\"yaxis\":{\"automargin\":true,\"gridcolor\":\"white\",\"linecolor\":\"white\",\"ticks\":\"\",\"title\":{\"standoff\":15},\"zerolinecolor\":\"white\",\"zerolinewidth\":2}}},\"xaxis\":{\"anchor\":\"y\",\"domain\":[0.0,1.0],\"title\":{\"text\":\"platform\"}},\"yaxis\":{\"anchor\":\"x\",\"domain\":[0.0,1.0],\"title\":{\"text\":\"metacritic-count\"}}},                        {\"responsive\": true}                    ).then(function(){\n                            \nvar gd = document.getElementById('d620b429-a065-4fc1-8c03-34ff8ee6ec82');\nvar x = new MutationObserver(function (mutations, observer) {{\n        var display = window.getComputedStyle(gd).display;\n        if (!display || display === 'none') {{\n            console.log([gd, 'removed!']);\n            Plotly.purge(gd);\n            observer.disconnect();\n        }}\n}});\n\n// Listen for the removal of the full notebook cells\nvar notebookContainer = gd.closest('#notebook-container');\nif (notebookContainer) {{\n    x.observe(notebookContainer, {childList: true});\n}}\n\n// Listen for the clearing of the current output cell\nvar outputEl = gd.closest('.output');\nif (outputEl) {{\n    x.observe(outputEl, {childList: true});\n}}\n\n                        })                };                            </script>        </div>\n</body>\n</html>"
     },
     "metadata": {},
     "output_type": "display_data"
    }
   ],
   "execution_count": null
  },
  {
   "cell_type": "markdown",
   "source": "According to the correlation matrix, there is no particular correlation between rating and some data like playtime, achievements count or game series count. There is no reason to compare them. The suggestions count and reviews count's data are useless to compare given that they are increments only after the game's launch and doesn't influence the game development. About the data like publishers or developpers, they are too varied to be used for comparaison.",
   "metadata": {
    "tags": [],
    "is_collapsed": false,
    "deepnote_app_coordinates": {
     "x": 0,
     "y": 0,
     "w": 8,
     "h": 2
    },
    "cell_id": "00059-fafe0261-1b0a-486a-8b87-fdfd53fee161",
    "deepnote_cell_type": "text-cell-p"
   }
  },
  {
   "cell_type": "markdown",
   "source": "## Conclusion",
   "metadata": {
    "tags": [],
    "cell_id": "00043-031a7d33-f4a7-4e6c-a0ad-592acb501ccb",
    "deepnote_app_coordinates": {
     "x": 0,
     "y": 255,
     "w": 12,
     "h": 5
    },
    "deepnote_cell_type": "markdown"
   }
  },
  {
   "cell_type": "markdown",
   "source": "<a style='text-decoration:none;line-height:16px;display:flex;color:#5B5B62;padding:10px;justify-content:end;' href='https://deepnote.com?utm_source=created-in-deepnote-cell&projectId=2a9ec7ae-4a3f-4454-8a31-765f030573ac' target=\"_blank\">\n<img alt='Created in deepnote.com' style='display:inline;max-height:16px;margin:0px;margin-right:7.5px;' src='data:image/svg+xml;base64,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' > </img>\nCreated in <span style='font-weight:600;margin-left:4px;'>Deepnote</span></a>",
   "metadata": {
    "tags": [],
    "created_in_deepnote_cell": true,
    "deepnote_cell_type": "markdown"
   }
  }
 ],
 "nbformat": 4,
 "nbformat_minor": 2,
 "metadata": {
  "orig_nbformat": 2,
  "deepnote": {
   "is_reactive": false
  },
  "deepnote_notebook_id": "d0fa5331-ae68-47a5-b2b9-58911e24dc28",
  "deepnote_execution_queue": [],
  "deepnote_app_layout": "article"
 }
}